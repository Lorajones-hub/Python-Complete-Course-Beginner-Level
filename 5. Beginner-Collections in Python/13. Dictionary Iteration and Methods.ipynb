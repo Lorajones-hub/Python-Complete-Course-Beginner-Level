{
 "cells": [
  {
   "cell_type": "markdown",
   "metadata": {},
   "source": [
    "# Dictionary Iteration and Methods\n",
    "\n",
    "This lecture continues our discussion of dictionaries in Python, by the end of this lecture you will learn:\n",
    "\n",
    " - **Different ways of iterating a dictionary**\n",
    " - **Changing the values in a dictionary**\n",
    " - **Dictionary methods**\n",
    "\n",
    "## Dictionaries are iterable\n",
    "\n",
    "Because dictionaries have both keys and values, we can iterate over a dictionary using one of these:\n",
    "\n",
    "    1. By key-value items\n",
    "    2. By values\n",
    "    3. By keys\n",
    "\n",
    "In the following, you will see different examples to iterate a dictionary.\n",
    "\n",
    "## 1. Iterate by key-value items\n",
    "\n",
    "There are two equivalent ways to iterate by key-value items, as seen in the following examples:"
   ]
  },
  {
   "cell_type": "code",
   "execution_count": 1,
   "metadata": {},
   "outputs": [
    {
     "name": "stdout",
     "output_type": "stream",
     "text": [
      "-4 none\n",
      "red [50, 'T', 3]\n",
      "21 Earth\n"
     ]
    }
   ],
   "source": [
    "d = {-4: \"none\", 'red':[50,'T',3], 21:'Earth'}\n",
    "for item in d.items():\n",
    "    print(item[0], item[1])"
   ]
  },
  {
   "cell_type": "code",
   "execution_count": 2,
   "metadata": {},
   "outputs": [
    {
     "name": "stdout",
     "output_type": "stream",
     "text": [
      "-4 none\n",
      "red [50, 'T', 3]\n",
      "21 Earth\n"
     ]
    }
   ],
   "source": [
    "for key, value in d.items():\n",
    "    print(key, value)"
   ]
  },
  {
   "cell_type": "markdown",
   "metadata": {},
   "source": [
    "## 2. Iterate by values"
   ]
  },
  {
   "cell_type": "code",
   "execution_count": 3,
   "metadata": {},
   "outputs": [
    {
     "name": "stdout",
     "output_type": "stream",
     "text": [
      "none\n",
      "[50, 'T', 3]\n",
      "Earth\n"
     ]
    }
   ],
   "source": [
    "for value in d.values():\n",
    "    print(value)"
   ]
  },
  {
   "cell_type": "markdown",
   "metadata": {},
   "source": [
    "## 3. Iterate by keys\n",
    "\n",
    "If you want to iterate over a dictionary's keys, you can use dict.keys() or simply treat the dictionary as an _iterable_ and iterate over its keys. An iterable is an object we can iterate over. Let's see these equivalent code snippets."
   ]
  },
  {
   "cell_type": "code",
   "execution_count": 4,
   "metadata": {},
   "outputs": [
    {
     "name": "stdout",
     "output_type": "stream",
     "text": [
      "-4\n",
      "red\n",
      "21\n"
     ]
    }
   ],
   "source": [
    "for key in d:\n",
    "    print(key)"
   ]
  },
  {
   "cell_type": "code",
   "execution_count": 5,
   "metadata": {},
   "outputs": [
    {
     "name": "stdout",
     "output_type": "stream",
     "text": [
      "-4\n",
      "red\n",
      "21\n"
     ]
    }
   ],
   "source": [
    "for key in d.keys():\n",
    "    print(key)"
   ]
  },
  {
   "cell_type": "markdown",
   "metadata": {},
   "source": [
    "## Changing the values of a dictionary\n",
    "\n",
    "One common uses of iterating a dictionary is if we want to change the values in that dictionary. The easiest way is to iterate over the keys and change the values using the **_brackets operator_**.\n",
    "\n",
    "For example, assume that you have a dictionary where all the values are numbers, you can increment (add 1 to each of) these values using the following piece of code."
   ]
  },
  {
   "cell_type": "code",
   "execution_count": 1,
   "metadata": {},
   "outputs": [
    {
     "data": {
      "text/plain": [
       "{'x': 6, 'y': 11}"
      ]
     },
     "execution_count": 1,
     "metadata": {},
     "output_type": "execute_result"
    }
   ],
   "source": [
    "d = {'x': 5, 'y': 10}\n",
    "for key in d:\n",
    "    d[key] += 1\n",
    "d"
   ]
  },
  {
   "cell_type": "markdown",
   "metadata": {},
   "source": [
    "## Dictionary Methods\n",
    "\n",
    "## d.clear()\n",
    "\n",
    "Removes all the items from a dict _d_."
   ]
  },
  {
   "cell_type": "code",
   "execution_count": 9,
   "metadata": {},
   "outputs": [
    {
     "data": {
      "text/plain": [
       "{}"
      ]
     },
     "execution_count": 9,
     "metadata": {},
     "output_type": "execute_result"
    }
   ],
   "source": [
    "d = {'x': 5, 'y': 10}\n",
    "d.clear()\n",
    "d  #now the dictionary d is empty"
   ]
  },
  {
   "cell_type": "markdown",
   "metadata": {},
   "source": [
    "## d.copy()\n",
    "\n",
    "Returns a shallow copy of dict _d_.\n"
   ]
  },
  {
   "cell_type": "code",
   "execution_count": 11,
   "metadata": {},
   "outputs": [
    {
     "data": {
      "text/plain": [
       "{'x': 5, 'y': 10}"
      ]
     },
     "execution_count": 11,
     "metadata": {},
     "output_type": "execute_result"
    }
   ],
   "source": [
    "d = {'x': 5, 'y': 10}\n",
    "d.copy()"
   ]
  },
  {
   "cell_type": "markdown",
   "metadata": {},
   "source": [
    "## d.get(k)\n",
    "\n",
    "Returns the value of the key _k_, or none if _k_ isn't in dict _d_."
   ]
  },
  {
   "cell_type": "code",
   "execution_count": 13,
   "metadata": {},
   "outputs": [
    {
     "data": {
      "text/plain": [
       "(5, None)"
      ]
     },
     "execution_count": 13,
     "metadata": {},
     "output_type": "execute_result"
    }
   ],
   "source": [
    "d = {'x': 5, 'y': 10}\n",
    "d.get('x'), d.get('z')"
   ]
  },
  {
   "cell_type": "markdown",
   "metadata": {},
   "source": [
    "## d.get(k, v)\n",
    "\n",
    "Returns the value of the key _k_, or returns _v_ if _k_ isn't in dict _d_."
   ]
  },
  {
   "cell_type": "code",
   "execution_count": 14,
   "metadata": {},
   "outputs": [
    {
     "data": {
      "text/plain": [
       "5"
      ]
     },
     "execution_count": 14,
     "metadata": {},
     "output_type": "execute_result"
    }
   ],
   "source": [
    "d.get('x', 15)  #will return 5 because dict d has the key 'x'"
   ]
  },
  {
   "cell_type": "code",
   "execution_count": 15,
   "metadata": {},
   "outputs": [
    {
     "data": {
      "text/plain": [
       "15"
      ]
     },
     "execution_count": 15,
     "metadata": {},
     "output_type": "execute_result"
    }
   ],
   "source": [
    "d.get('z', 15)  #will return 15 because dict d doesn't have the key 'x'"
   ]
  },
  {
   "cell_type": "markdown",
   "metadata": {},
   "source": [
    "## d.items()\n",
    "\n",
    "Returns a list of all the (key-value) pairs in dict _d_."
   ]
  },
  {
   "cell_type": "code",
   "execution_count": 4,
   "metadata": {},
   "outputs": [
    {
     "data": {
      "text/plain": [
       "dict_items([('weather', 'cloudy'), ('air', 'fresh'), ('face', 'smile')])"
      ]
     },
     "execution_count": 4,
     "metadata": {},
     "output_type": "execute_result"
    }
   ],
   "source": [
    "d = {'weather': 'cloudy', 'air': 'fresh', 'face': 'smile'}\n",
    "d.items()"
   ]
  },
  {
   "cell_type": "markdown",
   "metadata": {},
   "source": [
    "## d.keys()\n",
    "\n",
    "Returns a list of all available keys in dict _d_."
   ]
  },
  {
   "cell_type": "code",
   "execution_count": 3,
   "metadata": {},
   "outputs": [
    {
     "data": {
      "text/plain": [
       "dict_keys(['weather', 'air', 'face'])"
      ]
     },
     "execution_count": 3,
     "metadata": {},
     "output_type": "execute_result"
    }
   ],
   "source": [
    "d = {'weather': 'cloudy', 'air': 'fresh', 'face': 'smile'}\n",
    "d.keys()"
   ]
  },
  {
   "cell_type": "markdown",
   "metadata": {},
   "source": [
    "## d.values()\n",
    "\n",
    "Returns a list of all the values in dict _d_."
   ]
  },
  {
   "cell_type": "code",
   "execution_count": 2,
   "metadata": {},
   "outputs": [
    {
     "data": {
      "text/plain": [
       "dict_values(['cloudy', 'fresh', 'smile'])"
      ]
     },
     "execution_count": 2,
     "metadata": {},
     "output_type": "execute_result"
    }
   ],
   "source": [
    "d = {'weather': 'cloudy', 'air': 'fresh', 'face': 'smile'}\n",
    "d.values()"
   ]
  },
  {
   "cell_type": "markdown",
   "metadata": {},
   "source": [
    "## d.pop(k)\n",
    "\n",
    "Returns the value associated with the key _k_ and removes the items whose key is _k_. The method raises a KeyError exception if _k_ isn't in _d_."
   ]
  },
  {
   "cell_type": "code",
   "execution_count": 18,
   "metadata": {},
   "outputs": [
    {
     "data": {
      "text/plain": [
       "10"
      ]
     },
     "execution_count": 18,
     "metadata": {},
     "output_type": "execute_result"
    }
   ],
   "source": [
    "d = {'x': 5, 'y': 10}\n",
    "d.pop('y')  #the item with key 'y' will be removed"
   ]
  },
  {
   "cell_type": "code",
   "execution_count": 19,
   "metadata": {},
   "outputs": [
    {
     "data": {
      "text/plain": [
       "{'x': 5}"
      ]
     },
     "execution_count": 19,
     "metadata": {},
     "output_type": "execute_result"
    }
   ],
   "source": [
    "d"
   ]
  },
  {
   "cell_type": "markdown",
   "metadata": {},
   "source": [
    "## d.pop(k, v)\n",
    "\n",
    "Returns the value associated with the key _k_ and removes the items whose key is _k_, or returns _v_ if _k_ isn't in _d_."
   ]
  },
  {
   "cell_type": "code",
   "execution_count": 5,
   "metadata": {},
   "outputs": [
    {
     "data": {
      "text/plain": [
       "10"
      ]
     },
     "execution_count": 5,
     "metadata": {},
     "output_type": "execute_result"
    }
   ],
   "source": [
    "d = {'x': 5, 'y': 10}\n",
    "d.pop('y', 15)   #key 'y' is in dict d, return 10"
   ]
  },
  {
   "cell_type": "code",
   "execution_count": 6,
   "metadata": {},
   "outputs": [
    {
     "data": {
      "text/plain": [
       "{'x': 5}"
      ]
     },
     "execution_count": 6,
     "metadata": {},
     "output_type": "execute_result"
    }
   ],
   "source": [
    "d"
   ]
  },
  {
   "cell_type": "code",
   "execution_count": 7,
   "metadata": {},
   "outputs": [
    {
     "data": {
      "text/plain": [
       "15"
      ]
     },
     "execution_count": 7,
     "metadata": {},
     "output_type": "execute_result"
    }
   ],
   "source": [
    "d.pop('z', 15)   #key 'z' is not in dict d, return 15"
   ]
  },
  {
   "cell_type": "markdown",
   "metadata": {},
   "source": [
    "## d.setdefault(k, v)\n",
    "\n",
    "This method is the same as dict.get() method except that if the key _k_ not in dict _d_, a new item is inserted with the key _k_, and with a value of None or the value of _v_ if _v_ is given. \n",
    "\n",
    "Let's take some examples to understand these options."
   ]
  },
  {
   "cell_type": "code",
   "execution_count": 2,
   "metadata": {},
   "outputs": [
    {
     "data": {
      "text/plain": [
       "10"
      ]
     },
     "execution_count": 2,
     "metadata": {},
     "output_type": "execute_result"
    }
   ],
   "source": [
    "d = {\"cell\": \"body\", -14: 10, \"my_list\":[2, 4, 6]}\n",
    "\n",
    "d.setdefault(-14)   #key -14 is in dict d, the method will return the value 10"
   ]
  },
  {
   "cell_type": "code",
   "execution_count": 5,
   "metadata": {},
   "outputs": [
    {
     "data": {
      "text/plain": [
       "10"
      ]
     },
     "execution_count": 5,
     "metadata": {},
     "output_type": "execute_result"
    }
   ],
   "source": [
    "d.setdefault(-14, 20)   #key -14 is in dict d, the value wont be updated to 20"
   ]
  },
  {
   "cell_type": "code",
   "execution_count": 6,
   "metadata": {},
   "outputs": [
    {
     "data": {
      "text/plain": [
       "{-14: 10, 'cell': 'body', 'my_list': [2, 4, 6], 'x': None}"
      ]
     },
     "execution_count": 6,
     "metadata": {},
     "output_type": "execute_result"
    }
   ],
   "source": [
    "d"
   ]
  },
  {
   "cell_type": "code",
   "execution_count": 3,
   "metadata": {},
   "outputs": [],
   "source": [
    "d.setdefault('x')  #key 'x' is not in dict d, the method will insert new item with key 'x' and value None"
   ]
  },
  {
   "cell_type": "code",
   "execution_count": 4,
   "metadata": {},
   "outputs": [
    {
     "data": {
      "text/plain": [
       "{-14: 10, 'cell': 'body', 'my_list': [2, 4, 6], 'x': None}"
      ]
     },
     "execution_count": 4,
     "metadata": {},
     "output_type": "execute_result"
    }
   ],
   "source": [
    "d"
   ]
  },
  {
   "cell_type": "code",
   "execution_count": 10,
   "metadata": {},
   "outputs": [
    {
     "data": {
      "text/plain": [
       "20"
      ]
     },
     "execution_count": 10,
     "metadata": {},
     "output_type": "execute_result"
    }
   ],
   "source": [
    "d.setdefault('y', 20) #key 'y' not in dict d, the method will insert new item with key 'x' and value 20"
   ]
  },
  {
   "cell_type": "code",
   "execution_count": 11,
   "metadata": {},
   "outputs": [
    {
     "data": {
      "text/plain": [
       "{-14: 10, 'cell': 'body', 'my_list': [2, 4, 6], 'y': 20}"
      ]
     },
     "execution_count": 11,
     "metadata": {},
     "output_type": "execute_result"
    }
   ],
   "source": [
    "d"
   ]
  },
  {
   "cell_type": "markdown",
   "metadata": {},
   "source": [
    "## d.update(a)\n",
    "\n",
    "This method Adds every (key, value) pair from **_a_** that isn’t in dict _**d**_ to _**d**_. And for every key that is in both **_d_** and **_a_**, replaces the corresponding value in _**d**_ with the one in **_a_** \n",
    "\n",
    "_a_ can be one of the following:\n",
    " - a dictionary, \n",
    " - an iterable of (key, value) pairs, or \n",
    " - keyword arguments.\n",
    " \n",
    "### Examples:"
   ]
  },
  {
   "cell_type": "code",
   "execution_count": 7,
   "metadata": {},
   "outputs": [
    {
     "data": {
      "text/plain": [
       "{-14: 10, 'cell': 'body', 'my_list': [2, 4, 6], 'x': 25}"
      ]
     },
     "execution_count": 7,
     "metadata": {},
     "output_type": "execute_result"
    }
   ],
   "source": [
    "d = {\"cell\": \"body\", -14: 10, \"my_list\":[2, 4, 6]}\n",
    "a = {'x': 25}\n",
    "d.update(a)  #now the (key, value) ('x', 25) from dict a will be added to dict d\n",
    "d"
   ]
  },
  {
   "cell_type": "code",
   "execution_count": 14,
   "metadata": {},
   "outputs": [
    {
     "data": {
      "text/plain": [
       "{-14: 10, 'cell': 'body', 'my_list': [1, 3, 5]}"
      ]
     },
     "execution_count": 14,
     "metadata": {},
     "output_type": "execute_result"
    }
   ],
   "source": [
    "d = {\"cell\": \"body\", -14: 10, \"my_list\":[2, 4, 6]}\n",
    "a = {\"my_list\": [1, 3, 5]}\n",
    "d.update(a)  #the value of the key \"my_list\" in dict d will be replaced with [1, 3, 5]\n",
    "d"
   ]
  }
 ],
 "metadata": {
  "kernelspec": {
   "display_name": "Python 3",
   "language": "python",
   "name": "python3"
  },
  "language_info": {
   "codemirror_mode": {
    "name": "ipython",
    "version": 3
   },
   "file_extension": ".py",
   "mimetype": "text/x-python",
   "name": "python",
   "nbconvert_exporter": "python",
   "pygments_lexer": "ipython3",
   "version": "3.6.5"
  }
 },
 "nbformat": 4,
 "nbformat_minor": 2
}
