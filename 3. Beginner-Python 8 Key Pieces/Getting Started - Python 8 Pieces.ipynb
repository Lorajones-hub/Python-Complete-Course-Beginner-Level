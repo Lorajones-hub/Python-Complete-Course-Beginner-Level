{
 "cells": [
  {
   "cell_type": "markdown",
   "metadata": {},
   "source": [
    "# The Beautiful 8 Key Pieces of Python\n",
    "\n",
    "Hello everyone and welcome to the first lecture of our course.\n",
    "\n",
    "This lecture will introduce you to **Python's Beautiful Heart**. I suggest that you read through these pieces as these brief discussions will help you later when we will explore different topics of Python language in more details.\n",
    "\n",
    "**This lecture is NOT REQUIRED. It is an overview lecture prepared for you to have a basic idea of different topics in Python. If you have some time you can take a look at some sections here. Don't worry if you don't understand everything, we will cover ALL these topics in full detail during the course**. \n",
    "\n",
    "### For now just HAVE FUN exploring Python's wonderful world! : )\n",
    "\n",
    "## Piece 1: Data Types\n",
    "\n",
    "#### What do we mean by data types?\n",
    "\n",
    "Any programming language must be able to do one important thing, **_representing items of data_** such as numbers, words, and group of data. For each of these data, there is something called a **data type** in the programming language.\n",
    "\n",
    "Python language has several built-in data types. For example, Python represents _integers_ (which are positive and negative whole numbers including zero) using the _int_ type. Python represents strings (sequences of characters) such as names, addresses, etc. using the _str_ type.\n",
    "\n",
    "Examples of integers:\n",
    "\n",
    "12, 4, -10, 0, -973\n",
    "\n",
    "Examples of strings:\n",
    "\n",
    "'Simon' <br>\n",
    "\"Hello World!\" <br>\n",
    "'345\\*&^%\\_=+key' <br>\n",
    "\"\"   **This is an empty string**<br>\n",
    "\n",
    "If you are using any interactive interpreter such as Python Shell, IDEL, or Jupyter Notebook, you can type integer or strings values and you'll see that the interpreter will return that value."
   ]
  },
  {
   "cell_type": "code",
   "execution_count": 1,
   "metadata": {},
   "outputs": [
    {
     "data": {
      "text/plain": [
       "3"
      ]
     },
     "execution_count": 1,
     "metadata": {},
     "output_type": "execute_result"
    }
   ],
   "source": [
    "3        # this is an int"
   ]
  },
  {
   "cell_type": "code",
   "execution_count": 2,
   "metadata": {},
   "outputs": [
    {
     "data": {
      "text/plain": [
       "4"
      ]
     },
     "execution_count": 2,
     "metadata": {},
     "output_type": "execute_result"
    }
   ],
   "source": [
    "2+2      # this is an arithmatic expression"
   ]
  },
  {
   "cell_type": "code",
   "execution_count": 3,
   "metadata": {},
   "outputs": [
    {
     "data": {
      "text/plain": [
       "'hello'"
      ]
     },
     "execution_count": 3,
     "metadata": {},
     "output_type": "execute_result"
    }
   ],
   "source": [
    "'hello' # this is a string"
   ]
  },
  {
   "cell_type": "markdown",
   "metadata": {},
   "source": [
    "## Piece 2: Object References\n",
    "\n",
    "Once we have data types, sometimes we need _**variables**_ to store the values of these data types. It is important to understand that **Python doesn't have variables, instead it has _objects references_**. ALL object-oriented programming languages use objects and object references.\n",
    "\n",
    "**Keep in mind that everything in Python is an object**.\n",
    "\n",
    "### What is an object reference?\n",
    "\n",
    "_An object reference is a name (also called an identifier) that refers to the object in memory_, this means that the object reference holds the memory address of that object stored in the memory. \n",
    "\n",
    "In fact, variables and object references mean the same thing.\n",
    "\n",
    "The syntax used in Python is VERY SIMPLE:\n",
    "\n",
    "                                        object reference = value\n",
    "\n",
    "\n",
    "#### What is a syntax in programming?\n",
    "\n",
    "The **syntax** in programming is the set of rules the programmer has to follow to write correct code or statements in the program.\n",
    "\n",
    "\n",
    "For example: <br>\n",
    "\n",
    "                                    x = 'blue' \n",
    "                                    y = 'red'\n",
    "                                    \n",
    "                                    \n",
    "                                    s = 2 \n",
    "                                    t = 6 \n",
    "\n",
    "In Python there is no need for _pre-declaration_, this means that we don't need to type str x before x = 'blue' \n",
    "\n",
    "**This is the first beautiful feature in Python**\n",
    "\n",
    "**The whole idea is this**: when Python sees the statement x = 'blue', it will create a _str_ object with text 'blue' then creates an object reference called x and makes it refer to that _str_ object. Same thing will happen with the second statements y = 'red'. With s = 2 and t = 6, Python again creates _int_ objects with value 2 and 6 and creates two object references _s_ and _t_ who will refer to objects 2 and 6 respectively.\n",
    "\n",
    "The following figure shows the relationship between objects and object references. Circles are the objects references while rectangles are the objects themselves.\n",
    "\n",
    "\n",
    "\n",
    "<img src=\"img/objRef.PNG\"/>\n",
    "\n",
    "\n",
    "If we type, **y = x** then x and y will refer to the same object 'blue'. Same thing if we type **t = s** as shown in the following figure.\n",
    "\n",
    "\n",
    "\n",
    "<img src=\"img/objRef1.PNG\"/>"
   ]
  },
  {
   "cell_type": "markdown",
   "metadata": {},
   "source": [
    "## Piece 3: Collection Data Types\n",
    "\n",
    "Sometimes we need to store an entire collection of data items in one object. Python provides several collection data types for example lists, tuples, dictionaries, ... etc. \n",
    "\n",
    "A collection in Python can hold any number of data items of any data type. **This is the second beautiful feature in Python**.\n",
    "\n",
    "Tuples are called **immutable**, so once they are created we cannot change them. \n",
    "Lists are called **mutable**, so we can easily insert and remove items whenever we want.\n",
    "\n",
    "Tuples are created using round brackets with comma-separated items (,). \n",
    "\n",
    "#### Let's see some simple examples:"
   ]
  },
  {
   "cell_type": "code",
   "execution_count": 6,
   "metadata": {},
   "outputs": [
    {
     "data": {
      "text/plain": [
       "('Sun', 'Mars', 'Earth')"
      ]
     },
     "execution_count": 6,
     "metadata": {},
     "output_type": "execute_result"
    }
   ],
   "source": [
    "\"Sun\", \"Mars\", \"Earth\""
   ]
  },
  {
   "cell_type": "markdown",
   "metadata": {},
   "source": [
    "Python outputs (prints) a tuple enclosed in paranthese (). You need to put the comma even if there is only one item in the tuple, for example (22,)\n",
    "\n",
    "This is an empty tuple:"
   ]
  },
  {
   "cell_type": "code",
   "execution_count": 7,
   "metadata": {},
   "outputs": [
    {
     "data": {
      "text/plain": [
       "()"
      ]
     },
     "execution_count": 7,
     "metadata": {},
     "output_type": "execute_result"
    }
   ],
   "source": [
    "()  #empty tuple"
   ]
  },
  {
   "cell_type": "markdown",
   "metadata": {},
   "source": [
    "Lists are created using square brackets [ ], again the items are separted by commas\n",
    "\n",
    "#### Here are some examples of lists:"
   ]
  },
  {
   "cell_type": "code",
   "execution_count": 8,
   "metadata": {},
   "outputs": [
    {
     "data": {
      "text/plain": [
       "[3, 16, 7, 88]"
      ]
     },
     "execution_count": 8,
     "metadata": {},
     "output_type": "execute_result"
    }
   ],
   "source": [
    "[3, 16, 7, 88]"
   ]
  },
  {
   "cell_type": "code",
   "execution_count": 1,
   "metadata": {},
   "outputs": [
    {
     "data": {
      "text/plain": [
       "['abc', 123, 'python', ['name', 11], -90]"
      ]
     },
     "execution_count": 1,
     "metadata": {},
     "output_type": "execute_result"
    }
   ],
   "source": [
    "['abc', 123, 'python', ['name', 11], -90]"
   ]
  },
  {
   "cell_type": "code",
   "execution_count": 10,
   "metadata": {},
   "outputs": [
    {
     "data": {
      "text/plain": [
       "[]"
      ]
     },
     "execution_count": 10,
     "metadata": {},
     "output_type": "execute_result"
    }
   ],
   "source": [
    "[]  #empty list"
   ]
  },
  {
   "cell_type": "markdown",
   "metadata": {},
   "source": [
    "## Piece 4: Operations in Python\n",
    "\n",
    "Operations are one of the fundamental features of any programming language.\n",
    "\n",
    "Python provides four sets of operations:\n",
    "\n",
    "### 1) The identity operator is and is not\n",
    "\n",
    "We have learned that variables in Python are object references. Sometimes we need to know if two object references are referring (or pointing to) the same object. The identity operator _**is**_ used to do that. \n",
    "\n",
    "The _is_ operator is a binary operator$^❄$ that returns _True_ if its left object reference and right object reference are pointing to the same object.\n",
    "\n",
    "$^❄$A binary operator is an operator that takes two operands.\n",
    "\n",
    "#### Example:"
   ]
  },
  {
   "cell_type": "code",
   "execution_count": 7,
   "metadata": {},
   "outputs": [
    {
     "data": {
      "text/plain": [
       "False"
      ]
     },
     "execution_count": 7,
     "metadata": {},
     "output_type": "execute_result"
    }
   ],
   "source": [
    "x = ['AB', 3]\n",
    "y = ['AB', 3]\n",
    "x is y"
   ]
  },
  {
   "cell_type": "markdown",
   "metadata": {},
   "source": [
    "Why False ? athough x and y initially set to the same list values, the lists themselves are stored as separate _list_ objects (in a different memory locations). So, the _is_ operator returned False "
   ]
  },
  {
   "cell_type": "code",
   "execution_count": 8,
   "metadata": {},
   "outputs": [
    {
     "data": {
      "text/plain": [
       "True"
      ]
     },
     "execution_count": 8,
     "metadata": {},
     "output_type": "execute_result"
    }
   ],
   "source": [
    "y is not x"
   ]
  },
  {
   "cell_type": "code",
   "execution_count": 6,
   "metadata": {},
   "outputs": [
    {
     "data": {
      "text/plain": [
       "True"
      ]
     },
     "execution_count": 6,
     "metadata": {},
     "output_type": "execute_result"
    }
   ],
   "source": [
    "x = ['AB', 3]\n",
    "y = ['AB', 3]\n",
    "\n",
    "y = x  # now y and x are referring to the same list object\n",
    "x is y"
   ]
  },
  {
   "cell_type": "code",
   "execution_count": 14,
   "metadata": {},
   "outputs": [
    {
     "data": {
      "text/plain": [
       "False"
      ]
     },
     "execution_count": 14,
     "metadata": {},
     "output_type": "execute_result"
    }
   ],
   "source": [
    "# to invert the identity test\n",
    "y is not x"
   ]
  },
  {
   "cell_type": "markdown",
   "metadata": {},
   "source": [
    "### 2) Comparison operators\n",
    "\n",
    "The standard set of binary comparison operators:\n",
    "- less than <\n",
    "- less than or equal to <=\n",
    "- equal to ==\n",
    "- not equal to !=\n",
    "- greater than or equal to >=\n",
    "- greater than >\n",
    "\n",
    "We use these operators to compare _object values_. Here are a few examples:\n",
    "\n",
    "#### Compare integers"
   ]
  },
  {
   "cell_type": "code",
   "execution_count": 15,
   "metadata": {},
   "outputs": [
    {
     "data": {
      "text/plain": [
       "False"
      ]
     },
     "execution_count": 15,
     "metadata": {},
     "output_type": "execute_result"
    }
   ],
   "source": [
    "a = 2\n",
    "b = 7\n",
    "a == b"
   ]
  },
  {
   "cell_type": "code",
   "execution_count": 16,
   "metadata": {},
   "outputs": [
    {
     "data": {
      "text/plain": [
       "False"
      ]
     },
     "execution_count": 16,
     "metadata": {},
     "output_type": "execute_result"
    }
   ],
   "source": [
    "a > b "
   ]
  },
  {
   "cell_type": "markdown",
   "metadata": {},
   "source": [
    "We can create a tuple of True/False."
   ]
  },
  {
   "cell_type": "code",
   "execution_count": 17,
   "metadata": {},
   "outputs": [
    {
     "data": {
      "text/plain": [
       "(True, True, True, False)"
      ]
     },
     "execution_count": 17,
     "metadata": {},
     "output_type": "execute_result"
    }
   ],
   "source": [
    "a < b, a != b, a <= b, a >= b"
   ]
  },
  {
   "cell_type": "markdown",
   "metadata": {},
   "source": [
    "Or chain the comparison operations."
   ]
  },
  {
   "cell_type": "code",
   "execution_count": 19,
   "metadata": {},
   "outputs": [
    {
     "data": {
      "text/plain": [
       "True"
      ]
     },
     "execution_count": 19,
     "metadata": {},
     "output_type": "execute_result"
    }
   ],
   "source": [
    "0 <= b <= 10"
   ]
  },
  {
   "cell_type": "markdown",
   "metadata": {},
   "source": [
    "#### Compare strings"
   ]
  },
  {
   "cell_type": "code",
   "execution_count": 15,
   "metadata": {},
   "outputs": [
    {
     "data": {
      "text/plain": [
       "True"
      ]
     },
     "execution_count": 15,
     "metadata": {},
     "output_type": "execute_result"
    }
   ],
   "source": [
    "s1 = 'Hello'\n",
    "s2 = 'Hello'\n",
    "s1 == s2"
   ]
  },
  {
   "cell_type": "markdown",
   "metadata": {},
   "source": [
    "Why **s1 == s2** gives True ?  because s1 and s2 are referring to objects with the same value \"Hello\". "
   ]
  },
  {
   "cell_type": "code",
   "execution_count": 14,
   "metadata": {},
   "outputs": [
    {
     "data": {
      "text/plain": [
       "False"
      ]
     },
     "execution_count": 14,
     "metadata": {},
     "output_type": "execute_result"
    }
   ],
   "source": [
    "s1 = 'He'\n",
    "s2 = 'Hello'\n",
    "s1 == s2"
   ]
  },
  {
   "cell_type": "markdown",
   "metadata": {},
   "source": [
    "###  3) The membership operator in\n",
    "\n",
    "If we have data types that are sequence or collections, which means they contain multiple items, such as strings, lists, or tuples, we can test for membership using the _**in**_ operator. We can also test for non-membership using the _**not in**_ operator.\n",
    "\n",
    "#### Examples:\n"
   ]
  },
  {
   "cell_type": "code",
   "execution_count": 22,
   "metadata": {},
   "outputs": [
    {
     "data": {
      "text/plain": [
       "True"
      ]
     },
     "execution_count": 22,
     "metadata": {},
     "output_type": "execute_result"
    }
   ],
   "source": [
    "s = \"Harry Potter\"\n",
    "'H' in s"
   ]
  },
  {
   "cell_type": "code",
   "execution_count": 24,
   "metadata": {},
   "outputs": [
    {
     "data": {
      "text/plain": [
       "True"
      ]
     },
     "execution_count": 24,
     "metadata": {},
     "output_type": "execute_result"
    }
   ],
   "source": [
    "\"pot\" not in s"
   ]
  },
  {
   "cell_type": "markdown",
   "metadata": {},
   "source": [
    "###  4) Logical operators\n",
    "\n",
    "There are three logical operators in Python: \n",
    "- **and** (binary operator - takes left and right operands)\n",
    "- **or** (binary operator - takes left and right operands)\n",
    "- **not** (unary operator - takes one operand) \n",
    "\n",
    "Just keep in mind that both **and** and **or** operators use short-circuit logic and return the operand that determined the result.\n",
    "\n",
    "Let's see what we mean by that using some examples:"
   ]
  },
  {
   "cell_type": "code",
   "execution_count": 16,
   "metadata": {},
   "outputs": [
    {
     "data": {
      "text/plain": [
       "12"
      ]
     },
     "execution_count": 16,
     "metadata": {},
     "output_type": "execute_result"
    }
   ],
   "source": [
    "a = 4\n",
    "b = 12\n",
    "\n",
    "a and b"
   ]
  },
  {
   "cell_type": "code",
   "execution_count": 18,
   "metadata": {},
   "outputs": [
    {
     "data": {
      "text/plain": [
       "0"
      ]
     },
     "execution_count": 18,
     "metadata": {},
     "output_type": "execute_result"
    }
   ],
   "source": [
    "a = 0\n",
    "b = 12\n",
    "\n",
    "a and b"
   ]
  },
  {
   "cell_type": "code",
   "execution_count": 19,
   "metadata": {},
   "outputs": [
    {
     "data": {
      "text/plain": [
       "2"
      ]
     },
     "execution_count": 19,
     "metadata": {},
     "output_type": "execute_result"
    }
   ],
   "source": [
    "a = 2\n",
    "b = 11\n",
    "\n",
    "a or b"
   ]
  },
  {
   "cell_type": "code",
   "execution_count": 20,
   "metadata": {},
   "outputs": [
    {
     "data": {
      "text/plain": [
       "11"
      ]
     },
     "execution_count": 20,
     "metadata": {},
     "output_type": "execute_result"
    }
   ],
   "source": [
    "a = 0\n",
    "b = 11\n",
    "\n",
    "a or b"
   ]
  },
  {
   "cell_type": "code",
   "execution_count": 21,
   "metadata": {},
   "outputs": [
    {
     "data": {
      "text/plain": [
       "False"
      ]
     },
     "execution_count": 21,
     "metadata": {},
     "output_type": "execute_result"
    }
   ],
   "source": [
    "a = 2\n",
    "not a"
   ]
  },
  {
   "cell_type": "markdown",
   "metadata": {},
   "source": [
    "## Piece 5: Control Flow Statements\n",
    "\n",
    "Python execute each statement in any .py file in turn, starting with the first one and progressing line by line, this is called the **_program flow_**. Sometimes we want to control or divert the program flow, which means execute the statements based on some logic or conditions. This is called **_flow control_**.\n",
    "\n",
    "There are many ways to achieve the flow control, including:\n",
    "\n",
    " - By control structures such as the conditional branch (if statement) or using loops (while and for statements).\n",
    " \n",
    " \n",
    " - By exceptions handling.\n",
    " \n",
    " \n",
    " - By a function or method call.\n",
    " \n",
    "**In this lesson we will talk briefly about the if, while, and for statements and introduce the very basics of exception handling. We will leave the function and method call to later discussion.**\n",
    "\n",
    "### 1) if statement\n",
    "\n",
    "Before we talk about how the if statement works, you need to understand these two parts of it:\n",
    "\n",
    "- A **boolean expression**: is a piece of code that produces a boolean value (True or False). Some of the False expressions include the following (anything else is True):\n",
    "\n",
    "\n",
    "  - data item with value zero\n",
    "  - empty string or list\n",
    "  - special object None\n",
    "  \n",
    "- A **block** of code: is one or more statements, that will be executed (run) when its associated boolean expression is True.\n",
    " \n",
    "\n",
    "**The general syntax of Python's if statement is**: \n",
    "\n",
    "                                    \n",
    "                                    \n",
    "                          if boolean expression 1:\n",
    "                              block 1\n",
    "                          elif boolean expression 2:\n",
    "                              block 2\n",
    "                          ...\n",
    "                          elif boolean expression N:\n",
    "                              block N\n",
    "                          else:\n",
    "                              else block\n",
    "       \n",
    "**NOTES**: \n",
    "- **There can be zero or more elif statements**\n",
    "- **The final else statement is optional, it is up to you to add it based on your implementation**\n",
    " \n",
    "\n",
    "If you have used other languages like Java or C++, you will notice the following differences with Python's if statement. For eaxmple, in Python:\n",
    "\n",
    "\n",
    "- **There are no parentheses  ( ) or braces { } in the if statement**.\n",
    "\n",
    "\n",
    "- **The colon : at the end of the boolean expression. This is part of the syntax and you will get used to it easily**.\n",
    "\n",
    "\n",
    "- **Python uses indentation to signify its block structure**\n",
    "       \n",
    "Here is a very simple example:\n"
   ]
  },
  {
   "cell_type": "code",
   "execution_count": 1,
   "metadata": {
    "scrolled": true
   },
   "outputs": [
    {
     "name": "stdout",
     "output_type": "stream",
     "text": [
      "Passed\n"
     ]
    }
   ],
   "source": [
    "x = 90\n",
    "if x >= 50:  # the value of x is greater than 50, so x >= 50 will give True\n",
    "    print(\"Passed\")  "
   ]
  },
  {
   "cell_type": "markdown",
   "metadata": {},
   "source": [
    "**Explanation**: the _boolean expression_ in the above example is x >= 50 and the block is only one statement which is print(\"Passed\"). Since the boolean expression is evaluated to _True_ then the print statement will run. That's why the program printed the word **Passed**.\n",
    "\n",
    "Let's take another example:"
   ]
  },
  {
   "cell_type": "code",
   "execution_count": 29,
   "metadata": {},
   "outputs": [
    {
     "name": "stdout",
     "output_type": "stream",
     "text": [
      "Failed\n"
     ]
    }
   ],
   "source": [
    "x = 45\n",
    "if x >= 50:  \n",
    "    print(\"Passed\")  \n",
    "else:                 # else statement will run because the value of x is less than 50\n",
    "    print(\"Failed\")"
   ]
  },
  {
   "cell_type": "markdown",
   "metadata": {},
   "source": [
    "In the above example the boolean expression x >= 50 was evaluated to _False_. So, instead of running the if statement, the else statement will run. Therefore, the program will print **Failed**.\n",
    "\n",
    "Now let's have another version of the code with elif statement:"
   ]
  },
  {
   "cell_type": "code",
   "execution_count": 2,
   "metadata": {},
   "outputs": [
    {
     "name": "stdout",
     "output_type": "stream",
     "text": [
      "Large\n"
     ]
    }
   ],
   "source": [
    "x = 1200\n",
    "if x >= 1000:  \n",
    "    print(\"Large\")  \n",
    "elif x >= 100:\n",
    "    print(\"Medium\")\n",
    "else:  \n",
    "    print(\"Small\")"
   ]
  },
  {
   "cell_type": "markdown",
   "metadata": {},
   "source": [
    "The example above shows three statements if, elif and else. Based on the value of x, the program will print either **Large**, **Medium**, or **Small**. For example, if x = 1200, we see the word **Large** printed because the boolean expression x >= 1000 will be _True_. Although the boolean expression of elif (x >= 100) is also _Ture_, the program will not execute the _elif_ block because when the condition of if is _True_, the elif and else parts will be skipped."
   ]
  },
  {
   "cell_type": "markdown",
   "metadata": {},
   "source": [
    "### 2) _while_ statement\n",
    "\n",
    "The _while_ statement belongs to **loop or repetition ** statements and is used to **execute a block (repeat it) zero or more times**. We can control the number of times the loop runs based on the boolean expression of the while loop.\n",
    "\n",
    "**The syntax is**:\n",
    "\n",
    "                   while boolean expression:\n",
    "                       block\n",
    "                       \n",
    "There are some other statements that are used with the while loop like _**break**_, _**continue**_, and an optional _**else**_. We will discuss all this and the full syntax of while loop in the lectures of \"**Flow Control Structures**\" section.\n",
    "\n",
    "Let's take an example of a simple while loop:"
   ]
  },
  {
   "cell_type": "code",
   "execution_count": 1,
   "metadata": {},
   "outputs": [
    {
     "name": "stdout",
     "output_type": "stream",
     "text": [
      "hello\n",
      "hello\n",
      "hello\n",
      "hello\n",
      "hello\n"
     ]
    }
   ],
   "source": [
    "x = 1\n",
    "while x <= 5:\n",
    "    print(\"hello\")\n",
    "    x += 1"
   ]
  },
  {
   "cell_type": "code",
   "execution_count": 2,
   "metadata": {},
   "outputs": [
    {
     "name": "stdout",
     "output_type": "stream",
     "text": [
      "1\n",
      "2\n",
      "3\n",
      "4\n",
      "5\n"
     ]
    }
   ],
   "source": [
    "x = 1\n",
    "while x <= 5 :\n",
    "    print(x)\n",
    "    x += 1"
   ]
  },
  {
   "cell_type": "markdown",
   "metadata": {},
   "source": [
    "### 3) _for ... in_ statement\n",
    "\n",
    "The _for_ statement is similar to _while_. It loops or repeats a number of times to execute a block. This _for_ loop uses the membership operator **in** which was discussed earlier.\n",
    "\n",
    "**The syntax is**:\n",
    "\n",
    "                   for variable in iterable:\n",
    "                       block\n",
    "                       \n",
    "                       \n",
    "The **variable** is set to refer to each object in the iterable in turn. \n",
    "\n",
    "The **iterable** is any data type that can be iterated over. An iterable includes _**strings**_ (where the iteration is done character by character) or Python's collection data types such as **lists**, **tuples**, **sets**, **dict**, ... etc. (where the iteration is done item by item).\n",
    "\n",
    "**Examples**:\n"
   ]
  },
  {
   "cell_type": "code",
   "execution_count": 25,
   "metadata": {},
   "outputs": [
    {
     "name": "stdout",
     "output_type": "stream",
     "text": [
      "P\n",
      "y\n",
      "t\n",
      "h\n",
      "o\n",
      "n\n"
     ]
    }
   ],
   "source": [
    "for x in \"Python\":\n",
    "    print(x)"
   ]
  },
  {
   "cell_type": "code",
   "execution_count": 30,
   "metadata": {},
   "outputs": [
    {
     "name": "stdout",
     "output_type": "stream",
     "text": [
      "bird\n",
      "dog\n",
      "cat\n"
     ]
    }
   ],
   "source": [
    "# x is the variable and the list [\"bird\", \"dog\", \"cat\"] is the iterable\n",
    "for x in [\"bird\", \"dog\", \"cat\"]:\n",
    "    print(x)"
   ]
  },
  {
   "cell_type": "markdown",
   "metadata": {},
   "source": [
    "### 4) Basics of exception handling in Python\n",
    "\n",
    "**I recommend that you have a basic idea of what is an exception handling in Python at this stage as it is important to understand how Python program works**. \n",
    "\n",
    "\n",
    "The way Python program can tell us there is an error or an important event happened is by raising an _**exception**_. The exception is an object like any other object in Python. When we treat that object as a string (when we print it), _the exception produces a message that tells us about the error that happened_.\n",
    "\n",
    "**The syntax is**:\n",
    "                                    \n",
    "                                    \n",
    "                          try:\n",
    "                              try block\n",
    "                          except exception 1 as variable 1:\n",
    "                              exception block 1\n",
    "                          ...\n",
    "                          except exception N as variable N:\n",
    "                              exception block N\n",
    "                               \n",
    "\n",
    "The logic is as follows:\n",
    "\n",
    "1) **If the statements in the _try_ block all execute without raising any exception, the _except_ blocks are skipped**.\n",
    "\n",
    "\n",
    "2) **If an exception (error/event) is raised inside the _try_ block, control is immediately passed to the block corresponding to the first matching exception**. \n",
    "\n",
    "\n",
    "3) **If step 2 happened and you have the part _as variable_ in the exception, the variable will refer to the exception object**.\n",
    "\n",
    "\n",
    "In the section \"**Exception Handling**\", we will cover more details on how to handle exceptions in Python. For now let's take a look at the following example:"
   ]
  },
  {
   "cell_type": "code",
   "execution_count": null,
   "metadata": {},
   "outputs": [],
   "source": [
    "# variable s will save the value entered as a string\n",
    "s = input(\"enter an integer: \")\n",
    "\n",
    "# the try block\n",
    "try:\n",
    "    i = int(s)\n",
    "    print(\"valid integer entered:\", i)\n",
    "    \n",
    "# the except block\n",
    "except ValueError as err:\n",
    "    print(err)"
   ]
  },
  {
   "cell_type": "markdown",
   "metadata": {},
   "source": [
    "**Explanation**: \n",
    "\n",
    "- This program asks the user to enter an integer number then press Enter (or Return). The input() function returns the number entered as a string and assign it to the variable s. \n",
    "\n",
    "\n",
    "\n",
    "- Then the program will enter the _try_ block where the value of string s will be converted to integer by the function int() and saved in the variable i. \n",
    "\n",
    "\n",
    "\n",
    "- If the line **i = int(s)** is run normally without errors (when the user enters an integer value), the program will print _**valid integer entered: and the value of i**_. \n",
    "\n",
    "\n",
    "\n",
    "- If the user entered something that is not an integer, the program will pass to the _except_ block and an error message will be printed. \n",
    "\n",
    "\n",
    "**Let's run the above code and see how it works**."
   ]
  },
  {
   "cell_type": "code",
   "execution_count": 12,
   "metadata": {},
   "outputs": [
    {
     "name": "stdout",
     "output_type": "stream",
     "text": [
      "enter an integer: 2.5\n",
      "invalid literal for int() with base 10: '2.5'\n"
     ]
    }
   ],
   "source": [
    "# variable s will save the value entered as a string\n",
    "s = input(\"enter an integer: \")\n",
    "\n",
    "# the try block\n",
    "try:\n",
    "    i = int(s)\n",
    "    print(\"valid integer entered:\", i)\n",
    "    \n",
    "# the except block\n",
    "except ValueError as err:\n",
    "    print(err)"
   ]
  },
  {
   "cell_type": "code",
   "execution_count": 22,
   "metadata": {},
   "outputs": [
    {
     "name": "stdout",
     "output_type": "stream",
     "text": [
      "enter an integer: 10\n",
      "valid integer entered: 10\n"
     ]
    }
   ],
   "source": [
    "# variable s will save the value entered as a string\n",
    "s = input(\"enter an integer: \")\n",
    "\n",
    "# the try block\n",
    "try:\n",
    "    i = int(s)\n",
    "    print(\"valid integer entered:\", i)\n",
    "    \n",
    "# the except block\n",
    "except ValueError as err:\n",
    "    print(err)"
   ]
  },
  {
   "cell_type": "markdown",
   "metadata": {},
   "source": [
    "## Piece 6: Arithmetic Operators\n",
    "\n",
    "Python provides full set of arithmatic operators, this includes:\n",
    "\n",
    " - **Binary operators** (four math operations) addition +, subtraction -, multiplication \\*, and division /. \n",
    " \n",
    " \n",
    " - The **augmented assignments** of these operators are += , -=, \\*=, /= (respectively). Augmented assignments are shorthand for assigning the results of an operation.\n",
    " \n",
    "Examples:"
   ]
  },
  {
   "cell_type": "code",
   "execution_count": 4,
   "metadata": {},
   "outputs": [
    {
     "data": {
      "text/plain": [
       "9"
      ]
     },
     "execution_count": 4,
     "metadata": {},
     "output_type": "execute_result"
    }
   ],
   "source": [
    "5+4"
   ]
  },
  {
   "cell_type": "code",
   "execution_count": 26,
   "metadata": {},
   "outputs": [
    {
     "data": {
      "text/plain": [
       "1"
      ]
     },
     "execution_count": 26,
     "metadata": {},
     "output_type": "execute_result"
    }
   ],
   "source": [
    "5-4"
   ]
  },
  {
   "cell_type": "markdown",
   "metadata": {},
   "source": [
    "The - sign can be used as a binary operator for subtraction as well as as a unary operator for negation (changing the sign of the operand)"
   ]
  },
  {
   "cell_type": "code",
   "execution_count": 27,
   "metadata": {},
   "outputs": [
    {
     "data": {
      "text/plain": [
       "-7"
      ]
     },
     "execution_count": 27,
     "metadata": {},
     "output_type": "execute_result"
    }
   ],
   "source": [
    "x = 7\n",
    "-x"
   ]
  },
  {
   "cell_type": "code",
   "execution_count": 6,
   "metadata": {},
   "outputs": [
    {
     "data": {
      "text/plain": [
       "20"
      ]
     },
     "execution_count": 6,
     "metadata": {},
     "output_type": "execute_result"
    }
   ],
   "source": [
    "5*4"
   ]
  },
  {
   "cell_type": "markdown",
   "metadata": {},
   "source": [
    "**Python is different from other programming languages when it comes to DIVISION**, let's see what we mean by that ..."
   ]
  },
  {
   "cell_type": "code",
   "execution_count": 7,
   "metadata": {},
   "outputs": [
    {
     "data": {
      "text/plain": [
       "1.25"
      ]
     },
     "execution_count": 7,
     "metadata": {},
     "output_type": "execute_result"
    }
   ],
   "source": [
    "5/4"
   ]
  },
  {
   "cell_type": "markdown",
   "metadata": {},
   "source": [
    "In Python 3, **the division operator produces a floating-point value, _not an integer_**. Other languages will produce an integer by truncating the fractional part.\n",
    "\n",
    "If you want to produce an integer, you have to use the int() function or the truncating operator (will be discussed later)."
   ]
  },
  {
   "cell_type": "code",
   "execution_count": 8,
   "metadata": {},
   "outputs": [
    {
     "data": {
      "text/plain": [
       "1"
      ]
     },
     "execution_count": 8,
     "metadata": {},
     "output_type": "execute_result"
    }
   ],
   "source": [
    "int(5/4)"
   ]
  },
  {
   "cell_type": "markdown",
   "metadata": {},
   "source": [
    "**Let's see some augmented assignment**:"
   ]
  },
  {
   "cell_type": "code",
   "execution_count": 9,
   "metadata": {},
   "outputs": [
    {
     "data": {
      "text/plain": [
       "6"
      ]
     },
     "execution_count": 9,
     "metadata": {},
     "output_type": "execute_result"
    }
   ],
   "source": [
    "x = 2\n",
    "x += 4  # same as x = x + 4\n",
    "x"
   ]
  },
  {
   "cell_type": "code",
   "execution_count": 2,
   "metadata": {},
   "outputs": [
    {
     "data": {
      "text/plain": [
       "8"
      ]
     },
     "execution_count": 2,
     "metadata": {},
     "output_type": "execute_result"
    }
   ],
   "source": [
    "a = 2\n",
    "a *= 4   # same as a = a * 4\n",
    "a"
   ]
  },
  {
   "cell_type": "markdown",
   "metadata": {},
   "source": [
    "## Piece 7: Input/Output\n",
    "\n",
    "Many useful programs must be able to read user input from the keyboard or from files and write the output to the screen or files.\n",
    "\n",
    "In this section, we will talk about the console Input/Output (I/O for short) which is reading data from the keyboard (the standard input) and printing data to the screen (the standard output). We will leave reading and writing files for later.\n",
    "\n",
    "If you want to read and write to the console, you can use the input() and print() functions"
   ]
  },
  {
   "cell_type": "code",
   "execution_count": 3,
   "metadata": {},
   "outputs": [
    {
     "name": "stdout",
     "output_type": "stream",
     "text": [
      "Enter an integer: 14\n",
      "You have enetered:  14\n"
     ]
    }
   ],
   "source": [
    "i = input(\"Enter an integer: \")\n",
    "print(\"You have enetered: \", i)"
   ]
  },
  {
   "cell_type": "markdown",
   "metadata": {},
   "source": [
    "Reading and writing files involves using a function called **_open()_** to open a file and read information from it or write information to it. The open function returns an object called **_file object_**. \n",
    "\n",
    "We will fully cover how to read from files and write to files in the section \"Input/Output (I/O) in Python\"."
   ]
  },
  {
   "cell_type": "markdown",
   "metadata": {},
   "source": [
    "## Piece 8: Creating and Calling Functions\n",
    "\n",
    "You can write good programs using the data types and control structures that we have covered in the previous pieces. However, sometimes we need to do (or call) a piece of code repeatedly. But each time we call this code, we give a different starting value to get different result.\n",
    "\n",
    "**The general syntax for creating functions is**:\n",
    "\n",
    "                    def functionName(parameters):\n",
    "                        block \n",
    "                        \n",
    "To create a function in Python, you need the following parts:\n",
    "\n",
    "- Start with the keyword **_def_**.\n",
    "\n",
    "\n",
    "- Then choose a **name** for the function (make it meaningful).\n",
    "\n",
    "\n",
    "- The parameters are the information you need to pass to the function. Parameters are **optional**. If you have multiple parameters, separate them by comma **,** inside the parentheses **( )**, then write a colon **:**\n",
    "\n",
    "\n",
    "- The function body which is the **block** in the above syntax is basically one or more statements that will do the function task.\n",
    "\n",
    "\n",
    "- The function should return a value, the default value is \"_None_\". Decide what the function supposed to return after completing its task using the **_return_** statement.\n",
    "\n",
    "\n",
    "Let's take a very simple function:"
   ]
  },
  {
   "cell_type": "code",
   "execution_count": 18,
   "metadata": {
    "scrolled": false
   },
   "outputs": [
    {
     "name": "stdout",
     "output_type": "stream",
     "text": [
      "10\n",
      "20\n"
     ]
    }
   ],
   "source": [
    "def product(x, y):   # x and y are the function parameters\n",
    "    return x * y\n",
    "\n",
    "# here are some function calls\n",
    "print(product(2, 5))  # 2 and 5 are called arguments\n",
    "print(product(4, 5))  # 4 and 5 are called arguments"
   ]
  },
  {
   "cell_type": "markdown",
   "metadata": {},
   "source": [
    "The above function _**product**_ takes the argument _x_ and _y_. What this function does is that it mutliplies the value of _x_ and _y_ and return the multiplication result (product). In the above example we called the function product two times and printed the results. The first call is product(2, 5) which returned 10 and the second is product(4, 5) which returned 20.\n",
    "\n",
    "**Genaral note**: Fuctions are used mainly in two situations: 1) when the same code (task) needs to be reused number of times and 2) when we have a big problem and split it into mutiple subproblems, each subproblem will be solved by a single function. "
   ]
  },
  {
   "cell_type": "markdown",
   "metadata": {},
   "source": [
    "## Great!\n",
    "\n",
    "### You have learned the core of Python and you are ready now to explore these topics in more details. See you in the next lectures!"
   ]
  },
  {
   "cell_type": "code",
   "execution_count": null,
   "metadata": {},
   "outputs": [],
   "source": []
  }
 ],
 "metadata": {
  "kernelspec": {
   "display_name": "Python 3",
   "language": "python",
   "name": "python3"
  },
  "language_info": {
   "codemirror_mode": {
    "name": "ipython",
    "version": 3
   },
   "file_extension": ".py",
   "mimetype": "text/x-python",
   "name": "python",
   "nbconvert_exporter": "python",
   "pygments_lexer": "ipython3",
   "version": "3.6.5"
  }
 },
 "nbformat": 4,
 "nbformat_minor": 2
}
