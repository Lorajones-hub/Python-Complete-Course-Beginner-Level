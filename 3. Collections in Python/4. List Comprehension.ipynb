{
 "cells": [
  {
   "cell_type": "markdown",
   "metadata": {},
   "source": [
    "# List comprehension\n",
    "\n",
    "You have learned earlier that lists can be created by using a comma-separated sequence of items inside brackets [ ]. This is good for small lists but for large lists let the program creates the list for you using list comprehension. In this lecture you will learn:\n",
    "\n",
    "- **What is list comprehension**\n",
    "- **How to use list comprehension to create large lists**\n",
    "\n",
    "## What is a list comprehension ?\n",
    "\n",
    "A **_list comprehension_** is an expression and a loop with an optional condition enclosed in brackets [ ]. \n",
    "\n",
    "<img src=\"..\\img\\list-comp.png\", height=\"450\", width=\"450\">\n",
    "\n",
    "**The second synatx is equivalent to**:\n",
    "\n",
    "<img src=\"..\\img\\list-comp1.png\", height=\"350\", width=\"350\">\n",
    "\n",
    "### How does it work ?\n",
    "\n",
    "**step 1**) The loop is used to generate items for the list. <br>\n",
    "**step 2**) The expression will be applied on the generated list in step 1. <br>\n",
    "**step 3**) The condition can filter out (remove) unwanted items.\n",
    "\n",
    "## Example 1:"
   ]
  },
  {
   "cell_type": "code",
   "execution_count": 6,
   "metadata": {},
   "outputs": [
    {
     "data": {
      "text/plain": [
       "[0, 1, 4, 9, 16, 25, 36, 49, 64, 81]"
      ]
     },
     "execution_count": 6,
     "metadata": {},
     "output_type": "execute_result"
    }
   ],
   "source": [
    "list1 = [x**2 for x in range(10)]\n",
    "list1"
   ]
  },
  {
   "cell_type": "markdown",
   "metadata": {},
   "source": [
    "In this example:\n",
    "- The expression is _**x\\*\\*2**_ (x raised to the power of 2)\n",
    "- The loop is _**for x in range(10)**_\n",
    "- There is no condition\n",
    "\n",
    "The _for_ loop will generate a list of integers from 0 to 9 [0, 1, 2, 3, 4, 5, 6, 7, 8, 9], the expression will raise each of these numbers to the power of 2 which gave the above output. The final items will be stored in list1.\n",
    "\n",
    "Let's have another example with a condition\n",
    "\n",
    "## Example 2:"
   ]
  },
  {
   "cell_type": "code",
   "execution_count": 7,
   "metadata": {},
   "outputs": [
    {
     "data": {
      "text/plain": [
       "[0, 4, 16, 36, 64]"
      ]
     },
     "execution_count": 7,
     "metadata": {},
     "output_type": "execute_result"
    }
   ],
   "source": [
    "# list2 will take all the numbers in list1 that are even\n",
    "list2 = [x for x in list1 if x % 2 == 0]\n",
    "list2"
   ]
  },
  {
   "cell_type": "markdown",
   "metadata": {},
   "source": [
    "## Example 3:\n",
    "\n",
    "How to iterate over a string using list comprehension."
   ]
  },
  {
   "cell_type": "code",
   "execution_count": 8,
   "metadata": {},
   "outputs": [
    {
     "data": {
      "text/plain": [
       "['P', 'y', 't', 'h', 'o', 'n']"
      ]
     },
     "execution_count": 8,
     "metadata": {},
     "output_type": "execute_result"
    }
   ],
   "source": [
    "letters = [h for h in \"Python\"]\n",
    "letters"
   ]
  },
  {
   "cell_type": "markdown",
   "metadata": {},
   "source": [
    "## Great\n",
    "\n",
    "### Next you will learn how to do list comparisons and call list methods."
   ]
  }
 ],
 "metadata": {
  "kernelspec": {
   "display_name": "Python 3",
   "language": "python",
   "name": "python3"
  },
  "language_info": {
   "codemirror_mode": {
    "name": "ipython",
    "version": 3
   },
   "file_extension": ".py",
   "mimetype": "text/x-python",
   "name": "python",
   "nbconvert_exporter": "python",
   "pygments_lexer": "ipython3",
   "version": "3.6.5"
  }
 },
 "nbformat": 4,
 "nbformat_minor": 2
}
