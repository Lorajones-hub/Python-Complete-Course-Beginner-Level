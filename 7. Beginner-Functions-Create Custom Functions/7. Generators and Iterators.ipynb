{
 "cells": [
  {
   "cell_type": "markdown",
   "metadata": {},
   "source": [
    "# Introduction\n",
    "\n",
    "In this lesson, we will discuss Python generators which are a simple a way of creating iterators. You will learn:\n",
    "\n",
    " - **A generator is a function** \n",
    " \n",
    " \n",
    " - **It is a normal function except it contains a yield statement**\n",
    " \n",
    " \n",
    " - **A generator returns an object (iterator)** \n",
    " \n",
    " \n",
    " - **The iterator is used to iterate over (one value at a time)**\n",
    " \n",
    "Let's first remember what is an iteration.\n",
    "\n",
    "## Iteration review\n",
    "\n",
    "As you know, Python has a **for** statement to iterate over a collection of items.\n"
   ]
  },
  {
   "cell_type": "code",
   "execution_count": 1,
   "metadata": {},
   "outputs": [
    {
     "name": "stdout",
     "output_type": "stream",
     "text": [
      "2\n",
      "4\n",
      "5\n",
      "10\n"
     ]
    }
   ],
   "source": [
    "for i in [2,4,5,10]:\n",
    "    print(i)"
   ]
  },
  {
   "cell_type": "markdown",
   "metadata": {},
   "source": [
    "You also know that you can iterate over many different kinds of objects such as strings, tuples, and dictionaries, not just lists. \n",
    "\n",
    "**Example**:\n",
    "\n",
    "When iterating over a dictionary, we get the keys:"
   ]
  },
  {
   "cell_type": "code",
   "execution_count": 1,
   "metadata": {},
   "outputs": [
    {
     "name": "stdout",
     "output_type": "stream",
     "text": [
      "Iterate over a dictionary\n",
      "John\n",
      "Sarah\n",
      "Alen\n",
      "\n",
      "Iterate over a string\n",
      "W\n",
      "o\n",
      "w\n",
      "!\n"
     ]
    }
   ],
   "source": [
    "dict1 = {'John': 111111, 'Sarah': 222222, 'Alen': 333333}\n",
    "\n",
    "print(\"Iterate over a dictionary\")\n",
    "for k in dict1:\n",
    "    print(k)\n",
    "\n",
    "print(\"\\nIterate over a string\")    \n",
    "s = 'Wow!'\n",
    "for c in s:\n",
    "    print(c)"
   ]
  },
  {
   "cell_type": "markdown",
   "metadata": {},
   "source": [
    "If you iterate over a file, you get the lines. Try out the following code to iterate over any of your files to get its lines."
   ]
  },
  {
   "cell_type": "code",
   "execution_count": null,
   "metadata": {},
   "outputs": [],
   "source": [
    "for line in open(\"your_file.txt\"):\n",
    "    print(line)"
   ]
  },
  {
   "cell_type": "markdown",
   "metadata": {},
   "source": [
    "### Iteration protocol\n",
    "\n",
    "Python allows us to iterate over different objects because there is a specific **iteration protocol**.\n",
    "\n",
    "In the following example, we will use **iter()** method that returns an iterator for the given object, in other words it creates an object which can be iterated over one element at a time."
   ]
  },
  {
   "cell_type": "code",
   "execution_count": 24,
   "metadata": {},
   "outputs": [
    {
     "name": "stdout",
     "output_type": "stream",
     "text": [
      "a\n",
      "e\n",
      "i\n",
      "o\n",
      "u\n"
     ]
    }
   ],
   "source": [
    "vowels = ['a', 'e', 'i', 'o', 'u']\n",
    "it = iter(vowels)\n",
    "print(next(it))\n",
    "print(next(it))\n",
    "print(next(it))\n",
    "print(next(it))\n",
    "print(next(it))"
   ]
  },
  {
   "cell_type": "code",
   "execution_count": 8,
   "metadata": {},
   "outputs": [
    {
     "ename": "StopIteration",
     "evalue": "",
     "output_type": "error",
     "traceback": [
      "\u001b[1;31m---------------------------------------------------------------------------\u001b[0m",
      "\u001b[1;31mStopIteration\u001b[0m                             Traceback (most recent call last)",
      "\u001b[1;32m<ipython-input-8-4d0222393be1>\u001b[0m in \u001b[0;36m<module>\u001b[1;34m()\u001b[0m\n\u001b[1;32m----> 1\u001b[1;33m \u001b[0mprint\u001b[0m\u001b[1;33m(\u001b[0m\u001b[0mnext\u001b[0m\u001b[1;33m(\u001b[0m\u001b[0mit\u001b[0m\u001b[1;33m)\u001b[0m\u001b[1;33m)\u001b[0m\u001b[1;33m\u001b[0m\u001b[0m\n\u001b[0m",
      "\u001b[1;31mStopIteration\u001b[0m: "
     ]
    }
   ],
   "source": [
    "print(next(it))"
   ]
  },
  {
   "cell_type": "markdown",
   "metadata": {},
   "source": [
    "Each time we call the next method on the iterator gives us the next element. If there are no more elements, it raises a **StopIteration**.\n",
    "\n",
    "To illustrate the idea further, take an inside look at this for statement:"
   ]
  },
  {
   "cell_type": "code",
   "execution_count": null,
   "metadata": {},
   "outputs": [],
   "source": [
    "for x in object:\n",
    "    # some statements"
   ]
  },
  {
   "cell_type": "markdown",
   "metadata": {},
   "source": [
    "In the background, the above for statement translated into this:"
   ]
  },
  {
   "cell_type": "code",
   "execution_count": null,
   "metadata": {},
   "outputs": [],
   "source": [
    "_iter = obj.__iter__()    # get iterator object\n",
    "while 1:   # while True\n",
    "    try:\n",
    "        x = next(_iter)   # get next item\n",
    "    except:\n",
    "        break\n",
    "    # other statements"
   ]
  },
  {
   "cell_type": "markdown",
   "metadata": {},
   "source": [
    "The \\_\\_iter\\_\\_ method is what makes an object \"iterable\". Behind the scenes, the iter() function calls \\_\\_iter\\_\\_ method on the given object.\n",
    "\n",
    "The return value of \\_\\_iter\\_\\_ is an iterator. It should have a next() method and raise StopIteration when there are no more elements.\n",
    "\n",
    "#### Any object that implements such a programming technique is said to be \"**iterable**\"."
   ]
  },
  {
   "cell_type": "code",
   "execution_count": 13,
   "metadata": {},
   "outputs": [
    {
     "name": "stdout",
     "output_type": "stream",
     "text": [
      "a\n",
      "e\n",
      "i\n",
      "o\n",
      "u\n"
     ]
    }
   ],
   "source": [
    "vowels = ['a', 'e', 'i', 'o', 'u']\n",
    "\n",
    "_iter = vowels.__iter__()    # get iterator object\n",
    "while 1:   # while True\n",
    "    try:\n",
    "        x = next(_iter)   # get next item\n",
    "        print(x)\n",
    "    except:\n",
    "        break\n",
    "    # other statements"
   ]
  },
  {
   "cell_type": "markdown",
   "metadata": {},
   "source": [
    "So far we have learned that an **iterator can give us one item at a time**, is there a way to get a sequence of items ? the answer is YES and this is the role of generators in Python."
   ]
  },
  {
   "cell_type": "markdown",
   "metadata": {},
   "source": [
    "## Generators\n",
    "\n",
    "Generators simplifies creation of iterators. A generator is a function that **produces a sequence of results instead of a single value**. It appears very much similar to a normal function, the only difference is the use of **yield** statement inside it.\n",
    "\n",
    "Let's define a generator function called **countdown()** that will generate a series of values using the **yield** statement, instead of returning only a single value.\n"
   ]
  },
  {
   "cell_type": "code",
   "execution_count": 14,
   "metadata": {},
   "outputs": [],
   "source": [
    "def countdown(n):\n",
    "    while n > 0:\n",
    "        yield n\n",
    "        n -= 1  "
   ]
  },
  {
   "cell_type": "markdown",
   "metadata": {},
   "source": [
    "#### Each time the yield statement is executed the function generates a new value."
   ]
  },
  {
   "cell_type": "code",
   "execution_count": 26,
   "metadata": {},
   "outputs": [
    {
     "data": {
      "text/plain": [
       "<generator object countdown at 0x016A1DE0>"
      ]
     },
     "execution_count": 26,
     "metadata": {},
     "output_type": "execute_result"
    }
   ],
   "source": [
    "c = countdown(10)\n",
    "c  # c is a generator object, c is iterable"
   ]
  },
  {
   "cell_type": "markdown",
   "metadata": {},
   "source": [
    "When you call this generator function, you basically create an object that supports the iteration protocol. So, you can iterate over the sequence of results generated by this generator. \n",
    "\n",
    "**NOTE**: A generator is also an iterator. You don’t have to worry about the iterator protocol.\n",
    "\n",
    "Let's see how to do that:"
   ]
  },
  {
   "cell_type": "code",
   "execution_count": 16,
   "metadata": {},
   "outputs": [
    {
     "name": "stdout",
     "output_type": "stream",
     "text": [
      "10\n",
      "9\n",
      "8\n",
      "7\n",
      "6\n",
      "5\n",
      "4\n",
      "3\n",
      "2\n",
      "1\n"
     ]
    }
   ],
   "source": [
    "for x in countdown(10): \n",
    "    print(x)"
   ]
  },
  {
   "cell_type": "markdown",
   "metadata": {},
   "source": [
    "Notice that the values are generated as we go along, they are not saved in a any Python structure, such as a list. Generators do not keep track of every single value, in fact it cares only about the last value . Generators are ideal for large sets of results where there is no need to allocate memory to all the items."
   ]
  },
  {
   "cell_type": "markdown",
   "metadata": {},
   "source": [
    "The term **generator** is confusingly used to mean both the function that generates and what it generates. \n",
    "\n",
    "- **generator**: means the generated object and \n",
    "- **generator function**: means the function that generates it\n",
    "\n",
    "Can you think about how it is working internally?\n",
    "\n",
    "When a generator function is called, it returns a generator object without even beginning execution of the function. When next method is called for the first time, the function starts executing until it reaches yield statement which suspends the function. Then  the unction resumes on next call to next()  where the yielded value is returned\n",
    "\n",
    "The following example demonstrates the interplay between yield and call to next method on generator object."
   ]
  },
  {
   "cell_type": "code",
   "execution_count": 38,
   "metadata": {},
   "outputs": [
    {
     "name": "stdout",
     "output_type": "stream",
     "text": [
      "begin\n",
      "before yield 0\n",
      "0\n"
     ]
    }
   ],
   "source": [
    "def foo():\n",
    "    print(\"begin\")\n",
    "    for i in range(3):\n",
    "        print(\"before yield\", i)\n",
    "        yield i\n",
    "        print(\"after yield\", i)\n",
    "    print(\"end\")\n",
    "\n",
    "f = foo()\n",
    "print(next(f))"
   ]
  },
  {
   "cell_type": "code",
   "execution_count": 39,
   "metadata": {},
   "outputs": [
    {
     "name": "stdout",
     "output_type": "stream",
     "text": [
      "after yield 0\n",
      "before yield 1\n",
      "1\n"
     ]
    }
   ],
   "source": [
    "print(next(f))"
   ]
  },
  {
   "cell_type": "code",
   "execution_count": 40,
   "metadata": {},
   "outputs": [
    {
     "name": "stdout",
     "output_type": "stream",
     "text": [
      "after yield 1\n",
      "before yield 2\n",
      "2\n"
     ]
    }
   ],
   "source": [
    "print(next(f))"
   ]
  },
  {
   "cell_type": "code",
   "execution_count": 41,
   "metadata": {},
   "outputs": [
    {
     "name": "stdout",
     "output_type": "stream",
     "text": [
      "after yield 2\n",
      "end\n"
     ]
    },
    {
     "ename": "StopIteration",
     "evalue": "",
     "output_type": "error",
     "traceback": [
      "\u001b[1;31m---------------------------------------------------------------------------\u001b[0m",
      "\u001b[1;31mStopIteration\u001b[0m                             Traceback (most recent call last)",
      "\u001b[1;32m<ipython-input-41-476d6081df2c>\u001b[0m in \u001b[0;36m<module>\u001b[1;34m()\u001b[0m\n\u001b[1;32m----> 1\u001b[1;33m \u001b[0mprint\u001b[0m\u001b[1;33m(\u001b[0m\u001b[0mnext\u001b[0m\u001b[1;33m(\u001b[0m\u001b[0mf\u001b[0m\u001b[1;33m)\u001b[0m\u001b[1;33m)\u001b[0m\u001b[1;33m\u001b[0m\u001b[0m\n\u001b[0m",
      "\u001b[1;31mStopIteration\u001b[0m: "
     ]
    }
   ],
   "source": [
    "print(next(f))"
   ]
  },
  {
   "cell_type": "markdown",
   "metadata": {},
   "source": [
    "## Iterator as argument\n",
    "\n",
    "Many built-in functions accept iterators as arguments such as list(), dict(), tuple(), sum(), min(), max()."
   ]
  },
  {
   "cell_type": "code",
   "execution_count": 44,
   "metadata": {},
   "outputs": [
    {
     "data": {
      "text/plain": [
       "[10, 9, 8, 7, 6, 5, 4, 3, 2, 1]"
      ]
     },
     "execution_count": 44,
     "metadata": {},
     "output_type": "execute_result"
    }
   ],
   "source": [
    "def countdown(n):\n",
    "    while n > 0:\n",
    "        yield n\n",
    "        n -= 1 \n",
    "        \n",
    "c = countdown(10)\n",
    "list(c)"
   ]
  },
  {
   "cell_type": "markdown",
   "metadata": {},
   "source": [
    "A generator function is slightly different than an object that supports iteration:\n",
    "\n",
    "\n",
    " -  A generator is a **one-time operation**. You can iterate over the generated data once, but if you want to do it again, you have to call the generator function again.\n",
    " \n",
    " \n",
    "- This is different than a list (which you can iterate over as many times as you want)\n",
    "\n",
    "Form the above example, c is the iterator object. If you want to call sum() on this object, you'll get the wrong result."
   ]
  },
  {
   "cell_type": "code",
   "execution_count": 47,
   "metadata": {},
   "outputs": [
    {
     "data": {
      "text/plain": [
       "0"
      ]
     },
     "execution_count": 47,
     "metadata": {},
     "output_type": "execute_result"
    }
   ],
   "source": [
    "sum(c)"
   ]
  },
  {
   "cell_type": "code",
   "execution_count": null,
   "metadata": {},
   "outputs": [],
   "source": [
    "So you should to call the generator function again."
   ]
  },
  {
   "cell_type": "code",
   "execution_count": 49,
   "metadata": {},
   "outputs": [
    {
     "data": {
      "text/plain": [
       "55"
      ]
     },
     "execution_count": 49,
     "metadata": {},
     "output_type": "execute_result"
    }
   ],
   "source": [
    "c = countdown(10)\n",
    "\n",
    "# calculate the sum of all generated values\n",
    "sum(c)"
   ]
  },
  {
   "cell_type": "code",
   "execution_count": 50,
   "metadata": {},
   "outputs": [
    {
     "data": {
      "text/plain": [
       "1"
      ]
     },
     "execution_count": 50,
     "metadata": {},
     "output_type": "execute_result"
    }
   ],
   "source": [
    "c = countdown(10)\n",
    "\n",
    "# find the minimum of generated values\n",
    "min(c)"
   ]
  },
  {
   "cell_type": "markdown",
   "metadata": {},
   "source": [
    "## Generator expressions\n",
    "\n",
    "Generator Expressions are generator version of list comprehensions. They look like list comprehensions, but returns a generator back instead of a list.\n"
   ]
  },
  {
   "cell_type": "code",
   "execution_count": 35,
   "metadata": {},
   "outputs": [
    {
     "name": "stdout",
     "output_type": "stream",
     "text": [
      "0\n",
      "1\n",
      "4\n",
      "9\n",
      "16\n",
      "25\n",
      "36\n",
      "49\n",
      "64\n",
      "81\n"
     ]
    }
   ],
   "source": [
    "a = (x*x for x in range(10))\n",
    "for i in a:\n",
    "    print(i)"
   ]
  },
  {
   "cell_type": "markdown",
   "metadata": {},
   "source": [
    "We can use the generator expressions as arguments to various functions that consume iterators, such as sum().\n"
   ]
  },
  {
   "cell_type": "code",
   "execution_count": 37,
   "metadata": {},
   "outputs": [
    {
     "data": {
      "text/plain": [
       "285"
      ]
     },
     "execution_count": 37,
     "metadata": {},
     "output_type": "execute_result"
    }
   ],
   "source": [
    "a = (x*x for x in range(10))\n",
    "sum(a)"
   ]
  },
  {
   "cell_type": "markdown",
   "metadata": {},
   "source": [
    "## Itertools\n",
    "\n",
    "The itertools module in the standard library provides lot of interesting tools to work with iterators.\n",
    "\n",
    "Lets look at some of the interesting functions.\n",
    "\n",
    "### 1. chain \n",
    "\n",
    "Make an iterator that returns elements from the first iterable until it is exhausted, then proceeds to the next iterable, until all of the iterables are exhausted. Used for treating consecutive sequences as a single sequence."
   ]
  },
  {
   "cell_type": "code",
   "execution_count": 63,
   "metadata": {},
   "outputs": [
    {
     "name": "stdout",
     "output_type": "stream",
     "text": [
      "<itertools.chain object at 0x01667CB0>\n"
     ]
    }
   ],
   "source": [
    "import itertools\n",
    "\n",
    "# define 2 iterators\n",
    "it1 = iter([1, 2, 3])\n",
    "it2 = iter([4, 5, 6])\n",
    "\n",
    "# chain the 2 iterators\n",
    "c = itertools.chain(it1, it2)\n",
    "print(c)"
   ]
  },
  {
   "cell_type": "markdown",
   "metadata": {},
   "source": [
    "### 2. product\n",
    "\n",
    "Roughly equivalent to nested for-loops in a generator expression. For example, product(A, B) returns the same as ((x,y) for x in A for y in B)."
   ]
  },
  {
   "cell_type": "code",
   "execution_count": 64,
   "metadata": {},
   "outputs": [
    {
     "name": "stdout",
     "output_type": "stream",
     "text": [
      "a 1\n",
      "a 2\n",
      "a 3\n",
      "b 1\n",
      "b 2\n",
      "b 3\n",
      "c 1\n",
      "c 2\n",
      "c 3\n"
     ]
    }
   ],
   "source": [
    "for x, y in itertools.product([\"a\", \"b\", \"c\"], [1, 2, 3]):\n",
    "    print(x, y)"
   ]
  },
  {
   "cell_type": "markdown",
   "metadata": {},
   "source": [
    "### 3. zip_longest\n",
    "\n",
    "Iterable version of zip. Make an iterator that aggregates elements from each of the iterables. If the iterables are of uneven length, missing values are filled-in with fillvalue. Iteration continues until the longest iterable is exhausted. "
   ]
  },
  {
   "cell_type": "code",
   "execution_count": 62,
   "metadata": {},
   "outputs": [
    {
     "name": "stdout",
     "output_type": "stream",
     "text": [
      "a 1\n",
      "b 2\n",
      "c 3\n"
     ]
    }
   ],
   "source": [
    "for x, y in itertools.zip_longest([\"a\", \"b\", \"c\"], [1, 2, 3]):\n",
    "    print(x, y)"
   ]
  },
  {
   "cell_type": "markdown",
   "metadata": {},
   "source": [
    "#### We have covered most of the essential parts of iterators and generators but not every possible use of them. For more details, you can consult the: \n",
    "\n",
    "[Generator tricks](http://www.dabeaz.com/generators-uk/)\n",
    "\n",
    "[Python documentation](https://docs.python.org/3/howto/functional.html)."
   ]
  },
  {
   "cell_type": "code",
   "execution_count": null,
   "metadata": {},
   "outputs": [],
   "source": [
    "hhhhh              "
   ]
  }
 ],
 "metadata": {
  "kernelspec": {
   "display_name": "Python 3",
   "language": "python",
   "name": "python3"
  },
  "language_info": {
   "codemirror_mode": {
    "name": "ipython",
    "version": 3
   },
   "file_extension": ".py",
   "mimetype": "text/x-python",
   "name": "python",
   "nbconvert_exporter": "python",
   "pygments_lexer": "ipython3",
   "version": "3.6.5"
  }
 },
 "nbformat": 4,
 "nbformat_minor": 2
}
