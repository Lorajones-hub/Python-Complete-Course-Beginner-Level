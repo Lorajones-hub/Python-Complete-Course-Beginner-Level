{
 "cells": [
  {
   "cell_type": "markdown",
   "metadata": {},
   "source": [
    "# Integral Data Types in Python\n",
    "\n",
    "Python provides two integral data types, **integers** and **booleans**. In this lecture you will learn:\n",
    "\n",
    "  - **What are integers in Python**\n",
    "  - **Numeric operators and functions used with integers**\n",
    "  - **The results types of the numeric operators and functions**\n",
    "  - **The order of arithmetic operations**\n",
    "  - **Boolean data types and their values**\n",
    "  \n",
    "## 1. Integers\n",
    "\n",
    "An integer, or a number of type _int_ is a **_whole number_**. It can be positive, negative, or zero. So the numbers 2, 9, 23 are integers while 3.14, 0.00001, and even 3.0 are not integers as all of them have a floating point.\n",
    "\n",
    "It is important to mention that the size of Python's integers is limited only by machine memory, not by a fixed number of bytes. For example we can represent the the number 5708990770823839524233143877797980545530986496 in Python which is basically $2^{152}$.\n",
    "\n",
    "### Numeric operators and functions\n",
    "\n",
    "<p align=\"center\"> Table 1: Numeric operators and functions </p>                         \n",
    "           \n",
    "|<p align=\"left\"> Syntax </p> |  <p align=\"left\"> Description </p>                                  |\n",
    "|-----------|---------------------------------------------------------------------------------------|\n",
    "|   x + y   |<p align=\"left\">Adds number x and number y</p>                                         |\n",
    "|   x - y   |<p align=\"left\">Subtracts y form x </p>                                                |\n",
    "|   x * y   |<p align=\"left\">Multiplies x by y </p>                                                 |\n",
    "|   x / y   |<p align=\"left\">Divides x by y; always produces a float</p>|\n",
    "|   x // y  |<p align=\"left\">Divides x by y; truncates any fractional part and produces int result;<br> see also the round() function</p>| \n",
    "|   x % y   |<p align=\"left\">Produces the modulus (reminder) of dividing x by y</p>|\n",
    "|   x ** y  |<p align=\"left\">Raises x to the power of y; see also the pow() function</p>|\n",
    "|   -x      |<p align=\"left\">Negates x; changes the x’s sign if nonzero, does nothing if x is    zero</p>|\n",
    "|   +x      |<p align=\"left\">Does nothing, used sometimes to just clarify the code</p>|\n",
    "|  abs(x)   |<p align=\"left\">Returns the absolute value of x. Whether x is positive or negative number,<br> this methods returns the non-negative (positive) value of x</p>|\n",
    "|   divmod(x, y)|<p align=\"left\">Returns the quotient and the remainder of dividing x by y as a tuple of two integers</p>|\n",
    "| pow(x, y) |<p align=\"left\">Raises x to the power of y; same as ** operator</p>|\n",
    "|pow(x, y, z)|<p align=\"left\">A faster alternative to (x ** y) % z</p>|\n"
   ]
  },
  {
   "cell_type": "code",
   "execution_count": 1,
   "metadata": {},
   "outputs": [
    {
     "data": {
      "text/plain": [
       "8"
      ]
     },
     "execution_count": 1,
     "metadata": {},
     "output_type": "execute_result"
    }
   ],
   "source": [
    "x = 2\n",
    "y = 6\n",
    "x+y  # adds x and y, you can write print(x+y) to see the output"
   ]
  },
  {
   "cell_type": "code",
   "execution_count": 40,
   "metadata": {},
   "outputs": [
    {
     "name": "stdout",
     "output_type": "stream",
     "text": [
      "-4\n"
     ]
    }
   ],
   "source": [
    "x = 2\n",
    "y = 6\n",
    "x-y  # subtracts y from x, you can write print(x-y) to see the output"
   ]
  },
  {
   "cell_type": "code",
   "execution_count": 2,
   "metadata": {},
   "outputs": [
    {
     "data": {
      "text/plain": [
       "12"
      ]
     },
     "execution_count": 2,
     "metadata": {},
     "output_type": "execute_result"
    }
   ],
   "source": [
    "x = 2\n",
    "y = 6\n",
    "x*y    # multiplies x and y"
   ]
  },
  {
   "cell_type": "code",
   "execution_count": 42,
   "metadata": {},
   "outputs": [
    {
     "name": "stdout",
     "output_type": "stream",
     "text": [
      "0.3333333333333333\n"
     ]
    }
   ],
   "source": [
    "x = 2\n",
    "y = 6\n",
    "x/y   # divides x by y, the result is a float"
   ]
  },
  {
   "cell_type": "code",
   "execution_count": 43,
   "metadata": {},
   "outputs": [
    {
     "name": "stdout",
     "output_type": "stream",
     "text": [
      "0\n"
     ]
    }
   ],
   "source": [
    "x = 2\n",
    "y = 6\n",
    "x//y  # divides x by y, result is int (no fractional part)"
   ]
  },
  {
   "cell_type": "code",
   "execution_count": 44,
   "metadata": {},
   "outputs": [
    {
     "name": "stdout",
     "output_type": "stream",
     "text": [
      "2\n"
     ]
    }
   ],
   "source": [
    "x = 17\n",
    "y = 3\n",
    "x%y   # calculates the remainder of x divided by y"
   ]
  },
  {
   "cell_type": "code",
   "execution_count": 45,
   "metadata": {},
   "outputs": [
    {
     "name": "stdout",
     "output_type": "stream",
     "text": [
      "8\n"
     ]
    }
   ],
   "source": [
    "x = 2\n",
    "y = 3\n",
    "x**y     # raises x to the power of y, same as pow(x, y)"
   ]
  },
  {
   "cell_type": "code",
   "execution_count": 3,
   "metadata": {},
   "outputs": [
    {
     "data": {
      "text/plain": [
       "8"
      ]
     },
     "execution_count": 3,
     "metadata": {},
     "output_type": "execute_result"
    }
   ],
   "source": [
    "x = 2\n",
    "y = 3\n",
    "pow(x, y) # raises x to the power of y, same as x**y"
   ]
  },
  {
   "cell_type": "code",
   "execution_count": 9,
   "metadata": {},
   "outputs": [
    {
     "data": {
      "text/plain": [
       "3"
      ]
     },
     "execution_count": 9,
     "metadata": {},
     "output_type": "execute_result"
    }
   ],
   "source": [
    "x = 2\n",
    "y = 3\n",
    "z = 5\n",
    "pow(x,y,z)  # raises x to the power of y then returns   (x ** y) % z"
   ]
  },
  {
   "cell_type": "code",
   "execution_count": 1,
   "metadata": {},
   "outputs": [
    {
     "data": {
      "text/plain": [
       "-5"
      ]
     },
     "execution_count": 1,
     "metadata": {},
     "output_type": "execute_result"
    }
   ],
   "source": [
    "# changes the sign of x\n",
    "#if x is a positive number it will make it a negative number\n",
    "x = 5\n",
    "-x"
   ]
  },
  {
   "cell_type": "code",
   "execution_count": 2,
   "metadata": {},
   "outputs": [
    {
     "data": {
      "text/plain": [
       "10"
      ]
     },
     "execution_count": 2,
     "metadata": {},
     "output_type": "execute_result"
    }
   ],
   "source": [
    "# changes the sign of x\n",
    "#if x is a positive number it will make it a negative number\n",
    "x = -10\n",
    "-x     "
   ]
  },
  {
   "cell_type": "code",
   "execution_count": 48,
   "metadata": {},
   "outputs": [
    {
     "name": "stdout",
     "output_type": "stream",
     "text": [
      "15\n"
     ]
    }
   ],
   "source": [
    "x = -15\n",
    "abs(x)   # returns the absolute value of x"
   ]
  },
  {
   "cell_type": "code",
   "execution_count": 6,
   "metadata": {},
   "outputs": [
    {
     "data": {
      "text/plain": [
       "15"
      ]
     },
     "execution_count": 6,
     "metadata": {},
     "output_type": "execute_result"
    }
   ],
   "source": [
    "x = 15\n",
    "abs(x)   # returns the absolute value of x"
   ]
  },
  {
   "cell_type": "code",
   "execution_count": 8,
   "metadata": {},
   "outputs": [
    {
     "data": {
      "text/plain": [
       "(2, 1)"
      ]
     },
     "execution_count": 8,
     "metadata": {},
     "output_type": "execute_result"
    }
   ],
   "source": [
    "x = 7\n",
    "y = 3\n",
    "divmod(x,y) # returns quotient and remainder as tuple"
   ]
  },
  {
   "cell_type": "markdown",
   "metadata": {},
   "source": [
    "### Order of arithmetic operations\n",
    "\n",
    "You need to be aware that the arithmetic operations follow an order of operations, called **_precedence_**. The arithmetic operations precedence are as follows (from highest to lowest precedence):\n",
    "\n",
    "  - The parentheses ( )\n",
    "  - Division, multiplication and modulus\n",
    "  - Addition and subtraction\n",
    "  \n",
    "Take a look the following examples:"
   ]
  },
  {
   "cell_type": "code",
   "execution_count": 57,
   "metadata": {},
   "outputs": [
    {
     "data": {
      "text/plain": [
       "16"
      ]
     },
     "execution_count": 57,
     "metadata": {},
     "output_type": "execute_result"
    }
   ],
   "source": [
    "10+3*2   # first the multiplication then the addition"
   ]
  },
  {
   "cell_type": "code",
   "execution_count": 58,
   "metadata": {},
   "outputs": [
    {
     "data": {
      "text/plain": [
       "40"
      ]
     },
     "execution_count": 58,
     "metadata": {},
     "output_type": "execute_result"
    }
   ],
   "source": [
    "20*(6-4) # first the () then the multiplication"
   ]
  },
  {
   "cell_type": "code",
   "execution_count": 59,
   "metadata": {},
   "outputs": [
    {
     "data": {
      "text/plain": [
       "12"
      ]
     },
     "execution_count": 59,
     "metadata": {},
     "output_type": "execute_result"
    }
   ],
   "source": [
    "25-10%3*(5+8) # first the () then mod and multiplication and last is subtraction"
   ]
  },
  {
   "cell_type": "markdown",
   "metadata": {},
   "source": [
    "## 2. Booleans\n",
    "\n",
    "There are two built-in Boolean objects in Python: **True** and **False**. Here are a couple of Boolean assignments:"
   ]
  },
  {
   "cell_type": "code",
   "execution_count": 2,
   "metadata": {},
   "outputs": [
    {
     "name": "stdout",
     "output_type": "stream",
     "text": [
      "True False\n"
     ]
    }
   ],
   "source": [
    "t = True\n",
    "f = False\n",
    "print(t, f)\n"
   ]
  },
  {
   "attachments": {
    "truthTable.PNG": {
     "image/png": "[encoded data removed]"
    }
   },
   "cell_type": "markdown",
   "metadata": {},
   "source": [
    "### Boolean operators $-$ and, or, not\n",
    "\n",
    "|<p aligh=\"left\"> Operation </p>   |  <p aligh=\"left\"> Result     </p>         |\n",
    "|----------------------------------|--------------------------------------------|\n",
    "|<p aligh=\"left\"> x **or** y </p>  |  <p aligh=\"left\">produces False only if **both** x and y are False; all other cases it gives True </p>        |\n",
    "|<p aligh=\"left\"> x **and** y </p> |  <p aligh=\"left\"> produces True only if **both** x and y are True; all other cases it gives False  </p>        |\n",
    "|<p aligh=\"left\"> **not** x </p>   |  <p aligh=\"left\"> produces False if x is True, Ture if x is False  </p> |\n",
    "\n",
    "The tables below illustrate the different boolean values produced by _and_, _or_, and _not_ operators depending on the values of their operands x and y.\n",
    "\n",
    "![truthTable.PNG](attachment:truthTable.PNG)\n",
    "\n",
    "### Examples:"
   ]
  },
  {
   "cell_type": "code",
   "execution_count": 19,
   "metadata": {},
   "outputs": [
    {
     "data": {
      "text/plain": [
       "True"
      ]
     },
     "execution_count": 19,
     "metadata": {},
     "output_type": "execute_result"
    }
   ],
   "source": [
    "x = True\n",
    "y = False\n",
    "x or y"
   ]
  },
  {
   "cell_type": "code",
   "execution_count": 20,
   "metadata": {},
   "outputs": [
    {
     "data": {
      "text/plain": [
       "False"
      ]
     },
     "execution_count": 20,
     "metadata": {},
     "output_type": "execute_result"
    }
   ],
   "source": [
    "x = False\n",
    "y = False\n",
    "x or y"
   ]
  },
  {
   "cell_type": "code",
   "execution_count": 21,
   "metadata": {},
   "outputs": [
    {
     "data": {
      "text/plain": [
       "False"
      ]
     },
     "execution_count": 21,
     "metadata": {},
     "output_type": "execute_result"
    }
   ],
   "source": [
    "x = False\n",
    "y = False\n",
    "x and y"
   ]
  },
  {
   "cell_type": "code",
   "execution_count": 22,
   "metadata": {},
   "outputs": [
    {
     "data": {
      "text/plain": [
       "False"
      ]
     },
     "execution_count": 22,
     "metadata": {},
     "output_type": "execute_result"
    }
   ],
   "source": [
    "x = True\n",
    "y = False\n",
    "x and y"
   ]
  },
  {
   "cell_type": "code",
   "execution_count": 23,
   "metadata": {},
   "outputs": [
    {
     "data": {
      "text/plain": [
       "True"
      ]
     },
     "execution_count": 23,
     "metadata": {},
     "output_type": "execute_result"
    }
   ],
   "source": [
    "x = True\n",
    "y = True\n",
    "x and y"
   ]
  },
  {
   "cell_type": "code",
   "execution_count": 24,
   "metadata": {},
   "outputs": [
    {
     "data": {
      "text/plain": [
       "False"
      ]
     },
     "execution_count": 24,
     "metadata": {},
     "output_type": "execute_result"
    }
   ],
   "source": [
    "x = True\n",
    "not x"
   ]
  },
  {
   "cell_type": "code",
   "execution_count": 8,
   "metadata": {},
   "outputs": [
    {
     "data": {
      "text/plain": [
       "True"
      ]
     },
     "execution_count": 8,
     "metadata": {},
     "output_type": "execute_result"
    }
   ],
   "source": [
    "x = False\n",
    "not x"
   ]
  },
  {
   "cell_type": "markdown",
   "metadata": {},
   "source": [
    "## Good Job!\n",
    "\n",
    "### Next, we will cover floating-point data types and numbers in details."
   ]
  }
 ],
 "metadata": {
  "kernelspec": {
   "display_name": "Python 3",
   "language": "python",
   "name": "python3"
  },
  "language_info": {
   "codemirror_mode": {
    "name": "ipython",
    "version": 3
   },
   "file_extension": ".py",
   "mimetype": "text/x-python",
   "name": "python",
   "nbconvert_exporter": "python",
   "pygments_lexer": "ipython3",
   "version": "3.6.5"
  }
 },
 "nbformat": 4,
 "nbformat_minor": 2
}
