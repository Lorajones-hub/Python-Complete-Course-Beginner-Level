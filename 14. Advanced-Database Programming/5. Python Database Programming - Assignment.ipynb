{
 "cells": [
  {
   "cell_type": "markdown",
   "metadata": {},
   "source": [
    "# Python Database - Assignment\n",
    "\n",
    "## Question\n",
    "\n",
    "Create a SQLite3 database stored in file **my_database.db**. Do the following:\n",
    "\n",
    "#### 1.  Import the appropriate database module.\n",
    " \n",
    " \n",
    "#### 2. Connect to the database.\n",
    " \n",
    " \n",
    "#### 3. Create new table called **clients** that stores information about the clients of a bank. \n",
    " \n",
    " \n",
    "#### 4. The table has 3 columns:\n",
    "           \n",
    "           - name (string)\n",
    "           - account_no (integer) \n",
    "           - balance (real)\n",
    "           \n",
    "           \n",
    " \n",
    "#### 5. Use execute() method to insert the following records in the table:\n",
    " \n",
    "      \n",
    "      - \"John Smith\", 111, 140.80\n",
    "      - \"Sarah Joe\", 222, 700.45\n",
    "      - \"Henry Wang\", 333, 550.25\n",
    "      \n",
    "      \n",
    "      \n",
    "#### 6.  Save the changes using commit() method.\n",
    "\n",
    "\n",
    "      \n",
    "#### 7. Use fetchone() method to fetch one record (row).\n",
    "\n",
    "\n",
    "\n",
    "#### 8. Close the database.\n",
    "\n",
    "\n",
    "\n"
   ]
  },
  {
   "cell_type": "code",
   "execution_count": null,
   "metadata": {},
   "outputs": [],
   "source": []
  }
 ],
 "metadata": {
  "kernelspec": {
   "display_name": "Python 3",
   "language": "python",
   "name": "python3"
  },
  "language_info": {
   "codemirror_mode": {
    "name": "ipython",
    "version": 3
   },
   "file_extension": ".py",
   "mimetype": "text/x-python",
   "name": "python",
   "nbconvert_exporter": "python",
   "pygments_lexer": "ipython3",
   "version": "3.6.5"
  }
 },
 "nbformat": 4,
 "nbformat_minor": 2
}
