{
 "cells": [
  {
   "cell_type": "markdown",
   "metadata": {},
   "source": [
    "# How to create a Function in Python\n",
    "\n",
    "### Python provides hundreds of built-in functions, though, it is always a good practice to write your own functions from time to time. \n",
    "\n",
    "This lecture covers how to create a function and how to use it in Python, you will learn:\n",
    "\n",
    "- **The syntax for defining a function**\n",
    "- **The steps of creating a function**\n",
    "- **The difference between parameters and arguments**\n",
    "- **What are the returned values from a function**\n",
    "\n",
    "## Defining a Function\n",
    "The general syntax for creating functions (global or local):\n",
    "\n",
    "                       def function_name(parameters):\n",
    "                           function block\n",
    "\n",
    "\n",
    "**NOTE**:\n",
    "\n",
    "**The parameters are OPTIONAL, they are used only when we want to pass some information to the function (send input to the function). If there are two or more parameters, we need to separate them by comma (,). The actual pieces of information are passed to the function using a _function call_. When we call a function, the pieces that are inside the parantheses ( ) are called _arguments_ not parameters**. \n",
    "\n",
    "Don't worry too much about the names, just concentrate on these simple steps to define a function in Python.\n",
    "\n",
    "1) Begin creating the function with the keyword _**def**_ \n",
    "\n",
    "2) Then choose a function name. Try to choose a name that reflects what the function _does_ or what does it _return_.  \n",
    "\n",
    "3) Write parentheses ( ) followed by a colon (:).\n",
    "\n",
    "4) Any parameters (arguments) should be placed within these parentheses.\n",
    "\n",
    "5) The suite (function body or block) will have one or more statements to do the function task.\n",
    "\n",
    "6) Any function should return something (a value). The _**return**_ statement exits a function. A return statement with no arguments is the same as _return None_.\n",
    "\n",
    "Let's create a small function that calculates the area of a circle:\n",
    "\n",
    "Hint: circle area = $radius^2 * pi$,  where $pi$ is a constant equal to 3.14 "
   ]
  },
  {
   "cell_type": "code",
   "execution_count": 1,
   "metadata": {},
   "outputs": [],
   "source": [
    "def circle_area(radius, pi):\n",
    "    area = radius**2 * pi\n",
    "    return area"
   ]
  },
  {
   "cell_type": "markdown",
   "metadata": {},
   "source": [
    "In this example, the function name is **circle_area** and there are two parameters _radius_ and _pi_. The function calculates the area using the equation $radius^2 * pi$ and save the result in the variable area. Finally, the function returns the value of area. \n",
    "\n",
    "## Calling a function\n",
    "\n",
    "If you just write a function without calling it, that means the function will not do its job. We can use functions only when we call them. Let's try to call the circle_area function to find the area of a circle with radius = 10. Keep in mind that if you have parameters in your function, you need to give all the arguments coresponding to those paramenter. If you give too many or too few arguments, Python will raise **TypeError** exception"
   ]
  },
  {
   "cell_type": "code",
   "execution_count": 2,
   "metadata": {},
   "outputs": [
    {
     "data": {
      "text/plain": [
       "314.0"
      ]
     },
     "execution_count": 2,
     "metadata": {},
     "output_type": "execute_result"
    }
   ],
   "source": [
    "circle_area(10, 3.14)  #10 and 3.14 are called arguments"
   ]
  },
  {
   "cell_type": "markdown",
   "metadata": {},
   "source": [
    "## Function parameters and arguments\n",
    "\n",
    "In the above call, we have passed two (information) arguments to the function: 1) number 10 which is assigned to parameter _radius_ in the function head. 2) number 3.14 which is assigned to parameter pi. **_10 and 3.14 are called arguments_**. \n",
    "\n",
    "**NOTE**: By calling a function this way, we are using _**positional arguments**_, because each argument passed is set as the value of the parameter in the corresponding position. So when we called the function, radius is set to 10 and pi is set to 3.14.\n",
    "\n",
    "In the following function call, the arguments are a and b."
   ]
  },
  {
   "cell_type": "code",
   "execution_count": 3,
   "metadata": {},
   "outputs": [
    {
     "data": {
      "text/plain": [
       "314.0"
      ]
     },
     "execution_count": 3,
     "metadata": {},
     "output_type": "execute_result"
    }
   ],
   "source": [
    "a = 10\n",
    "b = 3.14\n",
    "circle_area(a, b)  # a and b are called arguments"
   ]
  },
  {
   "cell_type": "code",
   "execution_count": 4,
   "metadata": {},
   "outputs": [
    {
     "ename": "TypeError",
     "evalue": "circle_area() missing 1 required positional argument: 'pi'",
     "output_type": "error",
     "traceback": [
      "\u001b[1;31m---------------------------------------------------------------------------\u001b[0m",
      "\u001b[1;31mTypeError\u001b[0m                                 Traceback (most recent call last)",
      "\u001b[1;32m<ipython-input-4-c9e3e17eba2f>\u001b[0m in \u001b[0;36m<module>\u001b[1;34m()\u001b[0m\n\u001b[1;32m----> 1\u001b[1;33m \u001b[0mcircle_area\u001b[0m\u001b[1;33m(\u001b[0m\u001b[1;36m15\u001b[0m\u001b[1;33m)\u001b[0m   \u001b[1;31m#too few arguments\u001b[0m\u001b[1;33m\u001b[0m\u001b[0m\n\u001b[0m",
      "\u001b[1;31mTypeError\u001b[0m: circle_area() missing 1 required positional argument: 'pi'"
     ]
    }
   ],
   "source": [
    "circle_area(15)   # too few arguments"
   ]
  },
  {
   "cell_type": "code",
   "execution_count": 5,
   "metadata": {},
   "outputs": [
    {
     "ename": "TypeError",
     "evalue": "circle_area() takes 2 positional arguments but 3 were given",
     "output_type": "error",
     "traceback": [
      "\u001b[1;31m---------------------------------------------------------------------------\u001b[0m",
      "\u001b[1;31mTypeError\u001b[0m                                 Traceback (most recent call last)",
      "\u001b[1;32m<ipython-input-5-0ae154d3bea0>\u001b[0m in \u001b[0;36m<module>\u001b[1;34m()\u001b[0m\n\u001b[1;32m----> 1\u001b[1;33m \u001b[0mcircle_area\u001b[0m\u001b[1;33m(\u001b[0m\u001b[1;36m15\u001b[0m\u001b[1;33m,\u001b[0m \u001b[1;36m3.14\u001b[0m\u001b[1;33m,\u001b[0m \u001b[1;36m2\u001b[0m\u001b[1;33m)\u001b[0m   \u001b[1;31m#too many arguments\u001b[0m\u001b[1;33m\u001b[0m\u001b[0m\n\u001b[0m",
      "\u001b[1;31mTypeError\u001b[0m: circle_area() takes 2 positional arguments but 3 were given"
     ]
    }
   ],
   "source": [
    "circle_area(15, 3.14, 2)   # too many arguments"
   ]
  },
  {
   "cell_type": "markdown",
   "metadata": {},
   "source": [
    "In the following lecture, you will learn how to call a function with less (or more) number of arguments than the number of parameters. \n",
    "\n",
    "## Functions return values\n",
    "\n",
    "In Python, there are no limitation on what the function can return. The return value can be:\n",
    "\n",
    "- A single value\n",
    "- A tuple of values\n",
    "- Collections\n",
    "\n",
    "It is acceptable to ignore the value returned by a function, The _return_ statement allows to exit (leave) the function. If we use _return_ with no arguments or if we did not use _return_ at all, the function will return _None_.\n",
    "\n",
    "Here are some functions that return _None_."
   ]
  },
  {
   "cell_type": "code",
   "execution_count": 1,
   "metadata": {},
   "outputs": [
    {
     "name": "stdout",
     "output_type": "stream",
     "text": [
      "None\n",
      "None\n"
     ]
    }
   ],
   "source": [
    "# this function has return statement with no arguments\n",
    "def fun1():\n",
    "    return \n",
    "\n",
    "# this function has no return statement\n",
    "def fun2():   \n",
    "    2+2\n",
    "\n",
    "print(fun1())\n",
    "print(fun2())"
   ]
  },
  {
   "cell_type": "code",
   "execution_count": 2,
   "metadata": {},
   "outputs": [
    {
     "data": {
      "text/plain": [
       "(12, 25)"
      ]
     },
     "execution_count": 2,
     "metadata": {},
     "output_type": "execute_result"
    }
   ],
   "source": [
    "# this function returns a tuple of values\n",
    "def fun1(a, b):\n",
    "    a += 10\n",
    "    b += 20\n",
    "    return a, b\n",
    "\n",
    "\n",
    "fun1(2, 5)"
   ]
  },
  {
   "cell_type": "markdown",
   "metadata": {},
   "source": [
    "## Conclusion\n",
    "\n",
    "### Functions are used when a piece of code need to be called in different places in the program and usually with different starting values. Each function does a specific task. We can pass values to functions and they return a value(s) after completing their tasks."
   ]
  }
 ],
 "metadata": {
  "kernelspec": {
   "display_name": "Python 3",
   "language": "python",
   "name": "python3"
  },
  "language_info": {
   "codemirror_mode": {
    "name": "ipython",
    "version": 3
   },
   "file_extension": ".py",
   "mimetype": "text/x-python",
   "name": "python",
   "nbconvert_exporter": "python",
   "pygments_lexer": "ipython3",
   "version": "3.6.5"
  }
 },
 "nbformat": 4,
 "nbformat_minor": 2
}
