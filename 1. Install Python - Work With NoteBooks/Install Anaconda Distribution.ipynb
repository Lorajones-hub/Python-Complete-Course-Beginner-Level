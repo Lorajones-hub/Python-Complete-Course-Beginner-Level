{
 "cells": [
  {
   "cell_type": "markdown",
   "metadata": {},
   "source": [
    "# Install Jupyter Notebook and Python"
   ]
  },
  {
   "cell_type": "markdown",
   "metadata": {},
   "source": [
    "### In this lecture we will go over the installation of Python and Jupyter Notebook.\n",
    "\n",
    "\n",
    "**I recommend using Anaconda distribution to install both Python and Jupyter Notebook**. \n",
    "\n",
    "### Steps to install Anaconda:\n",
    "\n",
    "\n",
    "1. **Go to [Anaconda download](https://www.anaconda.com/download/)**  \n",
    "\n",
    "\n",
    "2. Click on Windows, Mac, or Linux installer based on which operating system you have in your computer\n",
    "\n",
    "\n",
    "3. For Windows installer, we will download Python 3.6 version. Choose either 32-bit or 64-bit graphical installer besed on your operating system\n",
    "\n",
    "4. After downloading Anaconda click on the .exe file to begin the installation. It is pretty straight-forward installation like installing any other software. Check out these links for quick installer guides on different operation systems.\n",
    "\n",
    "    - [Installer guide for Windows](https://docs.anaconda.com/anaconda/install/windows) \n",
    "    - [Installer guide for Mac](https://docs.anaconda.com/anaconda/install/mac-os#macos-graphical-install)\n",
    "    - [Installer guide for Linux](https://docs.anaconda.com/anaconda/install/mac-os#macos-graphical-install). Just keep in mind that Linux installer is a command-line installer used in a terminal window.\n",
    "    \n",
    "    \n",
    "\n",
    "5. Once you completed installing Anaconda, search your computer for Anaconda Navigator which is an easy way to use Python using different open-source softwares such as Jupyter notebook and Spyder.\n",
    "\n",
    "**NOTE**: In this course, we will use Jupyter notebook to run Python code. For large programs we may need to use some other IDEs such as PyCharm.\n",
    "\n",
    "\n",
    "### How to open Jupyter Notebook?\n",
    "\n",
    "There are two ways to do that:\n",
    "\n",
    "1. Launch Jupyter Notebook form Anaconda Navigator\n",
    "\n",
    "2. Open your command prompt/Anaconda prompt on Windows or the terminal in Mac and type in jupyter notebook.\n",
    "\n",
    "Either way, you'll see your browser will automatically open a new tap with address that starts with http://localhost:8888/ and showing the files/folders in your computer. This is your jupyter notebook server home page.\n",
    "\n",
    "To create a new notebook, click on new button to the right and choose Python 3. A new tab will open up. This is your first jupyter notebook. To learn how to write and run python code, check out the next videos."
   ]
  },
  {
   "cell_type": "code",
   "execution_count": null,
   "metadata": {},
   "outputs": [],
   "source": []
  }
 ],
 "metadata": {
  "celltoolbar": "Raw Cell Format",
  "kernelspec": {
   "display_name": "Python 3",
   "language": "python",
   "name": "python3"
  },
  "language_info": {
   "codemirror_mode": {
    "name": "ipython",
    "version": 3
   },
   "file_extension": ".py",
   "mimetype": "text/x-python",
   "name": "python",
   "nbconvert_exporter": "python",
   "pygments_lexer": "ipython3",
   "version": "3.6.5"
  }
 },
 "nbformat": 4,
 "nbformat_minor": 2
}
