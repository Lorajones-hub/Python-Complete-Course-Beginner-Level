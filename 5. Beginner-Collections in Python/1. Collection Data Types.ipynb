{
 "cells": [
  {
   "cell_type": "markdown",
   "metadata": {},
   "source": [
    "# What is a collection data type\n",
    "\n",
    "A collection or a sequence data type is basically **_a group of zero or more different data items that are collected in one object_**. \n",
    "\n",
    "#### A collection data type supports the following:\n",
    "\n",
    " 1. Membership operator (in)\n",
    " 2. The size function len()\n",
    " 3. Slices [ ]\n",
    " 4. Is iterable. \n",
    " \n",
    "In the next lectures of this section, we will cover in details different collection data types in Python which are classifed as:\n",
    "\n",
    " - **Sequence Types**\n",
    "      - Tuples\n",
    "      - Named Tuples\n",
    "      - Lists\n",
    " - **Sets Types**\n",
    "      - Sets\n",
    "      - Frozensets\n",
    " - **Mapping Types**\n",
    "     - Dictionaries"
   ]
  },
  {
   "cell_type": "code",
   "execution_count": null,
   "metadata": {},
   "outputs": [],
   "source": []
  }
 ],
 "metadata": {
  "kernelspec": {
   "display_name": "Python 3",
   "language": "python",
   "name": "python3"
  },
  "language_info": {
   "codemirror_mode": {
    "name": "ipython",
    "version": 3
   },
   "file_extension": ".py",
   "mimetype": "text/x-python",
   "name": "python",
   "nbconvert_exporter": "python",
   "pygments_lexer": "ipython3",
   "version": "3.6.5"
  }
 },
 "nbformat": 4,
 "nbformat_minor": 2
}
