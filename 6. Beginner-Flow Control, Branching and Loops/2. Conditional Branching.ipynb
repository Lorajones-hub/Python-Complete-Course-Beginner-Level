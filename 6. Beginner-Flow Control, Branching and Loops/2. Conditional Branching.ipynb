{
 "cells": [
  {
   "cell_type": "markdown",
   "metadata": {},
   "source": [
    "# Conditional branching\n",
    "\n",
    "As we have learned in section 2, the \"Getting started\" lecture, the general synatx for Python's conditional branch statement is:\n",
    "\n",
    "                       if boolean expression 1:\n",
    "                           block 1\n",
    "                       elif boolean expression 2:\n",
    "                           block 2\n",
    "                       ...\n",
    "                       elif boolean expression N:\n",
    "                           block N\n",
    "                       else:\n",
    "                           else block\n",
    "\n",
    "**NOTES**:\n",
    "- There can be zero or more **elif** statements.\n",
    "- The final **else** statement is OPTIONAL.\n",
    "- Boolean expression and condition means the same thing.\n",
    "\n",
    "Let's start with a small example. In this example:\n",
    "\n",
    "1. The variable a was set a value 30 in the first statement. \n",
    "2. Then the if statement checks whether the value of a is less than 50. \n",
    "3. If the condition (a < 50) is True, 10 will be added to the value of a. \n",
    "4. If the condition (a < 50) is False (the value of a is greater than or equal to 50), the else part will be executed and 10 will be subtracted from the value a."
   ]
  },
  {
   "cell_type": "code",
   "execution_count": 2,
   "metadata": {},
   "outputs": [
    {
     "name": "stdout",
     "output_type": "stream",
     "text": [
      "The value of a is: 40\n"
     ]
    }
   ],
   "source": [
    "a = 30\n",
    "if a < 50:   #if a is less than 50, add 100 to it\n",
    "    a += 10   \n",
    "else:        #if a is greater than or equal to 50, subtract 10 from it\n",
    "    a -= 10\n",
    "print(\"The value of a is:\", a)"
   ]
  },
  {
   "cell_type": "markdown",
   "metadata": {},
   "source": [
    "In the above example, the value of a is less than 50 (which is 30), the boolean expression of the if statement will be _True_. So, the program will add 10 to the value of a. "
   ]
  },
  {
   "cell_type": "code",
   "execution_count": 12,
   "metadata": {},
   "outputs": [
    {
     "name": "stdout",
     "output_type": "stream",
     "text": [
      "The value of a is: 60\n"
     ]
    }
   ],
   "source": [
    "a = 70\n",
    "if a < 50:   # if a is less than 50, add 100 to it\n",
    "    a += 10   \n",
    "else:        # if a is greater than or equal to 50, subtract 10 from it\n",
    "    a -= 10\n",
    "print(\"The value of a is:\", a)"
   ]
  },
  {
   "cell_type": "markdown",
   "metadata": {},
   "source": [
    "Here, the value of a is greater than 50 (which is 70), the boolean expression of the if statement will be _False_. So, the program will go to the _else_ statement and subtract 10 from the value of a. "
   ]
  },
  {
   "cell_type": "markdown",
   "metadata": {},
   "source": [
    "## _pass_ statement\n",
    "\n",
    "If you have a case that when it is _True_, you want the program to do nothing, you can use the **_pass_** statement. The following example shows that when the value of a is less than 50, the program will add 10 to it. If not (the value of a is greater than or equal to 50), the else part will work here we have _pass_ so nothing will happen and the value of a will remain the same.\n"
   ]
  },
  {
   "cell_type": "code",
   "execution_count": 13,
   "metadata": {},
   "outputs": [
    {
     "name": "stdout",
     "output_type": "stream",
     "text": [
      "The value of a is: 40\n"
     ]
    }
   ],
   "source": [
    "a = 30        # set the value of a to 70\n",
    "if a < 50:    # if value of a is less than 50, add 10 to it\n",
    "    a += 10\n",
    "else:\n",
    "    pass      # if value of a is greater than or equal to 50, do nothing\n",
    "print(\"The value of a is:\", a)"
   ]
  },
  {
   "cell_type": "code",
   "execution_count": 14,
   "metadata": {},
   "outputs": [
    {
     "name": "stdout",
     "output_type": "stream",
     "text": [
      "The value of a is: 70\n"
     ]
    }
   ],
   "source": [
    "a = 70        #set the value of a to 70\n",
    "if a < 50:    #if value of a is less than 50, add 10 to it\n",
    "    a += 10\n",
    "else:\n",
    "    pass      #if value of a is greater than or equal to 50, do nothing\n",
    "print(\"The value of a is:\", a)"
   ]
  },
  {
   "cell_type": "markdown",
   "metadata": {},
   "source": [
    "## Reduced _if ... else_\n",
    "\n",
    "If you prefer, you can reduce the **if ... else** statement down to a single _conditional expression_. The syntax is shown below:\n",
    "\n",
    "                       expression 1 if boolean expression else expression 2\n",
    "\n",
    "\n",
    "If the boolean expression (condition) is True, the result of the conditional expression is expression 1. And, if the boolean expression (condition) is False, the result of the conditional expression is expression2"
   ]
  },
  {
   "cell_type": "code",
   "execution_count": 15,
   "metadata": {},
   "outputs": [
    {
     "data": {
      "text/plain": [
       "40"
      ]
     },
     "execution_count": 15,
     "metadata": {},
     "output_type": "execute_result"
    }
   ],
   "source": [
    "a = 30\n",
    "a += 10 if a < 50 else 0  # a is less than 50 so 10 is added to its value\n",
    "a"
   ]
  },
  {
   "cell_type": "code",
   "execution_count": 16,
   "metadata": {},
   "outputs": [
    {
     "data": {
      "text/plain": [
       "70"
      ]
     },
     "execution_count": 16,
     "metadata": {},
     "output_type": "execute_result"
    }
   ],
   "source": [
    "a = 70\n",
    "a += 10 if a < 50 else 0  # a is greater than 50 so 0 is added to its value\n",
    "a"
   ]
  },
  {
   "cell_type": "markdown",
   "metadata": {},
   "source": [
    "**Another example:**"
   ]
  },
  {
   "cell_type": "code",
   "execution_count": 2,
   "metadata": {},
   "outputs": [
    {
     "data": {
      "text/plain": [
       "'Windows'"
      ]
     },
     "execution_count": 2,
     "metadata": {},
     "output_type": "execute_result"
    }
   ],
   "source": [
    "import sys\n",
    "\n",
    "my_os = \"Windows\"\n",
    "if not sys.platform.startswith(\"win\"):\n",
    "    my_os = \"Linux\"\n",
    "my_os"
   ]
  },
  {
   "cell_type": "markdown",
   "metadata": {},
   "source": [
    "In the above example, the _sys.platform_ variable holds the name of the current platform (the operating system in your computer), for example \"win32\", \"win64\", \"linux2\", ... etc. If the operating system name starts with the word \"win\", then this expression sys.platform.startswith(\"win\") will be _Ture_. The _**not**_ keyword will change the value _True_ to _False_. Now the if condition is _False_ and its block (my_os = \"Linux\") will not be executed. So, as we see above the value of my_os is still \"Windows\". If your computer runs linux operating system, then you will see the output \"Linux\".\n",
    "\n",
    "The same code can be achieved in one line using the conditional expression as below:"
   ]
  },
  {
   "cell_type": "code",
   "execution_count": 3,
   "metadata": {},
   "outputs": [
    {
     "data": {
      "text/plain": [
       "'Windows'"
      ]
     },
     "execution_count": 3,
     "metadata": {},
     "output_type": "execute_result"
    }
   ],
   "source": [
    "my_os = \"Windows\" if sys.platform.startswith(\"win\") else \"Linux\"\n",
    "my_os"
   ]
  },
  {
   "cell_type": "markdown",
   "metadata": {},
   "source": [
    "So far, parantheses () have not been used in the conditional expression, _**but it is better to use them**_. why ? let's see the following example:\n"
   ]
  },
  {
   "cell_type": "code",
   "execution_count": 19,
   "metadata": {},
   "outputs": [],
   "source": [
    "margin = True\n",
    "height = 200 + 10 if margin else 0   # WRONG!"
   ]
  },
  {
   "cell_type": "markdown",
   "metadata": {},
   "source": [
    "What is particularly wrong about this is that it workes perfectly when margin is _Ture_, which will set the height to 210. But if the value of margin is _False_, height will wrongly set to 0 instead of 200. \n",
    "\n",
    "**Why this happens ?**\n",
    "\n",
    "Because Python sees 200 + 10 as _**part of experession1 in the conditional expression**_. \n",
    "\n",
    "**How to fix that ?**\n",
    "\n",
    "The solution is to use parantheses:"
   ]
  },
  {
   "cell_type": "code",
   "execution_count": 20,
   "metadata": {},
   "outputs": [
    {
     "data": {
      "text/plain": [
       "210"
      ]
     },
     "execution_count": 20,
     "metadata": {},
     "output_type": "execute_result"
    }
   ],
   "source": [
    "margin = True\n",
    "height = 200 + (10 if margin else 0) # RIGHT!\n",
    "height"
   ]
  },
  {
   "cell_type": "code",
   "execution_count": 21,
   "metadata": {},
   "outputs": [
    {
     "data": {
      "text/plain": [
       "200"
      ]
     },
     "execution_count": 21,
     "metadata": {},
     "output_type": "execute_result"
    }
   ],
   "source": [
    "margin = False\n",
    "height = 200 + (10 if margin else 0)\n",
    "height"
   ]
  },
  {
   "cell_type": "markdown",
   "metadata": {},
   "source": [
    "The good thing about the parantheses is that they make things more clear when we read the code.\n",
    "\n",
    "We can use the conditional expressions to improve the way messages are printed for users."
   ]
  },
  {
   "cell_type": "code",
   "execution_count": 22,
   "metadata": {},
   "outputs": [
    {
     "name": "stdout",
     "output_type": "stream",
     "text": [
      "no letters\n"
     ]
    }
   ],
   "source": [
    "# prints no letters, 1 letter, 2 letters based on value of num\n",
    "num = 0\n",
    "print(\"{0} letter{1}\".format(num if num != 0 else \"no\", \"s\" if num != 1 else \"\"))"
   ]
  },
  {
   "cell_type": "code",
   "execution_count": 23,
   "metadata": {},
   "outputs": [
    {
     "name": "stdout",
     "output_type": "stream",
     "text": [
      "1 letter\n"
     ]
    }
   ],
   "source": [
    "num = 1\n",
    "print(\"{0} letter{1}\".format(num if num != 0 else \"no\", \"s\" if num != 1 else \"\"))"
   ]
  },
  {
   "cell_type": "code",
   "execution_count": 1,
   "metadata": {},
   "outputs": [
    {
     "name": "stdout",
     "output_type": "stream",
     "text": [
      "2 letters\n"
     ]
    }
   ],
   "source": [
    "num = 2\n",
    "print(\"{0} letter{1}\".format(num if num != 0 else \"no\", \"s\" if num != 1 else \"\"))"
   ]
  },
  {
   "cell_type": "markdown",
   "metadata": {},
   "source": [
    "## Great!\n",
    "\n",
    "### Next we will cover loops in Python, mainly the while and for statements."
   ]
  },
  {
   "cell_type": "code",
   "execution_count": null,
   "metadata": {},
   "outputs": [],
   "source": []
  },
  {
   "cell_type": "code",
   "execution_count": null,
   "metadata": {},
   "outputs": [],
   "source": []
  }
 ],
 "metadata": {
  "kernelspec": {
   "display_name": "Python 3",
   "language": "python",
   "name": "python3"
  },
  "language_info": {
   "codemirror_mode": {
    "name": "ipython",
    "version": 3
   },
   "file_extension": ".py",
   "mimetype": "text/x-python",
   "name": "python",
   "nbconvert_exporter": "python",
   "pygments_lexer": "ipython3",
   "version": "3.6.5"
  }
 },
 "nbformat": 4,
 "nbformat_minor": 2
}
