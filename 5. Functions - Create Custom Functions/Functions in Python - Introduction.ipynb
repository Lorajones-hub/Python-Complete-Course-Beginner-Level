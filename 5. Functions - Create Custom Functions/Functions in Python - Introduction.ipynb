{
 "cells": [
  {
   "cell_type": "markdown",
   "metadata": {},
   "source": [
    "# Introduction\n",
    "\n",
    "In this section, we will introduce to you functions in Python, you will learn:\n",
    "\n",
    "- **What are functions and what they are used for**\n",
    "- **Types of functions to be created in Python**\n",
    "- **How to create and work with functions**\n",
    "- **Parameters and arguments**\n",
    "- **Function scope $-$ how to access objects within functions**\n",
    "- **Generators functions and iterators**\n",
    "\n",
    "\n",
    "## What are functions\n",
    "\n",
    "A function is **_a block of code that is used to perform a single task_**. Functions are very useful because they provide high degree of code reusing, meaning that we use (or call) the same function as many times as we want. Also, functions allow you to break up big problems into smaller sub-problems, each sub-problem is handled (solved) using a single function.\n",
    "\n",
    "There are many built-in functions in Python, but you can also create your own functions, these are called **_user-defined functions_** or **_custom functions_**.\n",
    "\n",
    "**Four types of functions can be created in Python:**\n",
    "\n",
    " 1) Global functions <br>\n",
    " 2) Local functions <br>\n",
    " 3) Lambda Functions <br>\n",
    " 4) Methods <br>\n",
    " \n",
    "All these types of functions will be covered in the upcoming lectures. For now let's briefly describe each type.\n",
    "\n",
    "### Global functions:\n",
    "These functions are accessible, means we can call them, from any code in the same .py file. \n",
    "\n",
    "**In general** any global object in Python can be seen and is accessible to any code in the same .py file (or module). A module is a separate .py file. There are also some ways to access objects from other modules and will be discussed later. \n",
    "\n",
    "### Local functions:\n",
    "\n",
    "Local functions (also called nested functions) are functions defined inside other functions. These functions are accessible (visible) ONLY to functions where they are created inside. \n",
    "\n",
    "### Lambda functions\n",
    "\n",
    "Lambda functions are functions with _no name_. We have seen in section 2, **Getting started - Python 8 Pieces** that functions are defined using the keyword  _**def**_, but lambda functions are created using the _**lambda**_ keyword. A lambda function is basically an _expression_ and it is more limited than normal functions. They are sometimes called _anonymous_ functions.\n",
    "\n",
    "### Methods\n",
    "\n",
    "A method in Python is a type of function that is associated with an object (an object is an instance or example of a class) . It is always used with an object. We have already introduced and used methods in the previous lectures when we studied strings, sets, dictionaries. But in the section: Object-Oriented Programming (OOP), when we will cover the concepts of classes and objects, the methods part will be much clearer as methods is one of the main parts of OOP.\n",
    "\n",
    "## let's start with creating custom functions in Python."
   ]
  }
 ],
 "metadata": {
  "kernelspec": {
   "display_name": "Python 3",
   "language": "python",
   "name": "python3"
  },
  "language_info": {
   "codemirror_mode": {
    "name": "ipython",
    "version": 3
   },
   "file_extension": ".py",
   "mimetype": "text/x-python",
   "name": "python",
   "nbconvert_exporter": "python",
   "pygments_lexer": "ipython3",
   "version": "3.6.5"
  }
 },
 "nbformat": 4,
 "nbformat_minor": 2
}
