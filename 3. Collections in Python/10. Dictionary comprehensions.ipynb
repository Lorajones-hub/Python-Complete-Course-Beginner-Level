{
 "cells": [
  {
   "cell_type": "markdown",
   "metadata": {},
   "source": [
    "# Dictionary comprehensions\n",
    "\n",
    "In this lecture you will learn how create dictionaries using dictionary comprehension.\n",
    "\n",
    "A _**dictionary comprehension**_ is an expression and a loop inclosed in braces { }, it may contain a an optional condition very similar to a set comprehension. \n",
    "\n",
    "There are two syntaxes supported (like set and list comprehension):\n",
    "\n",
    "\n",
    "        {keyexpression: valueexpresion for key, value in iterable} \n",
    "        \n",
    "        {keyexpression: valueexpresion for key, value in iterable if condition} \n",
    "\n",
    "You can use the iterable in any way you want (tuples and lists literals, list comprehensions, generator functions, etc.) as long as each element is an iterable itself of two elements.\n",
    "\n",
    "**Examples**:\n"
   ]
  },
  {
   "cell_type": "code",
   "execution_count": 6,
   "metadata": {},
   "outputs": [
    {
     "data": {
      "text/plain": [
       "{1: 'a', 2: 'b', 3: 'c'}"
      ]
     },
     "execution_count": 6,
     "metadata": {},
     "output_type": "execute_result"
    }
   ],
   "source": [
    "L = [(1, 'a'), (2, 'b'), (3, 'c')]\n",
    "\n",
    "# syntax1: without a condition \n",
    "d = {k: v for k, v in L}\n",
    "d"
   ]
  },
  {
   "cell_type": "code",
   "execution_count": 7,
   "metadata": {},
   "outputs": [
    {
     "data": {
      "text/plain": [
       "{1: 'a', 2: 'b'}"
      ]
     },
     "execution_count": 7,
     "metadata": {},
     "output_type": "execute_result"
    }
   ],
   "source": [
    "L = [(1, 'a'), (2, 'b'), (3, 'c')]\n",
    "\n",
    "# syntax2: with a condition\n",
    "d = {k: v for k, v in L if k <= 2}\n",
    "d"
   ]
  },
  {
   "cell_type": "code",
   "execution_count": 9,
   "metadata": {},
   "outputs": [
    {
     "data": {
      "text/plain": [
       "{'lettuces': 'vegetable', 'milk': 'dairy', 'orange': 'fruit'}"
      ]
     },
     "execution_count": 9,
     "metadata": {},
     "output_type": "execute_result"
    }
   ],
   "source": [
    "L = [('orange','fruit'), ('milk', 'dairy'), ('lettuces', 'vegetable')]\n",
    "d = {k: v for k, v in L}\n",
    "d"
   ]
  }
 ],
 "metadata": {
  "kernelspec": {
   "display_name": "Python 3",
   "language": "python",
   "name": "python3"
  },
  "language_info": {
   "codemirror_mode": {
    "name": "ipython",
    "version": 3
   },
   "file_extension": ".py",
   "mimetype": "text/x-python",
   "name": "python",
   "nbconvert_exporter": "python",
   "pygments_lexer": "ipython3",
   "version": "3.6.5"
  }
 },
 "nbformat": 4,
 "nbformat_minor": 2
}
