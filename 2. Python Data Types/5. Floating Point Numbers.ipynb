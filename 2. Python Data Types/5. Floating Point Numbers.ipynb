{
 "cells": [
  {
   "cell_type": "markdown",
   "metadata": {},
   "source": [
    "# Floating Point Numbers\n",
    "\n",
    "In this lecture, we will discuss the floating-point types and numbers in Python, you will learn:\n",
    "\n",
    " - **What is a floating-point number**\n",
    " - **How to use the float type as a function float()**\n",
    " - **Converting float number to integer**\n",
    "\n",
    "## What is a floating-point number\n",
    "\n",
    "A floating-point number is a number that has three parts:\n",
    "- A whole part, \n",
    "- A decimal or floating point, and \n",
    "- A fractional part. \n",
    "\n",
    "For example, if we have this floating-point number 8.645, then the whole part is 8, the decimal point is the dot (.) and fractional part is 645.\n",
    "\n",
    "The whole and/or fractional parts can be zero. \n",
    "   - This is zero as floating-point number 0.0\n",
    "   \n",
    "   \n",
    "The decimal point is called floating because it can \"float\", that is, it can be placed anywhere relative to the significant digits of the number.\n",
    "\n",
    "  - $1.234$ = $12.34$ x $10^1$ =  $123.4$ x $10^2$  = $1234$ x $10^3$\n",
    "\n",
    "\n",
    "Floating-point types are **immutable** like the int type, meaning that _once a value is given to any variable of type float, it connot be changed_. Let's see what we mean by that.\n",
    "\n",
    "If we have a variable x with the float value 4.5."
   ]
  },
  {
   "cell_type": "code",
   "execution_count": 2,
   "metadata": {},
   "outputs": [
    {
     "data": {
      "text/plain": [
       "4.5"
      ]
     },
     "execution_count": 2,
     "metadata": {},
     "output_type": "execute_result"
    }
   ],
   "source": [
    "x = 4.5\n",
    "x"
   ]
  },
  {
   "cell_type": "markdown",
   "metadata": {},
   "source": [
    "If we change the value of x to any other value."
   ]
  },
  {
   "cell_type": "code",
   "execution_count": 3,
   "metadata": {},
   "outputs": [
    {
     "data": {
      "text/plain": [
       "7.8"
      ]
     },
     "execution_count": 3,
     "metadata": {},
     "output_type": "execute_result"
    }
   ],
   "source": [
    "x = 7.8\n",
    "x"
   ]
  },
  {
   "cell_type": "markdown",
   "metadata": {},
   "source": [
    "The value of x now is 7.8 instead of 4.5, so is float really an immutable type?\n",
    "\n",
    "To verify that, always remember that everything in Python is an object. So when wrote the line **x = 4.5** above, Python created an object of type float with value 4.5 and made x refer to it. Then we wrote **x = 7.8**, this caused a new float object to be created with a value 7.8 and now x is referring to the new object, not the old one with value 4.5. This means the original object wasn't changed.    \n",
    "\n",
    "A quick way to verify that these are different object is by using the id() function which gives the memory location of any object passed to it."
   ]
  },
  {
   "cell_type": "code",
   "execution_count": 5,
   "metadata": {},
   "outputs": [
    {
     "data": {
      "text/plain": [
       "85395152"
      ]
     },
     "execution_count": 5,
     "metadata": {},
     "output_type": "execute_result"
    }
   ],
   "source": [
    "x = 4.5 \n",
    "id(x)       # returns the memory location of object pointed to by x "
   ]
  },
  {
   "cell_type": "code",
   "execution_count": 7,
   "metadata": {},
   "outputs": [
    {
     "data": {
      "text/plain": [
       "85395808"
      ]
     },
     "execution_count": 7,
     "metadata": {},
     "output_type": "execute_result"
    }
   ],
   "source": [
    "x = 7.8\n",
    "id(x)       # returns the memory location of object pointed to by x "
   ]
  },
  {
   "cell_type": "markdown",
   "metadata": {},
   "source": [
    "Notice the differences between the memory addresses of the two float objects. These are different objects in memory a x is just a reference to refer to one of them. So no change on the original object! DONE : )"
   ]
  },
  {
   "cell_type": "markdown",
   "metadata": {},
   "source": [
    "Numbers of type float are written with a **decimal point**, or using an **exponential notation**, for example, 0.0, 4., 5.7, -2.5, -2e9, 8.9e-4\n",
    "\n",
    "Computers (no matter what computer language is used) effectively store floating-point numbers as approximations. Earlier versions of Python were producing output that is not necessarly exactly like the original number. But Python 3.1 uses David Gray's algorithm that outputs the fewest possible digits without losing any accuracy.\n",
    "\n",
    "Since we are using Python 3, we can say that the floating-point number will be stored accuratly.\n",
    "\n",
    "All numeric operators and functions we have used with integers can also be used with floating-point numbers.\n"
   ]
  },
  {
   "cell_type": "markdown",
   "metadata": {},
   "source": [
    "## Using the float type as a function float()\n",
    "\n",
    "We haven't discussed functions yet. Here we're just talking about the built-in float() function. \n",
    "\n",
    "If we use float as a function, there are three cases:\n",
    "\n",
    "  - **Case 1**: If no value passed to float(), it returns zero in float format (0.0).\n",
    "\n",
    "\n",
    "  - **Case 2**: If a float number is passed to, float(), it returns a copy of that number.\n",
    "\n",
    "\n",
    "  - **Case 3**: If a integer is passed, float()will convert that integer to float.\n",
    "  \n",
    "#### Examples:"
   ]
  },
  {
   "cell_type": "code",
   "execution_count": 4,
   "metadata": {},
   "outputs": [
    {
     "data": {
      "text/plain": [
       "0.0"
      ]
     },
     "execution_count": 4,
     "metadata": {},
     "output_type": "execute_result"
    }
   ],
   "source": [
    "# case 1: return 0.0\n",
    "float()"
   ]
  },
  {
   "cell_type": "code",
   "execution_count": 5,
   "metadata": {},
   "outputs": [
    {
     "data": {
      "text/plain": [
       "2.5"
      ]
     },
     "execution_count": 5,
     "metadata": {},
     "output_type": "execute_result"
    }
   ],
   "source": [
    "# case 2: return copy of float 2.5\n",
    "float(2.5)"
   ]
  },
  {
   "cell_type": "code",
   "execution_count": 6,
   "metadata": {},
   "outputs": [
    {
     "data": {
      "text/plain": [
       "10.0"
      ]
     },
     "execution_count": 6,
     "metadata": {},
     "output_type": "execute_result"
    }
   ],
   "source": [
    "# case 3: convert int to float\n",
    "float(10)"
   ]
  },
  {
   "cell_type": "markdown",
   "metadata": {},
   "source": [
    "## Converting float-point numbers to integers\n",
    "\n",
    "Floating-point numbers can be converted to integers using one of these options:\n",
    "\n",
    "- The **int()** function which returns the whole part and throws away the fractional part. \n",
    "\n",
    "\n",
    "- The **floor()** function which converts the number down to the nearest integer.\n",
    "\n",
    "\n",
    "- The **ceil()** function which converts the number up to the nearest integer.\n",
    "\n",
    "Let's see some examples to understand the behavior of these functions.\n"
   ]
  },
  {
   "cell_type": "markdown",
   "metadata": {},
   "source": [
    "### 1. int()"
   ]
  },
  {
   "cell_type": "code",
   "execution_count": 9,
   "metadata": {},
   "outputs": [
    {
     "data": {
      "text/plain": [
       "8"
      ]
     },
     "execution_count": 9,
     "metadata": {},
     "output_type": "execute_result"
    }
   ],
   "source": [
    "# int() returns only the integer part\n",
    "int(8.9)   "
   ]
  },
  {
   "cell_type": "code",
   "execution_count": 1,
   "metadata": {},
   "outputs": [
    {
     "data": {
      "text/plain": [
       "15"
      ]
     },
     "execution_count": 1,
     "metadata": {},
     "output_type": "execute_result"
    }
   ],
   "source": [
    "int(15.33)"
   ]
  },
  {
   "cell_type": "markdown",
   "metadata": {},
   "source": [
    "### To call the functions floor() or ceil() we need to call Python's **math** library.\n",
    "\n",
    "### 3. floor()\n",
    "\n",
    "Returns the largest integer value which is less than or equal to given numeric value."
   ]
  },
  {
   "cell_type": "code",
   "execution_count": 15,
   "metadata": {},
   "outputs": [
    {
     "data": {
      "text/plain": [
       "8"
      ]
     },
     "execution_count": 15,
     "metadata": {},
     "output_type": "execute_result"
    }
   ],
   "source": [
    "import math  # import the math module to call floor function; or it will rise NameError\n",
    "\n",
    "math.floor(8.9)"
   ]
  },
  {
   "cell_type": "markdown",
   "metadata": {},
   "source": [
    "### 4. ceil()\n",
    "\n",
    "Returns the smallest integer value which is greater than or equal to given numeric value."
   ]
  },
  {
   "cell_type": "code",
   "execution_count": 5,
   "metadata": {},
   "outputs": [
    {
     "data": {
      "text/plain": [
       "9"
      ]
     },
     "execution_count": 5,
     "metadata": {},
     "output_type": "execute_result"
    }
   ],
   "source": [
    "import math  # import the math module to call floor function; or it will rise NameError\n",
    "\n",
    "math.ceil(8.9)"
   ]
  },
  {
   "cell_type": "markdown",
   "metadata": {},
   "source": [
    "### 5. round(x, n)\n",
    "\n",
    "Returns the float number x rounded to n digits after the decimal point. The returned value has the same type as x.\n",
    "\n",
    "\n",
    "There are few cases here depending on the value of n:\n",
    "\n",
    " - If n is omitted or is None, the function round() returns x rounded to the nearst integer.\n",
    " \n",
    " \n",
    " \n",
    "  - If n is a positive integer, round() returns x rounded to n decimal digits (places).\n",
    " \n",
    " \n",
    "\n",
    " - If n is a negative integer, round() returns x rounded to n integral digits (places).\n",
    " \n",
    "#### Example 1:\n",
    "  "
   ]
  },
  {
   "cell_type": "code",
   "execution_count": 20,
   "metadata": {},
   "outputs": [],
   "source": [
    "x = 831.647"
   ]
  },
  {
   "cell_type": "code",
   "execution_count": 21,
   "metadata": {},
   "outputs": [
    {
     "data": {
      "text/plain": [
       "832"
      ]
     },
     "execution_count": 21,
     "metadata": {},
     "output_type": "execute_result"
    }
   ],
   "source": [
    "# n is omitted\n",
    "round(x)       # round x to nearest int"
   ]
  },
  {
   "cell_type": "code",
   "execution_count": 22,
   "metadata": {},
   "outputs": [
    {
     "data": {
      "text/plain": [
       "831.65"
      ]
     },
     "execution_count": 22,
     "metadata": {},
     "output_type": "execute_result"
    }
   ],
   "source": [
    "# n is positive\n",
    "round(x, 2)     # round x to 2 decimal places"
   ]
  },
  {
   "cell_type": "code",
   "execution_count": 23,
   "metadata": {},
   "outputs": [
    {
     "data": {
      "text/plain": [
       "800.0"
      ]
     },
     "execution_count": 23,
     "metadata": {},
     "output_type": "execute_result"
    }
   ],
   "source": [
    "# n is negative\n",
    "round(x, -2)     # round x to 2 integral digits"
   ]
  },
  {
   "cell_type": "markdown",
   "metadata": {},
   "source": [
    "#### Example 2:"
   ]
  },
  {
   "cell_type": "code",
   "execution_count": 11,
   "metadata": {},
   "outputs": [],
   "source": [
    "x = 568.2475"
   ]
  },
  {
   "cell_type": "code",
   "execution_count": 12,
   "metadata": {},
   "outputs": [
    {
     "data": {
      "text/plain": [
       "568"
      ]
     },
     "execution_count": 12,
     "metadata": {},
     "output_type": "execute_result"
    }
   ],
   "source": [
    "# n is omitted\n",
    "round(x)       # round x to nearest int"
   ]
  },
  {
   "cell_type": "code",
   "execution_count": 15,
   "metadata": {},
   "outputs": [
    {
     "data": {
      "text/plain": [
       "568.247"
      ]
     },
     "execution_count": 15,
     "metadata": {},
     "output_type": "execute_result"
    }
   ],
   "source": [
    "# n is positive\n",
    "round(x, 3)    # round x to 3 decimal places"
   ]
  },
  {
   "cell_type": "code",
   "execution_count": 16,
   "metadata": {},
   "outputs": [
    {
     "data": {
      "text/plain": [
       "1000.0"
      ]
     },
     "execution_count": 16,
     "metadata": {},
     "output_type": "execute_result"
    }
   ],
   "source": [
    "# n is negative\n",
    "round(x, -3)    # round x to 3 integral digits"
   ]
  },
  {
   "cell_type": "markdown",
   "metadata": {},
   "source": [
    "### Great Job!"
   ]
  },
  {
   "cell_type": "code",
   "execution_count": null,
   "metadata": {},
   "outputs": [],
   "source": []
  }
 ],
 "metadata": {
  "kernelspec": {
   "display_name": "Python 3",
   "language": "python",
   "name": "python3"
  },
  "language_info": {
   "codemirror_mode": {
    "name": "ipython",
    "version": 3
   },
   "file_extension": ".py",
   "mimetype": "text/x-python",
   "name": "python",
   "nbconvert_exporter": "python",
   "pygments_lexer": "ipython3",
   "version": "3.6.5"
  }
 },
 "nbformat": 4,
 "nbformat_minor": 2
}
