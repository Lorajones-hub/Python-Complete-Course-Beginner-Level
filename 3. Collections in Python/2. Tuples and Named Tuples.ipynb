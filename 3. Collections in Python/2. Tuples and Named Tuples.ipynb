{
 "cells": [
  {
   "cell_type": "markdown",
   "metadata": {},
   "source": [
    "# Tuples\n",
    "\n",
    "In this lecture we will cover tuples in Python, **you will learn**:\n",
    "\n",
    " - **What are tuples and how to create them**\n",
    " - **Tuples operators and methods**\n",
    " - **Nested tuples**\n",
    " - **Named tuples**\n",
    "\n",
    "Tuples are **ordered** sequences of zero or more objects. We can extract items from a tuple just like we did with strings, using _slicing_ and _striding_.\n",
    "\n",
    "**Tuples are immutable** just like strings, so we can not replace or delete any of their items.\n",
    "\n",
    "**NOTE**: If you are planning to use a sequence that will be changed in the future by your program, **use lists instead of tuples**.\n",
    "\n",
    "If you already have a tuple and want to modify it, you can convert it to a list using the **list()** function.\n",
    "\n",
    "To create a tuple, just put different values separated by commas, you can enclose the values inside round brackets or parentheses ().\n",
    "\n",
    "#### Examples of tuples:"
   ]
  },
  {
   "cell_type": "code",
   "execution_count": 45,
   "metadata": {},
   "outputs": [],
   "source": [
    "# examples of tuples\n",
    "t = (\"math\", \"science\", 2000, 2015)\n",
    "t1 = (10, 15, 20, 25, 30)"
   ]
  },
  {
   "cell_type": "markdown",
   "metadata": {},
   "source": [
    "**NOTE**: The parantheses ( ) are optional so Python accept the following as a tuple"
   ]
  },
  {
   "cell_type": "code",
   "execution_count": 1,
   "metadata": {},
   "outputs": [
    {
     "data": {
      "text/plain": [
       "('a', 'b', 'c', 1, 2, 3)"
      ]
     },
     "execution_count": 1,
     "metadata": {},
     "output_type": "execute_result"
    }
   ],
   "source": [
    "t2 = \"a\", \"b\", \"c\", 1, 2, 3\n",
    "t2"
   ]
  },
  {
   "attachments": {
    "tuple.PNG": {
     "image/png": "[encoded data removed]"
    }
   },
   "cell_type": "markdown",
   "metadata": {},
   "source": [
    "You can access a tuple item by using **indexing** as we did with strings. \n",
    "\n",
    "Index positions inside a tuple starts, like strings, at 0 and ends at the length of that tuple minus 1. The only difference is that strings have a _character_ at every position, whereas tuples have _object reference_ (could be ANYTHING, an integer, a character, a string, another tuple, or a list... any data item!) at each position.\n",
    "\n",
    "The following figure shows a tuple with four data items, 2 strings and 2 integers.\n",
    "\n",
    "**Notice** that the index positions are the same as strings, and can be positive or negative.\n",
    "\n",
    "![tuple.PNG](attachment:tuple.PNG)\n"
   ]
  },
  {
   "cell_type": "code",
   "execution_count": 3,
   "metadata": {},
   "outputs": [
    {
     "name": "stdout",
     "output_type": "stream",
     "text": [
      "a\n"
     ]
    },
    {
     "data": {
      "text/plain": [
       "(1, 3)"
      ]
     },
     "execution_count": 3,
     "metadata": {},
     "output_type": "execute_result"
    }
   ],
   "source": [
    "t2 = \"a\", \"b\", \"c\", 1, 2, 3\n",
    "\n",
    "# indexing: to extract some items from tuple t2\n",
    "print(t2[0])\n",
    "t2[3], t2[-1]"
   ]
  },
  {
   "cell_type": "code",
   "execution_count": 7,
   "metadata": {},
   "outputs": [
    {
     "data": {
      "text/plain": [
       "(('b', 'c', 1, 2), ('a', 'b', 'c', 1), (3, 2, 1, 'c', 'b', 'a'))"
      ]
     },
     "execution_count": 7,
     "metadata": {},
     "output_type": "execute_result"
    }
   ],
   "source": [
    "t2 = \"a\", \"b\", \"c\", 1, 2, 3\n",
    "\n",
    "# slicing: to extract some items from tuple t2\n",
    "t2[1:5], t2[:4], t2[::-1]"
   ]
  },
  {
   "cell_type": "markdown",
   "metadata": {},
   "source": [
    "## Tuples are immutable\n",
    " \n",
    "Once you have assigned values to a tuple items, these values can not be changed. For example, if we try to change the third item of tuple t2 which is character 'c' to 'd', we will get a <font color='red'> **TypeError** </font>: \n"
   ]
  },
  {
   "cell_type": "code",
   "execution_count": 8,
   "metadata": {},
   "outputs": [
    {
     "ename": "TypeError",
     "evalue": "'tuple' object does not support item assignment",
     "output_type": "error",
     "traceback": [
      "\u001b[1;31m---------------------------------------------------------------------------\u001b[0m",
      "\u001b[1;31mTypeError\u001b[0m                                 Traceback (most recent call last)",
      "\u001b[1;32m<ipython-input-8-a716c77ddc45>\u001b[0m in \u001b[0;36m<module>\u001b[1;34m()\u001b[0m\n\u001b[1;32m----> 1\u001b[1;33m \u001b[0mt2\u001b[0m\u001b[1;33m[\u001b[0m\u001b[1;36m2\u001b[0m\u001b[1;33m]\u001b[0m \u001b[1;33m=\u001b[0m \u001b[1;34m'd'\u001b[0m\u001b[1;33m\u001b[0m\u001b[0m\n\u001b[0m",
      "\u001b[1;31mTypeError\u001b[0m: 'tuple' object does not support item assignment"
     ]
    }
   ],
   "source": [
    "t2[2] = 'd'"
   ]
  },
  {
   "cell_type": "markdown",
   "metadata": {},
   "source": [
    "## Tuples methods\n",
    "\n",
    "Tuples provide only two methods:\n",
    "\n",
    "- t.count(x) method: which returns the number of times object x occurs in tuple t.\n",
    "- t.index(x) method: which returns the index position of the leftmost occurrence of object x in tuple t. \n",
    "\n"
   ]
  },
  {
   "cell_type": "code",
   "execution_count": 47,
   "metadata": {},
   "outputs": [
    {
     "data": {
      "text/plain": [
       "2"
      ]
     },
     "execution_count": 47,
     "metadata": {},
     "output_type": "execute_result"
    }
   ],
   "source": [
    "t = (\"math\", \"science\", \"computer\", 2000, 2015, 2000)\n",
    "t.count(2000)  # returns no. of times integer 2000 occurred in tuple t"
   ]
  },
  {
   "cell_type": "code",
   "execution_count": 48,
   "metadata": {},
   "outputs": [
    {
     "data": {
      "text/plain": [
       "3"
      ]
     },
     "execution_count": 48,
     "metadata": {},
     "output_type": "execute_result"
    }
   ],
   "source": [
    "t.index(2000)  # returns first index of integer 2000 from the left"
   ]
  },
  {
   "cell_type": "markdown",
   "metadata": {},
   "source": [
    "# Operators used with tuples\n",
    "\n",
    "We can use the same operators we applied on strings. This includes:\n",
    "\n",
    "- Concatenation with + operator\n",
    "- Replication with * operator \n",
    "- Slice with [ ]\n",
    "- Test membership with **in** and **not in** operators\n",
    "\n",
    "Here are some examples ."
   ]
  },
  {
   "cell_type": "code",
   "execution_count": 49,
   "metadata": {},
   "outputs": [
    {
     "data": {
      "text/plain": [
       "('python', 'new', 'C', 'old')"
      ]
     },
     "execution_count": 49,
     "metadata": {},
     "output_type": "execute_result"
    }
   ],
   "source": [
    "# conccatenation operator (+)\n",
    "t1 = \"python\", \"new\"\n",
    "t2 = \"C\", \"old\"\n",
    "t1+t2\n"
   ]
  },
  {
   "cell_type": "code",
   "execution_count": 50,
   "metadata": {},
   "outputs": [
    {
     "name": "stdout",
     "output_type": "stream",
     "text": [
      "python python python python python \n"
     ]
    },
    {
     "data": {
      "text/plain": [
       "'python python python python python '"
      ]
     },
     "execution_count": 50,
     "metadata": {},
     "output_type": "execute_result"
    }
   ],
   "source": [
    "# replication operator (*)\n",
    "t1 = \"python \"\n",
    "print(t1 * 5)\n",
    "\n",
    "#another way, called augmented replication\n",
    "t1 *= 5\n",
    "t1"
   ]
  },
  {
   "cell_type": "code",
   "execution_count": 1,
   "metadata": {},
   "outputs": [
    {
     "name": "stdout",
     "output_type": "stream",
     "text": [
      "red\n",
      "('brown', 'blonde', 'red')\n"
     ]
    }
   ],
   "source": [
    "# create a tuple named hair_colors that has 4 items (all strings)\n",
    "hair_colors = 'black', 'brown', 'blonde', 'red'\n",
    "\n",
    "# indexing: extract item at index 3\n",
    "print(hair_colors[3])\n",
    "\n",
    "# slicing: extract items starting from index -3 to the end of tuple\n",
    "print(hair_colors[-3:])"
   ]
  },
  {
   "cell_type": "code",
   "execution_count": 3,
   "metadata": {},
   "outputs": [
    {
     "name": "stdout",
     "output_type": "stream",
     "text": [
      "True\n",
      "True\n",
      "False\n"
     ]
    }
   ],
   "source": [
    "# test membership\n",
    "print('blonde' in hair_colors)\n",
    "print('gray' not in hair_colors)\n",
    "print('red' not in hair_colors)"
   ]
  },
  {
   "cell_type": "markdown",
   "metadata": {},
   "source": [
    "**Suppose we want to ADD another item (a string) to the tuple hair_colors**. \n",
    "\n",
    "Look at the following code and try to guess what happened."
   ]
  },
  {
   "cell_type": "code",
   "execution_count": 53,
   "metadata": {},
   "outputs": [
    {
     "data": {
      "text/plain": [
       "(('black', 'brown'), 'gray', ('blonde', 'red'))"
      ]
     },
     "execution_count": 53,
     "metadata": {},
     "output_type": "execute_result"
    }
   ],
   "source": [
    "# this is the original 4-tuple \n",
    "hair = 'black', 'brown', 'blonde', 'red'\n",
    "\n",
    "# we want to ADD the item 'gray' between 'brown' and 'blonde'\n",
    "hair[:2], \"gray\", hair[2:]"
   ]
  },
  {
   "cell_type": "markdown",
   "metadata": {},
   "source": [
    "**What happened** ?!  we tried to create a new 5-tuple, but ended up with a 3-tuple that contains a string and two 2-tuples inside it. \n",
    "\n",
    "**Why** ?  This happened because we used the _**comma operator with three items (a tuple, a string, and a tuple)**_.\n",
    "\n",
    "To get a single tuple with all the items we\n",
    "must concatenate tuples:"
   ]
  },
  {
   "cell_type": "code",
   "execution_count": 5,
   "metadata": {},
   "outputs": [
    {
     "data": {
      "text/plain": [
       "('black', 'brown', 'gray', 'blonde', 'red')"
      ]
     },
     "execution_count": 5,
     "metadata": {},
     "output_type": "execute_result"
    }
   ],
   "source": [
    "# this is the original 4-tuple\n",
    "hair = 'black', 'brown', 'blonde', 'red'\n",
    "\n",
    "# this is the right way to ADD 'gray'\n",
    "hair[:2] + (\"gray\",) + hair[2:]    "
   ]
  },
  {
   "cell_type": "markdown",
   "metadata": {},
   "source": [
    "**Notice** that in the above example, <font color='blue'> we used comma AND parentheses with the new item 'gray' that we want to add </font>.\n",
    "\n",
    "If we had just put in only the comma or only the parentheses, we would get a <font color=\"red\"> **TypeError** </font> (since Python would think we were trying to concatenate **a string and a tuple**)."
   ]
  },
  {
   "cell_type": "markdown",
   "metadata": {},
   "source": [
    "## Nested tuples\n",
    "\n",
    "You can include one or more tuples inside another tuple, this is called **nested tuples**. \n",
    "\n",
    "In the example below we have nested two tuples inside another one."
   ]
  },
  {
   "cell_type": "code",
   "execution_count": 7,
   "metadata": {},
   "outputs": [
    {
     "data": {
      "text/plain": [
       "(('black', 'brown', 'blonde', 'red'),\n",
       " ('blue', 'brown', 'green', 'hazel', 'amber', 'gray'))"
      ]
     },
     "execution_count": 7,
     "metadata": {},
     "output_type": "execute_result"
    }
   ],
   "source": [
    "eye_colors = 'blue', 'brown', 'green', 'hazel', 'amber', 'gray'\n",
    "color = (hair_colors, eye_colors)\n",
    "color"
   ]
  },
  {
   "cell_type": "markdown",
   "metadata": {},
   "source": [
    "## Named tuples\n",
    "\n",
    "A named tuple behaves just like a regular tuple that we have discussed above. \n",
    "\n",
    "The only difference is that named tuples gives us the ability to refer to items in the tuple  **_by name_ as well as by _index position_**, this allows us to create aggregates of data items.\n",
    "\n",
    "### How to create named tuples?\n",
    "\n",
    "Named tuples are created using **namedtuple()** function from the **collections** module. This function is used to create custom tuple data types. Here is a basic example:"
   ]
  },
  {
   "cell_type": "code",
   "execution_count": 8,
   "metadata": {},
   "outputs": [],
   "source": [
    "import collections\n",
    "\n",
    "Point = collections.namedtuple('Point', 'x y')"
   ]
  },
  {
   "cell_type": "markdown",
   "metadata": {},
   "source": [
    "Now let's discuss what is namedtuple() function is doing. <br>\n",
    "\n",
    "### 1) What are the arguments, things we are passing to, namedtuple() function ?\n",
    "\n",
    "- **First argument**: is the name of the custom tuple data type that we want to create, that is the name **Point**.\n",
    "\n",
    "\n",
    "- **Second argument**: is a string of space-separated names, one for each item that our custom tuples will take. \n",
    "\n",
    "**RULE**: The first argument, and the names in the second argument, must **ALL be valid Python\n",
    "identifiers**.\n",
    "\n",
    "\n",
    "### 2) What is namedtuple() function returning ?\n",
    "\n",
    "Tuple is Python built-in class. In the above example, the function returns a _custom class_ (datatype), which is Point. By custom class we mean a class that we have created in our code, it is not built-in in Python. Now we can treat Point just like any other Python class and use it to create named tuples (objects of the class Point). \n",
    "\n",
    "Let's see how we can do that."
   ]
  },
  {
   "cell_type": "code",
   "execution_count": 9,
   "metadata": {},
   "outputs": [
    {
     "data": {
      "text/plain": [
       "Point(x=5, y=12)"
      ]
     },
     "execution_count": 9,
     "metadata": {},
     "output_type": "execute_result"
    }
   ],
   "source": [
    "# create object p of class Point with values 5, 12 \n",
    "# p is a tuple that represents a point in the plane\n",
    "\n",
    "p = Point(5, 12) \n",
    "p"
   ]
  },
  {
   "cell_type": "markdown",
   "metadata": {},
   "source": [
    "#### Now we can use index positions or names to access or refer to items in the tuple.\n",
    "\n",
    "### By index position"
   ]
  },
  {
   "cell_type": "code",
   "execution_count": 10,
   "metadata": {},
   "outputs": [
    {
     "data": {
      "text/plain": [
       "5"
      ]
     },
     "execution_count": 10,
     "metadata": {},
     "output_type": "execute_result"
    }
   ],
   "source": [
    "# 1. index is used to access items of named tuple\n",
    "p[0]"
   ]
  },
  {
   "cell_type": "code",
   "execution_count": 11,
   "metadata": {},
   "outputs": [
    {
     "data": {
      "text/plain": [
       "12"
      ]
     },
     "execution_count": 11,
     "metadata": {},
     "output_type": "execute_result"
    }
   ],
   "source": [
    "p[1]"
   ]
  },
  {
   "cell_type": "markdown",
   "metadata": {},
   "source": [
    "### By name"
   ]
  },
  {
   "cell_type": "code",
   "execution_count": 12,
   "metadata": {},
   "outputs": [
    {
     "data": {
      "text/plain": [
       "5"
      ]
     },
     "execution_count": 12,
     "metadata": {},
     "output_type": "execute_result"
    }
   ],
   "source": [
    "# 2. name is used to access items of named tuple\n",
    "p.x"
   ]
  },
  {
   "cell_type": "code",
   "execution_count": 13,
   "metadata": {},
   "outputs": [
    {
     "data": {
      "text/plain": [
       "12"
      ]
     },
     "execution_count": 13,
     "metadata": {},
     "output_type": "execute_result"
    }
   ],
   "source": [
    "p.y"
   ]
  },
  {
   "cell_type": "markdown",
   "metadata": {},
   "source": [
    "**To see the clarity and convenience offered by named tuples**, here is another nice example where create two named tuples one inside another (nested)."
   ]
  },
  {
   "cell_type": "code",
   "execution_count": 15,
   "metadata": {},
   "outputs": [
    {
     "data": {
      "text/plain": [
       "220"
      ]
     },
     "execution_count": 15,
     "metadata": {},
     "output_type": "execute_result"
    }
   ],
   "source": [
    "import collections\n",
    "\n",
    "# first named tuple Aircraft\n",
    "Aircraft = collections.namedtuple(\"Aircraft\", \"manufacturer model seating\")\n",
    "\n",
    "# second named tuple Seating\n",
    "Seating = collections.namedtuple(\"Seating\", \"minimum maximum\")\n",
    "\n",
    "# create object (aircraft) of class (Aircraft)\n",
    "aircraft = Aircraft(\"Airbus\", \"A320-200\", Seating(100, 220))\n",
    "\n",
    "# get the maximum number of seats in our aircraft \n",
    "aircraft.seating.maximum\n"
   ]
  },
  {
   "cell_type": "markdown",
   "metadata": {},
   "source": [
    "We can also extract the named tuple items using the print formatting statement."
   ]
  },
  {
   "cell_type": "code",
   "execution_count": 18,
   "metadata": {},
   "outputs": [
    {
     "name": "stdout",
     "output_type": "stream",
     "text": [
      "Airbus A320-200\n"
     ]
    }
   ],
   "source": [
    "print(\"{0} {1}\".format(aircraft.manufacturer, aircraft.model))"
   ]
  },
  {
   "cell_type": "markdown",
   "metadata": {},
   "source": [
    "**Recall** from the **String II lecture - string formatting section** that {0} and {1} are called _**replacement fields**_ and the 2 things passed to the format() function are called _**arguments**_. So, the field name {0} was replaced by the $1^{st}$ argument (aircraft.manufacturer which is \"Airbus\"), and field name {1} was replaced by $2^{nd}$ argument (aircraft.model which is \"A320-200\").\n",
    "\n",
    "In the above example, we have accessed each of the tuple’s items that we are interested in using named tuple attribute access (.). This gives us the shortest and simplest format string. \n",
    "\n",
    "You can also do the following, use single positional argument (for example aircraft in format function) and the attributes names as fields names:"
   ]
  },
  {
   "cell_type": "code",
   "execution_count": 21,
   "metadata": {},
   "outputs": [
    {
     "data": {
      "text/plain": [
       "'Airbus A320-200'"
      ]
     },
     "execution_count": 21,
     "metadata": {},
     "output_type": "execute_result"
    }
   ],
   "source": [
    "\"{0.manufacturer} {0.model}\".format(aircraft)"
   ]
  },
  {
   "cell_type": "markdown",
   "metadata": {},
   "source": [
    "## Great!\n",
    "### You have learned a lot about tuples in Python, our next lecture covers another collection datatypes which are lists.\n"
   ]
  }
 ],
 "metadata": {
  "kernelspec": {
   "display_name": "Python 3",
   "language": "python",
   "name": "python3"
  },
  "language_info": {
   "codemirror_mode": {
    "name": "ipython",
    "version": 3
   },
   "file_extension": ".py",
   "mimetype": "text/x-python",
   "name": "python",
   "nbconvert_exporter": "python",
   "pygments_lexer": "ipython3",
   "version": "3.6.5"
  }
 },
 "nbformat": 4,
 "nbformat_minor": 2
}
