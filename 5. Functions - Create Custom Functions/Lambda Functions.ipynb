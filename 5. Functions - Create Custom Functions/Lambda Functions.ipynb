{
 "cells": [
  {
   "cell_type": "markdown",
   "metadata": {},
   "source": [
    "# Lambda Functions\n",
    "\n",
    "Lambda functions are expressions that create or return anonymous functions, anonymous functions are functions without a name.\n",
    "\n",
    "Lambda functions can be created using the following syntax:\n",
    "\n",
    "                               lambda parameters: expression\n",
    "\n",
    "- The _parameters_ are optional, if you have more than one parameter they must be separated by comma (,)\n",
    "- The _expression_ cannot contain branches or loops, but conditional expressions are allowed\n",
    "- The _expression_ cannot have a return (or yield) statement.\n",
    "- The result of a lambda expression is an anonymous function. \n",
    "\n",
    "After creating the lambda function, we can can call it. When a lambda function is called it returns the result of computing the expression.\n",
    "\n",
    "Let's have a small example."
   ]
  },
  {
   "cell_type": "code",
   "execution_count": 1,
   "metadata": {},
   "outputs": [],
   "source": [
    "st = lambda a: \"abc\" if a == 1 else \"xyz\""
   ]
  },
  {
   "cell_type": "markdown",
   "metadata": {},
   "source": [
    "The parameter of this lambda function is the variable _a_ \n",
    "\n",
    "The expression is the conditional expression **\"abc\" if a == 1 else \"xyz\"**. \n",
    "\n",
    "The lambda function returns an anonymous function which is assigned to the variable _st_. This variable _st_ is _**callable**_ which means we can write st() to call the anonymous function. If the function has parameters then we must supply all the required argument inside the parentheses. Here is an example call to the above lambda function: "
   ]
  },
  {
   "cell_type": "code",
   "execution_count": 2,
   "metadata": {},
   "outputs": [
    {
     "data": {
      "text/plain": [
       "'abc'"
      ]
     },
     "execution_count": 2,
     "metadata": {},
     "output_type": "execute_result"
    }
   ],
   "source": [
    "st(1)"
   ]
  },
  {
   "cell_type": "markdown",
   "metadata": {},
   "source": [
    "Here the parameter _a_ received the value 1 from the function call. And because _a = 1_, the _if_ statement will run and \"abc\" will be the result of the conditional expression. That's why the function returned \"abc\". Now if _a_ is not equal to 1, the _else_ statement will run and the function will return \"xyz\" as shown below. "
   ]
  },
  {
   "cell_type": "code",
   "execution_count": 3,
   "metadata": {},
   "outputs": [
    {
     "data": {
      "text/plain": [
       "'xyz'"
      ]
     },
     "execution_count": 3,
     "metadata": {},
     "output_type": "execute_result"
    }
   ],
   "source": [
    "st(4)"
   ]
  },
  {
   "cell_type": "markdown",
   "metadata": {},
   "source": [
    "The normal function that starts with _def_ keyword and is equivalent to the above lambda function can be something like this one below and it is called the same way we called the lambda function."
   ]
  },
  {
   "cell_type": "code",
   "execution_count": 7,
   "metadata": {},
   "outputs": [],
   "source": [
    "def st(a):\n",
    "    if a == 1:\n",
    "        return \"abc\"\n",
    "    else:\n",
    "        return \"xyz\""
   ]
  },
  {
   "cell_type": "code",
   "execution_count": 8,
   "metadata": {},
   "outputs": [
    {
     "data": {
      "text/plain": [
       "'abc'"
      ]
     },
     "execution_count": 8,
     "metadata": {},
     "output_type": "execute_result"
    }
   ],
   "source": [
    "st(1)  #this call will execute the if statement"
   ]
  },
  {
   "cell_type": "code",
   "execution_count": 9,
   "metadata": {},
   "outputs": [
    {
     "data": {
      "text/plain": [
       "'xyz'"
      ]
     },
     "execution_count": 9,
     "metadata": {},
     "output_type": "execute_result"
    }
   ],
   "source": [
    "st(5)  #this call will execute the else statement"
   ]
  },
  {
   "cell_type": "markdown",
   "metadata": {},
   "source": [
    "**NOTE**: Lambda functions are often used with the filter(), map() and reduce() functions. These functions will be discussed later in the course."
   ]
  },
  {
   "cell_type": "markdown",
   "metadata": {},
   "source": [
    "Here is another example: Let's try to create a lambda and an equivalent normal function that calculate the area of a triangle using this formula:\n",
    "\n",
    "**Area of triangle** $= 1/2 * base * height$\n",
    "\n",
    "First the lambda function:"
   ]
  },
  {
   "cell_type": "code",
   "execution_count": 22,
   "metadata": {},
   "outputs": [],
   "source": [
    "area = lambda base, height: 0.5 * base * height"
   ]
  },
  {
   "cell_type": "code",
   "execution_count": 23,
   "metadata": {},
   "outputs": [
    {
     "data": {
      "text/plain": [
       "30.0"
      ]
     },
     "execution_count": 23,
     "metadata": {},
     "output_type": "execute_result"
    }
   ],
   "source": [
    "area(6, 10)"
   ]
  },
  {
   "cell_type": "markdown",
   "metadata": {},
   "source": [
    "Next the normal function with _def_ statement:"
   ]
  },
  {
   "cell_type": "code",
   "execution_count": 24,
   "metadata": {},
   "outputs": [],
   "source": [
    "def area(base, height):\n",
    "    return 0.5 * base * height"
   ]
  },
  {
   "cell_type": "code",
   "execution_count": 25,
   "metadata": {},
   "outputs": [
    {
     "data": {
      "text/plain": [
       "30.0"
      ]
     },
     "execution_count": 25,
     "metadata": {},
     "output_type": "execute_result"
    }
   ],
   "source": [
    "area(6, 10)"
   ]
  },
  {
   "cell_type": "markdown",
   "metadata": {},
   "source": [
    "As you can see, calling the lambda function and the normal function will give the same result."
   ]
  },
  {
   "cell_type": "markdown",
   "metadata": {},
   "source": [
    "## Creating default dictionaries using lambda functions\n",
    "\n",
    "Another useful use of lambda functions is when we want to create default dictionaries. Remember that if we try to access a default dictionary using a nonexistent key, a suitable item is created with the given key and with a default value. Here are a few examples:\n",
    "\n",
    "In this example, we created a default dictionary with the default value for each key is -1. If we try to access the dictionary with a key that does not exist, a new item will be created using that key and the default value"
   ]
  },
  {
   "cell_type": "code",
   "execution_count": 1,
   "metadata": {},
   "outputs": [
    {
     "data": {
      "text/plain": [
       "defaultdict(<function __main__.<lambda>>, {})"
      ]
     },
     "execution_count": 1,
     "metadata": {},
     "output_type": "execute_result"
    }
   ],
   "source": [
    "import collections\n",
    "d1 = collections.defaultdict(lambda: -1) # empty dictionary\n",
    "d1 # dict is empty now"
   ]
  },
  {
   "cell_type": "code",
   "execution_count": 2,
   "metadata": {},
   "outputs": [
    {
     "data": {
      "text/plain": [
       "-1"
      ]
     },
     "execution_count": 2,
     "metadata": {},
     "output_type": "execute_result"
    }
   ],
   "source": [
    "# access dict d1 with key=0, new item is created with value=-1\n",
    "d1[0]"
   ]
  },
  {
   "cell_type": "code",
   "execution_count": 39,
   "metadata": {},
   "outputs": [
    {
     "data": {
      "text/plain": [
       "defaultdict(<function __main__.<lambda>>, {0: -1})"
      ]
     },
     "execution_count": 39,
     "metadata": {},
     "output_type": "execute_result"
    }
   ],
   "source": [
    "d1 # now dict d1 has 1 item with key=0 and value=-1"
   ]
  },
  {
   "cell_type": "code",
   "execution_count": 40,
   "metadata": {},
   "outputs": [
    {
     "data": {
      "text/plain": [
       "-1"
      ]
     },
     "execution_count": 40,
     "metadata": {},
     "output_type": "execute_result"
    }
   ],
   "source": [
    "# access dict d1 with key='a', new item is created with value=-1\n",
    "d1['a']  "
   ]
  },
  {
   "cell_type": "code",
   "execution_count": 41,
   "metadata": {},
   "outputs": [
    {
     "data": {
      "text/plain": [
       "defaultdict(<function __main__.<lambda>>, {0: -1, 'a': -1})"
      ]
     },
     "execution_count": 41,
     "metadata": {},
     "output_type": "execute_result"
    }
   ],
   "source": [
    "d1  #now dict d1 has 2 item with keys=0 and 1, values=-1"
   ]
  },
  {
   "cell_type": "markdown",
   "metadata": {},
   "source": [
    "Let's create another default dictionary where the default value is a tuple ('a', 'b'):"
   ]
  },
  {
   "cell_type": "code",
   "execution_count": 43,
   "metadata": {},
   "outputs": [
    {
     "data": {
      "text/plain": [
       "defaultdict(<function __main__.<lambda>>, {})"
      ]
     },
     "execution_count": 43,
     "metadata": {},
     "output_type": "execute_result"
    }
   ],
   "source": [
    "d2 = collections.defaultdict(lambda: ('a', 'b')) #empty dictionary\n",
    "d2  #now dict d1 is empty"
   ]
  },
  {
   "cell_type": "code",
   "execution_count": 44,
   "metadata": {},
   "outputs": [
    {
     "data": {
      "text/plain": [
       "('a', 'b')"
      ]
     },
     "execution_count": 44,
     "metadata": {},
     "output_type": "execute_result"
    }
   ],
   "source": [
    "#access dict d2 with key=0, new item is created with value=('a', 'b')\n",
    "d2[0] "
   ]
  },
  {
   "cell_type": "code",
   "execution_count": 45,
   "metadata": {},
   "outputs": [
    {
     "data": {
      "text/plain": [
       "defaultdict(<function __main__.<lambda>>, {0: ('a', 'b')})"
      ]
     },
     "execution_count": 45,
     "metadata": {},
     "output_type": "execute_result"
    }
   ],
   "source": [
    "d2 #now dict d2 has 1 item with key=0 and value=('a', 'b')"
   ]
  },
  {
   "cell_type": "code",
   "execution_count": 46,
   "metadata": {},
   "outputs": [
    {
     "data": {
      "text/plain": [
       "('a', 'b')"
      ]
     },
     "execution_count": 46,
     "metadata": {},
     "output_type": "execute_result"
    }
   ],
   "source": [
    "#access dict d2 with key='name', new item is created with value=('a', 'b')\n",
    "d2['name'] "
   ]
  },
  {
   "cell_type": "code",
   "execution_count": 47,
   "metadata": {},
   "outputs": [
    {
     "data": {
      "text/plain": [
       "defaultdict(<function __main__.<lambda>>, {0: ('a', 'b'), 'name': ('a', 'b')})"
      ]
     },
     "execution_count": 47,
     "metadata": {},
     "output_type": "execute_result"
    }
   ],
   "source": [
    "d2 #now dict d2 has 2 item with keys=0 and 'name', value=('a', 'b')"
   ]
  },
  {
   "cell_type": "markdown",
   "metadata": {},
   "source": [
    "## Well Done!\n",
    "### Next we will cover generators functions as a way to produce iterators."
   ]
  },
  {
   "cell_type": "code",
   "execution_count": null,
   "metadata": {},
   "outputs": [],
   "source": []
  }
 ],
 "metadata": {
  "kernelspec": {
   "display_name": "Python 3",
   "language": "python",
   "name": "python3"
  },
  "language_info": {
   "codemirror_mode": {
    "name": "ipython",
    "version": 3
   },
   "file_extension": ".py",
   "mimetype": "text/x-python",
   "name": "python",
   "nbconvert_exporter": "python",
   "pygments_lexer": "ipython3",
   "version": "3.6.5"
  }
 },
 "nbformat": 4,
 "nbformat_minor": 2
}
