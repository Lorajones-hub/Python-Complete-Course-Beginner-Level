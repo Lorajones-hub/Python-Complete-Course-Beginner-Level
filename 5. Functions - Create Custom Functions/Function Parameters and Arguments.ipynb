{
 "cells": [
  {
   "cell_type": "markdown",
   "metadata": {},
   "source": [
    "# Function Parameters and Arguments\n",
    "\n",
    "You have seen earlier how to call a function and give arguments (passed information) that will be received by parameters. We discussed only one case of calling a function when the number of arguments are equal to the number of the corresponding parameters. \n",
    "\n",
    "There are other ways of calling functions and in this lecture you will learn:\n",
    "\n",
    "- Calling a function by default parameters.\n",
    "- Calling a function by keyword parameters.\n",
    "- Calling a function by variable-length parameters.\n",
    "\n",
    "## Calling a function by default parameters\n",
    "\n",
    "Some functions use parameters that have a default value, these types of parameters follow the syntax:\n",
    "\n",
    "                             parameter = default value\n",
    "\n",
    "The default value will be assumed by the function and assigned to the default parameter if no other value is given. \n",
    "\n",
    "To explain what we mean by that, take a look at the following example\n"
   ]
  },
  {
   "cell_type": "code",
   "execution_count": 1,
   "metadata": {},
   "outputs": [
    {
     "name": "stdout",
     "output_type": "stream",
     "text": [
      "John 30\n",
      "John 25\n"
     ]
    }
   ],
   "source": [
    "def print_info(name, age=25):\n",
    "    print(name, age)\n",
    "\n",
    "\n",
    "print_info(\"John\", 30)   # call with 2 arguments \n",
    "print_info(\"John\")       # call with only 1 argument"
   ]
  },
  {
   "cell_type": "markdown",
   "metadata": {},
   "source": [
    "The **print_info** function has 2 parameters, _name_ and _age_. The parameter _name_ is a regular (positional) parameter but _age_ is a default parameter because it has a default value which is 25. In the first function call, when we passed the values \"John\" and 30 as arguments, the function printed John 30. This means that the default value of _age_ was replaced with 30. In the second function call, only one argument is given which is John, so the function used the default value of _age_ which is 25. This is one of the powerful feature in Python that does not exist in other languages.\n",
    "\n",
    "Here is another example that counts the number of letters in a string."
   ]
  },
  {
   "cell_type": "code",
   "execution_count": 23,
   "metadata": {},
   "outputs": [],
   "source": [
    "import string  # importing the string module\n",
    "\n",
    "def count_letters(text, letters=string.ascii_letters):\n",
    "    count = 0\n",
    "    for char in text:\n",
    "        if char in letters:\n",
    "            count += 1\n",
    "    return count"
   ]
  },
  {
   "cell_type": "markdown",
   "metadata": {},
   "source": [
    "We have defined the parameter letters with a default value which is all letters in the ascii table (uppercase + lowercase letters) which are 'abcdefghijklmnopqrstuvwxyzABCDEFGHIJKLMNOPQRSTUVWXYZ'. These letters are taken from the constant ascii_letters which is defined in the module _string_ that we have imported in the first line of the code. This function allows us to use ONLY one argument in the function call that corresponds to parameter _text_. The second parameter _letters_ is a default parameter so it is not required to provide an argument for it. \n",
    "\n",
    "Below is the function call with one argument:"
   ]
  },
  {
   "cell_type": "code",
   "execution_count": 37,
   "metadata": {},
   "outputs": [
    {
     "data": {
      "text/plain": [
       "11"
      ]
     },
     "execution_count": 37,
     "metadata": {},
     "output_type": "execute_result"
    }
   ],
   "source": [
    "# this will count all the letters\n",
    "count_letters(\"I love Python\")"
   ]
  },
  {
   "cell_type": "markdown",
   "metadata": {},
   "source": [
    "But we can still change the default value of _letters_ parameter using extra argument. Below we have changed the value of letters to be only the lowercase letters instead of uppercase and lowercase."
   ]
  },
  {
   "cell_type": "code",
   "execution_count": 6,
   "metadata": {},
   "outputs": [
    {
     "data": {
      "text/plain": [
       "9"
      ]
     },
     "execution_count": 6,
     "metadata": {},
     "output_type": "execute_result"
    }
   ],
   "source": [
    "# this will count only the lowercase letters\n",
    "count_letters(\"I love Python\",  \"abcdefghijklmnopqrstuvwxyz\") "
   ]
  },
  {
   "cell_type": "markdown",
   "metadata": {},
   "source": [
    "**NOTES**:\n",
    "\n",
    "- Many functions in Python uses a mixture of positional parameters and default parameters. This gives us the flexibility to specify the arguments we care about and omit others. \n",
    "\n",
    "\n",
    "- When default values are given, they are created at the time the _def_ statement is executed (i.e., when the function is created), **_not_** when the function is called."
   ]
  },
  {
   "cell_type": "markdown",
   "metadata": {},
   "source": [
    "## Calling a function by keyword arguments\n",
    "\n",
    "We can also call any function using keyword arguments, each keyword argument takes the form:\n",
    "\n",
    "\n",
    "                                     argument name = value\n",
    "\n",
    "\n",
    "The previous function count_letters can be called like this:"
   ]
  },
  {
   "cell_type": "code",
   "execution_count": 27,
   "metadata": {},
   "outputs": [
    {
     "data": {
      "text/plain": [
       "9"
      ]
     },
     "execution_count": 27,
     "metadata": {},
     "output_type": "execute_result"
    }
   ],
   "source": [
    "count_letters(text=\"I love Python\", letters=\"abcdefghijklmnopqrstuvwxyz\")"
   ]
  },
  {
   "cell_type": "markdown",
   "metadata": {},
   "source": [
    "It doesn't matter in which order you write the keyword arguments, for example we can put the argument letters before text and it works perfectly fine as seen below:"
   ]
  },
  {
   "cell_type": "code",
   "execution_count": 28,
   "metadata": {},
   "outputs": [
    {
     "data": {
      "text/plain": [
       "9"
      ]
     },
     "execution_count": 28,
     "metadata": {},
     "output_type": "execute_result"
    }
   ],
   "source": [
    "count_letters(letters=\"abcdefghijklmnopqrstuvwxyz\", text=\"I love Python\")"
   ]
  },
  {
   "cell_type": "markdown",
   "metadata": {},
   "source": [
    "## Calling a function by variable-length parameters\n",
    "\n",
    "Sometimes it is useful to create a function that can take a variable number of arguments. These arguments are called _**variable-length arguments**_ and are not named in the function definition. Following is a simple example."
   ]
  },
  {
   "cell_type": "code",
   "execution_count": 2,
   "metadata": {},
   "outputs": [
    {
     "name": "stdout",
     "output_type": "stream",
     "text": [
      "Output is:\n",
      "10\n",
      "Output is:\n",
      "10\n",
      "50\n",
      "60\n",
      "70\n"
     ]
    }
   ],
   "source": [
    "def print_info(x, *vartuple):\n",
    "    print(\"Output is:\")\n",
    "    print(x)\n",
    "    for var in vartuple:\n",
    "        print(var)\n",
    "\n",
    "# now some function calls\n",
    "print_info(10)\n",
    "print_info(10, 50, 60, 70)"
   ]
  },
  {
   "cell_type": "markdown",
   "metadata": {},
   "source": [
    "An asterisk (\\*) is placed before the variable-length parameter, which is _vartuple_. Having the \\* in front means that inside the function the _vartuple_ parameter will be a tuple and its items will be set to whatever arguments the user gives when calling the function. The tuple remains empty if no additional arguments are supplied during the function call. This can be seen in the first function call print_info(10) where the value 10 will go to parameter x. In the second function call print_info(10, 50, 60, 70), the parameter x took the value 10 and _vartuple_ took the rest of the values 50. 60. 70.\n",
    "\n",
    "Calling a function using a variable-length arguments is also called _**Argument and parameter unpacking**_. We have taken this _**unpacking**_ concept in the topic: **Sequence unpacking**, lecture: **List Comparisons and Methods**. \n",
    "\n",
    "Let's have another example, we have a function called product that multiplies the values of its arguments. In the first call, the parameter L (which is a tuple inside the function) will have 5 items, in the second call L will have 3 items and only one item in the third call."
   ]
  },
  {
   "cell_type": "code",
   "execution_count": 3,
   "metadata": {},
   "outputs": [],
   "source": [
    "def product(*L):\n",
    "    product = 1\n",
    "    for a in L:\n",
    "        product *= a\n",
    "    return product"
   ]
  },
  {
   "cell_type": "code",
   "execution_count": 4,
   "metadata": {},
   "outputs": [
    {
     "data": {
      "text/plain": [
       "120"
      ]
     },
     "execution_count": 4,
     "metadata": {},
     "output_type": "execute_result"
    }
   ],
   "source": [
    "# first call\n",
    "product(1, 2, 3, 4, 5) "
   ]
  },
  {
   "cell_type": "code",
   "execution_count": 5,
   "metadata": {},
   "outputs": [
    {
     "data": {
      "text/plain": [
       "60"
      ]
     },
     "execution_count": 5,
     "metadata": {},
     "output_type": "execute_result"
    }
   ],
   "source": [
    "# second call\n",
    "product(6, 5, 2) "
   ]
  },
  {
   "cell_type": "code",
   "execution_count": 6,
   "metadata": {},
   "outputs": [
    {
     "data": {
      "text/plain": [
       "20"
      ]
     },
     "execution_count": 6,
     "metadata": {},
     "output_type": "execute_result"
    }
   ],
   "source": [
    "# third call\n",
    "product(20)"
   ]
  },
  {
   "cell_type": "markdown",
   "metadata": {},
   "source": [
    "## Using \\* as a parameter\n",
    "\n",
    "\n",
    "It is also possible to use \\* as a parameter. This is used to tell us that there can be no positional arguments after the \\*, although default parameters are allowed. \n",
    "\n",
    "Let's create another version of circle_area function, here the function takes exactly two positional arguments and one OPTIONAL default parameter."
   ]
  },
  {
   "cell_type": "code",
   "execution_count": 13,
   "metadata": {},
   "outputs": [],
   "source": [
    "def circle_area(radius, pi, *, unit=\"square meters\"):\n",
    "    area = radius**2 * pi\n",
    "    return \"{0} {1}\".format(area, unit)"
   ]
  },
  {
   "cell_type": "code",
   "execution_count": 14,
   "metadata": {},
   "outputs": [
    {
     "data": {
      "text/plain": [
       "'314.0 square meters'"
      ]
     },
     "execution_count": 14,
     "metadata": {},
     "output_type": "execute_result"
    }
   ],
   "source": [
    "# calling the function with 2 positianl arguments\n",
    "circle_area(10, 3.14)"
   ]
  },
  {
   "cell_type": "code",
   "execution_count": 18,
   "metadata": {},
   "outputs": [
    {
     "data": {
      "text/plain": [
       "'314.0 square inches'"
      ]
     },
     "execution_count": 18,
     "metadata": {},
     "output_type": "execute_result"
    }
   ],
   "source": [
    "# calling the function with 2 positianl arguments and 1 default parameter\n",
    "circle_area(10, 3.14, unit=\"square inches\")"
   ]
  },
  {
   "cell_type": "markdown",
   "metadata": {},
   "source": [
    "If you try to pass a third positional argument to the function circle_area, a TypeError will be raised."
   ]
  },
  {
   "cell_type": "code",
   "execution_count": 16,
   "metadata": {},
   "outputs": [
    {
     "ename": "TypeError",
     "evalue": "circle_area() takes 2 positional arguments but 3 positional arguments (and 1 keyword-only argument) were given",
     "output_type": "error",
     "traceback": [
      "\u001b[1;31m---------------------------------------------------------------------------\u001b[0m",
      "\u001b[1;31mTypeError\u001b[0m                                 Traceback (most recent call last)",
      "\u001b[1;32m<ipython-input-16-73f68af6142b>\u001b[0m in \u001b[0;36m<module>\u001b[1;34m()\u001b[0m\n\u001b[1;32m----> 1\u001b[1;33m \u001b[0mcircle_area\u001b[0m\u001b[1;33m(\u001b[0m\u001b[1;36m10\u001b[0m\u001b[1;33m,\u001b[0m \u001b[1;36m3.14\u001b[0m\u001b[1;33m,\u001b[0m \u001b[1;36m2\u001b[0m\u001b[1;33m,\u001b[0m \u001b[0munit\u001b[0m\u001b[1;33m=\u001b[0m\u001b[1;34m\"square inches\"\u001b[0m\u001b[1;33m)\u001b[0m\u001b[1;33m\u001b[0m\u001b[0m\n\u001b[0m",
      "\u001b[1;31mTypeError\u001b[0m: circle_area() takes 2 positional arguments but 3 positional arguments (and 1 keyword-only argument) were given"
     ]
    }
   ],
   "source": [
    "circle_area(10, 3.14, 2, unit=\"square inches\")"
   ]
  },
  {
   "cell_type": "markdown",
   "metadata": {},
   "source": [
    "**NOTE**: By making \\* parameter the first one, this will not allow calling the function with any positional arguments."
   ]
  },
  {
   "cell_type": "markdown",
   "metadata": {},
   "source": [
    "## Great job!\n",
    "### Now you have learned all types of function calls in Python. Let's move on to explore lambda functions."
   ]
  }
 ],
 "metadata": {
  "kernelspec": {
   "display_name": "Python 3",
   "language": "python",
   "name": "python3"
  },
  "language_info": {
   "codemirror_mode": {
    "name": "ipython",
    "version": 3
   },
   "file_extension": ".py",
   "mimetype": "text/x-python",
   "name": "python",
   "nbconvert_exporter": "python",
   "pygments_lexer": "ipython3",
   "version": "3.6.5"
  }
 },
 "nbformat": 4,
 "nbformat_minor": 2
}
