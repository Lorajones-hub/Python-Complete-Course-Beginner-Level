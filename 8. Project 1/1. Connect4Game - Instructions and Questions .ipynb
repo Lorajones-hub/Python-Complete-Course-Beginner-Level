{
 "cells": [
  {
   "cell_type": "markdown",
   "metadata": {},
   "source": [
    "# Connect4 Game $-$ How to play\n",
    "\n",
    "Congratualtions everyone on reaching project 1 of this course!\n",
    "\n",
    "In this project you will create a simple game in Python called connect 4. It is a variation of Tic-Tac-Toe game. The rules are simple:\n",
    "\n",
    "- Try to build a row of four checkers while preventing your opponent from doing the same.\n",
    "- There are 2 players in this game and the checkers are either the character 'X' or 'O'.\n",
    "- The winner is the first player to get 4 colored checkers in a row $-$ horizontally, vertically, or diagonally.\n",
    "- This is a grid (or borad) game, so you need to use a 2 dimentional matrix of any size to implement the grid.\n",
    "- Players have to alternate turns. Each palyer has to choose a column to add his/her checker vertically on the board. The vertical strategy creates a unique challenge.\n",
    "\n",
    "\n"
   ]
  },
  {
   "cell_type": "markdown",
   "metadata": {},
   "source": [
    "## Questions: Create the following functions:\n",
    "\n",
    "\n",
    "  1. **create_board()**: this function creates a 2D array (matrix) that represents the game board. The parameters of the function are the number of rows and columns.\n",
    "\n",
    "\n",
    "  2. **print_board()**: this function receives the current board (matrix) and prints it on the screen for the current turn.\n",
    "  \n",
    "     - Here, try to print the column number then the board as a grid of asterisks. For example a board of 4 X 4 will look like this:\n",
    "      \n",
    "                                            0  1  2  3\n",
    "                                            *  *  *  *\n",
    "                                            *  *  *  *\n",
    "                                            *  *  *  *\n",
    "                                            *  *  *  *\n",
    "                                            \n",
    "  3. **find_horizontal_match()**: the function receives the current board (as a parameter) and returns True if a player has connected 4 checkers horizonatlly.\n",
    "  \n",
    "  \n",
    "  4. **find_vertical_match()** the function receives the current board (as a parameter) and returns True if a player has connected 4 checkers vertically.\n",
    "  \n",
    "  \n",
    " 5. **find_diagonal_match()** the function receives the current board (as a parameter) and returns true if a player has connected 4 checkers diagonally. Please refer to the video and slides that explain how to check the board for a diagonal match.\n",
    "  \n",
    "  \n",
    " 6. **play_connect4()**: the main function in the program that calls all other functions. This function can be designed with the following steps or blocks:\n",
    " \n",
    "       - Create the initial board.\n",
    "       - Print the board.\n",
    "       - While True:\n",
    "            - Setup players and turns.\n",
    "            - Ask the player (A or B) to enter a correct checker and a column number. To enter these information use the **input() function**. If you need help doing this step, go to the next notebook to see the input part in this function.\n",
    "            - Put the checker down the entered column (above all other checkers in that column).\n",
    "            - Print the board after adding the checker.\n",
    "            - Check for horizonal, vertical, or diagonal match.\n",
    "                 - If a match occur, display a message to show which player win the game\n",
    "                 - If there is no match, the next player continue the game.\n",
    "            - **OPTIONAL** steps:\n",
    "                 - You can show in how many steps the winner won the game.\n",
    "                 - You can set a limit to the number of turns.\n",
    "       - Call play_connect4() function at the end of the program to play the game.\n",
    "   \n",
    "\n",
    "\n",
    "### Good Luck! and always have fun coding your projects.\n"
   ]
  },
  {
   "cell_type": "code",
   "execution_count": null,
   "metadata": {},
   "outputs": [],
   "source": []
  }
 ],
 "metadata": {
  "kernelspec": {
   "display_name": "Python 3",
   "language": "python",
   "name": "python3"
  },
  "language_info": {
   "codemirror_mode": {
    "name": "ipython",
    "version": 3
   },
   "file_extension": ".py",
   "mimetype": "text/x-python",
   "name": "python",
   "nbconvert_exporter": "python",
   "pygments_lexer": "ipython3",
   "version": "3.6.5"
  }
 },
 "nbformat": 4,
 "nbformat_minor": 2
}
