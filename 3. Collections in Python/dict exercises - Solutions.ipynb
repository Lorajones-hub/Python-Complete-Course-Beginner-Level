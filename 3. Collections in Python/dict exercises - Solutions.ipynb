{
 "cells": [
  {
   "cell_type": "markdown",
   "metadata": {},
   "source": [
    "# Dictionaries Exercises - Solutions"
   ]
  },
  {
   "cell_type": "markdown",
   "metadata": {},
   "source": [
    "## Question 1:\n",
    "\n",
    "### Write a Python script to add a new item (key-value) to a dictionary. \n"
   ]
  },
  {
   "cell_type": "code",
   "execution_count": 2,
   "metadata": {},
   "outputs": [
    {
     "data": {
      "text/plain": [
       "{0: 10, 1: 20, 2: 30}"
      ]
     },
     "execution_count": 2,
     "metadata": {},
     "output_type": "execute_result"
    }
   ],
   "source": [
    "# Q1 solution\n",
    "\n",
    "d = {0:10, 1:20}\n",
    "d.update({2:30})\n",
    "d"
   ]
  },
  {
   "cell_type": "markdown",
   "metadata": {},
   "source": [
    "## Question 2:\n",
    "\n",
    "### Write a Python script to concatenate following dictionaries to create a new one. \n"
   ]
  },
  {
   "cell_type": "code",
   "execution_count": 3,
   "metadata": {},
   "outputs": [
    {
     "data": {
      "text/plain": [
       "{1: 100, 2: 200, 3: 300, 4: 400, 5: 500, 6: 600}"
      ]
     },
     "execution_count": 3,
     "metadata": {},
     "output_type": "execute_result"
    }
   ],
   "source": [
    "# Q2 solution\n",
    "\n",
    "d1={1:100, 2:200}\n",
    "d2={3:300, 4:400}\n",
    "d3={5:500, 6:600}\n",
    "d4 = {}\n",
    "for d in (d1, d2, d3): \n",
    "    d4.update(d)\n",
    "d4"
   ]
  },
  {
   "cell_type": "markdown",
   "metadata": {},
   "source": [
    "\n"
   ]
  },
  {
   "cell_type": "markdown",
   "metadata": {},
   "source": [
    "## Question 3:\n",
    "\n",
    "### Write a Python program to sort a dictionary by key in a) ascending order (from smallest key to largest key) and b) in descending order (from largest key to smallest key)."
   ]
  },
  {
   "cell_type": "code",
   "execution_count": 11,
   "metadata": {},
   "outputs": [
    {
     "name": "stdout",
     "output_type": "stream",
     "text": [
      "Original dictionary :  {3: 4, 0: 5, 1: 2, 2: 6}\n",
      "Dictionary in ascending order:  [(0, 5), (1, 2), (2, 6), (3, 4)]\n",
      "Dictionary in descending order:  [(3, 4), (2, 6), (1, 2), (0, 5)]\n"
     ]
    }
   ],
   "source": [
    "# Q3 solution\n",
    "\n",
    "d = {3: 4, 0: 5, 1: 2, 2: 6}\n",
    "print('Original dictionary : ',d)\n",
    "\n",
    "# sort d in ascending order (from smallest to largest)\n",
    "d1 = sorted(d.items())\n",
    "print('Dictionary in ascending order: ', d1)\n",
    "\n",
    "# sort d in descending order (from largest to smallest)\n",
    "d2 = sorted(d.items(), reverse=True)\n",
    "print('Dictionary in descending order: ', d2)"
   ]
  },
  {
   "cell_type": "markdown",
   "metadata": {},
   "source": [
    "## Question 4:\n",
    "\n",
    "### Write a Python program to sum all the items in a dictionary."
   ]
  },
  {
   "cell_type": "code",
   "execution_count": 12,
   "metadata": {},
   "outputs": [
    {
     "data": {
      "text/plain": [
       "290"
      ]
     },
     "execution_count": 12,
     "metadata": {},
     "output_type": "execute_result"
    }
   ],
   "source": [
    "# Q4 solution\n",
    "\n",
    "my_dict = {'item1':100,'item2':-50,'item3':240}\n",
    "sum(my_dict.values())"
   ]
  },
  {
   "cell_type": "code",
   "execution_count": null,
   "metadata": {},
   "outputs": [],
   "source": []
  }
 ],
 "metadata": {
  "kernelspec": {
   "display_name": "Python 3",
   "language": "python",
   "name": "python3"
  },
  "language_info": {
   "codemirror_mode": {
    "name": "ipython",
    "version": 3
   },
   "file_extension": ".py",
   "mimetype": "text/x-python",
   "name": "python",
   "nbconvert_exporter": "python",
   "pygments_lexer": "ipython3",
   "version": "3.6.5"
  }
 },
 "nbformat": 4,
 "nbformat_minor": 2
}
