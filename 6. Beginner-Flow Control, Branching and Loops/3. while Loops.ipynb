{
 "cells": [
  {
   "cell_type": "markdown",
   "metadata": {},
   "source": [
    "# What is a loop?\n",
    "\n",
    "A loop (or repetition) means repeating a block of code a fixed number of times. Python provides two statements for creating loops:\n",
    "\n",
    "- **_while ... else_ statement**\n",
    "- **_for ... in_ statement**\n",
    "\n",
    "Both _while_ and _for_ have more detailed syntax than the basic syntax we discussed in section 2.\n",
    "\n",
    "**In this lecture, we will discuss the _while_ statement.**\n",
    "\n",
    "The syntax for the _while ... else_ statement. \n",
    "\n",
    "\n",
    "                                   while boolean_expression:\n",
    "                                       while block\n",
    "                                   else:\n",
    "                                       else block\n",
    "\n",
    "**NOTE**: The else_ part is OPTIONAL and used only if needed. \n",
    "\n",
    "**How this _while_ statement works?**\n",
    "\n",
    "As long as the boolean_expression is _True_, the while block is executed. If the boolean_expression becomes _False_, the _while_ loop terminates, and if the optional _else_ is present, its block is executed.\n",
    "\n",
    "In Python, two statements can alter the flow of a normal loop, these are **_continue_** and **_break_** statements :\n",
    "\n",
    " 1) **_continue_ statement**: switches control (switches program execution) to the start of the loop.\n",
    " \n",
    " 2) **_break_ statement**: breaks out the loop and switches control to the statement following the loop. If the _else_ part exists, _break_ will switch control to the statement following the _else_ block.\n",
    "\n",
    "Inside the while block, if a _**continue**_ statement is executed, control is immediately returned to the top of the loop, and the boolean_expression is evaluated again. \n",
    "\n",
    "## The _else_ part\n",
    "\n",
    "If the loop does not terminate normally, an optional _else_ block is skipped.\n",
    "\n",
    "There are 3 cases where the _else_ suite is not executed:\n",
    "- If the loop is broken out of due to a _**break**_ statement, or\n",
    "- If the loop is broken out of due to a _**return**_ statement (if we write the loop inside a function or method), or \n",
    "- If an **exception** is raised\n",
    "\n",
    "**NOTE**: The behavior of _else_ is the same in the _while_ loops, _for ... in_ loops, and _try ... except_ blocks.\n"
   ]
  },
  {
   "cell_type": "code",
   "execution_count": 1,
   "metadata": {},
   "outputs": [
    {
     "name": "stdout",
     "output_type": "stream",
     "text": [
      "square of number 10 is 100\n",
      "square of number 9 is 81\n",
      "square of number 8 is 64\n",
      "square of number 7 is 49\n",
      "square of number 6 is 36\n",
      "square of number 5 is 25\n",
      "square of number 4 is 16\n",
      "square of number 3 is 9\n",
      "square of number 2 is 4\n",
      "square of number 1 is 1\n",
      "square of number 0 is 0\n"
     ]
    }
   ],
   "source": [
    "n = 10\n",
    "while n > 0:\n",
    "    print(\"square of number\", n, \"is\", n*n)\n",
    "    n-=1\n",
    "else: \n",
    "    print(\"square of number\", n, \"is\", 0)"
   ]
  },
  {
   "cell_type": "markdown",
   "metadata": {},
   "source": [
    "Let's look at another example to understand the else part more. \n",
    "\n",
    "The _str.index()_ and _list.index()_ methods return the index position of a character in a string or an item in a list, or raise a **ValueError** exception if the character or item is not found. \n",
    "\n",
    "_str.find()_ method does the same thing, but the difference is that if the character or item is not found, instead of raising an exception it _**returns -1**_.\n",
    "\n",
    "For lists, there is no method that is equivalent to find() method. But we can create a function that does that, this function is using a while loop as seen below: "
   ]
  },
  {
   "cell_type": "code",
   "execution_count": 1,
   "metadata": {},
   "outputs": [],
   "source": [
    "def list_find(my_list, item):\n",
    "    index = 0\n",
    "    while index < len(my_list):\n",
    "        if my_list[index] == item:\n",
    "            break\n",
    "        index += 1\n",
    "    else:\n",
    "        index = -1\n",
    "    return index"
   ]
  },
  {
   "cell_type": "markdown",
   "metadata": {},
   "source": [
    "This function searches the given list (my_list) looking an item in that list. If the item is found, the _break_ statement terminates the loop. In that case, the correct index position will be returned. If the item is not found in the list, the loop runs to completion and terminates normally. Then after normal termination, the else suite is executed, and the index position is set to -1 and returned.\n",
    "\n",
    "Now let's try to run this code with a sample list and see if a given item is found or not."
   ]
  },
  {
   "cell_type": "code",
   "execution_count": 2,
   "metadata": {},
   "outputs": [
    {
     "data": {
      "text/plain": [
       "3"
      ]
     },
     "execution_count": 2,
     "metadata": {},
     "output_type": "execute_result"
    }
   ],
   "source": [
    "my_list = ['a', 2, 'name', 45, 3.5, 'h']\n",
    "list_find(my_list, 45)"
   ]
  },
  {
   "cell_type": "markdown",
   "metadata": {},
   "source": [
    "The above call to function find_list() has returned 3 which is the correct index position of the item 45 because it is already found in the list. In this case the _while_ loop will be borken out by the _break_ statement and the _else_ part will never be run."
   ]
  },
  {
   "cell_type": "code",
   "execution_count": 5,
   "metadata": {},
   "outputs": [
    {
     "data": {
      "text/plain": [
       "-1"
      ]
     },
     "execution_count": 5,
     "metadata": {},
     "output_type": "execute_result"
    }
   ],
   "source": [
    "list_find(my_list, 'b')"
   ]
  },
  {
   "cell_type": "markdown",
   "metadata": {},
   "source": [
    "The above call to function find_list_item() has returned **-1** which means that item 'b' is not found in list _my_list_. In this case the _while_ loop was running until it completed but could not find the item 'b', so the _else_ part executed and the index was set to -1. That's why the function returned -1."
   ]
  },
  {
   "cell_type": "markdown",
   "metadata": {},
   "source": [
    "## Well Done if you practiced these examples.\n",
    "### Next, you will learn about the second loop statement in Python, i.e., the for ... in statement."
   ]
  },
  {
   "cell_type": "code",
   "execution_count": null,
   "metadata": {},
   "outputs": [],
   "source": []
  }
 ],
 "metadata": {
  "kernelspec": {
   "display_name": "Python 3",
   "language": "python",
   "name": "python3"
  },
  "language_info": {
   "codemirror_mode": {
    "name": "ipython",
    "version": 3
   },
   "file_extension": ".py",
   "mimetype": "text/x-python",
   "name": "python",
   "nbconvert_exporter": "python",
   "pygments_lexer": "ipython3",
   "version": "3.6.5"
  }
 },
 "nbformat": 4,
 "nbformat_minor": 2
}
