{
 "cells": [
  {
   "cell_type": "markdown",
   "metadata": {},
   "source": [
    "# Lists Comparison\n",
    "\n",
    "In this lecture, we continue our talk about lists in Python, **you will learn**:\n",
    "\n",
    "- **How to compare lists in Python**\n",
    "- **List methods**\n",
    "\n",
    "Always keep in mind that lists, or any collection in Python, can hold items of any data type including collection datatypes such as lists and tuples. This is becuase all the items in a list are really object references. \n",
    "\n",
    "Lists can be compared using the standard comparison operators (<, <=, ==, !=, >=, >).\n",
    "\n",
    "The comparisons being applied item by item. If we have nested items such as lists or tuples inside lists, the comparisons are done recursively. "
   ]
  },
  {
   "cell_type": "code",
   "execution_count": 21,
   "metadata": {},
   "outputs": [
    {
     "data": {
      "text/plain": [
       "False"
      ]
     },
     "execution_count": 21,
     "metadata": {},
     "output_type": "execute_result"
    }
   ],
   "source": [
    "L1 = ['paper', 'A', 4]\n",
    "L2 = ['paper', 'A', 3]\n",
    "L1 == L2 # will give False because last item in L1 is not equal to last item in L2"
   ]
  },
  {
   "cell_type": "code",
   "execution_count": 22,
   "metadata": {},
   "outputs": [
    {
     "data": {
      "text/plain": [
       "True"
      ]
     },
     "execution_count": 22,
     "metadata": {},
     "output_type": "execute_result"
    }
   ],
   "source": [
    "L1 > L2  # will give True because last item in L1 is greater than last item in L2"
   ]
  },
  {
   "cell_type": "code",
   "execution_count": 3,
   "metadata": {},
   "outputs": [
    {
     "data": {
      "text/plain": [
       "False"
      ]
     },
     "execution_count": 3,
     "metadata": {},
     "output_type": "execute_result"
    }
   ],
   "source": [
    "L1 = ['paper', 'A', 4]\n",
    "L2 = ['paper', 'A', 3]\n",
    "L1 <= L2"
   ]
  },
  {
   "cell_type": "markdown",
   "metadata": {},
   "source": [
    "## List methods\n",
    "\n",
    "Lists provide various methods as shown in the following table.\n",
    "\n",
    "<p align=\"center\"> Table 2: List Methods </p>                         \n",
    "           \n",
    "|<p aligh=\"left\"> Syntax </p> |              <p aligh=\"left\"> Description </p>                                                |\n",
    "|-----------------------|-----------------------------------------------------------------------------------------------------|\n",
    "|<p aligh=\"left\">L.append(x)</p>|<p aligh=\"left\">Appends item x to the end of list L</p>                                      |\n",
    "|<p aligh=\"left\">L.count(x)</p>|<p aligh=\"left\">Returns the number of times item x occurs in list L </p>                      |\n",
    "|<p aligh=\"left\">L.extend(m)<br>L+=m</p>|<p aligh=\"left\">Appends all of iterable m’s items to the end of list L; the operator += does the same thing</p>                                                                                                       |\n",
    "|<p aligh=\"left\">L.index(x, start, end)</p>|<p aligh=\"left\">Returns the index position of the leftmost occurrence of item x in list L (or in the start:end slice of L); otherwise, raises a ValueError exception</p>                                         |\n",
    "|<p aligh=\"left\">L.insert(i, x)</p>|<p aligh=\"left\">Inserts item x into list L at index position int i</p>                    | \n",
    "|<p aligh=\"left\">L.pop()   |<p aligh=\"left\">Returns and removes the rightmost item of list L</p>|\n",
    "|<p aligh=\"left\">L.pop(i)</p>|<p aligh=\"left\">Returns and removes the item at index position int i in L</p>|\n",
    "|<p aligh=\"left\">L.remove(x)</p>|<p aligh=\"left\">Removes the leftmost occurrence of item x from list L, or raises a ValueError exception if x is not found</p>|\n",
    "|<p aligh=\"left\">L.reverse()</p>|<p aligh=\"left\">Reverses list L in-place</p>|\n",
    "|<p aligh=\"left\">L.sort(...)</p>|<p aligh=\"left\">Sorts list L in-place; this method accepts sorted() the same key and reverse optional arguments as the built-in sorted()</p>|\n",
    "\n",
    "\n",
    "### Examples"
   ]
  },
  {
   "cell_type": "code",
   "execution_count": 1,
   "metadata": {},
   "outputs": [
    {
     "data": {
      "text/plain": [
       "['ford', 'toyota', 'volkswagen', 'honda']"
      ]
     },
     "execution_count": 1,
     "metadata": {},
     "output_type": "execute_result"
    }
   ],
   "source": [
    "cars = ['ford', 'toyota', 'volkswagen']\n",
    "\n",
    "# append 'honda' to end of list cars\n",
    "cars.append('honda')\n",
    "cars"
   ]
  },
  {
   "cell_type": "code",
   "execution_count": 2,
   "metadata": {},
   "outputs": [
    {
     "data": {
      "text/plain": [
       "1"
      ]
     },
     "execution_count": 2,
     "metadata": {},
     "output_type": "execute_result"
    }
   ],
   "source": [
    "# count how many 'ford' cars in list cars\n",
    "cars.count('ford')"
   ]
  },
  {
   "cell_type": "code",
   "execution_count": 3,
   "metadata": {},
   "outputs": [
    {
     "data": {
      "text/plain": [
       "['ford', 'toyota', 'dodge', 'mazda']"
      ]
     },
     "execution_count": 3,
     "metadata": {},
     "output_type": "execute_result"
    }
   ],
   "source": [
    "cars = ['ford', 'toyota']\n",
    "\n",
    "# extend list cars with 2 more cars\n",
    "cars.extend(['dodge', 'mazda'])\n",
    "cars"
   ]
  },
  {
   "cell_type": "code",
   "execution_count": 5,
   "metadata": {},
   "outputs": [
    {
     "data": {
      "text/plain": [
       "2"
      ]
     },
     "execution_count": 5,
     "metadata": {},
     "output_type": "execute_result"
    }
   ],
   "source": [
    "cars = ['ford', 'toyota', 'dodge', 'mazda']\n",
    "\n",
    "# return the index position of 'dodge' car\n",
    "cars.index('dodge')"
   ]
  },
  {
   "cell_type": "code",
   "execution_count": 5,
   "metadata": {},
   "outputs": [
    {
     "ename": "ValueError",
     "evalue": "'honda' is not in list",
     "output_type": "error",
     "traceback": [
      "\u001b[1;31m---------------------------------------------------------------------------\u001b[0m",
      "\u001b[1;31mValueError\u001b[0m                                Traceback (most recent call last)",
      "\u001b[1;32m<ipython-input-5-eb150e72f029>\u001b[0m in \u001b[0;36m<module>\u001b[1;34m()\u001b[0m\n\u001b[1;32m----> 1\u001b[1;33m \u001b[0mcars\u001b[0m\u001b[1;33m.\u001b[0m\u001b[0mindex\u001b[0m\u001b[1;33m(\u001b[0m\u001b[1;34m'honda'\u001b[0m\u001b[1;33m)\u001b[0m \u001b[1;31m#will raise error\u001b[0m\u001b[1;33m\u001b[0m\u001b[0m\n\u001b[0m",
      "\u001b[1;31mValueError\u001b[0m: 'honda' is not in list"
     ]
    }
   ],
   "source": [
    "cars.index('honda') # will raise ValueError"
   ]
  },
  {
   "cell_type": "code",
   "execution_count": 6,
   "metadata": {},
   "outputs": [
    {
     "data": {
      "text/plain": [
       "['ford', 'mazda', 'toyota']"
      ]
     },
     "execution_count": 6,
     "metadata": {},
     "output_type": "execute_result"
    }
   ],
   "source": [
    "cars = ['ford', 'toyota']\n",
    "\n",
    "# insert car 'mazda' at position 1, will be between 'ford' & 'toyota'\n",
    "cars.insert(1, 'mazda')  \n",
    "cars"
   ]
  },
  {
   "cell_type": "code",
   "execution_count": 8,
   "metadata": {},
   "outputs": [
    {
     "data": {
      "text/plain": [
       "'toyota'"
      ]
     },
     "execution_count": 8,
     "metadata": {},
     "output_type": "execute_result"
    }
   ],
   "source": [
    "cars = ['ford', 'mazda', 'toyota']\n",
    "\n",
    "# returns & removes last item from list cars\n",
    "cars.pop()  "
   ]
  },
  {
   "cell_type": "code",
   "execution_count": 9,
   "metadata": {},
   "outputs": [
    {
     "data": {
      "text/plain": [
       "['ford', 'mazda']"
      ]
     },
     "execution_count": 9,
     "metadata": {},
     "output_type": "execute_result"
    }
   ],
   "source": [
    "cars"
   ]
  },
  {
   "cell_type": "code",
   "execution_count": 6,
   "metadata": {},
   "outputs": [
    {
     "data": {
      "text/plain": [
       "'ford'"
      ]
     },
     "execution_count": 6,
     "metadata": {},
     "output_type": "execute_result"
    }
   ],
   "source": [
    "cars = ['ford', 'mazda']\n",
    "cars.pop(0)  #returns & removes item at index 0 which is 'ford'"
   ]
  },
  {
   "cell_type": "code",
   "execution_count": 10,
   "metadata": {},
   "outputs": [
    {
     "data": {
      "text/plain": [
       "['mazda']"
      ]
     },
     "execution_count": 10,
     "metadata": {},
     "output_type": "execute_result"
    }
   ],
   "source": [
    "cars"
   ]
  },
  {
   "cell_type": "code",
   "execution_count": 11,
   "metadata": {},
   "outputs": [
    {
     "data": {
      "text/plain": [
       "['ford', 'mazda', 'ford', 'toyota']"
      ]
     },
     "execution_count": 11,
     "metadata": {},
     "output_type": "execute_result"
    }
   ],
   "source": [
    "cars = ['ford', 'mazda', 'toyota', 'ford', 'toyota']\n",
    "\n",
    "# removes first occurrence of car 'toyota' from left\n",
    "cars.remove('toyota')\n",
    "cars"
   ]
  },
  {
   "cell_type": "code",
   "execution_count": 12,
   "metadata": {},
   "outputs": [
    {
     "data": {
      "text/plain": [
       "['toyota', 'ford', 'mazda', 'ford']"
      ]
     },
     "execution_count": 12,
     "metadata": {},
     "output_type": "execute_result"
    }
   ],
   "source": [
    "cars = ['ford', 'mazda', 'ford', 'toyota']\n",
    "\n",
    "# reverse list cars\n",
    "cars.reverse()\n",
    "cars"
   ]
  },
  {
   "cell_type": "code",
   "execution_count": 13,
   "metadata": {},
   "outputs": [
    {
     "data": {
      "text/plain": [
       "['ford', 'ford', 'mazda', 'toyota']"
      ]
     },
     "execution_count": 13,
     "metadata": {},
     "output_type": "execute_result"
    }
   ],
   "source": [
    "# sort items in cars list alphabetically\n",
    "cars.sort()\n",
    "cars"
   ]
  },
  {
   "cell_type": "markdown",
   "metadata": {},
   "source": [
    "## Sequence unpacking\n",
    "\n",
    "You have already learned that we can use the slice operator [ ] to access items in the list. Sometimes we want to extract **two or more pieces of a list in one go**. This can be done by using **sequence unpacking**. The unpacking operator is the asterisk ($*$). \n",
    "\n",
    "**Syntax**:\n",
    "\n",
    "You will have two or more variables in the left-hand side (LHS) of an assignment (=). And a list (or any iterable sequence like tuples) of items on the right-hand side (RHS). One of the variables in the LHS is preceded by $*$ called _starred variable_. Items are assigned to variables with all those left over assigned to the starred variable. \n",
    "\n",
    "Let's have an example:"
   ]
  },
  {
   "cell_type": "code",
   "execution_count": 15,
   "metadata": {},
   "outputs": [
    {
     "data": {
      "text/plain": [
       "(5, [2, -6, 9, 7])"
      ]
     },
     "execution_count": 15,
     "metadata": {},
     "output_type": "execute_result"
    }
   ],
   "source": [
    "first, *rest = [5, 2, -6, 9, 7] \n",
    "first, rest"
   ]
  },
  {
   "cell_type": "code",
   "execution_count": 7,
   "metadata": {},
   "outputs": [
    {
     "data": {
      "text/plain": [
       "(5, [2, -6, 9], 7)"
      ]
     },
     "execution_count": 7,
     "metadata": {},
     "output_type": "execute_result"
    }
   ],
   "source": [
    "first, *mid, last = [5, 2, -6, 9, 7] \n",
    "first, mid, last"
   ]
  },
  {
   "cell_type": "markdown",
   "metadata": {},
   "source": [
    "**The expressions $*$rest and $*$mid are called _starred expressions_**.\n",
    "\n",
    "Python also has a related concept called _**starred arguments**_. For example, if we have the following simple function that requires three arguments and multiplies the values of these arguments:"
   ]
  },
  {
   "cell_type": "code",
   "execution_count": 16,
   "metadata": {},
   "outputs": [],
   "source": [
    "def product(a, b, c):\n",
    "    return a*b*c    # * is the multiplication operator"
   ]
  },
  {
   "cell_type": "markdown",
   "metadata": {},
   "source": [
    "Now lets see different ways of **calling this function product**"
   ]
  },
  {
   "cell_type": "code",
   "execution_count": 18,
   "metadata": {},
   "outputs": [
    {
     "data": {
      "text/plain": [
       "30"
      ]
     },
     "execution_count": 18,
     "metadata": {},
     "output_type": "execute_result"
    }
   ],
   "source": [
    "# normal case: we give 3 arguments\n",
    "product(2,3,5)"
   ]
  },
  {
   "cell_type": "code",
   "execution_count": 19,
   "metadata": {},
   "outputs": [
    {
     "data": {
      "text/plain": [
       "30"
      ]
     },
     "execution_count": 19,
     "metadata": {},
     "output_type": "execute_result"
    }
   ],
   "source": [
    "# create list of 3 items\n",
    "L = [2, 3, 5]\n",
    "\n",
    "# 3-item list (L) is unpacked by * operator \n",
    "# function product received 3 arguments it is expecting \n",
    "product(*L)\n",
    "\n",
    "# after this line, the value of a will be 2, the value of b will be 3, and\n",
    "# the value of c will be 5. So the function will return 30 = 2*3*5"
   ]
  },
  {
   "cell_type": "code",
   "execution_count": 20,
   "metadata": {},
   "outputs": [
    {
     "data": {
      "text/plain": [
       "30"
      ]
     },
     "execution_count": 20,
     "metadata": {},
     "output_type": "execute_result"
    }
   ],
   "source": [
    "# we give first argument normally which is number 2\n",
    "# we give the other 2 arguments by unpacking a slice of the list L.\n",
    "product(2, *L[1:])"
   ]
  },
  {
   "cell_type": "markdown",
   "metadata": {},
   "source": [
    "## Wonderful!\n",
    "\n",
    "### You have made it to the end of lists topic and learned a lot about lists in Python, next we will cover sets data types. "
   ]
  }
 ],
 "metadata": {
  "kernelspec": {
   "display_name": "Python 3",
   "language": "python",
   "name": "python3"
  },
  "language_info": {
   "codemirror_mode": {
    "name": "ipython",
    "version": 3
   },
   "file_extension": ".py",
   "mimetype": "text/x-python",
   "name": "python",
   "nbconvert_exporter": "python",
   "pygments_lexer": "ipython3",
   "version": "3.6.5"
  }
 },
 "nbformat": 4,
 "nbformat_minor": 2
}
