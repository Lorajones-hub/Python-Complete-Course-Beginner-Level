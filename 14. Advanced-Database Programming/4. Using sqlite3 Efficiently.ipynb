{
 "cells": [
  {
   "cell_type": "markdown",
   "metadata": {},
   "source": [
    "# Using sqlite3 Efficiently\n",
    "\n",
    "## 1. Using shortcut methods\n",
    "\n",
    "By using the nonstandard **execute()**, **executemany()** and **executescript()** methods of the Connection object, you can write the code more concisely because you don’t have to create the Cursor objects explicitly. Instead, the Cursor objects are created implicitly and these shortcut methods return the cursor objects. \n",
    "\n",
    "This allows you to execute a SELECT statement and iterate over it directly using only a single call on the Connection object."
   ]
  },
  {
   "cell_type": "code",
   "execution_count": 1,
   "metadata": {},
   "outputs": [
    {
     "name": "stdout",
     "output_type": "stream",
     "text": [
      "('John', 'Smith')\n",
      "('Mary', 'Anne')\n",
      "I just deleted 2 rows\n"
     ]
    }
   ],
   "source": [
    "import sqlite3\n",
    "\n",
    "persons = [\n",
    "    (\"John\", \"Smith\"),\n",
    "    (\"Mary\", \"Anne\")\n",
    "    ]\n",
    "\n",
    "con = sqlite3.connect(\":memory:\")\n",
    "\n",
    "# Create the table person with 2 columns\n",
    "con.execute(\"create table person(firstname, lastname)\")\n",
    "\n",
    "# Fill the table with info from the list of tuples persons\n",
    "con.executemany(\"insert into person(firstname, lastname) values (?, ?)\", persons)\n",
    "\n",
    "# Print the table contents\n",
    "for row in con.execute(\"select firstname, lastname from person\"):\n",
    "    print(row)\n",
    "\n",
    "# rowcount is a read-only attribute that specifies the number of rows fetched or modified by the last operation (or query),\n",
    "# or -1 if the module is unable to determine this value.\n",
    "print(\"I just deleted\", con.execute(\"delete from person\").rowcount, \"rows\")"
   ]
  },
  {
   "cell_type": "markdown",
   "metadata": {},
   "source": [
    "## 2. Accessing columns by name instead of by index\n",
    "\n",
    "One useful feature of the sqlite3 module is the built-in **sqlite3.Row** class designed to be used as a row factory (constructor).\n",
    "\n",
    "The Database rows wrapped with this class can be accessed both by index (like tuples) and also by name (case-insensitively):\n",
    "\n",
    "Take a look at the following example, we used Python's **assert** statement which basically evaluates a condition:\n",
    " - If the condition is satisfied (True), assert does nothing\n",
    " - If the condition is not satisfied (False), assert triggers an **AssertionError** exception.\n",
    "\n",
    "There is **NO OUTPUT** because all assert conditions are True."
   ]
  },
  {
   "cell_type": "code",
   "execution_count": 4,
   "metadata": {},
   "outputs": [
    {
     "ename": "AssertionError",
     "evalue": "",
     "output_type": "error",
     "traceback": [
      "\u001b[1;31m---------------------------------------------------------------------------\u001b[0m",
      "\u001b[1;31mAssertionError\u001b[0m                            Traceback (most recent call last)",
      "\u001b[1;32m<ipython-input-4-e67fa23709df>\u001b[0m in \u001b[0;36m<module>\u001b[1;34m()\u001b[0m\n\u001b[0;32m     10\u001b[0m \u001b[1;33m\u001b[0m\u001b[0m\n\u001b[0;32m     11\u001b[0m     \u001b[1;31m# no AssertionError\u001b[0m\u001b[1;33m\u001b[0m\u001b[1;33m\u001b[0m\u001b[0m\n\u001b[1;32m---> 12\u001b[1;33m     \u001b[1;32massert\u001b[0m \u001b[0mrow\u001b[0m\u001b[1;33m[\u001b[0m\u001b[1;36m1\u001b[0m\u001b[1;33m]\u001b[0m \u001b[1;33m==\u001b[0m \u001b[0mrow\u001b[0m\u001b[1;33m[\u001b[0m\u001b[1;34m\"name\"\u001b[0m\u001b[1;33m]\u001b[0m\u001b[1;33m\u001b[0m\u001b[0m\n\u001b[0m\u001b[0;32m     13\u001b[0m     \u001b[1;32massert\u001b[0m \u001b[0mrow\u001b[0m\u001b[1;33m[\u001b[0m\u001b[1;34m\"name\"\u001b[0m\u001b[1;33m]\u001b[0m \u001b[1;33m==\u001b[0m \u001b[0mrow\u001b[0m\u001b[1;33m[\u001b[0m\u001b[1;34m\"nAmE\"\u001b[0m\u001b[1;33m]\u001b[0m\u001b[1;33m\u001b[0m\u001b[0m\n\u001b[0;32m     14\u001b[0m     \u001b[1;32massert\u001b[0m \u001b[0mrow\u001b[0m\u001b[1;33m[\u001b[0m\u001b[1;36m1\u001b[0m\u001b[1;33m]\u001b[0m \u001b[1;33m==\u001b[0m \u001b[0mrow\u001b[0m\u001b[1;33m[\u001b[0m\u001b[1;34m\"age\"\u001b[0m\u001b[1;33m]\u001b[0m\u001b[1;33m\u001b[0m\u001b[0m\n",
      "\u001b[1;31mAssertionError\u001b[0m: "
     ]
    }
   ],
   "source": [
    "import sqlite3\n",
    "\n",
    "con = sqlite3.connect(\":memory:\")\n",
    "con.row_factory = sqlite3.Row\n",
    "\n",
    "cur = con.cursor()\n",
    "cur.execute(\"select 'John' as name, 42 as age\")\n",
    "\n",
    "for row in cur:\n",
    "    \n",
    "    # no AssertionError\n",
    "    assert row[1] == row[\"name\"]\n",
    "    assert row[\"name\"] == row[\"nAmE\"]\n",
    "    assert row[1] == row[\"age\"]\n",
    "    assert row[1] == row[\"AgE\"]\n"
   ]
  },
  {
   "cell_type": "markdown",
   "metadata": {},
   "source": [
    "Try out these conditions and you'll get an AssertionError.\n",
    "\n",
    "assert row[0] == row['age'] \n",
    "\n",
    "\n",
    "assert row[0] == row[1]\n",
    "\n",
    "\n",
    "assert row[1] == row['name']\n",
    "\n",
    "... and so on."
   ]
  },
  {
   "cell_type": "markdown",
   "metadata": {},
   "source": [
    "## 3. Using the connection as a context manager\n",
    "\n",
    "Connection objects can be used as context managers that automatically commit or rollback transactions. \n",
    "\n",
    "- In the event of an exception, the transaction is **rolled back**; \n",
    "\n",
    "\n",
    "- otherwise, the transaction is **committed**.\n",
    "\n",
    "Here is an example:"
   ]
  },
  {
   "cell_type": "code",
   "execution_count": 6,
   "metadata": {},
   "outputs": [
    {
     "name": "stdout",
     "output_type": "stream",
     "text": [
      "couldn't add Joe twice\n"
     ]
    }
   ],
   "source": [
    "import sqlite3\n",
    "\n",
    "# create new database in memory\n",
    "con = sqlite3.connect(\":memory:\")\n",
    "\n",
    "# create table person with 2 columns, id and firstname\n",
    "con.execute(\"create table person (id integer primary key, firstname varchar unique)\")\n",
    "\n",
    "# if insertion is uccessful, con.commit() is called automatically afterwards\n",
    "with con:\n",
    "    con.execute(\"insert into person(firstname) values (?)\", (\"Joe\",))\n",
    "\n",
    "# if the with block finishes with an exception, con.rollback() is called afterwards\n",
    "try:\n",
    "    with con:\n",
    "        con.execute(\"insert into person(firstname) values (?)\", (\"Joe\",))\n",
    "        \n",
    "except sqlite3.IntegrityError:\n",
    "    print(\"couldn't add Joe twice\")"
   ]
  },
  {
   "cell_type": "markdown",
   "metadata": {},
   "source": [
    "## Well Done!\n",
    "\n",
    "### Please check and try to solve your assignment posted for this section. If you have any questions, you can post it on our QA forum and I'll be happy to help you out. \n",
    "\n",
    "### In the next section we'll cover Network Programming in Python. "
   ]
  },
  {
   "cell_type": "code",
   "execution_count": null,
   "metadata": {},
   "outputs": [],
   "source": []
  }
 ],
 "metadata": {
  "kernelspec": {
   "display_name": "Python 3",
   "language": "python",
   "name": "python3"
  },
  "language_info": {
   "codemirror_mode": {
    "name": "ipython",
    "version": 3
   },
   "file_extension": ".py",
   "mimetype": "text/x-python",
   "name": "python",
   "nbconvert_exporter": "python",
   "pygments_lexer": "ipython3",
   "version": "3.6.5"
  }
 },
 "nbformat": 4,
 "nbformat_minor": 2
}
