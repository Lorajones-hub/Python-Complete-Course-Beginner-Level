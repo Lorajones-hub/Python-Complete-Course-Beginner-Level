{
 "cells": [
  {
   "cell_type": "markdown",
   "metadata": {},
   "source": [
    "# String Operators and Methods\n",
    "\n",
    "In this lecture we will cover some operators and methods that can be applied to strings, you will learn:\n",
    "\n",
    "  - **How to use string operators**\n",
    "  - **How to work with string methods**\n",
    "  - **How to print strings using st.format() method**\n",
    "  \n",
    "\n",
    "## String Operators\n",
    "\n",
    "### Membership testing with in operator\n",
    "\n",
    "The **in** operator is used to test whether a character is a member or part of a string. If yes, it gives _True_, else it gives _False_.\n"
   ]
  },
  {
   "cell_type": "code",
   "execution_count": 5,
   "metadata": {},
   "outputs": [
    {
     "data": {
      "text/plain": [
       "True"
      ]
     },
     "execution_count": 5,
     "metadata": {},
     "output_type": "execute_result"
    }
   ],
   "source": [
    "st = 'Python is easy and powerful!'\n",
    "'e' in st"
   ]
  },
  {
   "cell_type": "code",
   "execution_count": 6,
   "metadata": {},
   "outputs": [
    {
     "data": {
      "text/plain": [
       "False"
      ]
     },
     "execution_count": 6,
     "metadata": {},
     "output_type": "execute_result"
    }
   ],
   "source": [
    "'et' in st"
   ]
  },
  {
   "cell_type": "code",
   "execution_count": 7,
   "metadata": {},
   "outputs": [
    {
     "data": {
      "text/plain": [
       "False"
      ]
     },
     "execution_count": 7,
     "metadata": {},
     "output_type": "execute_result"
    }
   ],
   "source": [
    "'?'in st"
   ]
  },
  {
   "cell_type": "markdown",
   "metadata": {},
   "source": [
    "### String concatenation with + operator\n",
    "\n",
    "The + operator is used to concatenate (or link) two strings."
   ]
  },
  {
   "cell_type": "code",
   "execution_count": 9,
   "metadata": {
    "scrolled": true
   },
   "outputs": [
    {
     "data": {
      "text/plain": [
       "'Hello Everyone!'"
      ]
     },
     "execution_count": 9,
     "metadata": {},
     "output_type": "execute_result"
    }
   ],
   "source": [
    "st1 = \"Hello \"\n",
    "st2 = \"Everyone\"\n",
    "st = st1 + st2 + '!'\n",
    "st"
   ]
  },
  {
   "cell_type": "markdown",
   "metadata": {},
   "source": [
    "#### Notice the space in the string _st1_ which is \"Hello \". Without that space, the string _st_ will be 'HelloEveryone!'"
   ]
  },
  {
   "cell_type": "markdown",
   "metadata": {},
   "source": [
    "### String append with += operator\n",
    "\n",
    "A string can be appended or added at the end of another string using the append operator +=."
   ]
  },
  {
   "cell_type": "code",
   "execution_count": 11,
   "metadata": {},
   "outputs": [
    {
     "data": {
      "text/plain": [
       "'This is a test program'"
      ]
     },
     "execution_count": 11,
     "metadata": {},
     "output_type": "execute_result"
    }
   ],
   "source": [
    "st = \"This is \"\n",
    "st += \"a test program\"\n",
    "st"
   ]
  },
  {
   "cell_type": "markdown",
   "metadata": {},
   "source": [
    "### String replication with * operator\n",
    "\n",
    "Used to replicate the string a number of times. This is done by multiplying the string by a number of repeats using the multiplication operator *.\n"
   ]
  },
  {
   "cell_type": "code",
   "execution_count": 26,
   "metadata": {},
   "outputs": [
    {
     "data": {
      "text/plain": [
       "'=========='"
      ]
     },
     "execution_count": 26,
     "metadata": {},
     "output_type": "execute_result"
    }
   ],
   "source": [
    "st = '='\n",
    "st = st * 10\n",
    "st"
   ]
  },
  {
   "cell_type": "markdown",
   "metadata": {},
   "source": [
    "### Augmented replication with *= operator"
   ]
  },
  {
   "cell_type": "code",
   "execution_count": 1,
   "metadata": {},
   "outputs": [
    {
     "data": {
      "text/plain": [
       "'ababababab'"
      ]
     },
     "execution_count": 1,
     "metadata": {},
     "output_type": "execute_result"
    }
   ],
   "source": [
    "st = 'ab'\n",
    "st *= 5\n",
    "st"
   ]
  },
  {
   "cell_type": "markdown",
   "metadata": {},
   "source": [
    "## String methods\n",
    "\n",
    "Before we move on with this topic, you need to understand what is a method in Python. Don't worry too much about methods right now as we will cover it in more details in the Object-Oriented Programming (OOP) Section. All you need to know at this point is the following:\n",
    "\n",
    "   - When we create a string, or any data type,  in our program, Python creates an OBJECT of that data type. Every time you create an object, you can call methods on that object. Methods are similar to functions. They are a piece of code that does a task for us. Hereafter, we will create a string object and call some methods that gives us information about that string or modify things in that string. \n",
    "   \n",
    "### The dot  (.) is used to access attributes of an object. Methods are one type of an object attributes.\n",
    "    \n",
    "### NOTE: In the following topics, we will use the string name **_st_** to refer to any string and use the **dot (.)** to access methods on that string.\n",
    "\n"
   ]
  },
  {
   "cell_type": "markdown",
   "metadata": {},
   "source": [
    "### st.upper() method\n",
    "\n",
    "If you call this method on any string 'st', it will change all the characters in that string to upper case. Let's see an example."
   ]
  },
  {
   "cell_type": "code",
   "execution_count": 1,
   "metadata": {},
   "outputs": [
    {
     "data": {
      "text/plain": [
       "'I AM A PYTHON PROGRAMMER'"
      ]
     },
     "execution_count": 1,
     "metadata": {},
     "output_type": "execute_result"
    }
   ],
   "source": [
    "st = \"I am a python programmer\"\n",
    "st.upper()"
   ]
  },
  {
   "cell_type": "markdown",
   "metadata": {},
   "source": [
    "**NOTE**: We use open and closing parentheses () when we call methods, also when calling functions. The purpose of using () is to allow us to pass information or values to that function or method. In the above example, we are not passing anything to the method upper."
   ]
  },
  {
   "cell_type": "markdown",
   "metadata": {},
   "source": [
    "### st.lower() method\n",
    "\n",
    "Change all characters in a string to lower."
   ]
  },
  {
   "cell_type": "code",
   "execution_count": 25,
   "metadata": {},
   "outputs": [
    {
     "data": {
      "text/plain": [
       "'i love python'"
      ]
     },
     "execution_count": 25,
     "metadata": {},
     "output_type": "execute_result"
    }
   ],
   "source": [
    "st = 'I LOVE PYTHON'\n",
    "st.lower()"
   ]
  },
  {
   "cell_type": "markdown",
   "metadata": {},
   "source": [
    "<font color='red'> **NOTE** </font>:  When you type a string name then the dot operator (.) you can click on the tab key and a list of all methods applied to strings will pop-up. "
   ]
  },
  {
   "cell_type": "markdown",
   "metadata": {},
   "source": [
    "### st.isalpha() method\n",
    "\n",
    "Returns _True_ if the string is nonempty and every character in string _st_ is _alphabetic_ (the string contains only letters).\n"
   ]
  },
  {
   "cell_type": "code",
   "execution_count": 34,
   "metadata": {},
   "outputs": [
    {
     "data": {
      "text/plain": [
       "False"
      ]
     },
     "execution_count": 34,
     "metadata": {},
     "output_type": "execute_result"
    }
   ],
   "source": [
    "# isalpha will return False because the string has 123 which are not letters\n",
    "\"Hello123\".isalpha()"
   ]
  },
  {
   "cell_type": "code",
   "execution_count": 35,
   "metadata": {},
   "outputs": [
    {
     "data": {
      "text/plain": [
       "False"
      ]
     },
     "execution_count": 35,
     "metadata": {},
     "output_type": "execute_result"
    }
   ],
   "source": [
    "# isalpha will return False because the string has space which is not a letter\n",
    "\"Hi There\".isalpha()"
   ]
  },
  {
   "cell_type": "code",
   "execution_count": 37,
   "metadata": {},
   "outputs": [
    {
     "data": {
      "text/plain": [
       "True"
      ]
     },
     "execution_count": 37,
     "metadata": {},
     "output_type": "execute_result"
    }
   ],
   "source": [
    "# isalpha will return True because all the string characters are alphabetic\n",
    "\"Hello\".isalpha()"
   ]
  },
  {
   "cell_type": "markdown",
   "metadata": {},
   "source": [
    "### st.isalnum() method\n",
    "\n",
    "Returns True if the string is nonempty and every character in string _st_ is _alphanumeric_ (the string contains only numbers and letters)."
   ]
  },
  {
   "cell_type": "code",
   "execution_count": 39,
   "metadata": {},
   "outputs": [
    {
     "data": {
      "text/plain": [
       "True"
      ]
     },
     "execution_count": 39,
     "metadata": {},
     "output_type": "execute_result"
    }
   ],
   "source": [
    "# isalnum will return True because all characters are either numbers or letters\n",
    "\"Hello123\".isalnum()"
   ]
  },
  {
   "cell_type": "markdown",
   "metadata": {},
   "source": [
    "### st.count(t, start, end) method\n",
    "\n",
    "Counts and returns the number of times a character or substring _t_ occur in a string _st_ (or in the **start:end** slice of _st_)"
   ]
  },
  {
   "cell_type": "code",
   "execution_count": 7,
   "metadata": {},
   "outputs": [
    {
     "name": "stdout",
     "output_type": "stream",
     "text": [
      "5\n",
      "3\n"
     ]
    }
   ],
   "source": [
    "st = \"Count how many 'o's or 'ng' in this long string\"\n",
    "\n",
    "# count how many 'o' characters in string st\n",
    "print(st.count('o'))\n",
    "\n",
    "# count how many 'ng' substrings in string st\n",
    "print(st.count('ng'))"
   ]
  },
  {
   "cell_type": "code",
   "execution_count": 8,
   "metadata": {},
   "outputs": [
    {
     "name": "stdout",
     "output_type": "stream",
     "text": [
      "3\n",
      "2\n"
     ]
    }
   ],
   "source": [
    "st = \"Count how many 'o's or 'ng' in this long string\"\n",
    "\n",
    "#count how many 'o' characters in the string slice [16:40] ('o's or 'ng' in this long)\n",
    "print(st.count('o', 16, 40))\n",
    "\n",
    "#count how many 'ng' strings in the string slice [16:40] ('o's or 'ng' in this long)\n",
    "print(st.count('ng', 16, 40))"
   ]
  },
  {
   "cell_type": "markdown",
   "metadata": {},
   "source": [
    "### st.find(t, start, end) method\n",
    "\n",
    "Returns the LEFTMOST position (index) of string _t_ in a string _st_ (or in the **start:end slice** of _st_). If string _t_ if not found in string _st_, find() returns -1.  \n",
    "\n",
    "Use **str.rfind()** to find the right most position. \n",
    "\n",
    "Also try st.index() and st.rindex() which return the same output like st.find() and st.rfind(), respectively.\n"
   ]
  },
  {
   "cell_type": "code",
   "execution_count": 13,
   "metadata": {},
   "outputs": [
    {
     "data": {
      "text/plain": [
       "15"
      ]
     },
     "execution_count": 13,
     "metadata": {},
     "output_type": "execute_result"
    }
   ],
   "source": [
    "st = \"This is my first string\"\n",
    "\n",
    "#the LEFTMOST letter 't' in the string st is at position (index) 15\n",
    "st.find('t')"
   ]
  },
  {
   "cell_type": "code",
   "execution_count": 16,
   "metadata": {},
   "outputs": [
    {
     "data": {
      "text/plain": [
       "-1"
      ]
     },
     "execution_count": 16,
     "metadata": {},
     "output_type": "execute_result"
    }
   ],
   "source": [
    "st = \"This is my first string\"\n",
    "\n",
    "#the LEFTMOST letter 't' in the string slice [0:10] is not found\n",
    "st.find('t', 0, 10)"
   ]
  },
  {
   "cell_type": "code",
   "execution_count": 17,
   "metadata": {},
   "outputs": [
    {
     "data": {
      "text/plain": [
       "18"
      ]
     },
     "execution_count": 17,
     "metadata": {},
     "output_type": "execute_result"
    }
   ],
   "source": [
    "st = \"This is my first string\"\n",
    "\n",
    "#the RIGHTMOST letter 't' in the string slice [10:] is at position (index) 18\n",
    "st.rfind('t', 10)"
   ]
  },
  {
   "cell_type": "code",
   "execution_count": 14,
   "metadata": {},
   "outputs": [
    {
     "data": {
      "text/plain": [
       "18"
      ]
     },
     "execution_count": 14,
     "metadata": {},
     "output_type": "execute_result"
    }
   ],
   "source": [
    "st = \"This is my first string\"\n",
    "\n",
    "#the RIGHTMOST letter 't' in the string st is at position (index) 18\n",
    "st.rfind('t')"
   ]
  },
  {
   "cell_type": "code",
   "execution_count": 15,
   "metadata": {},
   "outputs": [
    {
     "data": {
      "text/plain": [
       "-1"
      ]
     },
     "execution_count": 15,
     "metadata": {},
     "output_type": "execute_result"
    }
   ],
   "source": [
    "st = \"This is my first string\"\n",
    "\n",
    "#returns -1 as string 'to' is not found in string st\n",
    "st.rfind('to')"
   ]
  },
  {
   "cell_type": "markdown",
   "metadata": {},
   "source": [
    "**Now let's try st.index(t) and st.rindex(t) methods**"
   ]
  },
  {
   "cell_type": "code",
   "execution_count": 18,
   "metadata": {},
   "outputs": [
    {
     "data": {
      "text/plain": [
       "15"
      ]
     },
     "execution_count": 18,
     "metadata": {},
     "output_type": "execute_result"
    }
   ],
   "source": [
    "st = \"This is my first string\"\n",
    "\n",
    "#the LEFTMOST letter 't' in the string st is at position (index) 15\n",
    "st.index('t')"
   ]
  },
  {
   "cell_type": "code",
   "execution_count": 19,
   "metadata": {},
   "outputs": [
    {
     "data": {
      "text/plain": [
       "18"
      ]
     },
     "execution_count": 19,
     "metadata": {},
     "output_type": "execute_result"
    }
   ],
   "source": [
    "st = \"This is my first string\"\n",
    "\n",
    "#the RIGHTMOST letter 't' in the string st is at position (index) 4\n",
    "st.rindex('t')"
   ]
  },
  {
   "cell_type": "markdown",
   "metadata": {},
   "source": [
    "### What is the difference between find() and index()?\n",
    "\n",
    "The only differnce between find() and index() is that when index() does not find the character or a substring it is looking for, it will raise a ValueError instead of returning -1. "
   ]
  },
  {
   "cell_type": "code",
   "execution_count": 20,
   "metadata": {},
   "outputs": [
    {
     "ename": "ValueError",
     "evalue": "substring not found",
     "output_type": "error",
     "traceback": [
      "\u001b[1;31m---------------------------------------------------------------------------\u001b[0m",
      "\u001b[1;31mValueError\u001b[0m                                Traceback (most recent call last)",
      "\u001b[1;32m<ipython-input-20-cab3c5f4a3ce>\u001b[0m in \u001b[0;36m<module>\u001b[1;34m()\u001b[0m\n\u001b[0;32m      2\u001b[0m \u001b[1;33m\u001b[0m\u001b[0m\n\u001b[0;32m      3\u001b[0m \u001b[1;31m#returns ValueError instead of -1 if string 'to'  is not found\u001b[0m\u001b[1;33m\u001b[0m\u001b[1;33m\u001b[0m\u001b[0m\n\u001b[1;32m----> 4\u001b[1;33m \u001b[0mst\u001b[0m\u001b[1;33m.\u001b[0m\u001b[0mindex\u001b[0m\u001b[1;33m(\u001b[0m\u001b[1;34m'to'\u001b[0m\u001b[1;33m)\u001b[0m\u001b[1;33m\u001b[0m\u001b[0m\n\u001b[0m",
      "\u001b[1;31mValueError\u001b[0m: substring not found"
     ]
    }
   ],
   "source": [
    "st = \"This is my first string\"\n",
    "\n",
    "#returns ValueError because 'to' is not found in string st\n",
    "st.index('to')"
   ]
  },
  {
   "cell_type": "markdown",
   "metadata": {},
   "source": [
    "### st.join(seq) method\n",
    "\n",
    "We have seen that the + operator is used for string concatenation. In case you want to concatenate lots of strings, st.join() method is better. This method returns the concatenation of every item in the sequence _seq_, with string _st_ (which may be empty) between each one."
   ]
  },
  {
   "cell_type": "code",
   "execution_count": 21,
   "metadata": {},
   "outputs": [
    {
     "data": {
      "text/plain": [
       "'I have homework'"
      ]
     },
     "execution_count": 21,
     "metadata": {},
     "output_type": "execute_result"
    }
   ],
   "source": [
    "myseq = ['I', 'have', 'homework'] #list of items, we will cover lists later\n",
    "\n",
    "# join the 3 words in myseq list with spaces between the words\n",
    "\" \".join(myseq) "
   ]
  },
  {
   "cell_type": "markdown",
   "metadata": {},
   "source": [
    "#### Notice that the string _st_ in the example above is the space itself \" \""
   ]
  },
  {
   "cell_type": "code",
   "execution_count": 1,
   "metadata": {},
   "outputs": [
    {
     "data": {
      "text/plain": [
       "'I--<>--have--<>--homework'"
      ]
     },
     "execution_count": 1,
     "metadata": {},
     "output_type": "execute_result"
    }
   ],
   "source": [
    "myseq = ['I', 'have', 'homework'] #this is list of items\n",
    "\n",
    "#this will join the 3 words in myseq list with --<>-- between the words\n",
    "#we joined the words with --<>-- and saved the result in st\n",
    "st = \"--<>--\".join(myseq) \n",
    "\n",
    "#now see the value of st\n",
    "st"
   ]
  },
  {
   "cell_type": "markdown",
   "metadata": {},
   "source": [
    "### st.replace(t,u,n) method\n",
    "\n",
    "Replaces every occurrences of string _t_ with string _u_ inside the main string _st_.\n",
    "\n",
    "If we give the value of n (which is optional), then the method will replace a **maximum of n occurrences** of string _t_ with string _u_ inside the main string _st_."
   ]
  },
  {
   "cell_type": "code",
   "execution_count": 22,
   "metadata": {},
   "outputs": [
    {
     "data": {
      "text/plain": [
       "'I can be a data scientist with Python'"
      ]
     },
     "execution_count": 22,
     "metadata": {},
     "output_type": "execute_result"
    }
   ],
   "source": [
    "st = 'I c?n be ? d?t? scientist with Python'\n",
    "\n",
    "#replace all occurences of ? with a\n",
    "st.replace('?', 'a')"
   ]
  },
  {
   "cell_type": "code",
   "execution_count": 23,
   "metadata": {},
   "outputs": [
    {
     "data": {
      "text/plain": [
       "'I can be a d?t? scientist with Python'"
      ]
     },
     "execution_count": 23,
     "metadata": {},
     "output_type": "execute_result"
    }
   ],
   "source": [
    "st = 'I c?n be ? d?t? scientist with Python'\n",
    "\n",
    "# replace maximum of 2 occurences of ? with a\n",
    "st.replace('?', 'a', 2)"
   ]
  },
  {
   "cell_type": "markdown",
   "metadata": {},
   "source": [
    "#### Notice that the word d?t? did not change to data"
   ]
  },
  {
   "cell_type": "markdown",
   "metadata": {},
   "source": [
    "# String formatting with st.format() method\n",
    "\n",
    "The st.format() method provides a very flexible and powerful way of creating strings. You can use st.format() method for simple cases, but for complex formatting we need to learn the formatting syntax required by st.format() method.\n",
    "\n",
    "The st.format() method returns an new srting with the _**replacement fields**_ in its strings replaced with its _**arguments**_ suitable formatted.\n",
    "\n",
    "What do we mean by that, take a look at the following example:\n"
   ]
  },
  {
   "cell_type": "code",
   "execution_count": 24,
   "metadata": {},
   "outputs": [
    {
     "data": {
      "text/plain": [
       "\"The first novel of 'Harry Potter' was published in 1997\""
      ]
     },
     "execution_count": 24,
     "metadata": {},
     "output_type": "execute_result"
    }
   ],
   "source": [
    "\"The first novel of '{0}' was published in {1}\".format(\"Harry Potter\", 1997)"
   ]
  },
  {
   "cell_type": "markdown",
   "metadata": {},
   "source": [
    "The _**replacement fields**_ are {0} and {1}, they are identified by a **field name in braces { }**.\n",
    "\n",
    "The _**arguments**_ are the items in the .format method. In this case we have 2 arguments, the first argument is the string **\"Harry Potter\"** and the second is an integer **1997**.\n",
    "\n",
    "So, the field name {0} was replaced by the first argument, and field name {1} was replaced by second argument.\n",
    "\n",
    "#### If you want to include braces inside format strings, DOUBLE THEM UP. Take a look at this example:\n"
   ]
  },
  {
   "cell_type": "code",
   "execution_count": 6,
   "metadata": {},
   "outputs": [
    {
     "data": {
      "text/plain": [
       "'{I am in braces} I am not!'"
      ]
     },
     "execution_count": 6,
     "metadata": {},
     "output_type": "execute_result"
    }
   ],
   "source": [
    "\"{{{0}}} {1}\".format(\"I am in braces\", \"I am not!\")"
   ]
  },
  {
   "cell_type": "markdown",
   "metadata": {},
   "source": [
    "#### If you try to concatenate a string and a number, Python will raise a TypeError. "
   ]
  },
  {
   "cell_type": "code",
   "execution_count": 25,
   "metadata": {},
   "outputs": [
    {
     "ename": "TypeError",
     "evalue": "must be str, not int",
     "output_type": "error",
     "traceback": [
      "\u001b[1;31m---------------------------------------------------------------------------\u001b[0m",
      "\u001b[1;31mTypeError\u001b[0m                                 Traceback (most recent call last)",
      "\u001b[1;32m<ipython-input-25-01267ea48021>\u001b[0m in \u001b[0;36m<module>\u001b[1;34m()\u001b[0m\n\u001b[1;32m----> 1\u001b[1;33m \u001b[1;34m\"your grade is\"\u001b[0m \u001b[1;33m+\u001b[0m \u001b[1;36m97\u001b[0m\u001b[1;33m\u001b[0m\u001b[0m\n\u001b[0m",
      "\u001b[1;31mTypeError\u001b[0m: must be str, not int"
     ]
    }
   ],
   "source": [
    "\"your grade is\" + 97"
   ]
  },
  {
   "cell_type": "markdown",
   "metadata": {},
   "source": [
    "**How to solve that ? We can easily use st.format() to concatenate a string and a number**"
   ]
  },
  {
   "cell_type": "code",
   "execution_count": 7,
   "metadata": {},
   "outputs": [
    {
     "data": {
      "text/plain": [
       "'Your grade is 97'"
      ]
     },
     "execution_count": 7,
     "metadata": {},
     "output_type": "execute_result"
    }
   ],
   "source": [
    "\"{0} {1}\".format(\"Your grade is\", 97)"
   ]
  },
  {
   "cell_type": "markdown",
   "metadata": {},
   "source": [
    "You can also concatenate many strings using st.format()"
   ]
  },
  {
   "cell_type": "code",
   "execution_count": 8,
   "metadata": {},
   "outputs": [
    {
     "data": {
      "text/plain": [
       "'The top five movies'"
      ]
     },
     "execution_count": 8,
     "metadata": {},
     "output_type": "execute_result"
    }
   ],
   "source": [
    "x = \"top\"\n",
    "s = \"{0} {1} {2}\"\n",
    "s = s.format(\"The\", x, \"five movies\")\n",
    "s"
   ]
  },
  {
   "cell_type": "markdown",
   "metadata": {},
   "source": [
    "### Well Done!\n",
    "\n",
    "### You have reached the end of basic datatypes in Python section. In the following section, we will discuss collection datatypes. Keep up the good work!"
   ]
  },
  {
   "cell_type": "code",
   "execution_count": null,
   "metadata": {},
   "outputs": [],
   "source": []
  }
 ],
 "metadata": {
  "kernelspec": {
   "display_name": "Python 3",
   "language": "python",
   "name": "python3"
  },
  "language_info": {
   "codemirror_mode": {
    "name": "ipython",
    "version": 3
   },
   "file_extension": ".py",
   "mimetype": "text/x-python",
   "name": "python",
   "nbconvert_exporter": "python",
   "pygments_lexer": "ipython3",
   "version": "3.6.5"
  }
 },
 "nbformat": 4,
 "nbformat_minor": 2
}
