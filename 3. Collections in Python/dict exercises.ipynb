{
 "cells": [
  {
   "cell_type": "markdown",
   "metadata": {},
   "source": [
    "In this sheet you will find coding exercises on dictionaries in Python. The sample solutions are at the end of the sheet. Try to solve each question yourself before checking the solutions.\n",
    "\n",
    "## Question 1:\n",
    "\n",
    "### Write a Python script to add a new item (key-value) to a dictionary. \n",
    " Sample Dictionary : \n",
    "                               \n",
    "                               {01: 'abc', 02:'efg'}\n",
    "                               \n",
    " Expected Result : \n",
    "                                \n",
    "                               {01: 'abc', 02:'efg', 03: 'hij'}\n",
    "\n",
    "## Question 2:\n",
    "\n",
    "### Write a Python script to concatenate following dictionaries to create a new one. \n",
    "\n",
    "Sample Dictionary:\n",
    "\n",
    "\n",
    "                                d1 = {0:'a', 1:'b'}\n",
    "                                d2 = {2:'c', 3:'d'} \n",
    "                                d3 = {4:'e', 5:'f'} \n",
    "                                    \n",
    "                                    \n",
    "Expected Result: \n",
    "\n",
    "                                {0:'a', 1:'b', 2:'c', 3:'d', 4:'e', 5:'f'} \n",
    "\n",
    "\n",
    "  \n",
    "  \n",
    "## Question 3:\n",
    "\n",
    "### Write a Python program to sum all the items in a dictionary.\n"
   ]
  },
  {
   "cell_type": "markdown",
   "metadata": {},
   "source": [
    "Good Luck!"
   ]
  }
 ],
 "metadata": {
  "kernelspec": {
   "display_name": "Python 3",
   "language": "python",
   "name": "python3"
  },
  "language_info": {
   "codemirror_mode": {
    "name": "ipython",
    "version": 3
   },
   "file_extension": ".py",
   "mimetype": "text/x-python",
   "name": "python",
   "nbconvert_exporter": "python",
   "pygments_lexer": "ipython3",
   "version": "3.6.5"
  }
 },
 "nbformat": 4,
 "nbformat_minor": 2
}
