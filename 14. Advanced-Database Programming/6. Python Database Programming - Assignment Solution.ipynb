{
 "cells": [
  {
   "cell_type": "markdown",
   "metadata": {},
   "source": [
    "# Python Database - Assignment Solution"
   ]
  },
  {
   "cell_type": "code",
   "execution_count": 1,
   "metadata": {},
   "outputs": [
    {
     "name": "stdout",
     "output_type": "stream",
     "text": [
      "('John Smith', 111, 140.8)\n"
     ]
    }
   ],
   "source": [
    "import sqlite3\n",
    "\n",
    "conn = sqlite3.connect('my_database.db')\n",
    "\n",
    "# create cursor object\n",
    "c = conn.cursor()\n",
    "\n",
    "# create a table clients in my_database.db\n",
    "# the table has 3 columns, name, account_no, balance\n",
    "c.execute('''CREATE TABLE clients(name text, account_no integer, balance real)''')\n",
    "\n",
    "# insert 3 rows of data in the table\n",
    "c.execute(\"INSERT INTO clients VALUES ('John Smith', 111, 140.80)\")\n",
    "c.execute(\"INSERT INTO clients VALUES ('Sarah Joe', 222, 700.45)\")\n",
    "c.execute(\"INSERT INTO clients VALUES ('Henry Wang', 333, 550.25)\")\n",
    "\n",
    "#---------------------------------------\n",
    "# another way to insert the 3 records using executemany()\n",
    "#---------------------------------------\n",
    "# bank_clients = [('John Smith', 111, 140.80), ('Sarah Joe', 222, 700.45), ('Henry Wang', 333, 550.25)]\n",
    "# c.executemany('INSERT INTO products VALUES (?,?,?)', bank_clients)\n",
    "#---------------------------------------\n",
    "\n",
    "# save (commit) the changes\n",
    "conn.commit()\n",
    "\n",
    "client1 = ('John Smith',)\n",
    "c.execute('SELECT * FROM clients WHERE name=?', client1)\n",
    "print(c.fetchone())\n",
    "\n",
    "# close the database\n",
    "conn.close()"
   ]
  },
  {
   "cell_type": "code",
   "execution_count": null,
   "metadata": {},
   "outputs": [],
   "source": []
  }
 ],
 "metadata": {
  "kernelspec": {
   "display_name": "Python 3",
   "language": "python",
   "name": "python3"
  },
  "language_info": {
   "codemirror_mode": {
    "name": "ipython",
    "version": 3
   },
   "file_extension": ".py",
   "mimetype": "text/x-python",
   "name": "python",
   "nbconvert_exporter": "python",
   "pygments_lexer": "ipython3",
   "version": "3.6.5"
  }
 },
 "nbformat": 4,
 "nbformat_minor": 2
}
