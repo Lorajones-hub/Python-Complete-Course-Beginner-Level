{
 "cells": [
  {
   "cell_type": "markdown",
   "metadata": {},
   "source": [
    "# Variables in Python\n",
    "\n",
    "In this lecture you will learn about variables, by the end of the lecture you will have good understanding the of following:\n",
    "\n",
    "   -  **Does Python really has variables?**\n",
    "   -  **How to declare a variable in Python?**\n",
    "   -  **Variables naming rules (conventions)**\n",
    "   -  **How to assign a value to a variable?**\n",
    "\n",
    "\n",
    "# What is a variable ?\n",
    "\n",
    "A **variable** simply is name (reference) to a memory location in the computer. A variable holds a value and this value may change. So you can imagine that a variable is a BOX that we can put a stuff in. \n",
    "\n",
    "As you have seen in the **Getting started: Python 8 pieces**, Python does not have variables, instead it creates object references to refer to data objects. Data objects hold our data like numbers, words, group of values.\n",
    "\n",
    "In the following lectures and throughout the course, when we say variable or object reference, we mean the same thing. \n",
    "\n",
    "In this lecture we will talk about object references that refer to numbers (whole numbers without fractions).\n",
    "\n",
    "# How create an object reference in Python ?\n",
    "\n",
    "#### The syntax is simple: \n",
    "\n",
    "\n",
    "                           object reference (variable) = value"
   ]
  },
  {
   "cell_type": "code",
   "execution_count": 6,
   "metadata": {},
   "outputs": [],
   "source": [
    "x = 10"
   ]
  },
  {
   "cell_type": "markdown",
   "metadata": {},
   "source": [
    "If we type the above line of code in Python, then we have created an **object of type _int_** with a value 10 and an **object reference** x that refers to the _int_ object. \n",
    "\n",
    "Keep it simple, just say **\"x is referring to an int object with value 10\"**\n",
    "\n",
    "To check the value of x, you can use the built-in print function and it should print 10. \n",
    "\n",
    "Alternatively, if you are using any Python Interactive Interpreter you can just type x. \n",
    "\n",
    "Check out this example:"
   ]
  },
  {
   "cell_type": "code",
   "execution_count": 7,
   "metadata": {},
   "outputs": [
    {
     "name": "stdout",
     "output_type": "stream",
     "text": [
      "10\n"
     ]
    }
   ],
   "source": [
    "x = 10\n",
    "print(x)"
   ]
  },
  {
   "cell_type": "code",
   "execution_count": 2,
   "metadata": {},
   "outputs": [
    {
     "data": {
      "text/plain": [
       "10"
      ]
     },
     "execution_count": 2,
     "metadata": {},
     "output_type": "execute_result"
    }
   ],
   "source": [
    "x = 10\n",
    "x"
   ]
  },
  {
   "cell_type": "markdown",
   "metadata": {},
   "source": [
    "The = operator in Python works as follows. **_The = operator binds an object reference to an object in memory_**. \n",
    "\n",
    "There are two (2) cases here:\n",
    "\n",
    " 1. If the object reference does not exist, Python creates it by the = operator.\n",
    " \n",
    " \n",
    " 2. If the object reference already exists, it is simply re-bound to refer to the object on the right of = operator."
   ]
  },
  {
   "cell_type": "markdown",
   "metadata": {},
   "source": [
    "I can also change the value of x as follows:"
   ]
  },
  {
   "cell_type": "code",
   "execution_count": 3,
   "metadata": {},
   "outputs": [
    {
     "name": "stdout",
     "output_type": "stream",
     "text": [
      "10\n",
      "20\n"
     ]
    }
   ],
   "source": [
    "# case1\n",
    "x = 10\n",
    "print(x)\n",
    "\n",
    "# case2\n",
    "x = 20\n",
    "print(x)\n"
   ]
  },
  {
   "cell_type": "markdown",
   "metadata": {},
   "source": [
    "## Variable names\n",
    "\n",
    "**NOTE**: variable names are also called **identifiers**. \n",
    "\n",
    "Variables' names should follow some rules:\n",
    "\n",
    "   - Must begin with a letter (a - z, A - Z) or underscore (\\_) but do not choose a name that begins         and ends with two underscores, such as \\_\\_varname\\_\\_.\n",
    "   \n",
    "   \n",
    "   - Other characters can be letters, numbers or underscore \\_.\n",
    "   \n",
    "   \n",
    "   - Python is **case sensitive**, for example, TAXRATE, Taxrate, TaxRate, taxRate, and taxrate are all different variables or identifiers.\n",
    "   \n",
    "   \n",
    "   - Can be any (reasonable) length.\n",
    "   \n",
    "   \n",
    "   - Don't use a keyword as a variable name. Python uses keywords for other purposes.\n",
    "      \n",
    "**NOTE**: I recommend when you name the variable to follow these advices.\n",
    "\n",
    "   - Choose meaningful name instead of short name; worker_no is better than wn.\n",
    "   \n",
    "   \n",
    "   - Avoid long variable names; number_of_student_in_class is too long?\n",
    "   \n",
    "   \n",
    "   - Be consistent; worker_no not WorkerNO.\n",
    "   \n",
    "   \n",
    "   - For some special cases, begin a variable name with an underscore(\\_) character."
   ]
  },
  {
   "cell_type": "markdown",
   "metadata": {},
   "source": [
    "## Assign a value of an obj. ref to another ref. \n",
    "\n",
    "#### How to do that? \n",
    "\n",
    "See the following example:"
   ]
  },
  {
   "cell_type": "code",
   "execution_count": 3,
   "metadata": {},
   "outputs": [
    {
     "name": "stdout",
     "output_type": "stream",
     "text": [
      "red yellow\n",
      "blue\n",
      "red yellow red\n"
     ]
    }
   ],
   "source": [
    "r = 'red'\n",
    "y = 'yellow'\n",
    "print(r, y)\n",
    "\n",
    "b = 'blue'\n",
    "print(b)\n",
    "\n",
    "b = r\n",
    "print(r, y, b)"
   ]
  },
  {
   "cell_type": "markdown",
   "metadata": {},
   "source": [
    "You need to understand how the assignment operator works.\n"
   ]
  },
  {
   "cell_type": "markdown",
   "metadata": {},
   "source": [
    "When we type b = r, this means that we are giving the **value** of the right object reference (r) to the **variable** in the left of the assignment which is (b).\n",
    "\n",
    "When the statement is executed: \n",
    "\n",
    "b = r\n",
    "\n",
    "What happens is that the value of b, which was originally 'blue', will change to 'red' which is the value of r.\n",
    "\n",
    "## Great!\n",
    "\n",
    "### Now you have learned how to create an object reference and assign a value to it. Next, you will learn the different data types in Python that are used to represent data items."
   ]
  }
 ],
 "metadata": {
  "kernelspec": {
   "display_name": "Python 3",
   "language": "python",
   "name": "python3"
  },
  "language_info": {
   "codemirror_mode": {
    "name": "ipython",
    "version": 3
   },
   "file_extension": ".py",
   "mimetype": "text/x-python",
   "name": "python",
   "nbconvert_exporter": "python",
   "pygments_lexer": "ipython3",
   "version": "3.6.5"
  }
 },
 "nbformat": 4,
 "nbformat_minor": 2
}
