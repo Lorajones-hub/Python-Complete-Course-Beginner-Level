{
 "cells": [
  {
   "cell_type": "markdown",
   "metadata": {},
   "source": [
    "# Assessment Test - Solutions"
   ]
  },
  {
   "cell_type": "markdown",
   "metadata": {},
   "source": [
    "## Q1: Write a function in Python that finds the max of three numbers.\n",
    "\n",
    "### Hints: \n",
    "\n",
    " - The function accepts three arguments.\n",
    " - There are many possible ways to create this function "
   ]
  },
  {
   "cell_type": "code",
   "execution_count": 2,
   "metadata": {},
   "outputs": [
    {
     "data": {
      "text/plain": [
       "7"
      ]
     },
     "execution_count": 2,
     "metadata": {},
     "output_type": "execute_result"
    }
   ],
   "source": [
    "# solution1: using 2 separate functions\n",
    "\n",
    "def max_of_three(a, b, c):\n",
    "    return max_of_two(a, max_of_two(b, c))\n",
    "\n",
    "def max_of_two(a, b):\n",
    "    if a > b:\n",
    "        return a\n",
    "    return b\n",
    "\n",
    "max_of_three(2, -5, 7)"
   ]
  },
  {
   "cell_type": "code",
   "execution_count": 5,
   "metadata": {},
   "outputs": [
    {
     "data": {
      "text/plain": [
       "7"
      ]
     },
     "execution_count": 5,
     "metadata": {},
     "output_type": "execute_result"
    }
   ],
   "source": [
    "# solution 2: using the library function max()\n",
    "def max_of_three(a, b, c): \n",
    "    \n",
    "    # create a list of the 3 numbers\n",
    "    list = [a, b, c] \n",
    "    \n",
    "    # find and return the max value\n",
    "    return max(list) \n",
    "\n",
    "max_of_three(2, -5, 7)"
   ]
  },
  {
   "cell_type": "markdown",
   "metadata": {},
   "source": [
    "## Q2: Convert this custom function that calculates the area of a circle to a lambda function."
   ]
  },
  {
   "cell_type": "code",
   "execution_count": 10,
   "metadata": {},
   "outputs": [
    {
     "data": {
      "text/plain": [
       "78.5"
      ]
     },
     "execution_count": 10,
     "metadata": {},
     "output_type": "execute_result"
    }
   ],
   "source": [
    "# using default parameters\n",
    "def circle_area(radius, pi=3.14):\n",
    "    return radius * radius * pi\n",
    "\n",
    "circle_area(5)"
   ]
  },
  {
   "cell_type": "code",
   "execution_count": 9,
   "metadata": {},
   "outputs": [
    {
     "data": {
      "text/plain": [
       "78.5"
      ]
     },
     "execution_count": 9,
     "metadata": {},
     "output_type": "execute_result"
    }
   ],
   "source": [
    "area = lambda radius, pi: radius * radius * pi\n",
    "area(5, 3.14)"
   ]
  },
  {
   "cell_type": "markdown",
   "metadata": {},
   "source": [
    "## Q3: Create a generator function that takes a number n and yield the square value of all the numbers between n and 1."
   ]
  },
  {
   "cell_type": "code",
   "execution_count": 13,
   "metadata": {},
   "outputs": [
    {
     "name": "stdout",
     "output_type": "stream",
     "text": [
      "100\n",
      "81\n",
      "64\n",
      "49\n",
      "36\n",
      "25\n",
      "16\n",
      "9\n",
      "4\n",
      "1\n"
     ]
    }
   ],
   "source": [
    "def power_gen(n):\n",
    "    while n > 0:\n",
    "        yield n**2\n",
    "        n -= 1  \n",
    "        \n",
    "pow = power_gen(10)\n",
    "\n",
    "for x in pow:\n",
    "    print(x)"
   ]
  },
  {
   "cell_type": "code",
   "execution_count": null,
   "metadata": {},
   "outputs": [],
   "source": []
  }
 ],
 "metadata": {
  "kernelspec": {
   "display_name": "Python 3",
   "language": "python",
   "name": "python3"
  },
  "language_info": {
   "codemirror_mode": {
    "name": "ipython",
    "version": 3
   },
   "file_extension": ".py",
   "mimetype": "text/x-python",
   "name": "python",
   "nbconvert_exporter": "python",
   "pygments_lexer": "ipython3",
   "version": "3.6.5"
  }
 },
 "nbformat": 4,
 "nbformat_minor": 2
}
