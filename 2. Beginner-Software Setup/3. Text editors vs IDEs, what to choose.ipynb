{
 "cells": [
  {
   "cell_type": "code",
   "execution_count": null,
   "metadata": {
    "collapsed": true
   },
   "outputs": [],
   "source": []
  },
  {
   "cell_type": "markdown",
   "metadata": {},
   "source": [
    "# How to write a Python program, text editors vs IDEs\n",
    "\n",
    "Python Interpreter works in two modes:\n",
    "\n",
    "- Interactive Mode\n",
    "- Script Mode\n",
    "\n",
    "There are many ways you can write your programs in Python:\n",
    "\n",
    "1.  Using the Python shell, whethre using interactive or in IDLE). Here you are in the **_interactive mode_** and Python shell uses >>> as their prompt, although this can be changed. I recommend using this way of writing only for small programs, e.g., 2-4 lines of code.\n",
    " \n",
    "2.  Using any text editor, you can write the code and save the program in a file with extension .py. Here you are using the **_script mode_**. To run the program, open the command prompt and browse folders until you are in the folder where Python was installed. Type in python command then the file name, for example python myfirstProg.py. There are many free text editors available that you can create Python programs with, some of them are:\n",
    "\n",
    "   - Sublime text\n",
    "   - Vim\n",
    "   - Emacs\n",
    "   - Notepad++ \n",
    " \n",
    "3. Using an IDE, IDE stands for (Integrated Development Environment). Here you are also using the script mode. The advantages of writing a program in IDE is that IDEs offer the following features:\n",
    " \n",
    "  - Quick Code Navigation\n",
    "  - Code Completion\n",
    "  - Refactoring\n",
    "  - Unit Testing and \n",
    "  - Debugger\n",
    "       \n",
    "   You can use any of the following IDEs:\n",
    "\n",
    "      - PyCharm \n",
    "      - Jupyter Notebook \n",
    "      - Wing IDE \n",
    "      - PyDev\n",
    "      - Komodo IDE\n",
    "\n",
    "But for this course we will be using Jupyter Notebook and PyCharm. The course contains separate lectures on how to install both IDEs.\n",
    "\n",
    "\n",
    "\n",
    "       "
   ]
  },
  {
   "cell_type": "code",
   "execution_count": null,
   "metadata": {},
   "outputs": [],
   "source": []
  }
 ],
 "metadata": {
  "kernelspec": {
   "display_name": "Python 3",
   "language": "python",
   "name": "python3"
  },
  "language_info": {
   "codemirror_mode": {
    "name": "ipython",
    "version": 3
   },
   "file_extension": ".py",
   "mimetype": "text/x-python",
   "name": "python",
   "nbconvert_exporter": "python",
   "pygments_lexer": "ipython3",
   "version": "3.6.5"
  }
 },
 "nbformat": 4,
 "nbformat_minor": 2
}
