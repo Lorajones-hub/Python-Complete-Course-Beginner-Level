{
 "cells": [
  {
   "cell_type": "markdown",
   "metadata": {},
   "source": [
    "# Sets\n",
    "\n",
    "In this lecture we will cover sets in Python, you will learn:\n",
    "\n",
    " - **What is a set and its features**.\n",
    " - **Calling a set data type as a function, what are the cases?**\n",
    " - **Membership operators**.\n",
    " - **Set Operators**.\n",
    " \n",
    "# What is a set in Python ?\n",
    "\n",
    "A set is an _**unordered**_ collection of zero or more objects, these objects are hashable as discussed in the previous lecture.\n",
    "\n",
    "## Sets features\n",
    "\n",
    "1. **Sets are mutable**: we can easily add or remove items from a set\n",
    "2. **Sets are unordered**: sets in Python _**cannot be sliced or strided**_ because there is no notion of index postion.\n",
    "\n",
    "Take a look at the following code and its created set (in the image below):"
   ]
  },
  {
   "cell_type": "code",
   "execution_count": 2,
   "metadata": {},
   "outputs": [
    {
     "data": {
      "text/plain": [
       "{('z', 20), -30, 0, 1041, 8, 'bird', frozenset({1, 6, 9}), 'moon'}"
      ]
     },
     "execution_count": 2,
     "metadata": {},
     "output_type": "execute_result"
    }
   ],
   "source": [
    "s = {8, \"bird\", 0, frozenset({1, 6, 9}), -30, (\"z\", 20), \"moon\", 1041, 8}\n",
    "s"
   ]
  },
  {
   "cell_type": "markdown",
   "metadata": {},
   "source": [
    "<img src=\"set.png\">"
   ]
  },
  {
   "cell_type": "markdown",
   "metadata": {},
   "source": [
    "We notice two things when printing the set s:\n",
    "    \n",
    " 1. The set's items were printed in an arbitrary order\n",
    " 2. The item 8 was repeated 2 times in the set but was printed only one time. **Sets always contain unique items**, it is safe to add duplicate items but poinless. For example, in Python these 3 sets are the same:\n",
    " \n",
    " - set(\"apple\")\n",
    " - set(\"aple\")\n",
    " - set('e', 'p', 'a', 'l')\n",
    " \n",
    "Hence, a set is a collection of _**unique**_ items. "
   ]
  },
  {
   "cell_type": "markdown",
   "metadata": {},
   "source": [
    "# Calling set data type as a function set()\n",
    "\n",
    "You can call the set as a function and usually you will have 3 cases:\n",
    "\n",
    " - **Case 1**: If no arguments supplied, set() returns an empty set\n",
    " - **Case 2**: If the argument is a set, set() returns a shallow copy of that argument\n",
    " - **Case 3**: If any other object is supplied as an argument, set() attempts to convert the given object to a set.\n",
    " \n",
    "**NOTE**: The funtion Set() does not accept more than one argument.\n",
    "\n",
    "### Examples:\n"
   ]
  },
  {
   "cell_type": "code",
   "execution_count": 23,
   "metadata": {},
   "outputs": [
    {
     "data": {
      "text/plain": [
       "set()"
      ]
     },
     "execution_count": 23,
     "metadata": {},
     "output_type": "execute_result"
    }
   ],
   "source": [
    "#case 1\n",
    "s = set()\n",
    "s"
   ]
  },
  {
   "cell_type": "code",
   "execution_count": 24,
   "metadata": {},
   "outputs": [
    {
     "data": {
      "text/plain": [
       "{('z', 20), -30, 0, 1041, 8}"
      ]
     },
     "execution_count": 24,
     "metadata": {},
     "output_type": "execute_result"
    }
   ],
   "source": [
    "#case 2\n",
    "set({('z', 20), -30, 0, 1041, 8})"
   ]
  },
  {
   "cell_type": "code",
   "execution_count": 25,
   "metadata": {},
   "outputs": [
    {
     "data": {
      "text/plain": [
       "{' ', '!', 'H', 'W', 'd', 'e', 'l', 'o', 'r'}"
      ]
     },
     "execution_count": 25,
     "metadata": {},
     "output_type": "execute_result"
    }
   ],
   "source": [
    "#case 3\n",
    "set(\"Hello World!\")"
   ]
  },
  {
   "cell_type": "markdown",
   "metadata": {},
   "source": [
    "**RULE**: As we have seen, we can create a _nonempty_ set using either:\n",
    "\n",
    "- comma-separated sequence of items inside braces, OR \n",
    "- the set() function. \n",
    "\n",
    "However, _**empty sets can only be created using the set() function**_. You can not create an empty set using an empty braces { }, as they are used to create an empty dictionary (dict) as we will see in the dictionary lecture.  "
   ]
  },
  {
   "cell_type": "markdown",
   "metadata": {},
   "source": [
    "# Len() function\n",
    "\n",
    "Sets support the len() function to find the length of the set, for example:"
   ]
  },
  {
   "cell_type": "code",
   "execution_count": 26,
   "metadata": {},
   "outputs": [
    {
     "data": {
      "text/plain": [
       "2"
      ]
     },
     "execution_count": 26,
     "metadata": {},
     "output_type": "execute_result"
    }
   ],
   "source": [
    "s = {\"apple\", 3}\n",
    "len(s)"
   ]
  },
  {
   "cell_type": "markdown",
   "metadata": {},
   "source": [
    "# Membership operators in and not in\n",
    "\n",
    "We can also test if an item is a member of a set or not, example:"
   ]
  },
  {
   "cell_type": "code",
   "execution_count": 27,
   "metadata": {},
   "outputs": [
    {
     "data": {
      "text/plain": [
       "True"
      ]
     },
     "execution_count": 27,
     "metadata": {},
     "output_type": "execute_result"
    }
   ],
   "source": [
    "3 in s"
   ]
  },
  {
   "cell_type": "code",
   "execution_count": 28,
   "metadata": {},
   "outputs": [
    {
     "data": {
      "text/plain": [
       "False"
      ]
     },
     "execution_count": 28,
     "metadata": {},
     "output_type": "execute_result"
    }
   ],
   "source": [
    "\"banana\" in s"
   ]
  },
  {
   "cell_type": "code",
   "execution_count": 29,
   "metadata": {},
   "outputs": [
    {
     "data": {
      "text/plain": [
       "False"
      ]
     },
     "execution_count": 29,
     "metadata": {},
     "output_type": "execute_result"
    }
   ],
   "source": [
    "'apple' not in s"
   ]
  },
  {
   "cell_type": "markdown",
   "metadata": {},
   "source": [
    "# Set operators\n",
    "\n",
    "In this topic we will talk about the operators that we can apply to sets. There are four operators as listed below with their definitions:\n",
    "\n",
    " 1. **Union**: the union (A ∪ B) of two sets A and B is the set the contains all elements in the set A and the set B, with no duplicate. **In Python, we use the bar character (|) for union**.  \n",
    " 2. **Intersection**: the intersection (A ∩ B) of two sets A and B is the set that contains all elements of A that also belong to B (or equivalently, all elements of B that also belong to A), but no other elements. **In Python, we use the and character (&) for intersection**.\n",
    " 3. **Difference**: the difference (A ∖ B) of two sets A and B is the set of elements in A but not in B. **In Python, we use the minus character (-) for difference**.\n",
    " 4. **Symmetric difference**:  the symmetric difference of two sets is the set of elements which are in either of the sets and not in their intersection. **In Python, we use the carrot character (^) for symmetric difference**.\n",
    " \n",
    "<font color='red'> **NOTE** </font>: these operators are also called **_binary operators_** because they are taking **_two_** operands (sets) to perform the operation.\n",
    " \n",
    "## Examples."
   ]
  },
  {
   "cell_type": "code",
   "execution_count": 30,
   "metadata": {},
   "outputs": [
    {
     "data": {
      "text/plain": [
       "{'a', 'c', 'e', 'i', 'n', 'p'}"
      ]
     },
     "execution_count": 30,
     "metadata": {},
     "output_type": "execute_result"
    }
   ],
   "source": [
    "# unioin of 2 sets\n",
    "set('pecan') | set('pie')"
   ]
  },
  {
   "cell_type": "code",
   "execution_count": 31,
   "metadata": {},
   "outputs": [
    {
     "data": {
      "text/plain": [
       "{'e', 'p'}"
      ]
     },
     "execution_count": 31,
     "metadata": {},
     "output_type": "execute_result"
    }
   ],
   "source": [
    "# intersection of 2 sets\n",
    "set('pecan') & set('pie')"
   ]
  },
  {
   "cell_type": "code",
   "execution_count": 32,
   "metadata": {},
   "outputs": [
    {
     "data": {
      "text/plain": [
       "{'a', 'c', 'n'}"
      ]
     },
     "execution_count": 32,
     "metadata": {},
     "output_type": "execute_result"
    }
   ],
   "source": [
    "# difference of 2 sets\n",
    "set('pecan') - set('pie')"
   ]
  },
  {
   "cell_type": "code",
   "execution_count": 33,
   "metadata": {},
   "outputs": [
    {
     "data": {
      "text/plain": [
       "{'a', 'c', 'i', 'n'}"
      ]
     },
     "execution_count": 33,
     "metadata": {},
     "output_type": "execute_result"
    }
   ],
   "source": [
    "# symmetric difference of 2 sets\n",
    "set('pecan') ^ set('pie')"
   ]
  },
  {
   "cell_type": "markdown",
   "metadata": {},
   "source": [
    "### Great Job!\n",
    "\n",
    "### You have learned a lot about set basics in Python, Let's move on and practise set methods."
   ]
  },
  {
   "cell_type": "code",
   "execution_count": null,
   "metadata": {},
   "outputs": [],
   "source": []
  }
 ],
 "metadata": {
  "kernelspec": {
   "display_name": "Python 3",
   "language": "python",
   "name": "python3"
  },
  "language_info": {
   "codemirror_mode": {
    "name": "ipython",
    "version": 3
   },
   "file_extension": ".py",
   "mimetype": "text/x-python",
   "name": "python",
   "nbconvert_exporter": "python",
   "pygments_lexer": "ipython3",
   "version": "3.6.5"
  }
 },
 "nbformat": 4,
 "nbformat_minor": 2
}
