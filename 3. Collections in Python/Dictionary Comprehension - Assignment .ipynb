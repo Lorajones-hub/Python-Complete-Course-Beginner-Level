{
 "cells": [
  {
   "cell_type": "markdown",
   "metadata": {},
   "source": [
    "# Dictionary Comprehension - Assignment \n",
    "\n",
    "## Create a dictionary using dictionary comprehension. The dictionary will contain the file names and sizes of the current directory. Follow these steps to solve the question:\n",
    "\n",
    " - Import the os module.\n",
    " \n",
    " \n",
    " - The keys of the dictionary are the files' names.\n",
    " \n",
    " \n",
    " - The values of the dictionary are the files' sizes.\n",
    " \n",
    " \n",
    " - Use a for loop to iterate over each file name in the current directory, call os.listdir('.') to get a list of files' names in the current directory to iterate over.\n",
    " \n",
    " \n",
    " - Call the method getsize() form os.path and pass the file name to get the size of the file.\n",
    " \n",
    "### Good Luck!"
   ]
  }
 ],
 "metadata": {
  "kernelspec": {
   "display_name": "Python 3",
   "language": "python",
   "name": "python3"
  },
  "language_info": {
   "codemirror_mode": {
    "name": "ipython",
    "version": 3
   },
   "file_extension": ".py",
   "mimetype": "text/x-python",
   "name": "python",
   "nbconvert_exporter": "python",
   "pygments_lexer": "ipython3",
   "version": "3.6.5"
  }
 },
 "nbformat": 4,
 "nbformat_minor": 2
}
