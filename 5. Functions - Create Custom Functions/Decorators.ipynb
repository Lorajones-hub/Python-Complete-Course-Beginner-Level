{
 "cells": [
  {
   "cell_type": "markdown",
   "metadata": {},
   "source": [
    "# Python Decorators\n",
    "\n",
    "Decorators belong to the most beautiful and most powerful design possibilities in Python. However, the concept is a bit complicated to get into.\n",
    "\n",
    "In this lesson we will try to simplify the idea and provide examples that make it easy to understand. **Decorators are functions that dynamically alter the functionality of other functions, methods or classes**. With decorators, you can extend the functionality of functions without modifying these functions. Decorators can be implemented anywhere in the program, but Python makes the implementation much easier by providing expressive features and syntax.\n",
    "\n",
    "## Decorators types\n",
    "\n",
    "There are two different types of decorators:\n",
    "\n",
    "- Function decorator\n",
    "\n",
    "\n",
    "- Class decorator\n",
    "\n",
    "\n",
    "Before we start with decorators, let's review some important facts about functions. \n",
    "\n",
    "### Fact 1:  Functions are objects\n",
    "\n",
    "Remember that **everything in Python is an object** and **function names are references to functions** so we can assign multiple names to the same function. \n",
    "\n",
    "Take a look at this example, here :"
   ]
  },
  {
   "cell_type": "code",
   "execution_count": 40,
   "metadata": {},
   "outputs": [
    {
     "data": {
      "text/plain": [
       "11"
      ]
     },
     "execution_count": 40,
     "metadata": {},
     "output_type": "execute_result"
    }
   ],
   "source": [
    "def successor(x):\n",
    "    return x + 1\n",
    "\n",
    "successor_fun = successor\n",
    "\n",
    "successor_fun(10)\n"
   ]
  },
  {
   "cell_type": "markdown",
   "metadata": {},
   "source": [
    "### Fact 2: Function delete\n",
    "\n",
    "We can delete either \"successor\" or \"successor_fun\" without deleting the function itself."
   ]
  },
  {
   "cell_type": "code",
   "execution_count": 41,
   "metadata": {},
   "outputs": [],
   "source": [
    "# delete successor function\n",
    "del successor\n"
   ]
  },
  {
   "cell_type": "code",
   "execution_count": 42,
   "metadata": {},
   "outputs": [
    {
     "ename": "NameError",
     "evalue": "name 'successor' is not defined",
     "output_type": "error",
     "traceback": [
      "\u001b[1;31m---------------------------------------------------------------------------\u001b[0m",
      "\u001b[1;31mNameError\u001b[0m                                 Traceback (most recent call last)",
      "\u001b[1;32m<ipython-input-42-1780a916ce80>\u001b[0m in \u001b[0;36m<module>\u001b[1;34m()\u001b[0m\n\u001b[1;32m----> 1\u001b[1;33m \u001b[0msuccessor\u001b[0m\u001b[1;33m(\u001b[0m\u001b[1;36m5\u001b[0m\u001b[1;33m)\u001b[0m\u001b[1;33m\u001b[0m\u001b[0m\n\u001b[0m",
      "\u001b[1;31mNameError\u001b[0m: name 'successor' is not defined"
     ]
    }
   ],
   "source": [
    "successor(5)"
   ]
  },
  {
   "cell_type": "code",
   "execution_count": 43,
   "metadata": {},
   "outputs": [
    {
     "data": {
      "text/plain": [
       "11"
      ]
     },
     "execution_count": 43,
     "metadata": {},
     "output_type": "execute_result"
    }
   ],
   "source": [
    "# call successor_fun function, still be working\n",
    "successor_fun(10)"
   ]
  },
  {
   "cell_type": "markdown",
   "metadata": {},
   "source": [
    "Now you know that functions are objects and can be assigned names. Next, we will see how to define a functions inside other functions.\n",
    "\n",
    "\n",
    "### Fact 3: Functions inside functions\n",
    "\n",
    "We can easily define functions in Python that reside within the body of another function. For example, we define a function called **fah2cel()**, which converts fahrenheit degree to celsius, inside another function **temperature()** as shown below:"
   ]
  },
  {
   "cell_type": "code",
   "execution_count": 44,
   "metadata": {},
   "outputs": [
    {
     "name": "stdout",
     "output_type": "stream",
     "text": [
      "32 fahrenheit is 0.0 celsius!\n"
     ]
    }
   ],
   "source": [
    "def temperature(t):\n",
    "    \n",
    "    #  converts a fahrenheit degree to celsius\n",
    "    def fah2cel(t):\n",
    "        return (t - 32) * (5 / 9)\n",
    "    \n",
    "    # call fah2cel()\n",
    "    f = fah2cel(t)\n",
    "    \n",
    "    result = str(t) + \" fahrenheit is \" + str(f) + \" celsius!\" \n",
    "    return result\n",
    "\n",
    "print(temperature(32))"
   ]
  },
  {
   "cell_type": "markdown",
   "metadata": {},
   "source": [
    "### Fact 4: Functions as parameters\n",
    "\n",
    "Remember the fact that every parameter of a function is a reference to an object and because functions are objects as well, we can pass functions - or better to say \"references to functions\" - as parameters to another function. \n",
    "\n",
    "The next simple example illustrate what we mean by that"
   ]
  },
  {
   "cell_type": "code",
   "execution_count": 45,
   "metadata": {},
   "outputs": [
    {
     "name": "stdout",
     "output_type": "stream",
     "text": [
      "Hi, it's me 'first'\n",
      "I will call second\n",
      "Hi, it's me 'second'\n",
      "Thanks for calling me\n"
     ]
    }
   ],
   "source": [
    "def second():\n",
    "    print(\"Hi, it's me 'second'\")\n",
    "    print(\"Thanks for calling me\")\n",
    "    \n",
    "def first(fun):\n",
    "    print(\"Hi, it's me 'first'\")\n",
    "    print(\"I will call \" + second.__name__)  # notice how to print second function name\n",
    "    fun()\n",
    "          \n",
    "first(second) # passing function second as paramter to first"
   ]
  },
  {
   "cell_type": "markdown",
   "metadata": {},
   "source": [
    "### Fact 5: Functions returning functions\n",
    "\n",
    "We can also define a function that returns another function.\n",
    "\n",
    "Example: \n",
    "\n",
    "**NOTES**:\n",
    "\n",
    "- function greet() returns function say_hello() \n",
    "\n",
    "\n",
    "- say_hello() is assigned the name fun in greet()\n",
    "\n",
    "\n",
    "- say_hello() passed as a parameter to greet() in the print statement."
   ]
  },
  {
   "cell_type": "code",
   "execution_count": 46,
   "metadata": {},
   "outputs": [
    {
     "name": "stdout",
     "output_type": "stream",
     "text": [
      "I am greeting everyone\n",
      "Hello John!\n"
     ]
    }
   ],
   "source": [
    "\n",
    "def say_hello(name):\n",
    "    return \"Hello \" + name + '!'\n",
    "\n",
    "def greet(fun):\n",
    "    name = \"John\"\n",
    "    \n",
    "    print(\"I am greeting everyone\")\n",
    "    \n",
    "    # greet returns fun which say_hello\n",
    "    return fun(name)  \n",
    "\n",
    "print(greet(say_hello))"
   ]
  },
  {
   "cell_type": "markdown",
   "metadata": {},
   "source": [
    "Wonderful! so far you have learned different aspects of functions in Python. Now we have everything ready to define our first simple decorator."
   ]
  },
  {
   "cell_type": "markdown",
   "metadata": {},
   "source": [
    "## Decorators\n",
    "\n",
    "Essentially, decorators work as **wrappers**, they modify the behavior of the code before and after a target function execution, without the need to modify the function itself, thus decorating the original functionality.\n",
    "\n",
    "In the previous examples we actually created decorators manually, by modifying the result of some functions. To make the idea more clear we will discuss the following example."
   ]
  },
  {
   "cell_type": "code",
   "execution_count": 34,
   "metadata": {},
   "outputs": [
    {
     "name": "stdout",
     "output_type": "stream",
     "text": [
      "Call fun before decoration:\n",
      "Hi This is fun, I need some decoration. \n",
      "\n",
      "Now decorate fun with my_decorator:\n",
      "\n",
      "Some decoration before calling fun\n",
      "Hi This is fun, I need some decoration. \n",
      "Some decoration after calling fun\n"
     ]
    }
   ],
   "source": [
    "def my_decorator(f):\n",
    "    \n",
    "    def f_wrapper(x):\n",
    "        print(\"Some decoration before calling \" + f.__name__)\n",
    "        f(x)\n",
    "        print(\"Some decoration after calling \" + f.__name__)\n",
    "    \n",
    "    return f_wrapper\n",
    "\n",
    "def fun(x):\n",
    "    print(str(x) + \" This is fun, I need some decoration. \")\n",
    "\n",
    "print(\"Call fun before decoration:\")\n",
    "fun('Hi')\n",
    "\n",
    "print(\"\\nNow decorate fun with my_decorator:\\n\")\n",
    "\n",
    "# fun() will be wrapped with fun_wrapper\n",
    "fun = my_decorator(fun)\n",
    "fun('Hi')"
   ]
  },
  {
   "cell_type": "markdown",
   "metadata": {},
   "source": [
    "If you look at the above output, you can see what's going on: \n",
    "\n",
    "- When we say: \"**fun = my_decorator(fun)**\", fun is a reference to the **\"fun_wrapper\"**. \"fun\" will be called inside of 'fun_wrapper', but before and after the call some additional code will be executed, i.e. in our case two print statements.\n",
    "\n",
    "Got the idea! We have just applied the previously learned principles. This is exactly what the decorators do in Python! They wrap a function and modify its behavior in one way or the another."
   ]
  },
  {
   "cell_type": "markdown",
   "metadata": {},
   "source": [
    "## Python decorator syntax - @ symbol"
   ]
  },
  {
   "cell_type": "markdown",
   "metadata": {},
   "source": [
    "Now you might be wondering why we did not use the @ anywhere in our code? That is just a short way of making up a decorated function. Let's rewrite our the previous decorator code using @.\n",
    "\n",
    "Instead of writing the statement:"
   ]
  },
  {
   "cell_type": "code",
   "execution_count": 48,
   "metadata": {},
   "outputs": [],
   "source": [
    "fun = my_decorator(fun)"
   ]
  },
  {
   "cell_type": "markdown",
   "metadata": {},
   "source": [
    "We can write:"
   ]
  },
  {
   "cell_type": "code",
   "execution_count": null,
   "metadata": {},
   "outputs": [],
   "source": [
    "@my_decorator"
   ]
  },
  {
   "cell_type": "markdown",
   "metadata": {},
   "source": [
    "But this line has to be directly positioned in front of the decorated function. The complete example looks like this now:"
   ]
  },
  {
   "cell_type": "code",
   "execution_count": 35,
   "metadata": {},
   "outputs": [
    {
     "name": "stdout",
     "output_type": "stream",
     "text": [
      "Some decoration before calling fun\n",
      "Hi This is fun, I need some decoration. \n",
      "Some decoration after calling fun\n"
     ]
    }
   ],
   "source": [
    "def my_decorator(f):\n",
    "    def f_wrapper(x):\n",
    "        print(\"Some decoration before calling \" + f.__name__)\n",
    "        f(x)\n",
    "        print(\"Some decoration after calling \" + f.__name__)\n",
    "    return f_wrapper\n",
    "\n",
    "@my_decorator\n",
    "def fun(x):\n",
    "    print(str(x) + \" This is fun, I need some decoration. \")\n",
    "\n",
    "fun(\"Hi\")"
   ]
  },
  {
   "cell_type": "markdown",
   "metadata": {},
   "source": [
    "I hope you now have a basic understanding of how decorators work in Python. Now there is one problem with our code. If we run: "
   ]
  },
  {
   "cell_type": "code",
   "execution_count": 36,
   "metadata": {},
   "outputs": [
    {
     "name": "stdout",
     "output_type": "stream",
     "text": [
      "f_wrapper\n"
     ]
    }
   ],
   "source": [
    "print(fun.__name__)"
   ]
  },
  {
   "cell_type": "markdown",
   "metadata": {},
   "source": [
    "**Not what we expect!** we tried to print the name of fun() but instead Python gave us name of the wrapper function. \n",
    "\n",
    "Why? because When you use a decorator, you're replacing one function with another. fun() was replaced by f_wrapper(). It overrode the name and docstring of our function. Luckily Python provides us a simple function to solve this problem and that is **functools.wraps**. \n",
    "\n",
    "Let’s modify our previous example to see how functools.wraps works:"
   ]
  },
  {
   "cell_type": "code",
   "execution_count": 40,
   "metadata": {},
   "outputs": [
    {
     "name": "stdout",
     "output_type": "stream",
     "text": [
      "fun_needs_decoration\n"
     ]
    }
   ],
   "source": [
    "from functools import wraps\n",
    "\n",
    "def new_decorator(f):\n",
    "    @wraps(f)\n",
    "    def wraps_f():\n",
    "        print(\"I am doing some work before executing a_fun()\")\n",
    "        f()\n",
    "        print(\"I am doing some work after executing a_fun()\")\n",
    "    return wraps_f\n",
    "\n",
    "@new_decorator\n",
    "def fun_needs_decoration():\n",
    "    \"\"\"Hey will you Decorate me!\"\"\"\n",
    "    \n",
    "    print(\"I am the function which needs some decoration to\")\n",
    "\n",
    "print(fun_needs_decoration.__name__)\n"
   ]
  },
  {
   "cell_type": "markdown",
   "metadata": {},
   "source": [
    "**Note**:\n",
    "\n",
    "- @wraps takes a function to be decorated and adds the functionality of copying over the function name, docstring, arguments list, etc. \n",
    "\n",
    "\n",
    "- This allows to access the pre-decorated function’s properties in the decorator.\n",
    "\n",
    "Now it is much better. Let’s move on and learn some use-cases of decorators."
   ]
  },
  {
   "cell_type": "markdown",
   "metadata": {},
   "source": [
    "## Use cases\n",
    "\n",
    "Here are some areas where decorators really shine and their usage makes something really easy to manage. Don't worry if you do not fully understand the code in the two use cases below. The main point is to get a general idea of the many possibilities that decorators offer in Python\n",
    "\n",
    "\n",
    "### Authorization\n",
    "\n",
    "Decorators can help to check whether someone is authorized to use an endpoint in a web application. They are extensively used in Flask web framework and Django. Here is an example to employ decorator based authentication:\n",
    "\n"
   ]
  },
  {
   "cell_type": "code",
   "execution_count": 38,
   "metadata": {},
   "outputs": [],
   "source": [
    "from functools import wraps\n",
    "\n",
    "def requires_auth(f):\n",
    "    @wraps(f)\n",
    "    def decorated(*args, **kwargs):\n",
    "        auth = request.authorization\n",
    "        if not auth or not check_auth(auth.username, auth.password):\n",
    "            authenticate()\n",
    "        return f(*args, **kwargs)\n",
    "    return decorated"
   ]
  },
  {
   "cell_type": "markdown",
   "metadata": {},
   "source": [
    "### Logging\n",
    "\n",
    "Logging is another area where the decorators become very handy. Here is an example:"
   ]
  },
  {
   "cell_type": "code",
   "execution_count": 42,
   "metadata": {},
   "outputs": [
    {
     "name": "stdout",
     "output_type": "stream",
     "text": [
      "addition_fun was called\n"
     ]
    }
   ],
   "source": [
    "from functools import wraps\n",
    "\n",
    "def logit(f):\n",
    "    @wraps(f)\n",
    "    def with_logging(*args, **kwargs):\n",
    "        print(f.__name__ + \" was called\")\n",
    "        return f(*args, **kwargs)\n",
    "    return with_logging\n",
    "\n",
    "@logit\n",
    "def addition_fun(x):\n",
    "    return x + x\n",
    "\n",
    "\n",
    "result = addition_fun(4)"
   ]
  },
  {
   "cell_type": "markdown",
   "metadata": {},
   "source": [
    "Interested! to review more common use cases, check out this page: [Common uses of Python decorators](https://stackoverflow.com/questions/489720/what-are-some-common-uses-for-python-decorators) "
   ]
  },
  {
   "cell_type": "markdown",
   "metadata": {},
   "source": [
    "The examples in this lesson are pretty simple relative to how much you can do with decorators. For a great list of useful decorators I suggest you check out the [Python Decorator Library](https://wiki.python.org/moin/PythonDecoratorLibrary)\n",
    "\n",
    "## Conclusion\n",
    "\n",
    "In this lesson, you've leaned how to built decorators manually in Python and how we can use the @ symbol in Python to automate this and make our code more clean and elegant. Decorators are used a lot with Python Web Development, such as Django and Flask! "
   ]
  },
  {
   "cell_type": "code",
   "execution_count": null,
   "metadata": {},
   "outputs": [],
   "source": []
  }
 ],
 "metadata": {
  "kernelspec": {
   "display_name": "Python 3",
   "language": "python",
   "name": "python3"
  },
  "language_info": {
   "codemirror_mode": {
    "name": "ipython",
    "version": 3
   },
   "file_extension": ".py",
   "mimetype": "text/x-python",
   "name": "python",
   "nbconvert_exporter": "python",
   "pygments_lexer": "ipython3",
   "version": "3.6.5"
  }
 },
 "nbformat": 4,
 "nbformat_minor": 2
}
