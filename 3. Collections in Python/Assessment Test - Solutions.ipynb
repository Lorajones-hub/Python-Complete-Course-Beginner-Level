{
 "cells": [
  {
   "cell_type": "markdown",
   "metadata": {},
   "source": [
    "# Assessment Test - Questions"
   ]
  },
  {
   "cell_type": "markdown",
   "metadata": {},
   "source": [
    "## Q1: Write a Python script to convert a tuple to a dictionary."
   ]
  },
  {
   "cell_type": "code",
   "execution_count": 6,
   "metadata": {},
   "outputs": [
    {
     "name": "stdout",
     "output_type": "stream",
     "text": [
      "{'Programming': 'Python', 'Science': 'Math'}\n"
     ]
    }
   ],
   "source": [
    "#create a tuple\n",
    "tuple1 = (('Python', 'Programming'), ('Math', 'Science'))\n",
    "print(dict((y, x) for x, y in tuple1))"
   ]
  },
  {
   "cell_type": "markdown",
   "metadata": {},
   "source": [
    "## Q2: Write a Python script to remove duplicates from a list."
   ]
  },
  {
   "cell_type": "code",
   "execution_count": 8,
   "metadata": {},
   "outputs": [
    {
     "data": {
      "text/plain": [
       "{2, 10, 20, 30, 40, 50, 60, 80}"
      ]
     },
     "execution_count": 8,
     "metadata": {},
     "output_type": "execute_result"
    }
   ],
   "source": [
    "a = [50, 60, 40, 80, 30, 20, 10, 50, 40, 10, 2]\n",
    "\n",
    "dup_items = set()\n",
    "for x in a:\n",
    "    if x not in dup_items:\n",
    "        dup_items.add(x)\n",
    "\n",
    "dup_items"
   ]
  },
  {
   "cell_type": "markdown",
   "metadata": {},
   "source": [
    "## Q3: Write a Python script to return the union and the intersection of these two sets.\n",
    "\n",
    "First set: Fibonacci sequence\n",
    "\n",
    "                               fib = set((1, 1, 2, 3, 5, 8, 13))\n",
    "Second set: Prime numbers \n",
    "\n",
    "                               prime = set((2, 3, 5, 7, 11, 13))"
   ]
  },
  {
   "cell_type": "code",
   "execution_count": 3,
   "metadata": {},
   "outputs": [
    {
     "name": "stdout",
     "output_type": "stream",
     "text": [
      "{1, 2, 3, 5, 7, 8, 11, 13}\n",
      "{13, 2, 3, 5}\n"
     ]
    }
   ],
   "source": [
    "fib = set((1, 1 , 2, 3, 5, 8, 13))\n",
    "prime = set((2, 3, 5, 7, 11, 13))\n",
    "\n",
    "# union of fib and prime\n",
    "print(fib | prime)\n",
    "\n",
    "# intersection of fib and prime\n",
    "print(fib & prime)"
   ]
  },
  {
   "cell_type": "markdown",
   "metadata": {},
   "source": [
    "## Q4. Write a Python script to concatenate following dictionaries to create a new one. \n",
    "\n",
    "Sample Dictionary:\n",
    "\n",
    "\n",
    "                                d1 = {0:'a', 1:'b'}\n",
    "                                d2 = {2:'c', 3:'d'} \n",
    "                                d3 = {4:'e', 5:'f'} \n",
    "                                    \n",
    "                                    \n",
    "Expected Result: \n",
    "\n",
    "                                {0:'a', 1:'b', 2:'c', 3:'d', 4:'e', 5:'f'} "
   ]
  },
  {
   "cell_type": "code",
   "execution_count": 4,
   "metadata": {},
   "outputs": [
    {
     "data": {
      "text/plain": [
       "{1: 100, 2: 200, 3: 300, 4: 400, 5: 500, 6: 600}"
      ]
     },
     "execution_count": 4,
     "metadata": {},
     "output_type": "execute_result"
    }
   ],
   "source": [
    "d1={1:100, 2:200}\n",
    "d2={3:300, 4:400}\n",
    "d3={5:500, 6:600}\n",
    "\n",
    "d4 = {}\n",
    "for d in (d1, d2, d3): \n",
    "    d4.update(d)\n",
    "d4"
   ]
  },
  {
   "cell_type": "markdown",
   "metadata": {},
   "source": [
    "## Greate Job!"
   ]
  }
 ],
 "metadata": {
  "kernelspec": {
   "display_name": "Python 3",
   "language": "python",
   "name": "python3"
  },
  "language_info": {
   "codemirror_mode": {
    "name": "ipython",
    "version": 3
   },
   "file_extension": ".py",
   "mimetype": "text/x-python",
   "name": "python",
   "nbconvert_exporter": "python",
   "pygments_lexer": "ipython3",
   "version": "3.6.5"
  }
 },
 "nbformat": 4,
 "nbformat_minor": 2
}
