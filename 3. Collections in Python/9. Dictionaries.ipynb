{
 "cells": [
  {
   "cell_type": "markdown",
   "metadata": {},
   "source": [
    "# Dictionaries\n",
    "\n",
    "Welcome to this lecture, you will learn:\n",
    "\n",
    "- **What is a dictionary in Python**\n",
    "- **Different ways of creating a dictionary**\n",
    "- **Calling dict type as a function, what is the return value ?**\n",
    "- **Add and delete items to and from a dictionary**\n",
    "- **Functions and operators used with dictionaries**\n",
    "\n",
    "\n",
    "A <font font-family='courier-new'> dict </font> is an **unordered** collection of zero or more **key-value** pairs. The keys are object references that refer to _hashable_ objects, while the values are object references that refer to objects of any type.\n",
    "\n",
    "Dictionaries are **mutable**, so we can easily add or remove items. \n",
    "\n",
    "Since dictionaries are unordered, they have **NO index position** so we cannot slice or stride a dict.\n",
    "\n",
    "\n",
    "## How to create a dictionary in Python?\n",
    "\n",
    "There are different syntaxes that are used to create a dictionary. Here are some examples that produce the same dictionary with the explanations below them."
   ]
  },
  {
   "cell_type": "code",
   "execution_count": 3,
   "metadata": {},
   "outputs": [],
   "source": [
    "d1 = dict({\"id\": 1234, \"name\": \"Disk Drive\", \"quantity\": 3})\n",
    "\n",
    "d2 = dict(id=1234, name=\"Disk Drive\", quantity=3)\n",
    "\n",
    "d3 = dict([(\"id\", 1234), (\"name\", \"Disk Drive\"), (\"quantity\", 3)])\n",
    "\n",
    "d4 = dict(zip((\"id\", \"name\", \"quantity\"), (1234, \"Disk Drive\", 3)))\n",
    "\n",
    "d5 = {\"id\": 1234, \"name\": \"Disk Drive\", \"quantity\": 3}"
   ]
  },
  {
   "cell_type": "markdown",
   "metadata": {},
   "source": [
    "## Explanation of the above synatxes:\n",
    "\n",
    "- Dictionary   **d1** is created using a dictionary literal.\n",
    "- Dictionary   **d2** is created using keyword arguments. \n",
    "- Dictionary **d3** is created from sequences.\n",
    "- Dictionary **d4** is created from sequences.\n",
    "- Dictionary   **d5** is created from a dictionary literal. \n",
    "\n",
    "The built-in **zip()** function, **used to create dictionary d4 above**, returns a list of tuples. To visualize that, in our d4 example, zip() function returned the following list that contains 3 tuples:\n",
    "\n",
    "[(\"id\", 1234), (\"name\", \"Disk Drive\"), (\"quantity\", 3)]\n",
    "\n",
    "**The keyword argument syntax (used to create dictionary d2) is usually the most compact and convenient, providing the keys are valid identifiers**."
   ]
  },
  {
   "cell_type": "markdown",
   "metadata": {},
   "source": [
    "# Calling a dict data type as a function dict()\n",
    "\n",
    "We can call a dict data type as a function, dict(), with the following cases:\n",
    "\n",
    "- **Case 1**: With no arguments, dict() function returns an empty dictionary\n",
    "- **Case 2**: With a dict argument, dict() function returns a shallow copy of that dict\n",
    "- **Case 3**: If we give an argument as a _sequence_. This will work under one condition that each item in the sequence itself is a _sequence of two objects_, the **first is used as a key** and the second is **used as a value**.  In that case, dict() function will convert that sequence to a dictionary. \n"
   ]
  },
  {
   "cell_type": "code",
   "execution_count": 5,
   "metadata": {},
   "outputs": [
    {
     "data": {
      "text/plain": [
       "{}"
      ]
     },
     "execution_count": 5,
     "metadata": {},
     "output_type": "execute_result"
    }
   ],
   "source": [
    "#case 1\n",
    "dict() "
   ]
  },
  {
   "cell_type": "code",
   "execution_count": 6,
   "metadata": {},
   "outputs": [
    {
     "data": {
      "text/plain": [
       "{'id': 1234, 'name': 'Disk Drive', 'quantity': 3}"
      ]
     },
     "execution_count": 6,
     "metadata": {},
     "output_type": "execute_result"
    }
   ],
   "source": [
    "#case 2\n",
    "dict({\"id\": 1234, \"name\": \"Disk Drive\", \"quantity\": 3})"
   ]
  },
  {
   "cell_type": "code",
   "execution_count": 7,
   "metadata": {},
   "outputs": [
    {
     "data": {
      "text/plain": [
       "{'id': 1234, 'name': 'Disk Drive', 'quantity': 3}"
      ]
     },
     "execution_count": 7,
     "metadata": {},
     "output_type": "execute_result"
    }
   ],
   "source": [
    "#case 3\n",
    "dict([(\"id\", 1234), (\"name\", \"Disk Drive\"), (\"quantity\", 3)])"
   ]
  },
  {
   "cell_type": "markdown",
   "metadata": {},
   "source": [
    "In case 3, we have given a sequence as an argument which is a list of tuples. The purpose of converting this list of tuples to dictionaries is to create relationships between the tuples' items which become keys and values."
   ]
  },
  {
   "cell_type": "markdown",
   "metadata": {},
   "source": [
    "# Dictionaries keys are unique\n",
    "\n",
    "The keys in a dictionary are unique, this means if we add a key-value whose key is the same as an existing key, what happens is that the existing key's value will be replaced with the a new value.\n",
    "\n",
    "Here is an example:\n"
   ]
  },
  {
   "cell_type": "code",
   "execution_count": 26,
   "metadata": {},
   "outputs": [
    {
     "data": {
      "text/plain": [
       "{5: [1, 2, 3]}"
      ]
     },
     "execution_count": 26,
     "metadata": {},
     "output_type": "execute_result"
    }
   ],
   "source": [
    "d = {5: \"hello\", 5: [1, 2, 3]} # the value of key 5 will be [1, 2, 3], it was \"hello\"\n",
    "d"
   ]
  },
  {
   "cell_type": "markdown",
   "metadata": {},
   "source": [
    "# Access values in a dictionary\n",
    "\n",
    "**Brackets** are used to access individual values in a dictionary. For example: "
   ]
  },
  {
   "cell_type": "code",
   "execution_count": 38,
   "metadata": {},
   "outputs": [
    {
     "data": {
      "text/plain": [
       "'mercury'"
      ]
     },
     "execution_count": 38,
     "metadata": {},
     "output_type": "execute_result"
    }
   ],
   "source": [
    "d={\"root\": \"sun\", 1:\"mercury\", 2:\"venus\", 3:\"earth\"}\n",
    "d[1]"
   ]
  },
  {
   "cell_type": "code",
   "execution_count": 39,
   "metadata": {},
   "outputs": [
    {
     "data": {
      "text/plain": [
       "'sun'"
      ]
     },
     "execution_count": 39,
     "metadata": {},
     "output_type": "execute_result"
    }
   ],
   "source": [
    "d[\"root\"]"
   ]
  },
  {
   "cell_type": "code",
   "execution_count": 32,
   "metadata": {},
   "outputs": [
    {
     "ename": "KeyError",
     "evalue": "'sun'",
     "output_type": "error",
     "traceback": [
      "\u001b[1;31m---------------------------------------------------------------------------\u001b[0m",
      "\u001b[1;31mKeyError\u001b[0m                                  Traceback (most recent call last)",
      "\u001b[1;32m<ipython-input-32-e01c13e054c9>\u001b[0m in \u001b[0;36m<module>\u001b[1;34m()\u001b[0m\n\u001b[1;32m----> 1\u001b[1;33m \u001b[0md\u001b[0m\u001b[1;33m[\u001b[0m\u001b[1;34m\"sun\"\u001b[0m\u001b[1;33m]\u001b[0m\u001b[1;33m\u001b[0m\u001b[0m\n\u001b[0m",
      "\u001b[1;31mKeyError\u001b[0m: 'sun'"
     ]
    }
   ],
   "source": [
    "d['sun']  # will raise KeyError because there is no key 'sun'"
   ]
  },
  {
   "cell_type": "markdown",
   "metadata": {},
   "source": [
    "# Add/delete item to/from a dictionary\n",
    "\n",
    "**Brackets** can also be used to add items to the dictionary or delete items from a dictionary. Let's see some exampls."
   ]
  },
  {
   "cell_type": "code",
   "execution_count": 40,
   "metadata": {},
   "outputs": [
    {
     "data": {
      "text/plain": [
       "{1: 'mercury', 2: 'venus', 3: 'earth', 4: 'Mars', 'root': 'sun'}"
      ]
     },
     "execution_count": 40,
     "metadata": {},
     "output_type": "execute_result"
    }
   ],
   "source": [
    "d[4]=\"Mars\" # new item will be added with key=4 and value='Mars'\n",
    "d"
   ]
  },
  {
   "cell_type": "code",
   "execution_count": 41,
   "metadata": {},
   "outputs": [
    {
     "data": {
      "text/plain": [
       "{1: 'mercury', 2: 'venus', 3: 'earth', 4: 'Mars'}"
      ]
     },
     "execution_count": 41,
     "metadata": {},
     "output_type": "execute_result"
    }
   ],
   "source": [
    "del d['root']\n",
    "d"
   ]
  },
  {
   "cell_type": "markdown",
   "metadata": {},
   "source": [
    "Items can also be removed \"**and returned**\" from the dictionaries using the dict.pop() method. More details on the methods applied to dictionaries will be discussed later in another lecture. "
   ]
  },
  {
   "cell_type": "code",
   "execution_count": 47,
   "metadata": {},
   "outputs": [
    {
     "data": {
      "text/plain": [
       "'earth'"
      ]
     },
     "execution_count": 47,
     "metadata": {},
     "output_type": "execute_result"
    }
   ],
   "source": [
    "# we have to give the key of the item to return its value\n",
    "# the popped item will be removed from d\n",
    "d = {1: 'mercury', 2: 'venus', 3: 'earth', 4: 'Mars'}\n",
    "d.pop(3) "
   ]
  },
  {
   "cell_type": "code",
   "execution_count": 45,
   "metadata": {},
   "outputs": [
    {
     "data": {
      "text/plain": [
       "{1: 'mercury', 2: 'venus', 4: 'Mars'}"
      ]
     },
     "execution_count": 45,
     "metadata": {},
     "output_type": "execute_result"
    }
   ],
   "source": [
    "d"
   ]
  },
  {
   "cell_type": "markdown",
   "metadata": {},
   "source": [
    "# Functions and operators used with dictionaries\n",
    "\n",
    "Dictionaries support the **len()** built-in function. Also, we can do membership testing for the dictionary keys with **in** and **not in**.\n"
   ]
  },
  {
   "cell_type": "code",
   "execution_count": 1,
   "metadata": {},
   "outputs": [
    {
     "data": {
      "text/plain": [
       "3"
      ]
     },
     "execution_count": 1,
     "metadata": {},
     "output_type": "execute_result"
    }
   ],
   "source": [
    "d = {-4: \"none\", 'red':[50,'T',3], 21:'Earth'}\n",
    "len(d)"
   ]
  },
  {
   "cell_type": "code",
   "execution_count": 2,
   "metadata": {},
   "outputs": [
    {
     "data": {
      "text/plain": [
       "True"
      ]
     },
     "execution_count": 2,
     "metadata": {},
     "output_type": "execute_result"
    }
   ],
   "source": [
    "-4 in d"
   ]
  },
  {
   "cell_type": "code",
   "execution_count": 3,
   "metadata": {},
   "outputs": [
    {
     "data": {
      "text/plain": [
       "True"
      ]
     },
     "execution_count": 3,
     "metadata": {},
     "output_type": "execute_result"
    }
   ],
   "source": [
    "'blue' not in d"
   ]
  },
  {
   "cell_type": "code",
   "execution_count": 4,
   "metadata": {},
   "outputs": [
    {
     "data": {
      "text/plain": [
       "False"
      ]
     },
     "execution_count": 4,
     "metadata": {},
     "output_type": "execute_result"
    }
   ],
   "source": [
    "'Earth' in d   # Earth is a vlue not a key, this will return False"
   ]
  }
 ],
 "metadata": {
  "kernelspec": {
   "display_name": "Python 3",
   "language": "python",
   "name": "python3"
  },
  "language_info": {
   "codemirror_mode": {
    "name": "ipython",
    "version": 3
   },
   "file_extension": ".py",
   "mimetype": "text/x-python",
   "name": "python",
   "nbconvert_exporter": "python",
   "pygments_lexer": "ipython3",
   "version": "3.6.5"
  }
 },
 "nbformat": 4,
 "nbformat_minor": 2
}
