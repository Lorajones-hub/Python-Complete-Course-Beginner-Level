{
 "cells": [
  {
   "cell_type": "markdown",
   "metadata": {},
   "source": [
    "# Assessment Test"
   ]
  },
  {
   "cell_type": "markdown",
   "metadata": {},
   "source": [
    "## Q1: Write a for loop that checks whether a letter in a string is vowel or consonant. If the letter is a vowel letter print the letter and \"is vowel\"; otherwise print the letter and \"is consonant\".\n",
    "\n",
    "### Hint: vowel letters are 'A', 'E', 'I', 'O', 'U'."
   ]
  },
  {
   "cell_type": "code",
   "execution_count": 1,
   "metadata": {},
   "outputs": [
    {
     "name": "stdout",
     "output_type": "stream",
     "text": [
      "A  is vowel\n",
      "B  is a consonant\n",
      "C  is a consonant\n",
      "D  is a consonant\n",
      "E  is vowel\n",
      "F  is a consonant\n",
      "G  is a consonant\n",
      "H  is a consonant\n",
      "I  is vowel\n",
      "J  is a consonant\n",
      "K  is a consonant\n",
      "L  is a consonant\n",
      "M  is a consonant\n",
      "N  is a consonant\n",
      "O  is vowel\n",
      "P  is a consonant\n",
      "Q  is a consonant\n",
      "R  is a consonant\n",
      "S  is a consonant\n",
      "T  is a consonant\n",
      "U  is vowel\n",
      "V  is a consonant\n",
      "W  is a consonant\n",
      "X  is a consonant\n",
      "Y  is a consonant\n",
      "Z  is a consonant\n"
     ]
    }
   ],
   "source": [
    "alphabet = \"ABCDEFGHIJKLMNOPQRSTUVWXYZ\"\n",
    "# letter is the (variable) and the string alphabet is the (iterable)\n",
    "# the for statement has if and else statements inside it\n",
    "\n",
    "# letter in for statement takes the values 'A', 'B', 'C', ..., 'Z' in turn\n",
    "\n",
    "for ...:\n",
    "    \n",
    "    if ...:\n",
    "        # letter is vowel \n",
    "    \n",
    "    else:\n",
    "        # letter is consonant\n",
    "\n",
    "# expected output"
   ]
  },
  {
   "cell_type": "markdown",
   "metadata": {},
   "source": [
    "## Q1: Replace the for loop in question 1 to a while loop. \n",
    "\n",
    "### Hints: \n",
    "- The English alphabets are 26 letters. \n",
    "- You need to have a control variable initialized to zero before the while loop.\n",
    "- Then increment it  with each iteration. \n",
    "- The while condition is to check whether the value of that variable is less than 26."
   ]
  },
  {
   "cell_type": "code",
   "execution_count": 1,
   "metadata": {},
   "outputs": [
    {
     "name": "stdout",
     "output_type": "stream",
     "text": [
      "A  is vowel\n",
      "B  is a consonant\n",
      "C  is a consonant\n",
      "D  is a consonant\n",
      "E  is vowel\n",
      "F  is a consonant\n",
      "G  is a consonant\n",
      "H  is a consonant\n",
      "I  is vowel\n",
      "J  is a consonant\n",
      "K  is a consonant\n",
      "L  is a consonant\n",
      "M  is a consonant\n",
      "N  is a consonant\n",
      "O  is vowel\n",
      "P  is a consonant\n",
      "Q  is a consonant\n",
      "R  is a consonant\n",
      "S  is a consonant\n",
      "T  is a consonant\n",
      "U  is vowel\n",
      "V  is a consonant\n",
      "W  is a consonant\n",
      "X  is a consonant\n",
      "Y  is a consonant\n",
      "Z  is a consonant\n"
     ]
    }
   ],
   "source": [
    "alphabet = \"ABCDEFGHIJKLMNOPQRSTUVWXYZ\"\n",
    "\n",
    "# letter is the (variable) and the string alphabet is the (iterable)\n",
    "# the for statement has if and else statements inside it\n",
    "\n",
    "# letter in for statement takes the values 'A', 'B', 'C', ..., 'Z' in turn\n",
    "\n",
    "# initialize the control variable\n",
    "i = 0\n",
    "while ...:\n",
    "    letter = alphabet[i]\n",
    "    \n",
    "    if ...:\n",
    "        # letter is vowel \n",
    "    \n",
    "    else:\n",
    "        # letter is consonant\n",
    "    \n",
    "    # inc the control variable \n",
    "    i += 1\n",
    "    \n",
    "# expected output"
   ]
  },
  {
   "cell_type": "markdown",
   "metadata": {},
   "source": [
    "## Good Luck!"
   ]
  }
 ],
 "metadata": {
  "kernelspec": {
   "display_name": "Python 3",
   "language": "python",
   "name": "python3"
  },
  "language_info": {
   "codemirror_mode": {
    "name": "ipython",
    "version": 3
   },
   "file_extension": ".py",
   "mimetype": "text/x-python",
   "name": "python",
   "nbconvert_exporter": "python",
   "pygments_lexer": "ipython3",
   "version": "3.6.5"
  }
 },
 "nbformat": 4,
 "nbformat_minor": 2
}
