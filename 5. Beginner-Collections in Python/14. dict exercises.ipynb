{
 "cells": [
  {
   "cell_type": "markdown",
   "metadata": {},
   "source": [
    "# Dictionaries Exercises\n",
    "\n",
    "## Question 1:\n",
    "\n",
    "### Write a Python script to add a new item (key-value) to a dictionary. \n",
    " Sample Dictionary : \n",
    "                               \n",
    "                               {1: 'abc', 2:'efg'}\n",
    "                               \n",
    " Expected Result : \n",
    "                                \n",
    "                               {1: 'abc', 2:'efg', 3: 'hij'}\n",
    "\n",
    "## Question 2:\n",
    "\n",
    "### Write a Python script to concatenate following dictionaries to create a new one. \n",
    "\n",
    "Sample Dictionary:\n",
    "\n",
    "\n",
    "                                d1 = {0:'a', 1:'b'}\n",
    "                                d2 = {2:'c', 3:'d'} \n",
    "                                d3 = {4:'e', 5:'f'} \n",
    "                                    \n",
    "                                    \n",
    "Expected Result: \n",
    "\n",
    "                                {0:'a', 1:'b', 2:'c', 3:'d', 4:'e', 5:'f'} \n",
    "\n",
    "\n",
    "  \n",
    "  \n",
    "## Question 3:\n",
    "\n",
    "### Write a Python program to sum all the items in a dictionary.\n"
   ]
  },
  {
   "cell_type": "markdown",
   "metadata": {},
   "source": [
    "## Good Luck and have FUN!"
   ]
  }
 ],
 "metadata": {
  "kernelspec": {
   "display_name": "Python 3",
   "language": "python",
   "name": "python3"
  },
  "language_info": {
   "codemirror_mode": {
    "name": "ipython",
    "version": 3
   },
   "file_extension": ".py",
   "mimetype": "text/x-python",
   "name": "python",
   "nbconvert_exporter": "python",
   "pygments_lexer": "ipython3",
   "version": "3.6.5"
  }
 },
 "nbformat": 4,
 "nbformat_minor": 2
}
