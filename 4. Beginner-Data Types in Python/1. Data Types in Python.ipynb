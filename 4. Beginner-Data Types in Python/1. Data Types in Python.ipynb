{
 "cells": [
  {
   "cell_type": "markdown",
   "metadata": {},
   "source": [
    "# Data Types in Python\n",
    "\n",
    "In this lecture we are going to discuss various data types used in Pythpn. \n",
    "Python provides the following built-in data types:\n",
    " \n",
    " - Integral data types:\n",
    "     - Integers\n",
    "     - Booleans\n",
    " - Folating-point data type\n",
    " - String data type\n",
    "\n",
    "To represent a number, Python uses several data types including integers and foating-point or float\n"
   ]
  },
  {
   "cell_type": "code",
   "execution_count": null,
   "metadata": {},
   "outputs": [],
   "source": []
  }
 ],
 "metadata": {
  "kernelspec": {
   "display_name": "Python 3",
   "language": "python",
   "name": "python3"
  },
  "language_info": {
   "codemirror_mode": {
    "name": "ipython",
    "version": 3
   },
   "file_extension": ".py",
   "mimetype": "text/x-python",
   "name": "python",
   "nbconvert_exporter": "python",
   "pygments_lexer": "ipython3",
   "version": "3.6.5"
  }
 },
 "nbformat": 4,
 "nbformat_minor": 2
}
