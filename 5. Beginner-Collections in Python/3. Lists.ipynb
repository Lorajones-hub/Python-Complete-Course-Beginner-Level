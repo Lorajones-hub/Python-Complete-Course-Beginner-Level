{
 "cells": [
  {
   "cell_type": "markdown",
   "metadata": {},
   "source": [
    "# Lists\n",
    "\n",
    "In this lecture we will cover the list data type, **you will learn**:\n",
    "\n",
    "- **How to create lists in Python**\n",
    "- **How to extract items from a list using indexing, slicing, and striding**\n",
    "- **How to replace and delete items from the list**\n",
    "- **List operators**\n",
    "\n",
    "A List is an **ordered** sequence of zero and more objects. Lists are very common and convenient data types in Python. They are similar to strings and tuples in that they support the same slicing and striding syntax. \n",
    "\n",
    "The good news is, unlike strings and tuples, lists **ARE MUTABLE**, so we can _replace_ and _delete_ any of their items. It is also possible to insert, replace, and delete _slices of lists_.\n",
    "\n",
    "A list can be created in different ways:\n",
    "\n",
    "- An empty list can be created by using empty brackets [ ] \n",
    "- A list of one or more items can be created by using a comma-separated sequence of items inside brackets.\n",
    "- Using the list() function, as we will see later in this lecture\n",
    "\n",
    "The items of the list can be ANYTHING, numbers, characters, strings, or even another list.\n",
    "\n",
    "Here are some examples of a list in Python with some indexing, slicing, and striding using the slice operator [ ]."
   ]
  },
  {
   "cell_type": "code",
   "execution_count": 46,
   "metadata": {},
   "outputs": [
    {
     "data": {
      "text/plain": [
       "[]"
      ]
     },
     "execution_count": 46,
     "metadata": {},
     "output_type": "execute_result"
    }
   ],
   "source": [
    "# create empty list\n",
    "[]"
   ]
  },
  {
   "cell_type": "code",
   "execution_count": 32,
   "metadata": {},
   "outputs": [
    {
     "data": {
      "text/plain": [
       "[17, -12.5, 'kilo', 'M', ['John', 123, 'technician'], 49]"
      ]
     },
     "execution_count": 32,
     "metadata": {},
     "output_type": "execute_result"
    }
   ],
   "source": [
    "# create list L\n",
    "L = [17, -12.5, 'kilo', 'M', ['John', 123, 'technician'], 49]\n",
    "\n",
    "# show the list L\n",
    "L"
   ]
  },
  {
   "cell_type": "code",
   "execution_count": 33,
   "metadata": {},
   "outputs": [
    {
     "data": {
      "text/plain": [
       "17"
      ]
     },
     "execution_count": 33,
     "metadata": {},
     "output_type": "execute_result"
    }
   ],
   "source": [
    "# indexing: extract first item in L, same as L[-6]\n",
    "L[0]"
   ]
  },
  {
   "cell_type": "code",
   "execution_count": 34,
   "metadata": {},
   "outputs": [
    {
     "data": {
      "text/plain": [
       "[17, -12.5, 'kilo', 'M']"
      ]
     },
     "execution_count": 34,
     "metadata": {},
     "output_type": "execute_result"
    }
   ],
   "source": [
    "# slicing: extract from start to item at index 3 (execluding item at index 4)\n",
    "L[:4]"
   ]
  },
  {
   "cell_type": "code",
   "execution_count": 35,
   "metadata": {},
   "outputs": [
    {
     "data": {
      "text/plain": [
       "[49]"
      ]
     },
     "execution_count": 35,
     "metadata": {},
     "output_type": "execute_result"
    }
   ],
   "source": [
    "# slicing: extract last item, same as L[5]\n",
    "L[-1:]"
   ]
  },
  {
   "cell_type": "code",
   "execution_count": 36,
   "metadata": {},
   "outputs": [
    {
     "data": {
      "text/plain": [
       "[17, -12.5, 'kilo', 'M', ['John', 123, 'technician']]"
      ]
     },
     "execution_count": 36,
     "metadata": {},
     "output_type": "execute_result"
    }
   ],
   "source": [
    "# slicing: same as st[0:] but not including last item 49\n",
    "L[:-1]"
   ]
  },
  {
   "cell_type": "code",
   "execution_count": 4,
   "metadata": {},
   "outputs": [
    {
     "data": {
      "text/plain": [
       "'k'"
      ]
     },
     "execution_count": 4,
     "metadata": {},
     "output_type": "execute_result"
    }
   ],
   "source": [
    "# slicing: extract first character of third item, try L[-4][0]\n",
    "L[2][0]"
   ]
  },
  {
   "cell_type": "code",
   "execution_count": 5,
   "metadata": {},
   "outputs": [
    {
     "data": {
      "text/plain": [
       "'technician'"
      ]
     },
     "execution_count": 5,
     "metadata": {},
     "output_type": "execute_result"
    }
   ],
   "source": [
    "# slicing: L[4][2]=L[4][-1]=L[-2][2]=L[-2][-1]\n",
    "L[4][2]"
   ]
  },
  {
   "cell_type": "code",
   "execution_count": 37,
   "metadata": {},
   "outputs": [
    {
     "data": {
      "text/plain": [
       "[17, -12.5, 'kilo', 'M', ['John', 123, 'technician'], 49]"
      ]
     },
     "execution_count": 37,
     "metadata": {},
     "output_type": "execute_result"
    }
   ],
   "source": [
    "# striding: all items\n",
    "L[0:6:1]"
   ]
  },
  {
   "cell_type": "code",
   "execution_count": 38,
   "metadata": {},
   "outputs": [
    {
     "data": {
      "text/plain": [
       "[49, ['John', 123, 'technician'], 'M', 'kilo', -12.5, 17]"
      ]
     },
     "execution_count": 38,
     "metadata": {},
     "output_type": "execute_result"
    }
   ],
   "source": [
    "#striding: all items in reverse order, extract from last item backward to first item\n",
    "L[::-1]"
   ]
  },
  {
   "cell_type": "markdown",
   "metadata": {},
   "source": [
    "## Replace items in a list\n",
    "\n",
    "To replace an item in a list with a new one, use the indexing square brackets to access that item then assign new value to it.\n"
   ]
  },
  {
   "cell_type": "code",
   "execution_count": 39,
   "metadata": {},
   "outputs": [
    {
     "data": {
      "text/plain": [
       "[17, -12.5, 'kilogram', 'M', ['John', 123, 'technician'], 49]"
      ]
     },
     "execution_count": 39,
     "metadata": {},
     "output_type": "execute_result"
    }
   ],
   "source": [
    "L[2] = 'kilogram'\n",
    "L"
   ]
  },
  {
   "cell_type": "code",
   "execution_count": 40,
   "metadata": {},
   "outputs": [
    {
     "data": {
      "text/plain": [
       "[17, -12.5, 'kilogram', 'M', ['Sarah', 224, 'clerk'], 49]"
      ]
     },
     "execution_count": 40,
     "metadata": {},
     "output_type": "execute_result"
    }
   ],
   "source": [
    "L[4] = ['Sarah', 224, 'clerk']\n",
    "L"
   ]
  },
  {
   "cell_type": "markdown",
   "metadata": {},
   "source": [
    "# Delete items from a list\n",
    "\n",
    "To delete an item from a list, use **del** statement as shown below."
   ]
  },
  {
   "cell_type": "code",
   "execution_count": 41,
   "metadata": {},
   "outputs": [
    {
     "data": {
      "text/plain": [
       "[17, -12.5, 'kilogram', ['Sarah', 224, 'clerk'], 49]"
      ]
     },
     "execution_count": 41,
     "metadata": {},
     "output_type": "execute_result"
    }
   ],
   "source": [
    "L = [17, -12.5, 'kilogram', 'M', ['Sarah', 224, 'clerk'], 49]\n",
    "\n",
    "#delete forth item from list L at index (position) 3\n",
    "del L[3]\n",
    "L"
   ]
  },
  {
   "cell_type": "markdown",
   "metadata": {},
   "source": [
    "## Calling list datatype as a function list()\n",
    "\n",
    "Python allows us to treat any data type like int, float, string, tuple as functions as we have seen the previous lectures. The list data type can also be called as a function, which is **list()**. As we have seen in the floating-point lecture, section (Using float as a function), there will be some cases when we call list():\n",
    "\n",
    " - Case 1: If we call list() with no arguments, it returns an empty list.\n",
    " - Case 2: If we give a list argument to list(), it returns a shallow copy$^❄$ of that list argument.\n",
    " - Case 3: If we give any other object to list(), it tries to convert that object to a list\n",
    "\n",
    "$^❄$A In Pytho, there are two types of copying: 1) **shallow copying** and 2) **deep copying**. A **shallow copying** _does not_ copy the object (like a list) entirly with all its items, instead it copies the object and put references (pointers) to the items of the original object. Deep  copying, on the other hand, creates a copy of the original object with all its items. Shallow copying is better as it saves memory space in the computer.\n",
    "\n",
    "\n",
    "<font color='red'> **RULE** </font>:\n",
    "list() function does not accept more that one argument.\n",
    "### Examples\n",
    " "
   ]
  },
  {
   "cell_type": "code",
   "execution_count": 42,
   "metadata": {},
   "outputs": [
    {
     "data": {
      "text/plain": [
       "[]"
      ]
     },
     "execution_count": 42,
     "metadata": {},
     "output_type": "execute_result"
    }
   ],
   "source": [
    "#case 1\n",
    "list()"
   ]
  },
  {
   "cell_type": "code",
   "execution_count": 43,
   "metadata": {},
   "outputs": [
    {
     "data": {
      "text/plain": [
       "[17, -12.5, 'kilogram', ['Sarah', 224, 'clerk'], 49]"
      ]
     },
     "execution_count": 43,
     "metadata": {},
     "output_type": "execute_result"
    }
   ],
   "source": [
    "#case 2\n",
    "list(L)"
   ]
  },
  {
   "cell_type": "code",
   "execution_count": 44,
   "metadata": {},
   "outputs": [
    {
     "data": {
      "text/plain": [
       "['H', 'e', 'l', 'l', 'o', ' ', 'W', 'o', 'r', 'l', 'd', '!']"
      ]
     },
     "execution_count": 44,
     "metadata": {},
     "output_type": "execute_result"
    }
   ],
   "source": [
    "#case 3, passing string argument, getting list\n",
    "list('Hello World!')"
   ]
  },
  {
   "cell_type": "code",
   "execution_count": 45,
   "metadata": {},
   "outputs": [
    {
     "data": {
      "text/plain": [
       "['a', 'b', 2, 4]"
      ]
     },
     "execution_count": 45,
     "metadata": {},
     "output_type": "execute_result"
    }
   ],
   "source": [
    "#case 3, passing tuple argument, getting list\n",
    "list(('a', 'b', 2, 4))"
   ]
  },
  {
   "cell_type": "code",
   "execution_count": 1,
   "metadata": {},
   "outputs": [
    {
     "ename": "TypeError",
     "evalue": "'float' object is not iterable",
     "output_type": "error",
     "traceback": [
      "\u001b[1;31m---------------------------------------------------------------------------\u001b[0m",
      "\u001b[1;31mTypeError\u001b[0m                                 Traceback (most recent call last)",
      "\u001b[1;32m<ipython-input-1-15f6ff5653f3>\u001b[0m in \u001b[0;36m<module>\u001b[1;34m()\u001b[0m\n\u001b[0;32m      1\u001b[0m \u001b[1;31m#case 3, passing float argument, getting TypeError as we can not iterate a float. Try to pass int\u001b[0m\u001b[1;33m\u001b[0m\u001b[1;33m\u001b[0m\u001b[0m\n\u001b[1;32m----> 2\u001b[1;33m \u001b[0mlist\u001b[0m\u001b[1;33m(\u001b[0m\u001b[1;36m3.14\u001b[0m\u001b[1;33m)\u001b[0m\u001b[1;33m\u001b[0m\u001b[0m\n\u001b[0m",
      "\u001b[1;31mTypeError\u001b[0m: 'float' object is not iterable"
     ]
    }
   ],
   "source": [
    "#case 3, passing float argument, getting TypeError as we can not iterate a float. Try to pass int \n",
    "list(3.14)"
   ]
  },
  {
   "cell_type": "markdown",
   "metadata": {},
   "source": [
    "## Lists operators\n",
    "\n",
    "Lists in Python support the following operators:\n",
    "\n",
    " - Membership testing with **in** and **not in** operators\n",
    " - Concatenation with + operator\n",
    " - Extending with += (means the appending of all items in the right-hand side of the operator +=)\n",
    " - Replication with $*$ and $*$= operators\n",
    " "
   ]
  },
  {
   "cell_type": "code",
   "execution_count": 52,
   "metadata": {},
   "outputs": [
    {
     "name": "stdout",
     "output_type": "stream",
     "text": [
      "True\n",
      "False\n",
      "True\n"
     ]
    }
   ],
   "source": [
    "new_list = ['local user', [2, 3, 5], 'first', 'mid', 'last', 18.5, 2010]\n",
    "\n",
    "#membership testing\n",
    "print('local user' in new_list)\n",
    "print([2, 3, 4] in new_list)\n",
    "print('second' not in new_list)"
   ]
  },
  {
   "cell_type": "code",
   "execution_count": 53,
   "metadata": {},
   "outputs": [
    {
     "data": {
      "text/plain": [
       "['local user', [2, 3, 5], 'first', 'mid', 'last', 18.5, 2010, 'hello!', 2018]"
      ]
     },
     "execution_count": 53,
     "metadata": {},
     "output_type": "execute_result"
    }
   ],
   "source": [
    "#concatenation with +\n",
    "new_list + ['hello!', 2018]"
   ]
  },
  {
   "cell_type": "code",
   "execution_count": 57,
   "metadata": {},
   "outputs": [
    {
     "data": {
      "text/plain": [
       "[1, 'new', 'c', 'l', 'i', 'e', 'n', 't']"
      ]
     },
     "execution_count": 57,
     "metadata": {},
     "output_type": "execute_result"
    }
   ],
   "source": [
    "#extending with +=\n",
    "my_list = [1, 'new']\n",
    "my_list += 'client'\n",
    "my_list"
   ]
  },
  {
   "cell_type": "code",
   "execution_count": 66,
   "metadata": {},
   "outputs": [
    {
     "name": "stdout",
     "output_type": "stream",
     "text": [
      "['paper', 'A', 4, 'paper', 'A', 4, 'paper', 'A', 4]\n"
     ]
    },
    {
     "data": {
      "text/plain": [
       "['paper', 'A', 4, 'paper', 'A', 4, 'paper', 'A', 4, 'paper', 'A', 4]"
      ]
     },
     "execution_count": 66,
     "metadata": {},
     "output_type": "execute_result"
    }
   ],
   "source": [
    "#replication with ∗ and ∗=\n",
    "\n",
    "L = ['paper', 'A', 4]\n",
    "print(L * 3)\n",
    "L *= 4\n",
    "L"
   ]
  },
  {
   "cell_type": "markdown",
   "metadata": {},
   "source": [
    "## The len() function\n",
    "\n",
    "To find the length of a list, use the len() function."
   ]
  },
  {
   "cell_type": "code",
   "execution_count": 2,
   "metadata": {},
   "outputs": [
    {
     "name": "stdout",
     "output_type": "stream",
     "text": [
      "[17, -12.5, 'kilo', 'M', ['John', 123, 'technician'], 49]\n",
      "length of list L: 6\n"
     ]
    }
   ],
   "source": [
    "L = [17, -12.5, 'kilo', 'M', ['John', 123, 'technician'], 49]\n",
    "print(L)\n",
    "\n",
    "print(\"length of list L:\", len(L))"
   ]
  },
  {
   "cell_type": "markdown",
   "metadata": {},
   "source": [
    "## Good Job!\n",
    "\n",
    "## Now let's move on to discuss list comprehension."
   ]
  }
 ],
 "metadata": {
  "kernelspec": {
   "display_name": "Python 3",
   "language": "python",
   "name": "python3"
  },
  "language_info": {
   "codemirror_mode": {
    "name": "ipython",
    "version": 3
   },
   "file_extension": ".py",
   "mimetype": "text/x-python",
   "name": "python",
   "nbconvert_exporter": "python",
   "pygments_lexer": "ipython3",
   "version": "3.6.5"
  }
 },
 "nbformat": 4,
 "nbformat_minor": 2
}
