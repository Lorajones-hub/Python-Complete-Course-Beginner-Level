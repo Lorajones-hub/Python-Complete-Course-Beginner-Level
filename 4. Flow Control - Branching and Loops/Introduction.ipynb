{
 "cells": [
  {
   "cell_type": "markdown",
   "metadata": {},
   "source": [
    "# Introduction\n",
    "\n",
    "We have introduced control structure in the lecture \"Getting started: Python 8 Pieces\" within section 2 of this course. In this section we will cover the control structure in more details.\n",
    "\n",
    "Control structures in Python include:\n",
    " - **Conditional branching** \n",
    "  - if statement\n",
    " - **Repetition (Looping)**\n",
    "  - while statement \n",
    "  - for ... in statement\n",
    "  \n",
    "In addition to the above statements, Python provides _conditional expression_ $-$ this is the kind of if statement used by Python to answer the ternary operator (?:) in C-style languages.\n"
   ]
  },
  {
   "cell_type": "code",
   "execution_count": null,
   "metadata": {},
   "outputs": [],
   "source": []
  }
 ],
 "metadata": {
  "kernelspec": {
   "display_name": "Python 3",
   "language": "python",
   "name": "python3"
  },
  "language_info": {
   "codemirror_mode": {
    "name": "ipython",
    "version": 3
   },
   "file_extension": ".py",
   "mimetype": "text/x-python",
   "name": "python",
   "nbconvert_exporter": "python",
   "pygments_lexer": "ipython3",
   "version": "3.6.5"
  }
 },
 "nbformat": 4,
 "nbformat_minor": 2
}
