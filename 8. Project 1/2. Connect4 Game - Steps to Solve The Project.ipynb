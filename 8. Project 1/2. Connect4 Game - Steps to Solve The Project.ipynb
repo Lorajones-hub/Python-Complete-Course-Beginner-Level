{
 "cells": [
  {
   "cell_type": "markdown",
   "metadata": {},
   "source": [
    "#### Hello Everyone!\n",
    "\n",
    "In this notbook you can find useful information to help you create the functions required for the connect4 game. You can use the template functions below each question.\n",
    "\n",
    "## Questions: Create the following functions:\n",
    "\n",
    "\n",
    "### 1. **create_board()**: this function creates a 2D array (matrix) that represent the game board. The parameters of the function are the number of rows and columns.\n"
   ]
  },
  {
   "cell_type": "code",
   "execution_count": null,
   "metadata": {},
   "outputs": [],
   "source": [
    "def create_board(...): # pass 2 parameters row and column\n",
    "    \n",
    "    # a board can be represented as a list of lists\n",
    "    # no. of items in the list = no. of rows\n",
    "    # each item in the list is again a list of '*' = no. of columns\n",
    "    # try list comprehension to create the list that represent the game board \n",
    "    # use the values of row and column to create the list\n",
    "    # the function should return the list created (name it board)\n",
    "    \n",
    "    pass"
   ]
  },
  {
   "cell_type": "markdown",
   "metadata": {},
   "source": [
    "### 2. **print_board()**: this function receives the current board (matrix) and prints it on the screen for the current turn.\n",
    "  \n",
    "  - Here, try to print the column number then the board as a grid of asterisks. For example a board of 4 X 4 will look like this:\n",
    "      \n",
    "                                            0  1  2  3\n",
    "                                            *  *  *  *\n",
    "                                            *  *  *  *\n",
    "                                            *  *  *  *\n",
    "                                            *  *  *  *"
   ]
  },
  {
   "cell_type": "code",
   "execution_count": null,
   "metadata": {},
   "outputs": [],
   "source": [
    "def print_board(...):  # pass one parameter, the board to be printed\n",
    "    \n",
    "    # print the column numbers, for example 0, 1, .., 5\n",
    "    # use a loop to iterate a number of times equal to no. of columns \n",
    "    \n",
    "    pass\n",
    "\n",
    "    # print the board using 2 loops\n",
    "    # the outer loop is for each row\n",
    "    # the inner loop is for each column\n",
    "\n",
    "    pass\n"
   ]
  },
  {
   "cell_type": "markdown",
   "metadata": {},
   "source": [
    "### 3. **find_horizontal_match()**: the function receives the current board (as a parameter) and returns true if a player made 4 checkers horizonatlly."
   ]
  },
  {
   "cell_type": "code",
   "execution_count": null,
   "metadata": {},
   "outputs": [],
   "source": [
    "def find_horizontal_match(...): # pass one parameter, the board to be checked\n",
    "    \n",
    "    # use a flag (a variable) to be set True if a horizonal match is found\n",
    "    # initially it is False\n",
    "    win_flag = False\n",
    "    \n",
    "    # create a list of strings that saves each ROW of the board as a string \n",
    "    # use 2 loops\n",
    "    # to get the accumulated string for each row, use string concatenation (+)\n",
    "    # to add a new string to the list use the list method append()\n",
    "    pass\n",
    "\n",
    "    # loop over the list of strings to check if it contains 'XXXX' or 'OOOO'\n",
    "    # create global variables with the values 'XXXX' and 'OOOO'\n",
    "    # if there is a match, set the flag to True and break from the loop\n",
    "    # finally, the function should return the value of the flag \n",
    "    pass"
   ]
  },
  {
   "cell_type": "markdown",
   "metadata": {},
   "source": [
    "### 4. **find_vertical_match()** the function receives the current board (as a parameter) and returns true if a player made 4 checkers vertically.\n",
    "  "
   ]
  },
  {
   "cell_type": "code",
   "execution_count": null,
   "metadata": {},
   "outputs": [],
   "source": [
    "def find_vertical_match(...): # pass one parameter, the board to be checked\n",
    "    \n",
    "    # use a flag (a variable) to be set True if a vertical match found\n",
    "    # initially it is False\n",
    "    win_flag = False\n",
    "    \n",
    "    # create a list of strings that saves each COLUMN of the board as a string \n",
    "    # use 2 loops\n",
    "    # to get the accumulated string, use string concatenation (+)\n",
    "    # to add a new string to the list use the list method append()\n",
    "    pass\n",
    "\n",
    "    # loop over the list of strings to check if it contains 'XXXX' or 'OOOO'\n",
    "    # create global variables with the values 'XXXX' and 'OOOO'\n",
    "    # if there is a match, set the flag to True and break from the loop\n",
    "    # finally, the function should return the value of the flag\n",
    "    pass"
   ]
  },
  {
   "cell_type": "markdown",
   "metadata": {},
   "source": [
    "### 5. **find_diagonal_match()** the function receives the current board (as a parameter) and returns true if a player made 4 checkers diagonally. Please refer to the video and slides that explain how to check the board for diagonal match.\n",
    "\n",
    "To solve this question, please refer to the video with slides explaining how to approach the diagonal match."
   ]
  },
  {
   "cell_type": "code",
   "execution_count": null,
   "metadata": {},
   "outputs": [],
   "source": [
    "def find_diagonal_match(...):  # pass one parameter, the board to be checked\n",
    "    \n",
    "    # use a flag (a variable) to be set True if a diagonal match found\n",
    "    # initially it is False\n",
    "    win_flag = False\n",
    "    \n",
    "    # create a list of strings with size = no. of rows * no. of columns\n",
    "    # initally all the items are empty strings\n",
    "    pass\n",
    "    \n",
    "    # for remaining comments assume the board is 5 by 5\n",
    "    # SAVING LEFT-TO-RIGHT DIAGONALS\n",
    "    # using nested loops, save the diagonal from item at position (0,0) to position (4,4) in the list of strings\n",
    "    # along the way, save the diagonals above and under the first diagonal saved in the previous step\n",
    "    pass\n",
    "\n",
    "    # SAVING RIGHT-TO-LEFT DIAGONALS\n",
    "    # using nested loops, save the diagonal from item at position (0,4) to item at position (4,0) in the list of strings\n",
    "    # along the way, save the diagonals above and under the first diagonal saved in the previous step\n",
    "    pass\n",
    "    \n",
    "    # loop over the list of strings to check if it contains 'XXXX' or 'OOOO'\n",
    "    # create global variables with the values 'XXXX' and 'OOOO'\n",
    "    # if there is a match, set the flag to True and break from the loop\n",
    "    # finally, the function should return the value of the flag\n",
    "    \n",
    "    pass\n"
   ]
  },
  {
   "cell_type": "markdown",
   "metadata": {},
   "source": [
    "### 6. **play_connect4()**: the main function in the program that calls all other functions. This function can be designed with the following steps or blocks:\n",
    " \n",
    "   - Create the initial board.\n",
    "   - Print the board.\n",
    "   - While True:\n",
    "        - Setup players and turns\n",
    "        - Ask the player (A or B) to enter a correct checker and a column number. To enter these information use the **input() function**. If you need help doing this step, check the template function below to see the input part in this function.\n",
    "        - Put the checker down the entered column (above all other checkers in that column).\n",
    "        - Print the board after adding the checker.\n",
    "        - Check for horizonal, vertical, or diagonal match.\n",
    "            - If a match occur, display a message to show which player win the game.\n",
    "            - If there is no match, the next player continue the game.\n",
    "        - **OPTIONAL** steps:\n",
    "             - You can show in how many steps the winner won the game.\n",
    "             - You can set a limit to the number of turns.\n",
    "   - Call play_connect4() function at the end of the program to play the game."
   ]
  },
  {
   "cell_type": "code",
   "execution_count": null,
   "metadata": {},
   "outputs": [],
   "source": [
    "def play_connect4():\n",
    "    # call function create_board\n",
    "    \n",
    "    board = ...\n",
    "    \n",
    "    # call function print_board\n",
    "\n",
    "    # set inital value of turn\n",
    "    turn = 0\n",
    "    \n",
    "    while True:\n",
    "        \n",
    "        # create variables for player A and B depanding on the value of turn\n",
    "        pass\n",
    "\n",
    "        # print some messages to show which player's turn \n",
    "        # ask the player to enter a checker and a column number\n",
    "        \n",
    "        print(\"Player\", player , \" turn >>>>>......................... \")\n",
    "        checker = str(input(\"Please select X or O >> \"))\n",
    "        \n",
    "        # check if the checker and column number are valid input\n",
    "        pass\n",
    "        \n",
    "        # update the board with the checker selected\n",
    "        pass\n",
    "        \n",
    "        # print the current board and update the turn\n",
    "        pass\n",
    "        \n",
    "        # check if there is a match (horizonal, vertical, or diagonal)\n",
    "        # if a match is found, print messages of the winning player\n",
    "        # (optional) show how many steps the winner took to win the game\n",
    "        pass\n",
    "\n",
    "        # (optional) set a limit to the number of turns a player can take\n",
    "        # if a player exceeds the turn limit, display an appropriate message\n",
    "        pass\n",
    "\n",
    "            \n",
    "# finally, call the main function to start the game\n",
    "play_connect4()"
   ]
  },
  {
   "cell_type": "markdown",
   "metadata": {},
   "source": [
    "   \n",
    "**NOTE**:\n",
    "\n",
    "You can create some global variables in your .py file if needed, examples of such global variables:\n",
    " - The number of rows and columns of the board (integers)\n",
    " - The x winner and o winner (strings) "
   ]
  },
  {
   "cell_type": "code",
   "execution_count": null,
   "metadata": {},
   "outputs": [],
   "source": []
  }
 ],
 "metadata": {
  "kernelspec": {
   "display_name": "Python 3",
   "language": "python",
   "name": "python3"
  },
  "language_info": {
   "codemirror_mode": {
    "name": "ipython",
    "version": 3
   },
   "file_extension": ".py",
   "mimetype": "text/x-python",
   "name": "python",
   "nbconvert_exporter": "python",
   "pygments_lexer": "ipython3",
   "version": "3.6.5"
  }
 },
 "nbformat": 4,
 "nbformat_minor": 2
}
