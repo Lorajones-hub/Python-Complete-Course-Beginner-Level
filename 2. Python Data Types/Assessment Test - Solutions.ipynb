{
 "cells": [
  {
   "cell_type": "markdown",
   "metadata": {},
   "source": [
    "# Data Types in Python - Assessment Test Solutions"
   ]
  },
  {
   "cell_type": "markdown",
   "metadata": {},
   "source": [
    "## Question 1:\n",
    "\n",
    "### What is an object reference in Python and how to create it?"
   ]
  },
  {
   "cell_type": "markdown",
   "metadata": {},
   "source": [
    "Object references are pointers or addresses that refer to data objects in Python. \n",
    "\n",
    "Data objects can hold data of any type like integers, strings, collections, etc. \n",
    "\n",
    "To create an object reference, the syntax **obj. reference = value** is used. For example, x = 10, where x is the object reference that refers to an integer object with a value 10."
   ]
  },
  {
   "cell_type": "markdown",
   "metadata": {},
   "source": [
    "## Question 2: \n",
    "\n",
    "### Answer with True/False.\n",
    "\n",
    "1. Integers in Python are allocated two (2) Bytes in memory. (**False: The size of an integer in Python is limited by a machine memory, not by a fixed number of bytes**.) \n",
    "\n",
    "\n",
    "\n",
    "2. The function pow(x,y,z) raises x to the power of y then returns (x \\*\\* y) % z. (**True**)\n",
    "\n",
    "\n",
    "\n",
    "3. A floating point number is a number that has two (2) parts; a whole part and a fractional part. (**False: whole part, decimal point, and fractional part**) \n",
    "\n",
    "\n",
    "\n",
    "4. Everything in Python is an object. (**True**)\n",
    "\n",
    "\n",
    "\n",
    "5. If we write the following code:"
   ]
  },
  {
   "cell_type": "code",
   "execution_count": 1,
   "metadata": {},
   "outputs": [],
   "source": [
    "a = 'apple'\n",
    "b = 'apple'"
   ]
  },
  {
   "cell_type": "markdown",
   "metadata": {},
   "source": [
    "The object refrences a and b refer to the same string object. (**False: a and b refer to different string objects that have the same value**.)"
   ]
  },
  {
   "cell_type": "markdown",
   "metadata": {},
   "source": [
    "## Question 3:\n",
    "\n",
    "### You have this string object with the value 'Practice-Python'. If you want to replace/change the character '-' at position 8 with a space ' ', Python will raise a TypeError. \n",
    "\n",
    "- Describe why this is happening?\n",
    "\n",
    "\n",
    "- Name the feature of strings that does not allow changing the value of an object once it is created. \n"
   ]
  },
  {
   "cell_type": "code",
   "execution_count": 2,
   "metadata": {},
   "outputs": [
    {
     "ename": "TypeError",
     "evalue": "'str' object does not support item assignment",
     "output_type": "error",
     "traceback": [
      "\u001b[1;31m---------------------------------------------------------------------------\u001b[0m",
      "\u001b[1;31mTypeError\u001b[0m                                 Traceback (most recent call last)",
      "\u001b[1;32m<ipython-input-2-1eedd7adeb41>\u001b[0m in \u001b[0;36m<module>\u001b[1;34m()\u001b[0m\n\u001b[0;32m      1\u001b[0m \u001b[0ms\u001b[0m \u001b[1;33m=\u001b[0m \u001b[1;34m'Practice-Python'\u001b[0m\u001b[1;33m\u001b[0m\u001b[0m\n\u001b[1;32m----> 2\u001b[1;33m \u001b[0ms\u001b[0m\u001b[1;33m[\u001b[0m\u001b[1;36m8\u001b[0m\u001b[1;33m]\u001b[0m \u001b[1;33m=\u001b[0m \u001b[1;34m' '\u001b[0m\u001b[1;33m\u001b[0m\u001b[0m\n\u001b[0m",
      "\u001b[1;31mTypeError\u001b[0m: 'str' object does not support item assignment"
     ]
    }
   ],
   "source": [
    "s = 'Practice-Python'\n",
    "s[8] = ' '"
   ]
  },
  {
   "cell_type": "markdown",
   "metadata": {},
   "source": [
    "- **Describe why this is happening?**\n",
    "\n",
    "In Python, objects of type str or any basic numeric types such as int or float are immutable $—$ that is, once the object is created and assigned a value, that value cannot be changed. \n",
    "\n",
    "\n",
    "- **Name the feature of strings (any basic data type in general) that does not allow changing the value of an object once it is created**. \n",
    "\n",
    "The feature is immutability. \n",
    "\n",
    "\n",
    "- **What is the solution to make s refer to a string object with the value 'Practice Python'?**\n",
    "\n",
    "By rebound s to refer to another string object, as shown in the code below:\n"
   ]
  },
  {
   "cell_type": "code",
   "execution_count": 2,
   "metadata": {},
   "outputs": [],
   "source": [
    "# before\n",
    "s = 'Practice-Python'\n",
    "\n",
    "# after\n",
    "s = 'Practice Python'"
   ]
  },
  {
   "cell_type": "markdown",
   "metadata": {},
   "source": [
    "## Great Job!\n",
    "\n",
    "Try other assignments and quizzes posted in this section."
   ]
  }
 ],
 "metadata": {
  "kernelspec": {
   "display_name": "Python 3",
   "language": "python",
   "name": "python3"
  },
  "language_info": {
   "codemirror_mode": {
    "name": "ipython",
    "version": 3
   },
   "file_extension": ".py",
   "mimetype": "text/x-python",
   "name": "python",
   "nbconvert_exporter": "python",
   "pygments_lexer": "ipython3",
   "version": "3.6.5"
  }
 },
 "nbformat": 4,
 "nbformat_minor": 2
}
