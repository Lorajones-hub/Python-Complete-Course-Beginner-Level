{
 "cells": [
  {
   "cell_type": "markdown",
   "metadata": {},
   "source": [
    "Here are some extra problem to practice:\n",
    "\n",
    "- Problem 1 is using a custom function is_key_present() that accepts a dictionary key and checks whether the key exists in the dictionary or not.\n",
    "\n",
    "\n",
    "- Problem 2 is importing some libraries (modules) to find the largest 3 values in a dictionary. \n",
    "\n",
    "## Problem 1:\n",
    "\n",
    "### Write a Python script to check if a given key already exists in a dictionary."
   ]
  },
  {
   "cell_type": "code",
   "execution_count": 8,
   "metadata": {},
   "outputs": [
    {
     "name": "stdout",
     "output_type": "stream",
     "text": [
      "Key 5 is present in the dictionary\n",
      "Key 9 is not present in the dictionary\n"
     ]
    }
   ],
   "source": [
    "# probelm1 solution\n",
    "\n",
    "d = {1: 10, 2: 20, 3: 30, 4: 40, 5: 50, 6: 60}\n",
    "\n",
    "# create a function\n",
    "def is_key_present(x):\n",
    "    if x in d:\n",
    "        print('Key', x, 'is present in the dictionary')\n",
    "    else:\n",
    "        print('Key', x, 'is not present in the dictionary')\n",
    "\n",
    "# call the function to check if key 5 and 9 exist in the dictionary\n",
    "is_key_present(5)\n",
    "is_key_present(9)"
   ]
  },
  {
   "cell_type": "markdown",
   "metadata": {},
   "source": [
    "## Problem 2:\n",
    "\n",
    "### Write a Python program to find the highest 3 values in a dictionary."
   ]
  },
  {
   "cell_type": "code",
   "execution_count": 9,
   "metadata": {},
   "outputs": [
    {
     "name": "stdout",
     "output_type": "stream",
     "text": [
      "item4 55\n",
      "item1 45.5\n",
      "item3 41.3\n"
     ]
    }
   ],
   "source": [
    "# problem2 solution\n",
    "\n",
    "# import some libraries\n",
    "from heapq import nlargest\n",
    "from operator import itemgetter\n",
    "\n",
    "d = {'item1': 45.50, 'item2':35, 'item3': 41.30, 'item4':55, 'item5': 24}\n",
    "for name, value in nlargest(3, d.items(), key=itemgetter(1)):\n",
    "    print(name, value)"
   ]
  },
  {
   "cell_type": "code",
   "execution_count": null,
   "metadata": {},
   "outputs": [],
   "source": []
  }
 ],
 "metadata": {
  "kernelspec": {
   "display_name": "Python 3",
   "language": "python",
   "name": "python3"
  },
  "language_info": {
   "codemirror_mode": {
    "name": "ipython",
    "version": 3
   },
   "file_extension": ".py",
   "mimetype": "text/x-python",
   "name": "python",
   "nbconvert_exporter": "python",
   "pygments_lexer": "ipython3",
   "version": "3.6.5"
  }
 },
 "nbformat": 4,
 "nbformat_minor": 2
}
