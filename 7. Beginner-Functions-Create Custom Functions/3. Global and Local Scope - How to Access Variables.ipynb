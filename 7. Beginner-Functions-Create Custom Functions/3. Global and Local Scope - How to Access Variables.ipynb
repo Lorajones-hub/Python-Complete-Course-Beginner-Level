{
 "cells": [
  {
   "cell_type": "markdown",
   "metadata": {},
   "source": [
    "# Scope in Python - how to access variables\n",
    "\n",
    "Not all variables are accessible from all parts of our program, and not all variables exist for the same amount of time. In this lecture, we will explain:\n",
    "\n",
    "- What is a variable _scope_ and _lifetime_ \n",
    "- How to access variables from different parts of the program\n",
    "- What are **global variables**\n",
    "- What are **local variables**\n",
    "- How to access a variable inside a function\n",
    "- What are nested functions\n",
    "- **global** and **nonlocal** statements usage\n",
    "- Variable access precedence, the **LEGB rule**\n",
    "\n",
    "## Variable scope and lifetime\n",
    "\n",
    "Before we start our discussion, you need to recall that a variable is basically _**a label or a name for a location in memory that holds a value**_, storing a new value erase the old one. One of the great characteristics of Python is that we can reuse the variable to hold a value of any type (integer, string, list, ... etc) while in other languages if you declare a variable as integer, for example, you cannot give it a value of a different type like a string."
   ]
  },
  {
   "cell_type": "code",
   "execution_count": null,
   "metadata": {},
   "outputs": [],
   "source": [
    "# In C language\n",
    "\n",
    "int x;\n",
    "x = 10;      # this is OK\n",
    "x = \"abcd\";  # this is WRONG because x accepts only integers"
   ]
  },
  {
   "cell_type": "code",
   "execution_count": 6,
   "metadata": {},
   "outputs": [],
   "source": [
    "# In Python:\n",
    "    \n",
    "x = 10       # this is OK, x is a reference to an integer\n",
    "x = \"abcd\"   # this is OK, x is now a reference to a string \n",
    "\n",
    "# Python will consider x as a string from now on, not integer"
   ]
  },
  {
   "cell_type": "markdown",
   "metadata": {},
   "source": [
    "### To determine _**from where we can access a variable**_ and _**how long will it exist**_ depends on where and how that variable was created. \n",
    "\n",
    "- **Variable scope**: is the **part of a program** where a variable is accessible, scope is also called _**namespace**_ because it is the space where named objects can be accessed and modified. <br>\n",
    "<br>\n",
    "- **Variable lifetime**: is the **duration** for which the variable will exist.\n"
   ]
  },
  {
   "cell_type": "markdown",
   "metadata": {},
   "source": [
    "## Global variables\n",
    "\n",
    "If a variable is created in the main body of .py file, outside of any function, it is called a _**global variable**_. \n",
    "\n",
    "### Scope\n",
    " - It will be visible in the whole .py file (module). \n",
    " - All the functions defined in that .py file will be able to see and access the global variable.\n",
    " - Also, it will be visible inside any other .py file that import that file where the global variable was defined.\n",
    " \n",
    "### Lifetime\n",
    "\n",
    "- It will exist as long as the program in this .py file is running. \n",
    "\n",
    "\n",
    "**Example**:"
   ]
  },
  {
   "cell_type": "code",
   "execution_count": 53,
   "metadata": {},
   "outputs": [
    {
     "name": "stdout",
     "output_type": "stream",
     "text": [
      "x inside the function: 2\n",
      "x outside the function: 2\n"
     ]
    }
   ],
   "source": [
    "x = 2  #this is a global variable\n",
    "\n",
    "def fun1():\n",
    "    print(\"x inside the function:\", x)\n",
    "\n",
    "fun1()\n",
    "print(\"x outside the function:\", x)\n"
   ]
  },
  {
   "cell_type": "markdown",
   "metadata": {},
   "source": [
    "In this example, we have only one variable _x_ that is defined in the global scope, in the .py file and not within any function. _x_ is called a global variable and it is accessible by any code written in the file. The function fun1() can access the global variable _x_. That's why the print statement inside the function printed the value 2 of _x_. After calling the function, the last print statement also printed the value 2 of _x_. This means that _x_ is accessible by any code in this .py file (whether the code is written inside or outside functions)."
   ]
  },
  {
   "cell_type": "markdown",
   "metadata": {},
   "source": [
    "Global variables have a wide-range effect in our programs, that's why we should avoid using them only if needed. Only objects which are intended to be used globally, like functions and classes, should be put in the global scope (sometimes called _**global namespace**_)."
   ]
  },
  {
   "cell_type": "markdown",
   "metadata": {},
   "source": [
    "## Local variables\n",
    "\n",
    "A variable that is created inside a function is _**local**_ to that function. It is called a _**local variable**_. - The function creates a new local variable by using the assignment operator (=).\n",
    "\n",
    "### Scope\n",
    "\n",
    "- Local variables are accessible from the point at which the function was defined (when we write def) to the end of the function. \n",
    "\n",
    "### Lifetime\n",
    "\n",
    "- Local variables exist only during the function execution (as long as the function is working). The function parameters which we write in the function definition between parentheses ( ) are also an example of local variables.\n",
    "\n",
    "Here is the same example above with a global and a local variables."
   ]
  },
  {
   "cell_type": "code",
   "execution_count": null,
   "metadata": {},
   "outputs": [],
   "source": [
    "x = 2  # this is a global variable\n",
    "\n",
    "def fun1():\n",
    "    x = 5  # this is a local variable\n",
    "    print(\"x inside the function:\", x)\n",
    "\n",
    "fun1()\n",
    "print(\"x outside the function:\", x)"
   ]
  },
  {
   "cell_type": "markdown",
   "metadata": {},
   "source": [
    "### What do you expect the output will be ?\n",
    "\n",
    "In this version a variable _x_ was created globally and assigned the value 2. Then inside the function, another variable named _x_ was created locally and assigned the value 5. When the function fun1 was called, as in fun1(), The print statement inside the function will print the value of the local variable because statement _x = 5_ doesn't change the global variable _x_, **it creates a new variable called _x_ and assigns a value 5 to that variable**. The global _x_ and the local _x_, although they have the same name, they are different variables because they were defined (created) in different scopes or namespaces, so they don't conflict with each other (no ambiguity). "
   ]
  },
  {
   "cell_type": "markdown",
   "metadata": {},
   "source": [
    "This is the output of the above program:\n",
    "    \n",
    "x inside the function: 5 \n",
    "x outside the function: 2"
   ]
  },
  {
   "cell_type": "markdown",
   "metadata": {},
   "source": [
    "Another reason why the function printed 5  instead  of 2 is that the IF a local variable has the same name as a global variable, _**the local variable will always take precedence**_. \n",
    "\n",
    "\n",
    "The last print statement prints out the value of the global variable _x_ which is remained unchanged (it is still 2). That print statement outside the function cannot access (reach) the local variable x because it is only visible inside the function and its lifetime is when the function is working, one the program exits the function, the local variable x will disappear. \n"
   ]
  },
  {
   "cell_type": "code",
   "execution_count": 1,
   "metadata": {},
   "outputs": [
    {
     "name": "stdout",
     "output_type": "stream",
     "text": [
      "x inside the function: 5\n",
      "x outside the function: 2\n"
     ]
    }
   ],
   "source": [
    "x = 2  #this is a global variable\n",
    "\n",
    "def fun1():\n",
    "    x = 5  #this is a local variable\n",
    "    print(\"x inside the function:\", x)\n",
    "\n",
    "fun1()\n",
    "print(\"x outside the function:\", x)"
   ]
  },
  {
   "cell_type": "markdown",
   "metadata": {},
   "source": [
    "## Modify a global variable from inside a function - _global_ keyword\n",
    "\n",
    "If we want to change the value of a global variable from inside the function, we can do that using the _**global**_ keyword.\n",
    "\n",
    "Let's take a look at this example:"
   ]
  },
  {
   "cell_type": "code",
   "execution_count": 55,
   "metadata": {},
   "outputs": [
    {
     "name": "stdout",
     "output_type": "stream",
     "text": [
      "x inside the function: 5\n",
      "x outside the function: 5\n"
     ]
    }
   ],
   "source": [
    "x = 2  #this is a global variable\n",
    "\n",
    "def fun1():\n",
    "    global x\n",
    "    x = 5  \n",
    "    print(\"x inside the function:\", x)\n",
    "\n",
    "fun1()\n",
    "print(\"x outside the function:\", x)"
   ]
  },
  {
   "cell_type": "markdown",
   "metadata": {},
   "source": [
    "### What is the effect of the statement _**global x**_ ?\n",
    "\n",
    "This statement tells Python that a variable called _x_ exists at the global (file) scope. So after this statement when the function execute _x = 5_, it is actually changing the value of the global variable _x_, rather than creating a new local variable with the same name.\n",
    "\n",
    "**NOTES**: if we use the **global** keyword to access a global variable from inside a function and that global variable doesn't exist already, the function will create the variable in the global scope.\n",
    "\n",
    "Let's see how that works!"
   ]
  },
  {
   "cell_type": "code",
   "execution_count": 56,
   "metadata": {},
   "outputs": [
    {
     "name": "stdout",
     "output_type": "stream",
     "text": [
      "x inside the function: 5\n",
      "x outside the function: 5\n"
     ]
    }
   ],
   "source": [
    "#there is no global variables\n",
    "\n",
    "def fun1():\n",
    "    global x\n",
    "    x = 5  \n",
    "    print(\"x inside the function:\", x)\n",
    "\n",
    "fun1()\n",
    "print(\"x outside the function:\", x)"
   ]
  },
  {
   "cell_type": "markdown",
   "metadata": {},
   "source": [
    "As you can see, because there was no variable called _x_ in the global scope, when the function saw the statement _**global x**_ it created that global variable and assigned a value 5 to it. That's why the last print statement printed 5 and didn't give any error."
   ]
  },
  {
   "cell_type": "markdown",
   "metadata": {},
   "source": [
    "## Nested functions\n",
    "\n",
    "We can define functions inside other functions, these are called _**nested functions**_. \n",
    "\n",
    "\n",
    "Here is an example of 2 nested functions:"
   ]
  },
  {
   "cell_type": "code",
   "execution_count": 1,
   "metadata": {},
   "outputs": [],
   "source": [
    "def out_fun():  #this is the outer function\n",
    "    msg = \"Outside!\"\n",
    "       \n",
    "    def in_fun():  #this is the inner function\n",
    "        msg = \"Inside!\"\n",
    "        print(msg)\n",
    "        \n",
    "    in_fun()   #out_fun is calling in_fun()\n",
    "    print(msg)"
   ]
  },
  {
   "cell_type": "code",
   "execution_count": 2,
   "metadata": {},
   "outputs": [
    {
     "name": "stdout",
     "output_type": "stream",
     "text": [
      "Inside!\n",
      "Outside!\n"
     ]
    }
   ],
   "source": [
    "out_fun()"
   ]
  },
  {
   "cell_type": "markdown",
   "metadata": {},
   "source": [
    "Here we have 2 functions, the outer function is **out_fun()** and the inner function is **in_fun()**. The variable _msg_ created locally within out_fun() was assigned the string \"Outside!\". Within the inner function, in_fun(), a new variable _msg_ was created locally for that function and assigned the string \"Inside!\". out_fun() function calls in_fun() function. in_fun() prints the value of its  local _msg_ variable which is Inside!. Finally, out_fun()prints the value of its local _msg_ variable which \"Outside!\".\n",
    "\n",
    "So as you see each variable has its own scope and its own lifetime within that scope!"
   ]
  },
  {
   "cell_type": "markdown",
   "metadata": {},
   "source": [
    "## Modify a local variable from an inner function - _nonlocal_ keyword\n",
    "\n",
    "Python 3 introduced another keyword called _**nonlocal**_ which is used with nested functions and allows us to modify a variable in the outer function from inside the inner function. If the function is nested multiple times, _**nonlocal**_ tries to access the variable _**in the nearest outer (enclosing) function**_.\n",
    "\n",
    "**NOTE**: if we use the _**nonlocal**_ keyword with a variable, that variable must be created already in one of the outer functions; otherwise we will get an error because it is impossible for Python to determine in which scope it should create that variable (in which one of the outer functions ?!).\n",
    "\n",
    "Let's see how we can use _**nonlocal**_"
   ]
  },
  {
   "cell_type": "code",
   "execution_count": 3,
   "metadata": {},
   "outputs": [],
   "source": [
    "def out_fun(): \n",
    "    msg = \"Outside!\"\n",
    "       \n",
    "    def in_fun():  \n",
    "        nonlocal msg     #this will access msg in the outer function\n",
    "        msg = \"Inside!\"  \n",
    "        print(msg)\n",
    "        \n",
    "    in_fun()   \n",
    "    print(msg)"
   ]
  },
  {
   "cell_type": "code",
   "execution_count": 4,
   "metadata": {},
   "outputs": [
    {
     "name": "stdout",
     "output_type": "stream",
     "text": [
      "Inside!\n",
      "Inside!\n"
     ]
    }
   ],
   "source": [
    "out_fun()"
   ]
  },
  {
   "cell_type": "markdown",
   "metadata": {},
   "source": [
    "Because of the statement _**nonlocal msg**_ the inner function in_fun() was able to access the variable _msg_ that was created previously inside the outer function out_fun(). After that the value of _msg_ variable (in out_fun()) was modified to \"Inside!\". That's why we saw in the output that \"Inside!\" printed two times because function in_fun() didn't create new local variable, it just modified the value of the variable in the outer scope (the enclosing function out_fun()).\n",
    "\n",
    "The usage of _**nonlocal**_ is very similar to _**global**_, except that _nonlocal_ is used for variables in outer function scopes and _global_ is used for variable in the global scope."
   ]
  },
  {
   "cell_type": "markdown",
   "metadata": {},
   "source": [
    "## Variable accessibility precedence\n",
    "\n",
    "At this point you have learned that there can be nested scopes in our programs. Also, there are rules for accessing a variable created in another scope. So, what is the order or precedence that Python uses to search for a variable in nested scopes ?\n",
    "\n",
    "At any time during the program execution, Python searches (tries to access) a variable following the **LEGB rule**:\n",
    "\n",
    "- **L** (Local): This is the _**innermost scope**_, which is searched first, contains local names that are created inside a function (def or lambda).\n",
    "- **E** (Enclosing functions): The next scope is _**enclosing functions**_, which Python searches from inner to outer, this scope contains local names created within these enclosing functions, but not global names.\n",
    "- **G** (Global) or (Module): The next scope contains global names created in the current _**module or (.py file)**_ or global names declared within a def function inside that file.\n",
    "- **B** (Built-in) or (Python): This is the **_outermost scope_** (searched last) which is the scope containing _**built-in**_ names.\n",
    "\n",
    "Let's have an example\n"
   ]
  },
  {
   "cell_type": "code",
   "execution_count": 2,
   "metadata": {},
   "outputs": [],
   "source": [
    "var = \"global variable\"\n",
    "\n",
    "def outer():\n",
    "    \n",
    "    var = \"local variable in outer() function\"\n",
    "    \n",
    "    def inner():\n",
    "        \n",
    "        var = \"local variable in inner() function\"\n",
    "        print(\"Hello! \" + var)\n",
    "        \n",
    "    inner()"
   ]
  },
  {
   "cell_type": "code",
   "execution_count": 60,
   "metadata": {},
   "outputs": [
    {
     "name": "stdout",
     "output_type": "stream",
     "text": [
      "Hello! local variable in inner() function\n"
     ]
    }
   ],
   "source": [
    "outer()"
   ]
  },
  {
   "cell_type": "markdown",
   "metadata": {},
   "source": [
    "First we called the outer() function, outer() function calls inner() function. inner() created a local variable named _var_ which was assigned the value \"local variable in inner() function\". When inner() function tries to print the value of _var_, it searches for the variable _var_ **first in its local (L) scope** . Since it is already defined in the inner() function, inner() printed **Hello! local variable in inner() function**.\n",
    "\n",
    "Now we will comment out _var_ that is defined inside function inner() and see how Python will access it in the next scope."
   ]
  },
  {
   "cell_type": "code",
   "execution_count": 61,
   "metadata": {},
   "outputs": [],
   "source": [
    "var = \"global variable\"\n",
    "\n",
    "def outer():\n",
    "    \n",
    "    var = \"local variable in outer() function\"\n",
    "    \n",
    "    def inner():\n",
    "        \n",
    "        #var = \"local variable in inner() function\"\n",
    "        print(\"Hello! \" + var)\n",
    "        \n",
    "    inner()"
   ]
  },
  {
   "cell_type": "code",
   "execution_count": 62,
   "metadata": {},
   "outputs": [
    {
     "name": "stdout",
     "output_type": "stream",
     "text": [
      "Hello! local variable in outer() function\n"
     ]
    }
   ],
   "source": [
    "outer()"
   ]
  },
  {
   "cell_type": "markdown",
   "metadata": {},
   "source": [
    "Because there is no _var_ defined in the local scope of inner(), Python will look for _var_ in the next scope which is the enclosing (**E**) scope of function outer(). Since _var_ is defined in the outer() function, inner() printed **Hello! local variable in outer() function**.\n",
    "\n",
    "Now let's comment out _var_ that is defined inside function outer() and see how Python will access it in the next scope."
   ]
  },
  {
   "cell_type": "code",
   "execution_count": 63,
   "metadata": {},
   "outputs": [],
   "source": [
    "var = \"global variable\"\n",
    "\n",
    "def outer():\n",
    "    \n",
    "    #var = \"local variable in outer() function\"\n",
    "    \n",
    "    def inner():\n",
    "        \n",
    "        #var = \"local variable in inner() function\"\n",
    "        print(\"Hello! \" + var)\n",
    "        \n",
    "    inner()"
   ]
  },
  {
   "cell_type": "code",
   "execution_count": 64,
   "metadata": {},
   "outputs": [
    {
     "name": "stdout",
     "output_type": "stream",
     "text": [
      "Hello! global variable\n"
     ]
    }
   ],
   "source": [
    "outer()"
   ]
  },
  {
   "cell_type": "markdown",
   "metadata": {},
   "source": [
    "Because there is no local variables anymore, the function inner will access _var_ in the next scope which is the global **(G)** scope. So the output will be **Hello! global variable**"
   ]
  },
  {
   "cell_type": "markdown",
   "metadata": {},
   "source": [
    "## Great!\n",
    "### You have learned a lot about variables scope and lifetime and how to access a variable in different scopes. Next, function parameters and arguments is discussed.\n"
   ]
  },
  {
   "cell_type": "code",
   "execution_count": null,
   "metadata": {},
   "outputs": [],
   "source": []
  }
 ],
 "metadata": {
  "kernelspec": {
   "display_name": "Python 3",
   "language": "python",
   "name": "python3"
  },
  "language_info": {
   "codemirror_mode": {
    "name": "ipython",
    "version": 3
   },
   "file_extension": ".py",
   "mimetype": "text/x-python",
   "name": "python",
   "nbconvert_exporter": "python",
   "pygments_lexer": "ipython3",
   "version": "3.6.5"
  }
 },
 "nbformat": 4,
 "nbformat_minor": 2
}
