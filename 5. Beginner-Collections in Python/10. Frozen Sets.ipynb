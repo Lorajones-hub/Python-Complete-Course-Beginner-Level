{
 "cells": [
  {
   "cell_type": "markdown",
   "metadata": {},
   "source": [
    "# Frozen Sets\n",
    "\n",
    "In this lecture we will discuss the second data type of sets called **frozenset**, you will learn:\n",
    "\n",
    "- **What is a frozen set in Python and why it is called that way**\n",
    "- **Properties of frozen sets**\n",
    "- **How to use the frozen set operators**\n",
    "\n",
    "# What is a frozen set ?\n",
    "\n",
    "A frozen set is a set that, once created, cannot be changed. The variable that refers to a frozen set can be re-bound to something else, though.\n",
    "\n",
    "Frozen sets can can ONLY be created using frozenset data type called as function, **which does not accept more than one argument**. Recall the three cases when calling a  function in Python:\n",
    "\n",
    "- **Case 1**: When calling frozenset() with no arguments, it returns an empty frozen set\n",
    "- **Case 2**: When calling frozenset() with a frozen set argument, it returns a shallow copy of that argument\n",
    "- **Case 3**: When calling frozenset() with any other object as an argument, it tries to convert that object to a frozen set\n",
    "\n",
    "Frozen sets are **immutable**. so, they support only those methods and operators that produce a result without affecting the frozen set. \n",
    "\n",
    "#### Frozen sets support all the methods from the previous lecture which were marked with the $^❄$ symbol.\n",
    "\n",
    "And because of the immutability of frozen sets, they meet the hashable criterion, so sets and frozen sets can contain frozen sets.\n",
    "\n"
   ]
  },
  {
   "cell_type": "markdown",
   "metadata": {},
   "source": [
    "# Frozenset Binary Operators \n",
    "\n",
    "We can use the same set operators discussed in the Sets lecture like union (|), intersection (&), difference (-), symmetric difference (^). \n",
    "\n",
    "**RULE**: \n",
    "\n",
    "The type of the result is the same as the left-hand side operand's type. \n",
    "\n",
    "So, **if f is a frozen set and s is a set, then**:\n",
    " - **f & s** will produce a frozen set\n",
    " - **s & f** will produce a set\n",
    "\n",
    "**NOTE**: \n",
    "\n",
    "If we use the **equal to** (==) and **not equal to** (!=) operators, the _**order**_ of the operands does not matter. So, s == f gives True if both sets have the same items. "
   ]
  },
  {
   "cell_type": "code",
   "execution_count": 1,
   "metadata": {},
   "outputs": [
    {
     "data": {
      "text/plain": [
       "{123}"
      ]
     },
     "execution_count": 1,
     "metadata": {},
     "output_type": "execute_result"
    }
   ],
   "source": [
    "s = {123, 'abc'} #set\n",
    "f = frozenset({123, 'aaa'})  #frozenset\n",
    "s & f "
   ]
  },
  {
   "cell_type": "code",
   "execution_count": 2,
   "metadata": {},
   "outputs": [
    {
     "data": {
      "text/plain": [
       "frozenset({123})"
      ]
     },
     "execution_count": 2,
     "metadata": {},
     "output_type": "execute_result"
    }
   ],
   "source": [
    "f & s"
   ]
  },
  {
   "cell_type": "code",
   "execution_count": 3,
   "metadata": {},
   "outputs": [
    {
     "data": {
      "text/plain": [
       "False"
      ]
     },
     "execution_count": 3,
     "metadata": {},
     "output_type": "execute_result"
    }
   ],
   "source": [
    "f == s"
   ]
  },
  {
   "cell_type": "markdown",
   "metadata": {},
   "source": [
    "### Great!\n",
    "\n",
    "Next we will cover dictionaries in Python."
   ]
  },
  {
   "cell_type": "code",
   "execution_count": null,
   "metadata": {},
   "outputs": [],
   "source": []
  }
 ],
 "metadata": {
  "kernelspec": {
   "display_name": "Python 3",
   "language": "python",
   "name": "python3"
  },
  "language_info": {
   "codemirror_mode": {
    "name": "ipython",
    "version": 3
   },
   "file_extension": ".py",
   "mimetype": "text/x-python",
   "name": "python",
   "nbconvert_exporter": "python",
   "pygments_lexer": "ipython3",
   "version": "3.6.5"
  }
 },
 "nbformat": 4,
 "nbformat_minor": 2
}
