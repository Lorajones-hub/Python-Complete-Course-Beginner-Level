{
 "cells": [
  {
   "cell_type": "markdown",
   "metadata": {},
   "source": [
    "# Strings in Python\n",
    "\n",
    "In this lecture we will discuss strings and _str_ type in Python, **you will learn**:\n",
    "\n",
    " - **What are strings in Python** \n",
    " - **String basics**\n",
    " - **String indexing** \n",
    " - **Slicing strings**\n",
    " - **Striding strings**\n",
    " \n",
    "## What are strings in Python\n",
    "\n",
    "Strings in Python are _**sequences of characters used to represent text information**_. A character is simply a symbol. For example, the English language has 26 characters. Strings are represented using the _str_ type. Here are few facts about strings:\n",
    "\n",
    " 1. Strings can be delimited by single or double quotes, as long as the same kind is used at both ends.\n",
    " \n",
    " 2. An empty string is simply a string with nothing between the delimiters.\n",
    " \n",
    " 3. In Python a character is a string of length 1. "
   ]
  },
  {
   "cell_type": "markdown",
   "metadata": {},
   "source": [
    "## String basics\n",
    "\n",
    "To create a string object in Python, simply put the text you want within single or double quotes."
   ]
  },
  {
   "cell_type": "code",
   "execution_count": 2,
   "metadata": {},
   "outputs": [
    {
     "data": {
      "text/plain": [
       "'hello world!'"
      ]
     },
     "execution_count": 2,
     "metadata": {},
     "output_type": "execute_result"
    }
   ],
   "source": [
    "s = 'hello world!'   #this is a string with single quote\n",
    "s"
   ]
  },
  {
   "cell_type": "code",
   "execution_count": 3,
   "metadata": {},
   "outputs": [
    {
     "data": {
      "text/plain": [
       "'hello world!'"
      ]
     },
     "execution_count": 3,
     "metadata": {},
     "output_type": "execute_result"
    }
   ],
   "source": [
    "s = \"hello world!\"   #this is a string with double quotes\n",
    "s"
   ]
  },
  {
   "cell_type": "markdown",
   "metadata": {},
   "source": [
    "### Strings are immutable \n",
    "    \n",
    "In Python, objects of type str or any basic numeric types such as int or float are immutable $—$ that is, once the object is created and assigned a value, that value cannot be changed. We mention that because although we can use _**square brackets**_ to retrieve the character at a given index position in a string (_as we will see in the string indexing section_), we cannot use them to set a new character, see the example below and read the <font color=\"red\"> **TypeError** </font>. \n",
    "    \n",
    "In this example, we have created an object of type string with the value 'Cat' and made the object reference **animal** refer to it. Now we want to change the character 't' at position 2 to be character 'n', but Python doesn't allow that. The error says \"**'str' object does not support item assignment**\", this means we connot change the characters already assigned to that string object.\n"
   ]
  },
  {
   "cell_type": "code",
   "execution_count": 9,
   "metadata": {},
   "outputs": [
    {
     "ename": "TypeError",
     "evalue": "'str' object does not support item assignment",
     "output_type": "error",
     "traceback": [
      "\u001b[1;31m---------------------------------------------------------------------------\u001b[0m",
      "\u001b[1;31mTypeError\u001b[0m                                 Traceback (most recent call last)",
      "\u001b[1;32m<ipython-input-9-d428d1f9511a>\u001b[0m in \u001b[0;36m<module>\u001b[1;34m()\u001b[0m\n\u001b[0;32m      1\u001b[0m \u001b[0manimal\u001b[0m \u001b[1;33m=\u001b[0m \u001b[1;34m'Cat'\u001b[0m\u001b[1;33m\u001b[0m\u001b[0m\n\u001b[1;32m----> 2\u001b[1;33m \u001b[0manimal\u001b[0m\u001b[1;33m[\u001b[0m\u001b[1;36m2\u001b[0m\u001b[1;33m]\u001b[0m \u001b[1;33m=\u001b[0m \u001b[1;34m'n'\u001b[0m\u001b[1;33m\u001b[0m\u001b[0m\n\u001b[0m",
      "\u001b[1;31mTypeError\u001b[0m: 'str' object does not support item assignment"
     ]
    }
   ],
   "source": [
    "animal = 'Cat'\n",
    "animal[2] = 'n'"
   ]
  },
  {
   "cell_type": "markdown",
   "metadata": {},
   "source": [
    "However, we can create another string object and make **animal** refer to it. But the origianl object with value 'sport' is still unchanged."
   ]
  },
  {
   "cell_type": "code",
   "execution_count": 8,
   "metadata": {},
   "outputs": [],
   "source": [
    "animal = 'Cat'"
   ]
  },
  {
   "cell_type": "markdown",
   "metadata": {},
   "source": [
    "### String length\n",
    "\n",
    "As strings are sequences they are “sized” objects, therefore we can call len() function and pass a string as an argument to find the size (length) of that string. <br> \n",
    "The len() function will return the string length which is _the number of characters in the string_.\n",
    "\n",
    "- len() returns zero for an empty string."
   ]
  },
  {
   "cell_type": "code",
   "execution_count": 32,
   "metadata": {},
   "outputs": [
    {
     "data": {
      "text/plain": [
       "0"
      ]
     },
     "execution_count": 32,
     "metadata": {},
     "output_type": "execute_result"
    }
   ],
   "source": [
    "len('')               # an empty string is passed to len() function"
   ]
  },
  {
   "cell_type": "code",
   "execution_count": 33,
   "metadata": {},
   "outputs": [
    {
     "data": {
      "text/plain": [
       "11"
      ]
     },
     "execution_count": 33,
     "metadata": {},
     "output_type": "execute_result"
    }
   ],
   "source": [
    "len(\"Hello World\")    # this string has 11 characters (including spaces)"
   ]
  },
  {
   "cell_type": "code",
   "execution_count": 34,
   "metadata": {},
   "outputs": [
    {
     "data": {
      "text/plain": [
       "15"
      ]
     },
     "execution_count": 34,
     "metadata": {},
     "output_type": "execute_result"
    }
   ],
   "source": [
    "st = 'I have homework' # this string has 15 characters (including spaces)\n",
    "len(st)"
   ]
  },
  {
   "cell_type": "markdown",
   "metadata": {},
   "source": [
    "**NOTE**: spaces are also considered as characters and are counted by len() function."
   ]
  },
  {
   "cell_type": "markdown",
   "metadata": {},
   "source": [
    "### String conversions\n",
    "\n",
    "The built-in function str() in Python converts a data item such as an integer or float number to a string. \n",
    "\n",
    "Check out the following examples:"
   ]
  },
  {
   "cell_type": "code",
   "execution_count": 8,
   "metadata": {},
   "outputs": [
    {
     "data": {
      "text/plain": [
       "10"
      ]
     },
     "execution_count": 8,
     "metadata": {},
     "output_type": "execute_result"
    }
   ],
   "source": [
    "int(\"10\")     # to covert a string '10' to an integer number 10"
   ]
  },
  {
   "cell_type": "code",
   "execution_count": 9,
   "metadata": {},
   "outputs": [
    {
     "data": {
      "text/plain": [
       "2.5"
      ]
     },
     "execution_count": 9,
     "metadata": {},
     "output_type": "execute_result"
    }
   ],
   "source": [
    "float(\"2.5\")  # to convert a string '4.5' to a floating-point number 4.5"
   ]
  },
  {
   "cell_type": "code",
   "execution_count": 11,
   "metadata": {},
   "outputs": [
    {
     "data": {
      "text/plain": [
       "'10'"
      ]
     },
     "execution_count": 11,
     "metadata": {},
     "output_type": "execute_result"
    }
   ],
   "source": [
    "str(10)       # to covert an integer number 10 to string '10'"
   ]
  },
  {
   "cell_type": "code",
   "execution_count": 37,
   "metadata": {},
   "outputs": [
    {
     "data": {
      "text/plain": [
       "''"
      ]
     },
     "execution_count": 37,
     "metadata": {},
     "output_type": "execute_result"
    }
   ],
   "source": [
    "str()         # if nothing passed to str(), the function returns an empty string"
   ]
  },
  {
   "cell_type": "code",
   "execution_count": 10,
   "metadata": {},
   "outputs": [
    {
     "data": {
      "text/plain": [
       "'Python'"
      ]
     },
     "execution_count": 10,
     "metadata": {},
     "output_type": "execute_result"
    }
   ],
   "source": [
    "str('Python') # if a string is passed to str(), the function returns a copy of that string"
   ]
  },
  {
   "cell_type": "markdown",
   "metadata": {},
   "source": [
    "### GENERAL RULE: \n",
    "\n",
    "To covert a data item from one type to another, use this syntax\n",
    "\n",
    "\n",
    "                                  datatype(item)\n"
   ]
  },
  {
   "cell_type": "code",
   "execution_count": 13,
   "metadata": {},
   "outputs": [
    {
     "data": {
      "text/plain": [
       "'Hello! this is the first line \\n then the second line'"
      ]
     },
     "execution_count": 13,
     "metadata": {},
     "output_type": "execute_result"
    }
   ],
   "source": [
    "print(\"Hello! this is the first line \\n then the second line\")"
   ]
  },
  {
   "cell_type": "markdown",
   "metadata": {},
   "source": [
    "Or to add some **tabs** to your string, use \\t"
   ]
  },
  {
   "cell_type": "code",
   "execution_count": 43,
   "metadata": {},
   "outputs": [
    {
     "name": "stdout",
     "output_type": "stream",
     "text": [
      "Hello! this is the first sentence \t then the second sentence\n"
     ]
    }
   ],
   "source": [
    "print (\"Hello! this is the first sentence \\t then the second sentence\")"
   ]
  },
  {
   "cell_type": "markdown",
   "metadata": {},
   "source": [
    "## String indexing \n",
    " \n",
    "Python uses square brackets [ ] to access an item in a sequence such as a string. The square brackets [ ] are also called the **_access operator_**. Suppose we are working in the Python Shell, interactive interpreter or IDLE. We can enter the following:\n",
    " "
   ]
  },
  {
   "cell_type": "code",
   "execution_count": 29,
   "metadata": {},
   "outputs": [
    {
     "data": {
      "text/plain": [
       "'o'"
      ]
     },
     "execution_count": 29,
     "metadata": {},
     "output_type": "execute_result"
    }
   ],
   "source": [
    "\"Hello There!\"[4]"
   ]
  },
  {
   "cell_type": "code",
   "execution_count": 15,
   "metadata": {},
   "outputs": [
    {
     "data": {
      "text/plain": [
       "'p'"
      ]
     },
     "execution_count": 15,
     "metadata": {},
     "output_type": "execute_result"
    }
   ],
   "source": [
    "s = 'program'\n",
    "s[0]"
   ]
  },
  {
   "cell_type": "markdown",
   "metadata": {},
   "source": [
    "The square brackets syntax can be used with data items of any data type that is a sequence, such as strings and lists. **This consistency of syntax is one of the reasons that Python is so beautiful**. \n",
    "\n",
    "**NOTE**: the number between the square brackets is called an **index**, all Python index positions start at 0 and ends at the string length minus 1.\n",
    "\n",
    "Let's see the first and the last index in the following example.\n",
    "\n",
    "The method index() is called for the string _s_ just to show you the first and last index. Don't worry about the method right now, it will be covered in detail in the next lecture **String Operators and Methods**.\n"
   ]
  },
  {
   "cell_type": "code",
   "execution_count": 2,
   "metadata": {},
   "outputs": [
    {
     "data": {
      "text/plain": [
       "(0, 10, 11)"
      ]
     },
     "execution_count": 2,
     "metadata": {},
     "output_type": "execute_result"
    }
   ],
   "source": [
    "s = 'Hello World'\n",
    "s.index('H'), s.index('d'), len(s)"
   ]
  },
  {
   "cell_type": "markdown",
   "metadata": {},
   "source": [
    "Notice that the first index = 0, the last index = 10 and the length of the string _s_ = 11\n",
    "\n",
    "So, the last index = length - 1 = 11 - 1 = 10"
   ]
  },
  {
   "cell_type": "markdown",
   "metadata": {},
   "source": [
    "In Python, index positions can be positive or negative as shown in the following figure. \n",
    " - positive index count from the first character toward the last.\n",
    " - negative index count from the last character back toward the first\n",
    " \n",
    "<img src='../img/index.png' width=500 height=200>"
   ]
  },
  {
   "cell_type": "markdown",
   "metadata": {},
   "source": [
    "## Slicing strings\n",
    "\n",
    "You've already learned _string indexing_ and you know that we can use the square brackets [ ], or access operator, to access individual characters within a string. You also know that indexing in Python begins at 0 up to string length minus 1. \n",
    "\n",
    "In fact, access operator can be used to extract not only one item or character, but an entire **_slice_** (subsequence) of items or characters, so in this section we will refer to the access operator as the **slice operator**.\n",
    "\n",
    "The slice operator has 3 syntaxes:\n",
    "\n",
    " - seq[start]  ---> same as indexing\n",
    " - seq[start:end]\n",
    " - seq[start:end:step]\n",
    "\n",
    "**NOTES**:\n",
    "\n",
    "\n",
    "- The **seq** can be any sequence, such as string, tuple, or list. \n",
    "\n",
    "\n",
    "- The _start_, _end_, and _step_ values must be all integers. \n",
    "\n",
    "\n",
    "- The default value of _start_ is 0\n",
    "\n",
    "\n",
    "- The default value of _end_ is len(seq)\n",
    "\n",
    "\n",
    "- The default value of _step_ is 1, _step_ value of zero isn’t allowed.\n",
    "\n",
    "**HAVE FUN** going over each of them in detail with simple examples.\n",
    "\n",
    "First let's declare a string:\n"
   ]
  },
  {
   "cell_type": "code",
   "execution_count": 2,
   "metadata": {},
   "outputs": [
    {
     "data": {
      "text/plain": [
       "'Hello, how are you?'"
      ]
     },
     "execution_count": 2,
     "metadata": {},
     "output_type": "execute_result"
    }
   ],
   "source": [
    "st = \"Hello, how are you?\"\n",
    "st"
   ]
  },
  {
   "cell_type": "markdown",
   "metadata": {},
   "source": [
    "Next, we will perform some slicing operations.\n",
    "\n",
    "### $1^{st}$: syntax seq[start] \n",
    "\n",
    "Extracts the start$^{th}$ item from the sequence. We already did that above in the indexing."
   ]
  },
  {
   "cell_type": "code",
   "execution_count": 3,
   "metadata": {},
   "outputs": [
    {
     "data": {
      "text/plain": [
       "'e'"
      ]
     },
     "execution_count": 3,
     "metadata": {},
     "output_type": "execute_result"
    }
   ],
   "source": [
    "st[1]"
   ]
  },
  {
   "cell_type": "code",
   "execution_count": 4,
   "metadata": {},
   "outputs": [
    {
     "data": {
      "text/plain": [
       "'o'"
      ]
     },
     "execution_count": 4,
     "metadata": {},
     "output_type": "execute_result"
    }
   ],
   "source": [
    "st[8]"
   ]
  },
  {
   "cell_type": "markdown",
   "metadata": {},
   "source": [
    "### $2^{nd}$ syntax: seq[start:end]\n",
    "\n",
    "Extracts a slice from and **including** the start$^{th}$ item, up to and **excluding** the end$^{th}$ item."
   ]
  },
  {
   "cell_type": "code",
   "execution_count": 5,
   "metadata": {},
   "outputs": [
    {
     "data": {
      "text/plain": [
       "'Hello, how are you?'"
      ]
     },
     "execution_count": 5,
     "metadata": {},
     "output_type": "execute_result"
    }
   ],
   "source": [
    "# start=0 & no end, return everything from character at index 0 onwards to the end of string\n",
    "st[0:]  \n",
    "\n",
    "# try st[:], should give you the same result"
   ]
  },
  {
   "cell_type": "code",
   "execution_count": 6,
   "metadata": {},
   "outputs": [
    {
     "data": {
      "text/plain": [
       "'Hello, how are'"
      ]
     },
     "execution_count": 6,
     "metadata": {},
     "output_type": "execute_result"
    }
   ],
   "source": [
    "# start=0 & end=14, return characters from letter H (index 0) to letter e (index 13)\n",
    "st[0:14]  "
   ]
  },
  {
   "cell_type": "markdown",
   "metadata": {},
   "source": [
    "Now if we type this"
   ]
  },
  {
   "cell_type": "code",
   "execution_count": 6,
   "metadata": {},
   "outputs": [
    {
     "data": {
      "text/plain": [
       "'Hello, how'"
      ]
     },
     "execution_count": 6,
     "metadata": {},
     "output_type": "execute_result"
    }
   ],
   "source": [
    "st[:10]  # no start & end=10, from letter H (index 0) to letter w (index 9)"
   ]
  },
  {
   "cell_type": "markdown",
   "metadata": {},
   "source": [
    "It is also possible to use a _**negative index**_, what happens is that Python will start counting from the last character back towards the first character. \n",
    "\n",
    "Let's try the following examples:"
   ]
  },
  {
   "cell_type": "code",
   "execution_count": 7,
   "metadata": {},
   "outputs": [
    {
     "data": {
      "text/plain": [
       "'Hello, how are you'"
      ]
     },
     "execution_count": 7,
     "metadata": {},
     "output_type": "execute_result"
    }
   ],
   "source": [
    "st[:-1]  #same as st[0:] but not including last character '?'"
   ]
  },
  {
   "cell_type": "code",
   "execution_count": 8,
   "metadata": {},
   "outputs": [
    {
     "data": {
      "text/plain": [
       "'?'"
      ]
     },
     "execution_count": 8,
     "metadata": {},
     "output_type": "execute_result"
    }
   ],
   "source": [
    "st[-1:]  #only last character"
   ]
  },
  {
   "cell_type": "markdown",
   "metadata": {},
   "source": [
    "### $3^{rd}$ syntax seq[start:end:step]\n",
    "\n",
    "Like the $2^{nd}$ syntax but instead of extracting every character it extracts every step$^{th}$ character"
   ]
  },
  {
   "cell_type": "code",
   "execution_count": 54,
   "metadata": {},
   "outputs": [
    {
     "data": {
      "text/plain": [
       "'Hello World!'"
      ]
     },
     "execution_count": 54,
     "metadata": {},
     "output_type": "execute_result"
    }
   ],
   "source": [
    "st[0:14:1] #every character from 1st letter H to letter at index 14"
   ]
  },
  {
   "cell_type": "code",
   "execution_count": 55,
   "metadata": {},
   "outputs": [
    {
     "data": {
      "text/plain": [
       "'HloWrd'"
      ]
     },
     "execution_count": 55,
     "metadata": {},
     "output_type": "execute_result"
    }
   ],
   "source": [
    "st[0:14:2] #EVERY OTHER character from 1st letter H to letter at index 14"
   ]
  },
  {
   "cell_type": "markdown",
   "metadata": {},
   "source": [
    "Sometimes, more than one slicing operations gives the same output."
   ]
  },
  {
   "cell_type": "code",
   "execution_count": 52,
   "metadata": {},
   "outputs": [
    {
     "data": {
      "text/plain": [
       "'!lo l'"
      ]
     },
     "execution_count": 52,
     "metadata": {},
     "output_type": "execute_result"
    }
   ],
   "source": [
    "st = 'Hello World!'\n",
    "\n",
    "#start at last char, move backwards and extract every other char up to char at index 2\n",
    "st[-1:2:-2]"
   ]
  },
  {
   "cell_type": "code",
   "execution_count": 53,
   "metadata": {},
   "outputs": [
    {
     "data": {
      "text/plain": [
       "'!lo l'"
      ]
     },
     "execution_count": 53,
     "metadata": {},
     "output_type": "execute_result"
    }
   ],
   "source": [
    "#should give the same output as st[-1:2:-2]\n",
    "st[:2:-2]"
   ]
  },
  {
   "cell_type": "markdown",
   "metadata": {},
   "source": [
    "# Striding Strings\n",
    "\n",
    "The step parameter used in the third syntax is also called a **stride**. Striding means how can we traverse the characters in the string, like every character, every other character, or every two other characters, ... and so on. **_Python defaults to the stride of 1_**, so that every character between two index numbers is retrieved, for example."
   ]
  },
  {
   "cell_type": "code",
   "execution_count": 9,
   "metadata": {},
   "outputs": [
    {
     "data": {
      "text/plain": [
       "'Hello, how are you?'"
      ]
     },
     "execution_count": 9,
     "metadata": {},
     "output_type": "execute_result"
    }
   ],
   "source": [
    "#stepping (striding) by 1 means extract every character from the beginning to the end\n",
    "\n",
    "st[::1] "
   ]
  },
  {
   "cell_type": "code",
   "execution_count": 10,
   "metadata": {},
   "outputs": [
    {
     "data": {
      "text/plain": [
       "'Hello, how are you?'"
      ]
     },
     "execution_count": 10,
     "metadata": {},
     "output_type": "execute_result"
    }
   ],
   "source": [
    "st[::]"
   ]
  },
  {
   "cell_type": "markdown",
   "metadata": {},
   "source": [
    "If we use two colons but omit the step size, it will default to 1. There is no point using the two colon syntax with a step size of 1, since that’s the default anyway. "
   ]
  },
  {
   "cell_type": "code",
   "execution_count": 56,
   "metadata": {},
   "outputs": [
    {
     "data": {
      "text/plain": [
       "'!dlroW olleH'"
      ]
     },
     "execution_count": 56,
     "metadata": {},
     "output_type": "execute_result"
    }
   ],
   "source": [
    "#stepping by -1 means extract every character from end back to beginning \n",
    "\n",
    "st[::-1]  # very useful to reverse a string\n"
   ]
  },
  {
   "cell_type": "markdown",
   "metadata": {},
   "source": [
    "### Wonderful!\n",
    "\n",
    "### You have mastered lots of things about strings, in the following lecture you will learn about some string operators and methods."
   ]
  }
 ],
 "metadata": {
  "kernelspec": {
   "display_name": "Python 3",
   "language": "python",
   "name": "python3"
  },
  "language_info": {
   "codemirror_mode": {
    "name": "ipython",
    "version": 3
   },
   "file_extension": ".py",
   "mimetype": "text/x-python",
   "name": "python",
   "nbconvert_exporter": "python",
   "pygments_lexer": "ipython3",
   "version": "3.6.5"
  }
 },
 "nbformat": 4,
 "nbformat_minor": 2
}
