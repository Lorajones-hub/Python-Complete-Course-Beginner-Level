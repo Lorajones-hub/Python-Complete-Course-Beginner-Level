{
 "cells": [
  {
   "cell_type": "markdown",
   "metadata": {},
   "source": [
    "\n",
    "\n",
    "\n",
    "\n",
    "# Installing PyCharm IDE for Python programming\n",
    "\n"
   ]
  },
  {
   "cell_type": "markdown",
   "metadata": {},
   "source": [
    "#### In this tutorial, we will go through the steps of installing PyCharm in your computer. PyCharm is one of the IDEs (integrated development environment) that is created by JetBrains company spesificaly for Python language.\n",
    "\n",
    "***\n",
    "\n",
    "There are two PyCharm editions: Community and Professional.\n",
    "\n",
    "The Community Edition is free and open source but has less features. \n",
    "The Professional Edition is commercial but has more set of tools and features. \n",
    "(If you want to evaluate PyCharm Professional for free, you can download the free trial for 30 days.)\n",
    "\n",
    "The download and installation steps is as follows:\n",
    "\n",
    "1. **Download the community edition of Pycharm for your operating system, use this link**: [Install PyCharm](https://www.jetbrains.com/pycharm/download/#section=windows).\n",
    "\n",
    "\n",
    "\n",
    "2. **Click on the file you downloaded**.\n",
    "\n",
    "\n",
    "3. **Go through the default installation process**.\n",
    "\n",
    "\n",
    "4. **After installing PyCharm, the first thing we shall do is create a project, choose Anaconda Python interpreter (the default interpreter in this course**.\n",
    "\n",
    "### Check out the video \"Install PyCharm\" for full instructions."
   ]
  },
  {
   "cell_type": "code",
   "execution_count": null,
   "metadata": {},
   "outputs": [],
   "source": []
  }
 ],
 "metadata": {
  "kernelspec": {
   "display_name": "Python 3",
   "language": "python",
   "name": "python3"
  },
  "language_info": {
   "codemirror_mode": {
    "name": "ipython",
    "version": 3
   },
   "file_extension": ".py",
   "mimetype": "text/x-python",
   "name": "python",
   "nbconvert_exporter": "python",
   "pygments_lexer": "ipython3",
   "version": "3.6.5"
  }
 },
 "nbformat": 4,
 "nbformat_minor": 2
}
