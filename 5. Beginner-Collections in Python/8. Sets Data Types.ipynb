{
 "cells": [
  {
   "cell_type": "markdown",
   "metadata": {},
   "source": [
    "# Sets Types\n",
    "\n",
    "This is an introductory lecture that will teach you different types of sets in Python. \n",
    "\n",
    "## What is a set type ?\n",
    "\n",
    "A set type is a collection data type that supports the following:\n",
    "\n",
    " - Membership operator **in**: this means that we can check if an item is a member of a set or not.\n",
    " - The size function len(): to find the length of a set, which is the number of items in the set.\n",
    " - Is iterable: this means we can iterate over the items in a set. Just keep in mind now that when you write a code to iterate over sets, they will give their items in an **arbitrary order**.\n",
    " \n",
    "In addition, a set has to satisfy the following conditions (will be discussed one by one later on):\n",
    "\n",
    "- Supports at least the method set.isdisjoint().\n",
    "- Supports for comparisons.\n",
    "- Support bitwise operators such as union and intersection.\n",
    "\n",
    "**There are two built-in set types in Python**.\n",
    " 1. **The mutable _set_**\n",
    " 2. **The immutable _frozenset_**\n",
    "\n",
    "## What objects can be added to a set ?\n",
    "\n",
    "If you want to add objects to a set, there is a restriction; only _**hashable objects**_ can be added.\n",
    "\n",
    "### What is a hashable object?\n",
    "\n",
    "**Hashable object**: is an object that has the same value during its lifetime in the program. Also, Hashable objects have special function _**hash()**_ which always returns the same value.\n",
    "\n",
    "\n",
    "### Examples of hashable objects:\n",
    "\n",
    "**ALL built-in immutable data types are hashable**, and therefore, can be added to a set. This includes:\n",
    "\n",
    "- float\n",
    "- int\n",
    "- str\n",
    "- frozenset\n",
    "- tuple\n",
    " \n",
    "The built-in mutable datatype, such as _**list**_, _**set**_, and _**dict**_, CANNOT BE ADDED to a set because their hash values change depending on the items they contain.\n",
    "\n",
    "## Comparing sets types\n",
    "\n",
    "Sets types can be compared using the standard comparison operators (<, <=, ==, !=, >=, >). You will see later how these operators behave with sets when we talk about _subsets_ and _supersets_.\n",
    "\n",
    "\n",
    "#### Now let's discuss sets in more details!"
   ]
  },
  {
   "cell_type": "code",
   "execution_count": null,
   "metadata": {},
   "outputs": [],
   "source": []
  }
 ],
 "metadata": {
  "kernelspec": {
   "display_name": "Python 3",
   "language": "python",
   "name": "python3"
  },
  "language_info": {
   "codemirror_mode": {
    "name": "ipython",
    "version": 3
   },
   "file_extension": ".py",
   "mimetype": "text/x-python",
   "name": "python",
   "nbconvert_exporter": "python",
   "pygments_lexer": "ipython3",
   "version": "3.6.5"
  }
 },
 "nbformat": 4,
 "nbformat_minor": 2
}
