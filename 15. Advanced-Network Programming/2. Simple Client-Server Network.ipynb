{
 "cells": [
  {
   "cell_type": "markdown",
   "metadata": {},
   "source": [
    "# Simple client-server network\n",
    "\n",
    "In this lesson, you will use the client/server methods and parameters that you learned in the previous lesson to simulate a simple client-server network.\n",
    "\n",
    "BEFORE doing that, let's see how to write a simple client program that will send data to and receive data from **google.com**"
   ]
  },
  {
   "cell_type": "code",
   "execution_count": 4,
   "metadata": {},
   "outputs": [
    {
     "name": "stdout",
     "output_type": "stream",
     "text": [
      "IP address of Google: 172.217.1.164\n"
     ]
    },
    {
     "ename": "TimeoutError",
     "evalue": "[WinError 10060] A connection attempt failed because the connected party did not properly respond after a period of time, or established connection failed because connected host has failed to respond",
     "output_type": "error",
     "traceback": [
      "\u001b[1;31m---------------------------------------------------------------------------\u001b[0m",
      "\u001b[1;31mTimeoutError\u001b[0m                              Traceback (most recent call last)",
      "\u001b[1;32m<ipython-input-4-e79bb52bcc7d>\u001b[0m in \u001b[0;36m<module>\u001b[1;34m()\u001b[0m\n\u001b[0;32m     17\u001b[0m \u001b[1;33m\u001b[0m\u001b[0m\n\u001b[0;32m     18\u001b[0m \u001b[1;31m# connect to a remote socket using address\u001b[0m\u001b[1;33m\u001b[0m\u001b[1;33m\u001b[0m\u001b[0m\n\u001b[1;32m---> 19\u001b[1;33m \u001b[0mclient\u001b[0m\u001b[1;33m.\u001b[0m\u001b[0mconnect\u001b[0m\u001b[1;33m(\u001b[0m\u001b[0maddress\u001b[0m\u001b[1;33m)\u001b[0m\u001b[1;33m\u001b[0m\u001b[0m\n\u001b[0m\u001b[0;32m     20\u001b[0m \u001b[1;33m\u001b[0m\u001b[0m\n\u001b[0;32m     21\u001b[0m \u001b[1;31m# the method send() sends data to the server socket\u001b[0m\u001b[1;33m\u001b[0m\u001b[1;33m\u001b[0m\u001b[0m\n",
      "\u001b[1;31mTimeoutError\u001b[0m: [WinError 10060] A connection attempt failed because the connected party did not properly respond after a period of time, or established connection failed because connected host has failed to respond"
     ]
    }
   ],
   "source": [
    "import socket\n",
    "\n",
    "# call the function socket() from socket module to create a socket object\n",
    "# pass two parameters: socket_family and socket_type\n",
    "# socket object is client\n",
    "client = socket.socket(socket.AF_INET, socket.SOCK_STREAM)\n",
    "\n",
    "# get the ip address from hostname of the server (google)\n",
    "ip = socket.gethostbyname(\"www.google.com\")\n",
    "print(\"IP address of Google:\", ip)\n",
    "\n",
    "# choose HTTP port 80: this is the port that the web server \"listens to\" or expects to receive from a web client\n",
    "port = 8000\n",
    "\n",
    "# form the addess from hostname + port\n",
    "address = (ip, port)\n",
    "\n",
    "# connect to a remote socket using address\n",
    "client.connect(address)\n",
    "\n",
    "# the method send() sends data to the server socket\n",
    "# the client socket must be connected to a remote server socket before sending any data\n",
    "# send() returns the number of bytes sent\n",
    "\n",
    "# send an HTTP request to google\n",
    "# '\\r' character is the carriage return, and the carriage return-newline pair (\\r\\n) \n",
    "# are both needed for newline in a network session\n",
    "client.send(\"GET / HTTP/1.1\\r\\nHost: google.com\\r\\n\\r\\n\".encode())\n",
    "\n",
    "print(\"\\nData rceived from Google:\")\n",
    "# the method recv() receives data from the server socket\n",
    "# recv() return value is a bytes object representing the data received\n",
    "# The max amount of data to be received at once is 1024 bytes\n",
    "client.recv(1024).decode()"
   ]
  },
  {
   "cell_type": "markdown",
   "metadata": {},
   "source": [
    "In this lesson, we will use PyCharm and Python's IDLE to see how the client and server interact. \n",
    "\n",
    "## Creating a simple server\n",
    "\n",
    "To setup a socket server, follow these steps:\n",
    "\n",
    "1. Import the socket module. \n",
    "\n",
    "2. Use the socket() method to great a socket object.\n",
    "\n",
    "3. Use the socket object to call other methods that will create the server.\n",
    "\n",
    "4. Call bind() method to specify a host for your service.\n",
    "\n",
    "5. Call the accept method of the returned object. This method waits until the client connects to the port you specified. \n",
    "\n",
    "6. accept() returns a _connection_ object which represent a connection to that client. \n",
    "\n",
    "7. use the connect object to send/receive data to/from the client.\n",
    "\n",
    "### Example: \n",
    "\n",
    "Create a new Python file _server.py_ with this code. You can use any Python IDE to run the program."
   ]
  },
  {
   "cell_type": "code",
   "execution_count": null,
   "metadata": {},
   "outputs": [
    {
     "name": "stdout",
     "output_type": "stream",
     "text": [
      "192.168.0.147\n",
      "Started listening on  192.168.0.147 : 11223\n"
     ]
    }
   ],
   "source": [
    "# server.py\n",
    "\n",
    "import socket\n",
    "\n",
    "# create socket object called server\n",
    "server = socket.socket(socket.AF_INET, socket.SOCK_STREAM)\n",
    "\n",
    "# get local machine name\n",
    "machine = socket.gethostname()\n",
    "\n",
    "# get IP address of local machine\n",
    "ip = socket.gethostbyname(machine)\n",
    "print(ip)\n",
    "\n",
    "# set a port number for comm.\n",
    "port = 11223\n",
    "\n",
    "# address is a tuple (IP address, port)\n",
    "address = (ip, port)\n",
    "\n",
    "# bind server to the address of client\n",
    "server.bind(address)\n",
    "\n",
    "# listen to only one client\n",
    "server.listen(1)\n",
    "\n",
    "print(\"Started listening on \", ip, \":\", port)\n",
    "\n",
    "# accept client request for connection\n",
    "# accept() returns a new socket object representing the connection and a tuple holding the address of the client\n",
    "client, addr = server.accept()\n",
    "\n",
    "print(\"Got a connection from \", addr[0], \":\", addr[1])\n",
    "\n",
    "while True:\n",
    "    data = client.recv(1024).decode()\n",
    "    print('Received ', data, 'from the client')\n",
    "    print(\"Processing data\")\n",
    "    \n",
    "    if data == \"Hello server!\":\n",
    "        client.send(\"Hello client!\".encode())\n",
    "        print('Processing done\\nReply sent')\n",
    "        \n",
    "    elif data == 'disconnect':\n",
    "        client.send('Goodbye!'.encode())\n",
    "        client.close()\n",
    "        break\n",
    "        \n",
    "    else:\n",
    "        client.send('Invalid data'.encode())\n",
    "        print('Processing done!, invalid data\\nReply sent')"
   ]
  },
  {
   "cell_type": "markdown",
   "metadata": {},
   "source": [
    "## Creating a simple client\n",
    "\n",
    "Let's write a simple client program that opens a connection to a port 12345 and given host. With Python it is easy to create a socket client using Python's socket module. Follow these steps:\n",
    "\n",
    "- Use socket.connect(hostname, port) to open a TCP connection to the server using the _hostname_ and the _port_.\n",
    "\n",
    "\n",
    "- Once you have the socket open, you can read from it like any IO object. This means you can send data to and recieve data from the server.\n",
    "\n",
    "\n",
    "- When done, don't forget to close the connection as you may lose the file.\n",
    "\n",
    "### Example: \n",
    "\n",
    "Use Python's IDLE to create a client and connect it to the server. Then try some communication scenarios with the server as shown below."
   ]
  },
  {
   "cell_type": "code",
   "execution_count": null,
   "metadata": {},
   "outputs": [],
   "source": [
    "import socket\n",
    "\n",
    "# create new client socket\n",
    "client = socket.socket()\n",
    "\n",
    "# connect with server\n",
    "client.connect(('192.168.0.181', 1234))\n",
    "\n",
    "# Try these communication scenarios\n",
    "\n",
    "############# senario 1 ##############\n",
    "\n",
    "# send invalid data\n",
    "client.send('jdfbdbjdb').encode()\n",
    "\n",
    "# receive response from server\n",
    "client.recv(1024).decode()\n"
   ]
  },
  {
   "cell_type": "markdown",
   "metadata": {},
   "source": [
    "Invalid data\n",
    "\n",
    "Processing done!, invalid data \n",
    "   \n",
    "Reply sent"
   ]
  },
  {
   "cell_type": "code",
   "execution_count": null,
   "metadata": {},
   "outputs": [],
   "source": [
    "############# senario 2 ##############\n",
    "\n",
    "# send 'Hello server!'\n",
    "client.send('Hello server!').encode()\n",
    "\n",
    "# receive response from server\n",
    "client.recv(1024).decode()\n",
    "\n"
   ]
  },
  {
   "cell_type": "markdown",
   "metadata": {},
   "source": [
    "Hello client\n",
    "\n",
    "Processing done!\n",
    "   \n",
    "Reply sent"
   ]
  },
  {
   "cell_type": "code",
   "execution_count": null,
   "metadata": {},
   "outputs": [],
   "source": [
    "############# senario 3 ##############\n",
    "\n",
    "# send 'disconnect'\n",
    "client.send('disconnect').encode()\n",
    "\n",
    "# receive response from server\n",
    "client.recv(1024).decode()"
   ]
  },
  {
   "cell_type": "markdown",
   "metadata": {},
   "source": [
    "Goodbye!"
   ]
  },
  {
   "cell_type": "markdown",
   "metadata": {},
   "source": [
    "For further reading please refer to these links:\n",
    "\n",
    "[Python Socket Programming HOWTO](https://docs.python.org/3/howto/sockets.html)\n",
    "\n",
    "\n",
    "For Unix users [Unix Socket Programming](https://www.tutorialspoint.com/unix_sockets/index.htm)\n"
   ]
  },
  {
   "cell_type": "markdown",
   "metadata": {},
   "source": [
    "## Conclusion\n",
    "\n",
    "### You have learned how to simulate a simple client-server network in Python. Creating client and server sockets and using various socket methods enable data communication between clients and servers.\n",
    "\n",
    "### In the next section, the Graphical User Interface (GUI) programming in Python is covered.\n",
    "\n",
    "## Great Job! KEEP UP the Good Work."
   ]
  },
  {
   "cell_type": "code",
   "execution_count": null,
   "metadata": {},
   "outputs": [],
   "source": []
  }
 ],
 "metadata": {
  "kernelspec": {
   "display_name": "Python 3",
   "language": "python",
   "name": "python3"
  },
  "language_info": {
   "codemirror_mode": {
    "name": "ipython",
    "version": 3
   },
   "file_extension": ".py",
   "mimetype": "text/x-python",
   "name": "python",
   "nbconvert_exporter": "python",
   "pygments_lexer": "ipython3",
   "version": "3.6.5"
  }
 },
 "nbformat": 4,
 "nbformat_minor": 2
}
