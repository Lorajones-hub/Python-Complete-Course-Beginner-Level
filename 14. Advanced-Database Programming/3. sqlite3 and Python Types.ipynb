{
 "cells": [
  {
   "cell_type": "markdown",
   "metadata": {},
   "source": [
    "## SQLite3 and Python Types\n",
    "\n",
    "SQLite supports the following types: NULL, INTEGER, REAL, TEXT, BLOB (block object). Thus, the following Python types can work with SQLite without any problem:\n",
    "\n",
    "| Python type           | SQLite type  |\n",
    "|-----------------------|--------------|\n",
    "| None                  | NULL         |\n",
    "| int                   | INTEGER      |\n",
    "| float                 | Real         |\n",
    "| str                   | TEXT         |\n",
    "| bytes                 | BLOB         |\n"
   ]
  },
  {
   "cell_type": "markdown",
   "metadata": {},
   "source": [
    "SQLite types are converted to Python types by  default in the following way:\n",
    "\n",
    "| SQLite type | Python type  |\n",
    "|-------------|--------------|\n",
    "| NULL        | None         |\n",
    "| INTEGER     | int          |\n",
    "| REAL        | float        |\n",
    "| TEXT        | str (default)|\n",
    "| BLOB        | bytes        |"
   ]
  },
  {
   "cell_type": "markdown",
   "metadata": {},
   "source": [
    "## Store additional Python types in SQLite databases\n",
    "\n",
    "SQLite database supports only a limited set of types natively but can be extended with additional Python types. There are two ways to use other Python types with SQLite:\n",
    "\n",
    "1. **Adaptation**\n",
    "2. **Converters**\n",
    "\n",
    "### Adaptation\n",
    "\n",
    "If you have a Python type that is not supported by SQLite, you can adapt it to one of these sqlite3 module's supported types:\n",
    "\n",
    "- None\n",
    "- int\n",
    "- long\n",
    "- float\n",
    "- str\n",
    "- unicode\n",
    "- buffer\n",
    "\n",
    "There are 2 ways to do adaptation:\n",
    "\n",
    "### 1. Let your object adapt itself\n",
    "\n",
    "This way is good if you write the class yourself. Let's revisit the class Point with x and y coordinates."
   ]
  },
  {
   "cell_type": "code",
   "execution_count": 6,
   "metadata": {},
   "outputs": [],
   "source": [
    "class Point():\n",
    "    def __init__(self, x, y):\n",
    "        self.x, self.y = x, y"
   ]
  },
  {
   "cell_type": "markdown",
   "metadata": {},
   "source": [
    "Suppose you want to store a Point object in a single SQLite column. To represent the point we need to use one of the supported types listed above. Let's just use str type and separate the coordinates using a semicolon. Then you need to give your class a method \\__conform\\__(self, protocol) which must return the converted value. The parameter protocol will be **PrepareProtocol**."
   ]
  },
  {
   "cell_type": "code",
   "execution_count": 10,
   "metadata": {},
   "outputs": [
    {
     "name": "stdout",
     "output_type": "stream",
     "text": [
      "('4;-3',)\n"
     ]
    }
   ],
   "source": [
    "import sqlite3\n",
    "\n",
    "class Point(object):\n",
    "    def __init__(self, x, y):\n",
    "        self.x, self.y = x, y\n",
    "    \n",
    "    # returns a Point object as a string\n",
    "    def __conform__(self, protocol):\n",
    "        if protocol is sqlite3.PrepareProtocol:\n",
    "            return \"%d;%d\" %(self.x, self.y)\n",
    "\n",
    "# create a database in memory (RAM)\n",
    "con = sqlite3.connect(\":memory:\")\n",
    "cur = con.cursor()\n",
    "\n",
    "p = Point(4.0, -3.2)\n",
    "cur.execute(\"select ?\", (p,))\n",
    "print(cur.fetchone()[0])"
   ]
  },
  {
   "cell_type": "markdown",
   "metadata": {},
   "source": [
    "### 2. Register the adapter\n",
    "\n",
    "The second way is to create a function that converts the object to the string representation and register the function with register_adapter()."
   ]
  },
  {
   "cell_type": "code",
   "execution_count": 15,
   "metadata": {},
   "outputs": [
    {
     "name": "stdout",
     "output_type": "stream",
     "text": [
      "4;-3\n"
     ]
    }
   ],
   "source": [
    "class Point():\n",
    "    def __init__(self, x, y):\n",
    "        self.x, self.y = x, y\n",
    "\n",
    "def adapt_point(self):\n",
    "    return \"%d;%d\" % (self.x, self.y)\n",
    "\n",
    "# register function adapt_point\n",
    "sqlite3.register_adapter(Point, adapt_point)\n",
    "\n",
    "con = sqlite3.connect(\":memory:\")\n",
    "cur = con.cursor()\n",
    "\n",
    "p = Point(4.0, -3.2)\n",
    "cur.execute(\"select ?\", (p,))\n",
    "print(cur.fetchone()[0])"
   ]
  },
  {
   "cell_type": "markdown",
   "metadata": {},
   "source": [
    "## Converters\n",
    "\n",
    "### Converting SQLite values to custom Python types\n",
    "\n",
    "We saw how to save objects of custom Python types in SQLite database. However, it is more useful to make the round trip work, that is, **Python-SQLite-Python** conversions. **Here comes the role of converters**.\n",
    "\n",
    "Going back to the Point class. We stored the x and y coordinates separated via semicolons as strings in SQLite column.\n",
    "\n",
    "To control how database types are mapped into Python objects when results are fetched from the database server, we create a  a **converter function**. This function accepts the string representing the point as a parameter and constructs a Point object from it.\n",
    "\n",
    "**NOTE**: Converter functions always get called with a bytes object, no matter under which data type you sent the value to SQLite."
   ]
  },
  {
   "cell_type": "code",
   "execution_count": 8,
   "metadata": {},
   "outputs": [],
   "source": [
    "def convert_point(s):\n",
    "    x, y = map(float, s.split(b\";\"))\n",
    "    return Point(x, y)"
   ]
  },
  {
   "cell_type": "markdown",
   "metadata": {},
   "source": [
    "Now you need to make the sqlite3 module know that what you have selected from the database is actually a point. There are two ways of doing that:\n",
    "\n",
    "#### A. Implicitly via the declared type  \n",
    "- $\\rightarrow$ using the constant PARSE_DECLTYPES\n",
    "\n",
    "\n",
    "#### B. Explicitly via the column name \n",
    "- $\\rightarrow$ using the constant PARSE_COLNAMES\n",
    "\n",
    "\n",
    "The following example illustrates both ways."
   ]
  },
  {
   "cell_type": "code",
   "execution_count": 11,
   "metadata": {},
   "outputs": [
    {
     "name": "stdout",
     "output_type": "stream",
     "text": [
      "with declared types: (-4.000000;2.300000)\n",
      "with column names: (-4.000000;2.300000)\n"
     ]
    }
   ],
   "source": [
    "import sqlite3\n",
    "\n",
    "class Point:\n",
    "    def __init__(self, x, y):\n",
    "        self.x, self.y = x, y\n",
    "\n",
    "    def __repr__(self):\n",
    "        return \"(%f;%f)\" % (self.x, self.y)\n",
    "\n",
    "def adapt_point(p):\n",
    "    return \"%f;%f\" % (p.x, p.y)\n",
    "\n",
    "def convert_point(s):\n",
    "    x, y = map(float, s.split(b\";\"))\n",
    "    return Point(x, y)\n",
    "\n",
    "# register the adapter function \n",
    "# from the Python type (class) Point \n",
    "# to any Python types handled directly by sqlite3 such as int, float, or str\n",
    "sqlite3.register_adapter(Point, adapt_point)\n",
    "\n",
    "# register the converter function as being of a type point\n",
    "sqlite3.register_converter(\"point\", convert_point)\n",
    "\n",
    "p = Point(-4.0, 2.3)\n",
    "\n",
    "######### (A) Declared Types #############\n",
    "\n",
    "# the constant PARSE_DECLTYPES is used with the detect_types parameter of the connect() function\n",
    "# makes sqlite3 module parse the DECLARED TYPE for each column it returns\n",
    "# then for that column, it will look into the convertors dictionary and then\n",
    "# use the converter function registered for that type there\n",
    "# NOTE that converter names are case-sensitive!\n",
    "con = sqlite3.connect(\":memory:\", detect_types=sqlite3.PARSE_DECLTYPES)\n",
    "cur = con.cursor()\n",
    "\n",
    "cur.execute(\"create table test(p point)\")\n",
    "\n",
    "cur.execute(\"insert into test(p) values (?)\", (p,))\n",
    "cur.execute(\"select p from test\")\n",
    "print(\"with declared types:\", cur.fetchone()[0])\n",
    "cur.close()\n",
    "con.close()\n",
    "\n",
    "######### (B) Column Names #############\n",
    "# the constant PARSE_COLNAMES is used with the detect_types parameter of the connect function\n",
    "# makes the SQLite3 parse the COLUMN NAME for each column it returns\n",
    "# it will look for a string formed [mytype] in there, and then decide that 'mytype' is the type of the column\n",
    "# it will try to find an entry of 'mytype' in the converters dictionary and \n",
    "# then use the converter function found there to return the value. \n",
    "con = sqlite3.connect(\":memory:\", detect_types=sqlite3.PARSE_COLNAMES)\n",
    "cur = con.cursor()\n",
    "\n",
    "cur.execute(\"create table test(p)\")\n",
    "cur.execute(\"insert into test(p) values (?)\", (p,))\n",
    "cur.execute('select p as \"p [point]\" from test')\n",
    "print(\"with column names:\", cur.fetchone()[0])\n",
    "cur.close()\n",
    "con.close()"
   ]
  },
  {
   "cell_type": "markdown",
   "metadata": {},
   "source": [
    "## Perfect!\n",
    "\n",
    "### You have MASTERED how to handle custom Python data types and incorporate them in SQLite databases. Next, you'll learn how to use the SQLite databases in an efficient way."
   ]
  },
  {
   "cell_type": "code",
   "execution_count": null,
   "metadata": {},
   "outputs": [],
   "source": []
  }
 ],
 "metadata": {
  "kernelspec": {
   "display_name": "Python 3",
   "language": "python",
   "name": "python3"
  },
  "language_info": {
   "codemirror_mode": {
    "name": "ipython",
    "version": 3
   },
   "file_extension": ".py",
   "mimetype": "text/x-python",
   "name": "python",
   "nbconvert_exporter": "python",
   "pygments_lexer": "ipython3",
   "version": "3.6.5"
  }
 },
 "nbformat": 4,
 "nbformat_minor": 2
}
