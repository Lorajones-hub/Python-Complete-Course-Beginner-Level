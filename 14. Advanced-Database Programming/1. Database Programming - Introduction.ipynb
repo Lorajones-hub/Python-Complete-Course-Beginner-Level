{
 "cells": [
  {
   "cell_type": "markdown",
   "metadata": {},
   "source": [
    "# Introduction\n",
    "\n",
    "Are you planning to become a data scientist? learn the fundamentals of database  programming in Python that will enable you to interact with your data in powerful ways.\n",
    "\n",
    "Topics covered in this section:\n",
    "\n",
    "#### - Database servers Python works with\n",
    "#### - How to setup a connection to a database\n",
    "#### - Creating database tables\n",
    "#### - Database operations (Insert, Delete, Read, Update, ... etc.)\n",
    "\n",
    "\n",
    "\n",
    "## Python Database standard\n",
    "\n",
    "DB-API is the Python standard for databases interfaces. Most Python database interfaces follow this standard.\n",
    "\n",
    "Some of the main database servers supported by Python include:\n",
    "\n",
    "   - MySQL \n",
    "   - mSQL\n",
    "   - Oracle\n",
    "   - Interbase\n",
    "   - MS SQL server 2000\n",
    "   - Informix\n",
    "   \n",
    "   \n",
    "To access a specific database, you need to import its API module. For example, to work with MySQL database, import MySQL database module. The DB-API provides dealing with databases using Python structures and syntax.\n",
    "\n",
    "To work with any database, you need to follow these steps in sequence:\n",
    "\n",
    "- Import the database API module \n",
    "- Setup a connection with the database\n",
    "- Query the database using SQL statements\n",
    "- Close the connection\n",
    "\n",
    "In this section we will focus on **sqlite3 module** — Python's DB-API 2.0 interface for SQLite databases.\n"
   ]
  }
 ],
 "metadata": {
  "kernelspec": {
   "display_name": "Python 3",
   "language": "python",
   "name": "python3"
  },
  "language_info": {
   "codemirror_mode": {
    "name": "ipython",
    "version": 3
   },
   "file_extension": ".py",
   "mimetype": "text/x-python",
   "name": "python",
   "nbconvert_exporter": "python",
   "pygments_lexer": "ipython3",
   "version": "3.6.5"
  }
 },
 "nbformat": 4,
 "nbformat_minor": 2
}
