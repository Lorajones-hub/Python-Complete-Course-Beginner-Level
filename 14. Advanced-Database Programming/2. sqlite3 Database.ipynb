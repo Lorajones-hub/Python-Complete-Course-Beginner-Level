{
 "cells": [
  {
   "cell_type": "markdown",
   "metadata": {},
   "source": [
    "# SQLite3 Database\n",
    "\n",
    "\n",
    "In this lesson, you will learn about SQLite3, Python DB-API 2.0 interface for SQLite3 databases.\n",
    "\n",
    "SQLite3 is a C language library that provides lightweight disk-based database and can be accessed using SQL query language. SQLite3 can be used for internal data storage application and also to prototype an application then port the code in larger databases such as PostgreSQL or Oracle.\n",
    "\n",
    "\n",
    "**SQL** (**Structured Query Language**) is a standard language for accessing and manipulating databases. It is mainly used to create tables in the database and to query (or ask) the database about the data stored to retrieve or modify that data.\n",
    "\n",
    "Suppose you want to design a database of a bank. The main structures of any database are the tables that hold information.  You can use the SQL language to access the database and perform different operations on it. For instance, you can create a **table called clients** which stores information about differnt clients. This table will have columns such as **full_name**, **address**, **account_no**, **balance**, ... etc. You may also want to access and modify the table in different ways. Here are some examples of table operations:\n",
    "\n",
    "- Retrive records from the clients table, for example selecting clients who have a balance less than \\$1000. \n",
    "\n",
    "- Update some clients' records, for example to add $100 to his current balance or change his address.\n",
    "\n",
    "- Delete some clients' records who have closed their accounts.\n",
    "\n",
    "- Add new clients records who recently joined the bank.\n",
    "\n",
    "and so on.\n",
    "\n",
    "The queries are operations done using SQL commands to access and manipulate the database and the most common queries are:\n",
    "\n",
    " - CREATE TABLE: to create a new table in the database.\n",
    " \n",
    " \n",
    " - INSERT: to add new row (record) in the table.\n",
    " \n",
    " \n",
    " - SELECT: to select a particular row(s) in the table.\n",
    " \n",
    " \n",
    " - DELETE: to remove row(s) from the table.\n",
    " \n",
    " \n",
    " - UPDATE: to update row(s) in the table.\n",
    "\n",
    "\n",
    "## Open connection to DB using SQLite3\n",
    "\n",
    "To create a database, import the sqlite3 module and use it to call connect() method that creates a **connection** object to your database. The database will be saved in a file with .db extension in your computer.\n",
    "\n",
    "In the example below, we imported sqlite3 module and called connect() to create a database object **conn**. The DB is saved  in **example.db** file. Try to run the following cell and check if a file with name example.db created in your current directory.\n"
   ]
  },
  {
   "cell_type": "code",
   "execution_count": 1,
   "metadata": {},
   "outputs": [],
   "source": [
    "import sqlite3\n",
    "\n",
    "# create a db in a .db file\n",
    "conn = sqlite3.connect('example.db')"
   ]
  },
  {
   "cell_type": "markdown",
   "metadata": {},
   "source": [
    "**NOTES**: \n",
    "\n",
    "- If you want to open example.db, try to open it with a text editor. Since our database type is SQLite3, the file will start with \"SQLite format 3\".\n",
    "\n",
    "\n",
    "- To create a temporary database in the computer RAM, use the special name **:memory:**. The DB in this case will not be saved in a file on your disk-drive. This way you don't need to pass a database file name to connect() because your database is stored only in the memory."
   ]
  },
  {
   "cell_type": "code",
   "execution_count": 3,
   "metadata": {},
   "outputs": [],
   "source": [
    "# create a db in the computer RAM\n",
    "conn = sqlite3.connect(':memory:')"
   ]
  },
  {
   "cell_type": "markdown",
   "metadata": {},
   "source": [
    "When we are done working with the DB we need to close the connection."
   ]
  },
  {
   "cell_type": "code",
   "execution_count": 2,
   "metadata": {},
   "outputs": [],
   "source": [
    "# close the database\n",
    "conn.close()"
   ]
  },
  {
   "cell_type": "markdown",
   "metadata": {},
   "source": [
    "## SQL commands - query the database\n",
    "\n",
    "After making a connection with the database and before making any operation with the database we need to create a **cursor object**. Imagine this cursor object as a pointer to the data you want to access or manipulate in the database. Pass the SQL statements to the cursor object to execute them using the **execute()** method. Finally it is necessary to commit the changes. \n",
    "\n",
    "In the example below, we are going to create a products table with name, quantity, and price columns."
   ]
  },
  {
   "cell_type": "code",
   "execution_count": 3,
   "metadata": {},
   "outputs": [],
   "source": [
    "# create a connection to the DB since we closed it last time\n",
    "conn = sqlite3.connect('example.db')\n",
    "\n",
    "# create cursor object\n",
    "c = conn.cursor()\n",
    "\n",
    "# create a table products in database example.db\n",
    "# the table has 3 columns, name, quantity and price\n",
    "c.execute('''CREATE TABLE products(name text, quantity integer, price real)''')\n",
    "\n",
    "# insert a row of data (record) in the table\n",
    "c.execute(\"INSERT INTO products VALUES ('Laptop', 10, 849.99)\")\n",
    "\n",
    "# save (commit) the changes\n",
    "conn.commit()\n",
    "\n",
    "# close the connection if we are done with your DB\n",
    "# make sure ALL changes have been committed or they will be lost.\n",
    "conn.close()"
   ]
  },
  {
   "cell_type": "markdown",
   "metadata": {},
   "source": [
    "Note that the data you have saved using **commit()** method is persistent and is available in subsequent sessions."
   ]
  },
  {
   "cell_type": "markdown",
   "metadata": {},
   "source": [
    "## Using Python's variables to perform SQL queries\n",
    "\n",
    "You may want to do SQL operations using values from Python variables. But writing a query using Python’s strings is insecure; it makes your program vulnerable to an SQL injection attack.\n",
    "\n",
    "**Solution**: use the DB-API parameter substitution. \n",
    "\n",
    "### How to do that ?!\n",
    "\n",
    "Put **?** as a placeholder wherever you want to use a value, and then provide a tuple of values as the second argument to the cursor’s execute() method. \n",
    "\n",
    "In this example, we try to **select** all the records in the products table where the product name is Laptop. We show both the insecure and secure methods of writing SQL operation using Python variables. Also, we used the method **fetchone()** that will fetch only one record from the set of records selected. Finally, we used **executemany()** method to **insert** many products in the table at a time."
   ]
  },
  {
   "cell_type": "code",
   "execution_count": 2,
   "metadata": {},
   "outputs": [
    {
     "name": "stdout",
     "output_type": "stream",
     "text": [
      "('Laptop', 10, 849.99)\n"
     ]
    },
    {
     "data": {
      "text/plain": [
       "<sqlite3.Cursor at 0x1aa94c019d0>"
      ]
     },
     "execution_count": 2,
     "metadata": {},
     "output_type": "execute_result"
    }
   ],
   "source": [
    "import sqlite3\n",
    "\n",
    "conn = sqlite3.connect('example.db', timeout=10)\n",
    "\n",
    "c = conn.cursor()\n",
    "\n",
    "#------------------------------\n",
    "# don't do that --> INSECURE!\n",
    "#------------------------------\n",
    "name = 'Laptop'\n",
    "c.execute(\"SELECT * FROM products WHERE name = '%s'\" % name)\n",
    "\n",
    "#------------------------------\n",
    "# do this instead --> SECURE\n",
    "# DB-API parameter substitution\n",
    "#------------------------------\n",
    "t = ('Laptop',)\n",
    "\n",
    "# second argument is tuple t\n",
    "c.execute('SELECT * FROM products WHERE name=?', t)\n",
    "\n",
    "# fetch single matching row\n",
    "print(c.fetchone())\n",
    "\n",
    "# larger example that inserts many records at a time\n",
    "new_products = [('Disk drive', 30, 44.99), ('Printer', 50, 175.00), ('Tablet', 20, 90.00)]\n",
    "\n",
    "# this method returns the cursor \n",
    "c.executemany('INSERT INTO products VALUES (?,?,?)', new_products)\n"
   ]
  },
  {
   "cell_type": "markdown",
   "metadata": {},
   "source": [
    "**NOTE**:\n",
    "\n",
    "Sometimes you see a file named **example.db-journal** in the same directory as your database file. This is called a rollback journal file and is always located in the same directory as the database file and has the same name as the database file but with extension **db-journal**. \n",
    "- The rollback journal is usually created when a transaction is first started and is usually deleted when a transaction commits or rolls back. \n",
    "- The rollback journal file is essential for implementing the commit and rollback capabilities of SQLite3. \n",
    "- Without a rollback journal, SQLite3 would be unable to rollback an incomplete transaction, and if a crash or power loss occurred in the middle of a transaction the entire database would likely go corrupt without a rollback journal.\n",
    "\n",
    "\n",
    "Expect a file with the name **example.db-journal** created in your current directory. If you run the code below, the journal file will be deleted."
   ]
  },
  {
   "cell_type": "code",
   "execution_count": 7,
   "metadata": {},
   "outputs": [],
   "source": [
    "conn.commit()\n",
    "conn.close()"
   ]
  },
  {
   "cell_type": "markdown",
   "metadata": {},
   "source": [
    "To retrieve data after executing a **SELECT** statement, you can either treat the cursor as an iterator, call the cursor’s fetchone() method to retrieve a single matching row, or call fetchall() method to get a list of all matching rows.\n",
    "\n",
    "This example uses the iterator form:"
   ]
  },
  {
   "cell_type": "code",
   "execution_count": 6,
   "metadata": {},
   "outputs": [
    {
     "name": "stdout",
     "output_type": "stream",
     "text": [
      "('Disk drive', 30, 44.99)\n",
      "('Tablet', 20, 90.0)\n",
      "('Printer', 50, 175.0)\n",
      "('Laptop', 10, 849.99)\n"
     ]
    }
   ],
   "source": [
    "# iterate over all the rows in table products\n",
    "# in ascending order based on the price\n",
    "# cheapest item is printed first\n",
    "\n",
    "for row in c.execute('SELECT * FROM products ORDER BY price'):\n",
    "    print(row)"
   ]
  },
  {
   "cell_type": "markdown",
   "metadata": {},
   "source": [
    "### Conclusion\n",
    "\n",
    "In this lesson we have learned how to create a simple database stored in .db file. We also discussed how to make a connection to the database and how to query the database using SQL commands such as CREATE, INSERT, and SELECT. \n",
    "\n",
    "Next, we will discuss the relationship between SQLite3 and Python types."
   ]
  }
 ],
 "metadata": {
  "kernelspec": {
   "display_name": "Python 3",
   "language": "python",
   "name": "python3"
  },
  "language_info": {
   "codemirror_mode": {
    "name": "ipython",
    "version": 3
   },
   "file_extension": ".py",
   "mimetype": "text/x-python",
   "name": "python",
   "nbconvert_exporter": "python",
   "pygments_lexer": "ipython3",
   "version": "3.6.5"
  }
 },
 "nbformat": 4,
 "nbformat_minor": 2
}
